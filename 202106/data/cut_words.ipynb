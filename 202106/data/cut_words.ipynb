{
 "cells": [
  {
   "cell_type": "code",
   "execution_count": 2,
   "id": "e6c1cac1",
   "metadata": {},
   "outputs": [],
   "source": [
    "stopwords = [line.strip() for line in open('cn_stopwords.txt').readlines()]"
   ]
  },
  {
   "cell_type": "code",
   "execution_count": 4,
   "id": "f42c2348",
   "metadata": {},
   "outputs": [
    {
     "data": {
      "text/plain": [
       "['0',\n",
       " '1',\n",
       " '2',\n",
       " '3',\n",
       " '4',\n",
       " '5',\n",
       " '6',\n",
       " '7',\n",
       " '8',\n",
       " '9',\n",
       " '?',\n",
       " '_',\n",
       " '“',\n",
       " '”',\n",
       " '、',\n",
       " '。',\n",
       " '《',\n",
       " '》',\n",
       " '一']"
      ]
     },
     "execution_count": 4,
     "metadata": {},
     "output_type": "execute_result"
    }
   ],
   "source": [
    "stopwords[1:20]"
   ]
  },
  {
   "cell_type": "code",
   "execution_count": 5,
   "id": "52253a57",
   "metadata": {},
   "outputs": [],
   "source": [
    "import jieba\n",
    "import operator\n",
    "import thulac\n",
    "data =\"\"\"计算机（computer）俗称电脑，是现代一种用于高速计算的\n",
    "电子计算机器，可以进行数值计算，又可以进行逻辑计算，还具有存储\n",
    "记忆功能。是能够按照程序运行，自动、高速处理海量数据的现代化智能\n",
    "电子设备。由硬件系统和软件系统所组成，没有安装任何软件的计算机称为裸机。\n",
    "可分为超级计算机、工业控制计算机、网络计算机、个人计算机、嵌入式计算机五类，\n",
    "较先进的计算机有生物计算机、光子计算机、量子计算机等。\n",
    "计算机发明者约翰·冯·诺依曼。计算机是20世纪最先进的科学技术发明之一，\n",
    "对人类的生产活动和社会活动产生了极其重要的影响，并以强大的生命力飞速发展。\n",
    "它的应用领域从最初的军事科研应用扩展到社会的各个领域，\n",
    "已形成了规模巨大的计算机产业，带动了全球范围的技术进步，\n",
    "由此引发了深刻的社会变革，计算机已遍及一般学校、企事业单位，进入寻常百姓家，\n",
    "成为信息社会中必不可少的工具。计算机的应用在中国越来越普遍，\n",
    "改革开放以后，中国计算机用户的数量不断攀升，\n",
    "应用水平不断提高，特别是互联网、通信、多媒体等领域的应用取得了不错的成绩。\n",
    "1996年至2009 年，计算机用户数量从原来的630万增长至6710 万台，\n",
    "联网计算机台数由原来的2.9万台上升至5940万台。互联网用户已经达到3.16 亿，\n",
    "无线互联网有6.7 亿移动用户，其中手机上网用户达1.17 亿，为全球第一位。\"\"\"\n"
   ]
  },
  {
   "cell_type": "code",
   "execution_count": 6,
   "id": "f9388cda",
   "metadata": {},
   "outputs": [],
   "source": [
    "words_jieba = jieba.cut(data)"
   ]
  },
  {
   "cell_type": "code",
   "execution_count": 7,
   "id": "ba2095af",
   "metadata": {},
   "outputs": [
    {
     "name": "stderr",
     "output_type": "stream",
     "text": [
      "Building prefix dict from the default dictionary ...\n",
      "Dumping model to file cache /var/folders/_0/c_ky0c617kg253j53f41hdr80000gn/T/jieba.cache\n",
      "Loading model cost 0.799 seconds.\n",
      "Prefix dict has been built successfully.\n"
     ]
    }
   ],
   "source": [
    "words_jieba = [line.strip() for line in words_jieba]"
   ]
  },
  {
   "cell_type": "code",
   "execution_count": 8,
   "id": "f370968d",
   "metadata": {},
   "outputs": [],
   "source": [
    "words_jieba = [ w for w in words_jieba if w not in set(stopwords)]"
   ]
  },
  {
   "cell_type": "code",
   "execution_count": 10,
   "id": "2600b2e8",
   "metadata": {},
   "outputs": [],
   "source": [
    "jieba_key_words_dict = {}\n",
    "for w in words_jieba:\n",
    "    jieba_key_words_dict[w] = jieba_key_words_dict.get(w,0)+1\n",
    "jieba_key_words_dict= sorted(jieba_key_words_dict.items(),key=operator.itemgetter(1),reverse=True)"
   ]
  },
  {
   "cell_type": "code",
   "execution_count": 11,
   "id": "53d99946",
   "metadata": {},
   "outputs": [
    {
     "name": "stdout",
     "output_type": "stream",
     "text": [
      " 21\n",
      "计算机 15\n",
      "应用 4\n",
      "计算 3\n",
      "互联网 3\n",
      "万台 3\n",
      "亿 3\n",
      "高速 2\n",
      "进行 2\n",
      "先进 2\n"
     ]
    }
   ],
   "source": [
    "len_top = 10\n",
    "if len_top>(len(jieba_key_words_dict)):\n",
    "    len_top = len(jieba_key_words_dict)\n",
    "item_key_words = []\n",
    "for i in range(len_top):\n",
    "    item_key_words.append(jieba_key_words_dict[i][0])\n",
    "    item_key_words.append(jieba_key_words_dict[i][1])\n",
    "    print(jieba_key_words_dict[i][0],jieba_key_words_dict[i][1])"
   ]
  },
  {
   "cell_type": "code",
   "execution_count": 14,
   "id": "5dfb59b0",
   "metadata": {},
   "outputs": [
    {
     "name": "stdout",
     "output_type": "stream",
     "text": [
      "Model loaded succeed\n"
     ]
    }
   ],
   "source": [
    "import thulac\n",
    "import pandas as pd\n",
    "thu1 = thulac.thulac()"
   ]
  },
  {
   "cell_type": "code",
   "execution_count": 15,
   "id": "00d508ae",
   "metadata": {},
   "outputs": [],
   "source": [
    "words = thu1.cut(data,text=False)\n",
    "words = pd.DataFrame(words)\n",
    "\n",
    "words_thulac = words.iloc[:,0]"
   ]
  },
  {
   "cell_type": "code",
   "execution_count": 17,
   "id": "4915666f",
   "metadata": {},
   "outputs": [],
   "source": [
    "words_thulac = [line.strip() for line in words_thulac]\n",
    "words_thulac = [w for w in words_thulac if w not in set(stopwords)]"
   ]
  },
  {
   "cell_type": "code",
   "execution_count": 22,
   "id": "58d9011c",
   "metadata": {},
   "outputs": [],
   "source": [
    "thulac_key_word_dict = {}\n",
    "for w in words_thulac:\n",
    "    thulac_key_word_dict[w]= thulac_key_word_dict.get(w,0)+1\n",
    "thulac_key_word_dict=sorted(thulac_key_word_dict.items(),key=operator.itemgetter(1),reverse=True)"
   ]
  },
  {
   "cell_type": "code",
   "execution_count": 27,
   "id": "5cc326d8",
   "metadata": {},
   "outputs": [],
   "source": [
    "def FMM_func(user_dict,sentence):\n",
    "    max_len = max([len(item) for item in user_dict])\n",
    "    start = 0\n",
    "    while start!=len(sentence):\n",
    "        index = start + max_len\n",
    "        if index>len(sentence):\n",
    "            index = len(sentence)\n",
    "        for i in range(max_len):\n",
    "            if (sentence[start:index] in user_dict) or (len(sentence[start:index])==1):\n",
    "                print(sentence[start:index],end='/')\n",
    "                start = index\n",
    "                break\n",
    "            index+=-1"
   ]
  },
  {
   "cell_type": "code",
   "execution_count": 28,
   "id": "9da638f5",
   "metadata": {},
   "outputs": [
    {
     "name": "stdout",
     "output_type": "stream",
     "text": [
      "我们/在野/生动/物/园/玩/"
     ]
    }
   ],
   "source": [
    "user_dict = ['我们', '在', '在野', '生动', '野生', '动物园', '野生动物园', '物','园','玩']\n",
    "sentence = '我们在野生动物园玩'\n",
    "FMM_func(user_dict, sentence)"
   ]
  },
  {
   "cell_type": "code",
   "execution_count": 30,
   "id": "794ff1ae",
   "metadata": {},
   "outputs": [],
   "source": [
    "def BMM_func(user_dict,sentence):\n",
    "    max_len = max([len(item) for item in user_dict])\n",
    "    result = []\n",
    "    start = len(sentence)\n",
    "    while start!=0:\n",
    "        index = start-max_len\n",
    "        if index < 0:\n",
    "            index = 0\n",
    "        for i in range(max_len):\n",
    "            if (sentence[index:start] in user_dict) or (len(sentence[start:index])==1):\n",
    "                result.append(sentence[index:start])\n",
    "                start = index\n",
    "                break\n",
    "            index += 1\n",
    "    for i in result[::-1]:\n",
    "        print(i,end='/')"
   ]
  },
  {
   "cell_type": "code",
   "execution_count": 32,
   "id": "c1269b50",
   "metadata": {},
   "outputs": [
    {
     "name": "stdout",
     "output_type": "stream",
     "text": [
      "我们/在/野生动物园/玩/"
     ]
    }
   ],
   "source": [
    "user_dict = ['我们', '在', '在野', '生动', '野生', '动物园', '野生动物园', '物','园','玩']\n",
    "sentence = '我们在野生动物园玩'\n",
    "BMM_func(user_dict, sentence)"
   ]
  },
  {
   "cell_type": "code",
   "execution_count": null,
   "id": "5b89b045",
   "metadata": {},
   "outputs": [],
   "source": []
  }
 ],
 "metadata": {
  "kernelspec": {
   "display_name": "Python 3",
   "language": "python",
   "name": "python3"
  },
  "language_info": {
   "codemirror_mode": {
    "name": "ipython",
    "version": 3
   },
   "file_extension": ".py",
   "mimetype": "text/x-python",
   "name": "python",
   "nbconvert_exporter": "python",
   "pygments_lexer": "ipython3",
   "version": "3.7.9"
  }
 },
 "nbformat": 4,
 "nbformat_minor": 5
}
