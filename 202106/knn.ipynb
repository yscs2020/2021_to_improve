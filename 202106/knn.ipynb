{
 "cells": [
  {
   "cell_type": "code",
   "execution_count": 1,
   "metadata": {},
   "outputs": [
    {
     "name": "stderr",
     "output_type": "stream",
     "text": [
      "/Users/yanshuo/opt/anaconda3/lib/python3.7/importlib/_bootstrap.py:219: RuntimeWarning: numpy.ufunc size changed, may indicate binary incompatibility. Expected 192 from C header, got 216 from PyObject\n",
      "  return f(*args, **kwds)\n"
     ]
    }
   ],
   "source": [
    "import numpy as np\n",
    "import pandas as pd\n",
    "import matplotlib.pyplot as plt\n",
    "from sklearn.datasets import load_digits\n",
    "from sklearn.preprocessing import MinMaxScaler,StandardScaler\n",
    "from sklearn.model_selection import train_test_split\n",
    "from sklearn.tree import DecisionTreeClassifier\n",
    "from sklearn.svm import SVC\n",
    "from sklearn.naive_bayes import MultinomialNB\n",
    "from sklearn.neighbors import KNeighborsClassifier\n",
    "from sklearn.ensemble import AdaBoostClassifier \n",
    "from sklearn.metrics import  accuracy_score"
   ]
  },
  {
   "cell_type": "code",
   "execution_count": 4,
   "metadata": {
    "collapsed": true
   },
   "outputs": [
    {
     "name": "stdout",
     "output_type": "stream",
     "text": [
      "(1797, 64)\n",
      "[[ 0.  0.  5. 13.  9.  1.  0.  0.]\n",
      " [ 0.  0. 13. 15. 10. 15.  5.  0.]\n",
      " [ 0.  3. 15.  2.  0. 11.  8.  0.]\n",
      " [ 0.  4. 12.  0.  0.  8.  8.  0.]\n",
      " [ 0.  5.  8.  0.  0.  9.  8.  0.]\n",
      " [ 0.  4. 11.  0.  1. 12.  7.  0.]\n",
      " [ 0.  2. 14.  5. 10. 12.  0.  0.]\n",
      " [ 0.  0.  6. 13. 10.  0.  0.  0.]]\n",
      "0\n"
     ]
    },
    {
     "data": {
      "image/png": "[encoded data removed]",
      "text/plain": [
       "<Figure size 432x288 with 1 Axes>"
      ]
     },
     "metadata": {
      "needs_background": "light"
     },
     "output_type": "display_data"
    }
   ],
   "source": [
    "digits = load_digits()\n",
    "data = digits.data\n",
    "print(data.shape)\n",
    "print(digits.images[0])\n",
    "print(digits.target[0])\n",
    "plt.gray()\n",
    "plt.imshow(digits.images[0])\n",
    "plt.show()\n"
   ]
  },
  {
   "cell_type": "code",
   "execution_count": 11,
   "metadata": {},
   "outputs": [],
   "source": [
    "data= digits.data\n",
    "target = digits.target\n",
    "data1 = np.vstack((data, data, data))\n",
    "target1 = np.hstack((target, target, target))\n",
    "train_x,test_x,train_y,test_y = train_test_split(data1,target1,test_size=0.25)\n",
    "ss = StandardScaler()\n",
    "train_ss_scaled = ss.fit_transform(train_x)\n",
    "test_ss_scaled = ss.transform(test_x)\n",
    "\n",
    "mm = MinMaxScaler()\n",
    "train_mm_scaled = mm.fit_transform(train_x)\n",
    "test_mm_scaled = mm.transform(test_x)"
   ]
  },
  {
   "cell_type": "code",
   "execution_count": 12,
   "metadata": {},
   "outputs": [
    {
     "name": "stdout",
     "output_type": "stream",
     "text": [
      "knn 0.9814540059347181\n",
      "svm 1.0\n",
      "bayes 0.9050445103857567\n",
      "tree 0.9933234421364985\n",
      "ada 0.9933234421364985\n"
     ]
    }
   ],
   "source": [
    "models = {}\n",
    "models['knn']= KNeighborsClassifier()\n",
    "models['svm']=SVC()\n",
    "models['bayes']=MultinomialNB()\n",
    "models['tree']=DecisionTreeClassifier()\n",
    "models['ada']=AdaBoostClassifier(base_estimator=models['tree'],learning_rate=0.1)\n",
    "for model_key in models.keys():\n",
    "    if model_key == 'knn' or model_key=='svm' or model_key =='ada':\n",
    "        model = models[model_key]\n",
    "        model.fit(train_ss_scaled,train_y)\n",
    "        predict = model.predict(test_ss_scaled)\n",
    "        print(model_key,accuracy_score(test_y,predict))\n",
    "    else:\n",
    "        model = models[model_key]\n",
    "        model.fit(train_mm_scaled,train_y)\n",
    "        predict = model.predict(test_mm_scaled)\n",
    "        print(model_key,accuracy_score(test_y,predict))"
   ]
  }
 ],
 "metadata": {
  "kernelspec": {
   "display_name": "Python 3",
   "language": "python",
   "name": "python3"
  },
  "language_info": {
   "codemirror_mode": {
    "name": "ipython",
    "version": 3
   },
   "file_extension": ".py",
   "mimetype": "text/x-python",
   "name": "python",
   "nbconvert_exporter": "python",
   "pygments_lexer": "ipython3",
   "version": "3.7.9"
  }
 },
 "nbformat": 4,
 "nbformat_minor": 4
}
