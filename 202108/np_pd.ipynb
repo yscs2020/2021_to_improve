{
 "cells": [
  {
   "cell_type": "code",
   "execution_count": 2,
   "id": "0d684daa",
   "metadata": {},
   "outputs": [
    {
     "data": {
      "text/plain": [
       "array(['Iris-setosa', 'Iris-setosa', 'Iris-setosa', 'Iris-setosa',\n",
       "       'Iris-setosa', 'Iris-versicolor', 'Iris-versicolor',\n",
       "       'Iris-versicolor', 'Iris-versicolor', 'Iris-versicolor',\n",
       "       'Iris-versicolor', 'Iris-versicolor', 'Iris-versicolor',\n",
       "       'Iris-versicolor', 'Iris-virginica', 'Iris-virginica',\n",
       "       'Iris-virginica', 'Iris-virginica', 'Iris-virginica',\n",
       "       'Iris-virginica'], dtype='<U15')"
      ]
     },
     "execution_count": 2,
     "metadata": {},
     "output_type": "execute_result"
    }
   ],
   "source": [
    "import numpy as np\n",
    "url = 'https://archive.ics.uci.edu/ml/machine-learning-databases/iris/iris.data'\n",
    "species = np.genfromtxt(url, delimiter=',', dtype='str', usecols=4)\n",
    "np.random.seed(100)\n",
    "species_small = np.sort(np.random.choice(species, size=20))\n",
    "species_small"
   ]
  },
  {
   "cell_type": "code",
   "execution_count": 4,
   "id": "7ce1d158",
   "metadata": {},
   "outputs": [
    {
     "data": {
      "text/plain": [
       "[0, 0, 0, 0, 0, 1, 1, 1, 1, 1, 1, 1, 1, 1, 2, 2, 2, 2, 2, 2]"
      ]
     },
     "execution_count": 4,
     "metadata": {},
     "output_type": "execute_result"
    }
   ],
   "source": [
    "output = [np.argwhere(np.unique(species_small)==s).tolist()[0][0] for val in np.unique(species_small) for s in species_small[species_small==val]]\n",
    "output"
   ]
  },
  {
   "cell_type": "code",
   "execution_count": 5,
   "id": "bcaa8d59",
   "metadata": {},
   "outputs": [],
   "source": [
    "output = []\n",
    "uniqs = np.unique(species_small)\n",
    "for val in uniqs:\n",
    "    for s in species_small[species_small==val]:\n",
    "        groupid = np.argwhere(uniqs==s).tolist()[0][0]\n",
    "        output.append(groupid)"
   ]
  },
  {
   "cell_type": "code",
   "execution_count": 7,
   "id": "91ee7ee9",
   "metadata": {},
   "outputs": [
    {
     "data": {
      "text/plain": [
       "[0, 0, 0, 0, 0, 1, 1, 1, 1, 1, 1, 1, 1, 1, 2, 2, 2, 2, 2, 2]"
      ]
     },
     "execution_count": 7,
     "metadata": {},
     "output_type": "execute_result"
    }
   ],
   "source": [
    "output"
   ]
  },
  {
   "cell_type": "code",
   "execution_count": 8,
   "id": "3c5a10ca",
   "metadata": {},
   "outputs": [
    {
     "name": "stdout",
     "output_type": "stream",
     "text": [
      "[[ 9  4 15  0 17]\n",
      " [16 17  8  9  0]]\n",
      "[[4 2 6 0 8]\n",
      " [7 9 3 5 1]]\n"
     ]
    }
   ],
   "source": [
    "np.random.seed(10)\n",
    "a = np.random.randint(20, size=[2,5])\n",
    "print(a)\n",
    "print(a.ravel().argsort().argsort().reshape(a.shape))"
   ]
  },
  {
   "cell_type": "code",
   "execution_count": 10,
   "id": "78d5d012",
   "metadata": {},
   "outputs": [
    {
     "data": {
      "text/plain": [
       "array([[9, 9, 4],\n",
       "       [8, 8, 1],\n",
       "       [5, 3, 6],\n",
       "       [3, 3, 3],\n",
       "       [2, 1, 9]])"
      ]
     },
     "execution_count": 10,
     "metadata": {},
     "output_type": "execute_result"
    }
   ],
   "source": [
    "np.random.seed(100)\n",
    "a = np.random.randint(1,10,[5,3])\n",
    "a"
   ]
  },
  {
   "cell_type": "code",
   "execution_count": 13,
   "id": "3303a2cd",
   "metadata": {},
   "outputs": [
    {
     "data": {
      "text/plain": [
       "array([9, 8, 6, 3, 9])"
      ]
     },
     "execution_count": 13,
     "metadata": {},
     "output_type": "execute_result"
    }
   ],
   "source": [
    "np.max(a,axis=1)"
   ]
  },
  {
   "cell_type": "code",
   "execution_count": 14,
   "id": "0c0c1581",
   "metadata": {},
   "outputs": [
    {
     "data": {
      "text/plain": [
       "array([9, 8, 6, 3, 9])"
      ]
     },
     "execution_count": 14,
     "metadata": {},
     "output_type": "execute_result"
    }
   ],
   "source": [
    "np.amax(a,axis=1)"
   ]
  },
  {
   "cell_type": "code",
   "execution_count": 15,
   "id": "e9424c6a",
   "metadata": {},
   "outputs": [
    {
     "data": {
      "text/plain": [
       "array([9, 8, 6, 3, 9])"
      ]
     },
     "execution_count": 15,
     "metadata": {},
     "output_type": "execute_result"
    }
   ],
   "source": [
    "np.apply_along_axis(np.max,arr=a,axis=1)"
   ]
  },
  {
   "cell_type": "code",
   "execution_count": 16,
   "id": "ff34b03b",
   "metadata": {},
   "outputs": [
    {
     "data": {
      "text/plain": [
       "array([0.44444444, 0.125     , 0.5       , 1.        , 0.11111111])"
      ]
     },
     "execution_count": 16,
     "metadata": {},
     "output_type": "execute_result"
    }
   ],
   "source": [
    "np.apply_along_axis(lambda x : np.min(x)/np.max(x),arr=a,axis=1)"
   ]
  },
  {
   "cell_type": "code",
   "execution_count": 18,
   "id": "8ad7cc1c",
   "metadata": {},
   "outputs": [
    {
     "data": {
      "text/plain": [
       "array([0, 0, 3, 0, 2, 4, 2, 2, 2, 2])"
      ]
     },
     "execution_count": 18,
     "metadata": {},
     "output_type": "execute_result"
    }
   ],
   "source": [
    "np.random.seed(100)\n",
    "a = np.random.randint(0,5,10)\n",
    "a"
   ]
  },
  {
   "cell_type": "code",
   "execution_count": 21,
   "id": "470cc356",
   "metadata": {},
   "outputs": [
    {
     "data": {
      "text/plain": [
       "array([0, 4, 2, 5])"
      ]
     },
     "execution_count": 21,
     "metadata": {},
     "output_type": "execute_result"
    }
   ],
   "source": [
    "np.unique(a,return_index=True)[1]"
   ]
  },
  {
   "cell_type": "code",
   "execution_count": 22,
   "id": "829800d1",
   "metadata": {},
   "outputs": [],
   "source": [
    "url = 'https://archive.ics.uci.edu/ml/machine-learning-databases/iris/iris.data'\n",
    "iris = np.genfromtxt(url, delimiter=',', dtype='object')"
   ]
  },
  {
   "cell_type": "code",
   "execution_count": 23,
   "id": "f8530129",
   "metadata": {},
   "outputs": [],
   "source": [
    "numeric_column = iris[:,1].astype('float')\n",
    "grouping_column = iris[:,4]\n"
   ]
  },
  {
   "cell_type": "code",
   "execution_count": 25,
   "id": "83a4ce02",
   "metadata": {},
   "outputs": [
    {
     "data": {
      "text/plain": [
       "[[b'Iris-setosa', 3.418],\n",
       " [b'Iris-versicolor', 2.7700000000000005],\n",
       " [b'Iris-virginica', 2.974]]"
      ]
     },
     "execution_count": 25,
     "metadata": {},
     "output_type": "execute_result"
    }
   ],
   "source": [
    "[[group_val,numeric_column[grouping_column==group_val].mean()] for group_val in np.unique(grouping_column)]\n"
   ]
  },
  {
   "cell_type": "code",
   "execution_count": 26,
   "id": "301fe805",
   "metadata": {},
   "outputs": [],
   "source": [
    "a = np.array([1,2,3,4,5])\n",
    "b = np.array([4,5,6,7,8])\n",
    "dist = np.linalg.norm(a-b)"
   ]
  },
  {
   "cell_type": "code",
   "execution_count": 28,
   "id": "66960bd0",
   "metadata": {},
   "outputs": [
    {
     "data": {
      "text/plain": [
       "6.708203932499369"
      ]
     },
     "execution_count": 28,
     "metadata": {},
     "output_type": "execute_result"
    }
   ],
   "source": [
    "dist"
   ]
  },
  {
   "cell_type": "code",
   "execution_count": 30,
   "id": "21eb7386",
   "metadata": {},
   "outputs": [
    {
     "data": {
      "text/plain": [
       "array([2, 5])"
      ]
     },
     "execution_count": 30,
     "metadata": {},
     "output_type": "execute_result"
    }
   ],
   "source": [
    "a = np.array([1,3,7,1,2,6,0,1])\n",
    "doublediff = np.diff(np.sign(np.diff(a)))\n",
    "peak_locations = np.where(doublediff==-2)[0]+1\n",
    "peak_locations"
   ]
  },
  {
   "cell_type": "code",
   "execution_count": 33,
   "id": "d573ea8b",
   "metadata": {},
   "outputs": [
    {
     "data": {
      "text/plain": [
       "array([[2, 2, 2],\n",
       "       [2, 2, 2],\n",
       "       [2, 2, 2]])"
      ]
     },
     "execution_count": 33,
     "metadata": {},
     "output_type": "execute_result"
    }
   ],
   "source": [
    "a_2d = np.array([[3,3,3],[4,4,4],[5,5,5]])\n",
    "b_1d = np.array([1,2,3])\n",
    "a_2d - b_1d[:,None]"
   ]
  },
  {
   "cell_type": "code",
   "execution_count": 36,
   "id": "aebc7304",
   "metadata": {},
   "outputs": [
    {
     "data": {
      "text/plain": [
       "array([[2, 2, 2],\n",
       "       [2, 2, 2],\n",
       "       [2, 2, 2]])"
      ]
     },
     "execution_count": 36,
     "metadata": {},
     "output_type": "execute_result"
    }
   ],
   "source": [
    "a_2d - b_1d.reshape(3,-1)"
   ]
  },
  {
   "cell_type": "code",
   "execution_count": 38,
   "id": "e64c0ee7",
   "metadata": {},
   "outputs": [
    {
     "data": {
      "text/plain": [
       "8"
      ]
     },
     "execution_count": 38,
     "metadata": {},
     "output_type": "execute_result"
    }
   ],
   "source": [
    "x = np.array([1,2,1,1,3,4,3,1,1,2,1,1,2])\n",
    "n = 5\n",
    "[i for i,v in enumerate(x) if v==1][n-1]"
   ]
  },
  {
   "cell_type": "code",
   "execution_count": 39,
   "id": "b87274ec",
   "metadata": {},
   "outputs": [
    {
     "data": {
      "text/plain": [
       "8"
      ]
     },
     "execution_count": 39,
     "metadata": {},
     "output_type": "execute_result"
    }
   ],
   "source": [
    "np.where(x==1)[0][n-1]"
   ]
  },
  {
   "cell_type": "code",
   "execution_count": 40,
   "id": "648dbda2",
   "metadata": {},
   "outputs": [],
   "source": [
    "def moving_average(a,n=3):\n",
    "    ret = np.cumsum(a,dtype=float)\n",
    "    ret[n:]=ret[n:]-ret[:-n]\n",
    "    return ret[n-1:]/n"
   ]
  },
  {
   "cell_type": "code",
   "execution_count": 41,
   "id": "92c01079",
   "metadata": {},
   "outputs": [
    {
     "name": "stdout",
     "output_type": "stream",
     "text": [
      "[8 8 3 7 7 0 4 2 5 2]\n"
     ]
    },
    {
     "data": {
      "text/plain": [
       "array([6.33, 6.  , 5.67, 4.67, 3.67, 2.  , 3.67, 3.  ])"
      ]
     },
     "execution_count": 41,
     "metadata": {},
     "output_type": "execute_result"
    }
   ],
   "source": [
    "np.random.seed(100)\n",
    "Z = np.random.randint(10,size=10)\n",
    "print(Z)\n",
    "moving_average(Z,n=3).round(2)"
   ]
  },
  {
   "cell_type": "code",
   "execution_count": 44,
   "id": "14771b87",
   "metadata": {},
   "outputs": [
    {
     "data": {
      "text/plain": [
       "array(['2018-02-01', '2018-02-03', '2018-02-05', '2018-02-07',\n",
       "       '2018-02-09', '2018-02-11', '2018-02-13', '2018-02-15',\n",
       "       '2018-02-17', '2018-02-19', '2018-02-21', '2018-02-23'],\n",
       "      dtype='datetime64[D]')"
      ]
     },
     "execution_count": 44,
     "metadata": {},
     "output_type": "execute_result"
    }
   ],
   "source": [
    "datas = np.arange(np.datetime64('2018-02-01'),np.datetime64('2018-02-25'),2)\n",
    "datas"
   ]
  },
  {
   "cell_type": "code",
   "execution_count": 46,
   "id": "7ac4a149",
   "metadata": {},
   "outputs": [
    {
     "data": {
      "text/plain": [
       "array(['2018-02-01', '2018-02-02', '2018-02-03', '2018-02-04',\n",
       "       '2018-02-05', '2018-02-06', '2018-02-07', '2018-02-08',\n",
       "       '2018-02-09', '2018-02-10', '2018-02-11', '2018-02-12',\n",
       "       '2018-02-13', '2018-02-14', '2018-02-15', '2018-02-16',\n",
       "       '2018-02-17', '2018-02-18', '2018-02-19', '2018-02-20',\n",
       "       '2018-02-21', '2018-02-22'], dtype='datetime64[D]')"
      ]
     },
     "execution_count": 46,
     "metadata": {},
     "output_type": "execute_result"
    }
   ],
   "source": [
    "fill_ind = np.array([np.arange(date,(date+d)) for date,d in zip(datas,np.diff(datas))]).reshape(-1)\n",
    "fill_ind"
   ]
  },
  {
   "cell_type": "code",
   "execution_count": 64,
   "id": "29783ccd",
   "metadata": {},
   "outputs": [
    {
     "data": {
      "text/plain": [
       "array([ 0,  1,  2,  3,  4,  5,  6,  7,  8,  9, 10, 11, 12, 13, 14])"
      ]
     },
     "execution_count": 64,
     "metadata": {},
     "output_type": "execute_result"
    }
   ],
   "source": [
    "arr = np.arange(15)\n",
    "arr"
   ]
  },
  {
   "cell_type": "code",
   "execution_count": 87,
   "id": "71ea1037",
   "metadata": {},
   "outputs": [
    {
     "name": "stdout",
     "output_type": "stream",
     "text": [
      "[[ 0  1  2  3]\n",
      " [ 2  3  4  5]\n",
      " [ 4  5  6  7]\n",
      " [ 6  7  8  9]\n",
      " [ 8  9 10 11]\n",
      " [10 11 12 13]]\n"
     ]
    }
   ],
   "source": [
    "start = 0\n",
    "length = 4\n",
    "step = 2\n",
    "a = [[arr[i*step:i*step+length] for i in range(len(arr)//step-1)]]\n",
    "print(np.concatenate(a))"
   ]
  },
  {
   "cell_type": "code",
   "execution_count": 88,
   "id": "22756509",
   "metadata": {},
   "outputs": [
    {
     "name": "stdout",
     "output_type": "stream",
     "text": [
      "[[ 0  1  2  3]\n",
      " [ 2  3  4  5]\n",
      " [ 4  5  6  7]\n",
      " [ 6  7  8  9]\n",
      " [ 8  9 10 11]\n",
      " [10 11 12 13]]\n"
     ]
    }
   ],
   "source": [
    "def gen_stride(a,stride_len=5,window_len=5):\n",
    "    n_strides = ((a.size-window_len)//stride_len)+1\n",
    "    return np.array([a[s:(s+window_len)] for s in np.arange(0,n_strides*stride_len,stride_len)])\n",
    "print(gen_stride(np.arange(15), stride_len=2, window_len=4))"
   ]
  },
  {
   "cell_type": "code",
   "execution_count": 2,
   "id": "296d03c1",
   "metadata": {},
   "outputs": [
    {
     "data": {
      "text/html": [
       "<div>\n",
       "<style scoped>\n",
       "    .dataframe tbody tr th:only-of-type {\n",
       "        vertical-align: middle;\n",
       "    }\n",
       "\n",
       "    .dataframe tbody tr th {\n",
       "        vertical-align: top;\n",
       "    }\n",
       "\n",
       "    .dataframe thead th {\n",
       "        text-align: right;\n",
       "    }\n",
       "</style>\n",
       "<table border=\"1\" class=\"dataframe\">\n",
       "  <thead>\n",
       "    <tr style=\"text-align: right;\">\n",
       "      <th></th>\n",
       "      <th>0</th>\n",
       "      <th>1</th>\n",
       "      <th>2</th>\n",
       "      <th>3</th>\n",
       "      <th>4</th>\n",
       "      <th>5</th>\n",
       "      <th>6</th>\n",
       "      <th>7</th>\n",
       "      <th>8</th>\n",
       "      <th>9</th>\n",
       "      <th>...</th>\n",
       "      <th>22</th>\n",
       "      <th>23</th>\n",
       "      <th>24</th>\n",
       "      <th>25</th>\n",
       "      <th>26</th>\n",
       "      <th>27</th>\n",
       "      <th>28</th>\n",
       "      <th>29</th>\n",
       "      <th>30</th>\n",
       "      <th>31</th>\n",
       "    </tr>\n",
       "  </thead>\n",
       "  <tbody>\n",
       "    <tr>\n",
       "      <th>0</th>\n",
       "      <td>842302</td>\n",
       "      <td>M</td>\n",
       "      <td>17.99</td>\n",
       "      <td>10.38</td>\n",
       "      <td>122.80</td>\n",
       "      <td>1001.0</td>\n",
       "      <td>0.11840</td>\n",
       "      <td>0.27760</td>\n",
       "      <td>0.3001</td>\n",
       "      <td>0.14710</td>\n",
       "      <td>...</td>\n",
       "      <td>25.38</td>\n",
       "      <td>17.33</td>\n",
       "      <td>184.60</td>\n",
       "      <td>2019.0</td>\n",
       "      <td>0.1622</td>\n",
       "      <td>0.6656</td>\n",
       "      <td>0.7119</td>\n",
       "      <td>0.2654</td>\n",
       "      <td>0.4601</td>\n",
       "      <td>0.11890</td>\n",
       "    </tr>\n",
       "    <tr>\n",
       "      <th>1</th>\n",
       "      <td>842517</td>\n",
       "      <td>M</td>\n",
       "      <td>20.57</td>\n",
       "      <td>17.77</td>\n",
       "      <td>132.90</td>\n",
       "      <td>1326.0</td>\n",
       "      <td>0.08474</td>\n",
       "      <td>0.07864</td>\n",
       "      <td>0.0869</td>\n",
       "      <td>0.07017</td>\n",
       "      <td>...</td>\n",
       "      <td>24.99</td>\n",
       "      <td>23.41</td>\n",
       "      <td>158.80</td>\n",
       "      <td>1956.0</td>\n",
       "      <td>0.1238</td>\n",
       "      <td>0.1866</td>\n",
       "      <td>0.2416</td>\n",
       "      <td>0.1860</td>\n",
       "      <td>0.2750</td>\n",
       "      <td>0.08902</td>\n",
       "    </tr>\n",
       "    <tr>\n",
       "      <th>2</th>\n",
       "      <td>84300903</td>\n",
       "      <td>M</td>\n",
       "      <td>19.69</td>\n",
       "      <td>21.25</td>\n",
       "      <td>130.00</td>\n",
       "      <td>1203.0</td>\n",
       "      <td>0.10960</td>\n",
       "      <td>0.15990</td>\n",
       "      <td>0.1974</td>\n",
       "      <td>0.12790</td>\n",
       "      <td>...</td>\n",
       "      <td>23.57</td>\n",
       "      <td>25.53</td>\n",
       "      <td>152.50</td>\n",
       "      <td>1709.0</td>\n",
       "      <td>0.1444</td>\n",
       "      <td>0.4245</td>\n",
       "      <td>0.4504</td>\n",
       "      <td>0.2430</td>\n",
       "      <td>0.3613</td>\n",
       "      <td>0.08758</td>\n",
       "    </tr>\n",
       "    <tr>\n",
       "      <th>3</th>\n",
       "      <td>84348301</td>\n",
       "      <td>M</td>\n",
       "      <td>11.42</td>\n",
       "      <td>20.38</td>\n",
       "      <td>77.58</td>\n",
       "      <td>386.1</td>\n",
       "      <td>0.14250</td>\n",
       "      <td>0.28390</td>\n",
       "      <td>0.2414</td>\n",
       "      <td>0.10520</td>\n",
       "      <td>...</td>\n",
       "      <td>14.91</td>\n",
       "      <td>26.50</td>\n",
       "      <td>98.87</td>\n",
       "      <td>567.7</td>\n",
       "      <td>0.2098</td>\n",
       "      <td>0.8663</td>\n",
       "      <td>0.6869</td>\n",
       "      <td>0.2575</td>\n",
       "      <td>0.6638</td>\n",
       "      <td>0.17300</td>\n",
       "    </tr>\n",
       "    <tr>\n",
       "      <th>4</th>\n",
       "      <td>84358402</td>\n",
       "      <td>M</td>\n",
       "      <td>20.29</td>\n",
       "      <td>14.34</td>\n",
       "      <td>135.10</td>\n",
       "      <td>1297.0</td>\n",
       "      <td>0.10030</td>\n",
       "      <td>0.13280</td>\n",
       "      <td>0.1980</td>\n",
       "      <td>0.10430</td>\n",
       "      <td>...</td>\n",
       "      <td>22.54</td>\n",
       "      <td>16.67</td>\n",
       "      <td>152.20</td>\n",
       "      <td>1575.0</td>\n",
       "      <td>0.1374</td>\n",
       "      <td>0.2050</td>\n",
       "      <td>0.4000</td>\n",
       "      <td>0.1625</td>\n",
       "      <td>0.2364</td>\n",
       "      <td>0.07678</td>\n",
       "    </tr>\n",
       "  </tbody>\n",
       "</table>\n",
       "<p>5 rows × 32 columns</p>\n",
       "</div>"
      ],
      "text/plain": [
       "         0  1      2      3       4       5        6        7       8   \\\n",
       "0    842302  M  17.99  10.38  122.80  1001.0  0.11840  0.27760  0.3001   \n",
       "1    842517  M  20.57  17.77  132.90  1326.0  0.08474  0.07864  0.0869   \n",
       "2  84300903  M  19.69  21.25  130.00  1203.0  0.10960  0.15990  0.1974   \n",
       "3  84348301  M  11.42  20.38   77.58   386.1  0.14250  0.28390  0.2414   \n",
       "4  84358402  M  20.29  14.34  135.10  1297.0  0.10030  0.13280  0.1980   \n",
       "\n",
       "        9   ...     22     23      24      25      26      27      28      29  \\\n",
       "0  0.14710  ...  25.38  17.33  184.60  2019.0  0.1622  0.6656  0.7119  0.2654   \n",
       "1  0.07017  ...  24.99  23.41  158.80  1956.0  0.1238  0.1866  0.2416  0.1860   \n",
       "2  0.12790  ...  23.57  25.53  152.50  1709.0  0.1444  0.4245  0.4504  0.2430   \n",
       "3  0.10520  ...  14.91  26.50   98.87   567.7  0.2098  0.8663  0.6869  0.2575   \n",
       "4  0.10430  ...  22.54  16.67  152.20  1575.0  0.1374  0.2050  0.4000  0.1625   \n",
       "\n",
       "       30       31  \n",
       "0  0.4601  0.11890  \n",
       "1  0.2750  0.08902  \n",
       "2  0.3613  0.08758  \n",
       "3  0.6638  0.17300  \n",
       "4  0.2364  0.07678  \n",
       "\n",
       "[5 rows x 32 columns]"
      ]
     },
     "execution_count": 2,
     "metadata": {},
     "output_type": "execute_result"
    }
   ],
   "source": [
    "import pandas as pd\n",
    "df = pd.read_csv('https://archive.ics.uci.edu/ml/machine-learning-databases/breast-cancer-wisconsin/wdbc.data',header=None)\n",
    "df.head()"
   ]
  },
  {
   "cell_type": "code",
   "execution_count": 3,
   "id": "d0969ac4",
   "metadata": {},
   "outputs": [],
   "source": [
    "X = df.loc[:,2:].values\n",
    "y = df.loc[:,1].values\n",
    "from sklearn.preprocessing import LabelEncoder"
   ]
  },
  {
   "cell_type": "code",
   "execution_count": 4,
   "id": "78f5bef7",
   "metadata": {},
   "outputs": [],
   "source": [
    "le = LabelEncoder()\n",
    "y = le.fit_transform(y)\n"
   ]
  },
  {
   "cell_type": "code",
   "execution_count": 7,
   "id": "d80ad8c1",
   "metadata": {},
   "outputs": [
    {
     "data": {
      "text/plain": [
       "0    357\n",
       "1    212\n",
       "dtype: int64"
      ]
     },
     "execution_count": 7,
     "metadata": {},
     "output_type": "execute_result"
    }
   ],
   "source": [
    "pd.value_counts(y)"
   ]
  },
  {
   "cell_type": "code",
   "execution_count": 9,
   "id": "080a0521",
   "metadata": {},
   "outputs": [],
   "source": [
    "from sklearn.model_selection import train_test_split\n",
    "X_train,X_test,y_train,y_test = train_test_split(X,y,test_size=0.2,random_state=1)\n"
   ]
  },
  {
   "cell_type": "code",
   "execution_count": 11,
   "id": "634afa75",
   "metadata": {},
   "outputs": [
    {
     "name": "stdout",
     "output_type": "stream",
     "text": [
      "Test Accuracy:0.947\n"
     ]
    }
   ],
   "source": [
    "from sklearn.preprocessing import StandardScaler\n",
    "from sklearn.decomposition import PCA\n",
    "from sklearn.linear_model import LogisticRegression\n",
    "from sklearn.pipeline import Pipeline\n",
    "pipe_lr = Pipeline([('scl',StandardScaler()),('pca',PCA(n_components=2)),('clf',LogisticRegression(random_state=1))])\n",
    "pipe_lr.fit(X_train,y_train)\n",
    "print('Test Accuracy:%.3f'%pipe_lr.score(X_test,y_test))"
   ]
  },
  {
   "cell_type": "code",
   "execution_count": 17,
   "id": "81bdb1f7",
   "metadata": {},
   "outputs": [
    {
     "name": "stdout",
     "output_type": "stream",
     "text": [
      "Collecting pydot\n",
      "  Downloading pydot-1.4.2-py2.py3-none-any.whl (21 kB)\n",
      "Requirement already satisfied: pyparsing>=2.1.4 in /Users/yanshuo/opt/anaconda3/lib/python3.7/site-packages (from pydot) (2.4.7)\n",
      "Installing collected packages: pydot\n",
      "Successfully installed pydot-1.4.2\n"
     ]
    }
   ],
   "source": [
    "!pip3 install pydot"
   ]
  },
  {
   "cell_type": "code",
   "execution_count": 114,
   "id": "218300cd",
   "metadata": {},
   "outputs": [
    {
     "name": "stdout",
     "output_type": "stream",
     "text": [
      "[0.         0.         0.05393633 0.94606367]\n",
      "|--- feature_3 <= 0.80\n",
      "|   |--- class: 0\n",
      "|--- feature_3 >  0.80\n",
      "|   |--- feature_3 <= 1.75\n",
      "|   |   |--- feature_2 <= 4.95\n",
      "|   |   |   |--- class: 1\n",
      "|   |   |--- feature_2 >  4.95\n",
      "|   |   |   |--- class: 2\n",
      "|   |--- feature_3 >  1.75\n",
      "|   |   |--- feature_2 <= 4.85\n",
      "|   |   |   |--- class: 2\n",
      "|   |   |--- feature_2 >  4.85\n",
      "|   |   |   |--- class: 2\n",
      "\n",
      "[0.         0.         0.07060267 0.92939733]\n",
      "|--- feature_3 <= 0.80\n",
      "|   |--- class: 0\n",
      "|--- feature_3 >  0.80\n",
      "|   |--- feature_3 <= 1.75\n",
      "|   |   |--- feature_2 <= 4.95\n",
      "|   |   |   |--- class: 1\n",
      "|   |   |--- feature_2 >  4.95\n",
      "|   |   |   |--- class: 2\n",
      "|   |--- feature_3 >  1.75\n",
      "|   |   |--- feature_2 <= 4.85\n",
      "|   |   |   |--- class: 2\n",
      "|   |   |--- feature_2 >  4.85\n",
      "|   |   |   |--- class: 2\n",
      "\n"
     ]
    }
   ],
   "source": [
    "from io import StringIO\n",
    "from sklearn.datasets import load_iris\n",
    "from sklearn.tree import DecisionTreeClassifier\n",
    "from sklearn import tree\n",
    "for critention in ['gini','entropy']:\n",
    "    clf = DecisionTreeClassifier(criterion=critention,random_state=2021,max_depth=3)\n",
    "    iris = load_iris()\n",
    "    dot_data = StringIO()\n",
    "    clf.fit(iris.data,iris.target)\n",
    "    print(clf.feature_importances_)\n",
    "    print(tree.export_text(clf))"
   ]
  },
  {
   "cell_type": "code",
   "execution_count": 28,
   "id": "43a8799e",
   "metadata": {},
   "outputs": [
    {
     "name": "stdout",
     "output_type": "stream",
     "text": [
      "[0.         0.         0.05393633 0.94606367]\n",
      "[0.         0.         0.07060267 0.92939733]\n"
     ]
    }
   ],
   "source": [
    "from io import StringIO\n",
    "from sklearn.datasets import load_iris\n",
    "from sklearn.tree import DecisionTreeClassifier\n",
    "from sklearn import tree\n",
    "import pydot\n",
    "for criention in ['gini','entropy']:\n",
    "    clf = DecisionTreeClassifier(criterion=criention,random_state=0,max_depth=3)\n",
    "    iris = load_iris()\n",
    "    dot_data = StringIO()\n",
    "    clf.fit(iris.data,iris.target)\n",
    "    print(clf.feature_importances_)\n",
    "    tree.export_graphviz(clf,out_file=dot_data)\n",
    "    graph = pydot.graph_from_dot_data(dot_data.getvalue())"
   ]
  },
  {
   "cell_type": "code",
   "execution_count": 39,
   "id": "f28a6ca6",
   "metadata": {},
   "outputs": [
    {
     "name": "stdout",
     "output_type": "stream",
     "text": [
      "2021-08-19 09:25:34.773650\n",
      "<class 'datetime.datetime'>\n"
     ]
    }
   ],
   "source": [
    "from datetime import datetime\n",
    "print(datetime.now())\n",
    "print(type(datetime.now()))"
   ]
  },
  {
   "cell_type": "code",
   "execution_count": 44,
   "id": "355eff37",
   "metadata": {},
   "outputs": [
    {
     "name": "stdout",
     "output_type": "stream",
     "text": [
      "2021-08-01\n",
      "2021-07-01\n"
     ]
    }
   ],
   "source": [
    "import datetime\n",
    "now_month = datetime.date(datetime.date.today().year,datetime.date.today().month,1)\n",
    "print(now_month)\n",
    "print((datetime.date.today().replace(day=1)-datetime.timedelta(days=1)).replace(day=1))"
   ]
  },
  {
   "cell_type": "code",
   "execution_count": 2,
   "id": "371868a0",
   "metadata": {},
   "outputs": [
    {
     "name": "stdout",
     "output_type": "stream",
     "text": [
      "2021-08-21\n",
      "5\n",
      "2021-08-16\n",
      "2021-08-26\n"
     ]
    }
   ],
   "source": [
    "import datetime\n",
    "now = datetime.date.today()\n",
    "print(now)\n",
    "print(now.weekday())\n",
    "print(now-datetime.timedelta(now.weekday()))\n",
    "print(now+datetime.timedelta(now.weekday()))"
   ]
  },
  {
   "cell_type": "code",
   "execution_count": 5,
   "id": "3193b6f4",
   "metadata": {},
   "outputs": [
    {
     "name": "stdout",
     "output_type": "stream",
     "text": [
      "2021-08-21 10:28:17.272339\n",
      "2021-08-21\n"
     ]
    }
   ],
   "source": [
    "import calendar\n",
    "import datetime\n",
    "from datetime import timedelta\n",
    "now = datetime.datetime.now()\n",
    "print(now)\n",
    "now = datetime.datetime.now().date()\n",
    "print(now)"
   ]
  },
  {
   "cell_type": "code",
   "execution_count": 7,
   "id": "8abc0749",
   "metadata": {},
   "outputs": [
    {
     "data": {
      "text/plain": [
       "8"
      ]
     },
     "execution_count": 7,
     "metadata": {},
     "output_type": "execute_result"
    }
   ],
   "source": [
    "now.month"
   ]
  },
  {
   "cell_type": "code",
   "execution_count": 10,
   "id": "5c5edfa6",
   "metadata": {},
   "outputs": [
    {
     "name": "stdout",
     "output_type": "stream",
     "text": [
      "2021-08-20\n",
      "2021-08-22\n"
     ]
    }
   ],
   "source": [
    "yesterday = now - timedelta(days=1)\n",
    "print(yesterday)\n",
    "tommorrow = now + timedelta(days=1)\n",
    "print(tommorrow)"
   ]
  },
  {
   "cell_type": "code",
   "execution_count": 17,
   "id": "0f74ab9c",
   "metadata": {},
   "outputs": [
    {
     "name": "stdout",
     "output_type": "stream",
     "text": [
      "2021-08-22\n",
      "2021-08-16\n"
     ]
    }
   ],
   "source": [
    "this_week_lastday = now+timedelta(days=6-  now.weekday())\n",
    "print(this_week_lastday)\n",
    "this_week_startday = now - timedelta(days=now.weekday())\n",
    "print(this_week_startday)"
   ]
  },
  {
   "cell_type": "code",
   "execution_count": 20,
   "id": "a62af671",
   "metadata": {},
   "outputs": [
    {
     "name": "stdout",
     "output_type": "stream",
     "text": [
      "2021-08-15 2021-08-09\n"
     ]
    }
   ],
   "source": [
    "last_week_end = now - timedelta(days=now.weekday()+1)\n",
    "last_week_start = now - timedelta(days=now.weekday()+7)\n",
    "print(last_week_end,last_week_start)"
   ]
  },
  {
   "cell_type": "code",
   "execution_count": 23,
   "id": "49892912",
   "metadata": {},
   "outputs": [],
   "source": [
    "this_month_start = datetime.datetime(now.year,now.month,1)\n",
    "this_month_end = datetime.datetime(now.year,now.month,calendar.monthrange(now.year,now.month)[1])"
   ]
  },
  {
   "cell_type": "code",
   "execution_count": 25,
   "id": "1ec7dbc5",
   "metadata": {},
   "outputs": [
    {
     "name": "stdout",
     "output_type": "stream",
     "text": [
      "2021-08-31 00:00:00 2021-08-01 00:00:00\n"
     ]
    }
   ],
   "source": [
    "print(this_month_end,this_month_start)"
   ]
  },
  {
   "cell_type": "code",
   "execution_count": 27,
   "id": "d93973ca",
   "metadata": {},
   "outputs": [
    {
     "data": {
      "text/plain": [
       "(6, 31)"
      ]
     },
     "execution_count": 27,
     "metadata": {},
     "output_type": "execute_result"
    }
   ],
   "source": [
    "calendar.monthrange(now.year,now.month)"
   ]
  },
  {
   "cell_type": "code",
   "execution_count": 29,
   "id": "85d817a6",
   "metadata": {},
   "outputs": [],
   "source": [
    "last_month_end = this_month_start - timedelta(days=1)\n",
    "last_month_start = datetime.datetime(last_month_end.year,last_month_end.month,1)"
   ]
  },
  {
   "cell_type": "code",
   "execution_count": 31,
   "id": "c3986b1d",
   "metadata": {},
   "outputs": [
    {
     "name": "stdout",
     "output_type": "stream",
     "text": [
      "2021-07-31 00:00:00 2021-07-01 00:00:00\n"
     ]
    }
   ],
   "source": [
    "print(last_month_end,last_month_start)"
   ]
  },
  {
   "cell_type": "code",
   "execution_count": 38,
   "id": "808305d3",
   "metadata": {},
   "outputs": [
    {
     "name": "stdout",
     "output_type": "stream",
     "text": [
      "2021-09-30 00:00:00 2021-07-01 00:00:00\n"
     ]
    }
   ],
   "source": [
    "month = now.month - (now.month-1)%3 \n",
    "this_quarter_start = datetime.datetime(now.year,month,1)\n",
    "this_quarter_end = datetime.datetime(now.year,month+2,calendar.monthrange(now.year,month+2)[1])\n",
    "print(this_quarter_end,this_quarter_start)"
   ]
  },
  {
   "cell_type": "code",
   "execution_count": 40,
   "id": "2107ebcc",
   "metadata": {},
   "outputs": [
    {
     "name": "stdout",
     "output_type": "stream",
     "text": [
      "2021-12-31 00:00:00 2021-01-01 00:00:00\n"
     ]
    }
   ],
   "source": [
    "this_year_start = datetime.datetime(now.year,1,1)\n",
    "this_year_end  = datetime.datetime(now.year+1,1,1)-timedelta(days=1)\n",
    "print(this_year_end,this_year_start)"
   ]
  },
  {
   "cell_type": "code",
   "execution_count": 43,
   "id": "afa00f41",
   "metadata": {},
   "outputs": [],
   "source": [
    "def connect():\n",
    "    from impala.dbapi import connect\n",
    "    import pandas as pd\n",
    "    impala = connect('116.168.1.20',port=11050,user='hdxdf')\n",
    "    return impala\n",
    "import pandas as pd\n",
    "import DB_Connect\n",
    "impala = DB_Connect.connect()\n",
    "sql_test = \"\"\"\n",
    "select * from ods.test\n",
    "limit 1\n",
    "\"\"\"\n",
    "user_info = pd.read_sqld(sql_test,impala)"
   ]
  },
  {
   "cell_type": "code",
   "execution_count": 45,
   "id": "b0b950fb",
   "metadata": {},
   "outputs": [],
   "source": [
    "# import scipy\n",
    "# scipy.stats.ttest_ind(a,b,axis=0,equal_var=True,nan_policy='propagate')\n"
   ]
  },
  {
   "cell_type": "code",
   "execution_count": 59,
   "id": "a5fbe008",
   "metadata": {},
   "outputs": [
    {
     "data": {
      "text/plain": [
       "Ttest_indResult(statistic=-0.6987888788400556, pvalue=0.4848467858848152)"
      ]
     },
     "execution_count": 59,
     "metadata": {},
     "output_type": "execute_result"
    }
   ],
   "source": [
    "from scipy import stats\n",
    "rvs1 = stats.norm.rvs(loc=5,scale=10,size=500)\n",
    "rvs2 = stats.norm.rvs(loc=5,scale=10,size=500)\n",
    "rvs3 = stats.norm.rvs(loc=5,scale=20,size=500)\n",
    "rvs4 = stats.norm.rvs(loc=5,scale=20,size=100)\n",
    "rvs5 = stats.norm.rvs(loc=8,scale=20,size=100)\n",
    "stats.ttest_ind(rvs1,rvs2)\n"
   ]
  },
  {
   "cell_type": "code",
   "execution_count": 60,
   "id": "94edd731",
   "metadata": {},
   "outputs": [
    {
     "name": "stdout",
     "output_type": "stream",
     "text": [
      "Ttest_indResult(statistic=0.7894413719437114, pvalue=0.43004159380028706)\n",
      "Ttest_indResult(statistic=0.7894413719437114, pvalue=0.43011178524987115)\n"
     ]
    }
   ],
   "source": [
    "print(stats.ttest_ind(rvs1,rvs3))\n",
    "print(stats.ttest_ind(rvs1,rvs3,equal_var=False))"
   ]
  },
  {
   "cell_type": "code",
   "execution_count": 61,
   "id": "7f7a5548",
   "metadata": {},
   "outputs": [
    {
     "name": "stdout",
     "output_type": "stream",
     "text": [
      "Ttest_indResult(statistic=1.9989893658732876, pvalue=0.04606160793320695)\n",
      "Ttest_indResult(statistic=1.3064684038799983, pvalue=0.19414152162166678)\n"
     ]
    }
   ],
   "source": [
    "print(stats.ttest_ind(rvs1,rvs4))\n",
    "print(stats.ttest_ind(rvs1,rvs4,equal_var=False))"
   ]
  },
  {
   "cell_type": "code",
   "execution_count": 62,
   "id": "d93f6ab5",
   "metadata": {},
   "outputs": [
    {
     "name": "stdout",
     "output_type": "stream",
     "text": [
      "Ttest_indResult(statistic=0.7222472833551429, pvalue=0.4704247914057106)\n",
      "Ttest_indResult(statistic=0.4934169737153813, pvalue=0.6226931825052368)\n"
     ]
    }
   ],
   "source": [
    "print(stats.ttest_ind(rvs1,rvs5))\n",
    "print(stats.ttest_ind(rvs1,rvs5,equal_var=False))"
   ]
  },
  {
   "cell_type": "code",
   "execution_count": 64,
   "id": "3c844788",
   "metadata": {},
   "outputs": [
    {
     "name": "stdout",
     "output_type": "stream",
     "text": [
      "False\n"
     ]
    }
   ],
   "source": [
    "s = 'dddddd'\n",
    "print(s.startswith('s'))"
   ]
  },
  {
   "cell_type": "code",
   "execution_count": 66,
   "id": "076e2559",
   "metadata": {},
   "outputs": [
    {
     "data": {
      "text/html": [
       "<div>\n",
       "<style scoped>\n",
       "    .dataframe tbody tr th:only-of-type {\n",
       "        vertical-align: middle;\n",
       "    }\n",
       "\n",
       "    .dataframe tbody tr th {\n",
       "        vertical-align: top;\n",
       "    }\n",
       "\n",
       "    .dataframe thead th {\n",
       "        text-align: right;\n",
       "    }\n",
       "</style>\n",
       "<table border=\"1\" class=\"dataframe\">\n",
       "  <thead>\n",
       "    <tr style=\"text-align: right;\">\n",
       "      <th></th>\n",
       "      <th>max_speed</th>\n",
       "      <th>shield</th>\n",
       "    </tr>\n",
       "  </thead>\n",
       "  <tbody>\n",
       "    <tr>\n",
       "      <th>cobra</th>\n",
       "      <td>1</td>\n",
       "      <td>2</td>\n",
       "    </tr>\n",
       "    <tr>\n",
       "      <th>viper</th>\n",
       "      <td>4</td>\n",
       "      <td>5</td>\n",
       "    </tr>\n",
       "    <tr>\n",
       "      <th>sidewinder</th>\n",
       "      <td>7</td>\n",
       "      <td>8</td>\n",
       "    </tr>\n",
       "  </tbody>\n",
       "</table>\n",
       "</div>"
      ],
      "text/plain": [
       "            max_speed  shield\n",
       "cobra               1       2\n",
       "viper               4       5\n",
       "sidewinder          7       8"
      ]
     },
     "execution_count": 66,
     "metadata": {},
     "output_type": "execute_result"
    }
   ],
   "source": [
    "import pandas as pd\n",
    "df = pd.DataFrame([[1,2],[4,5],[7,8]],\n",
    "                 index=['cobra','viper','sidewinder'],\n",
    "                 columns=['max_speed','shield'])\n",
    "df"
   ]
  },
  {
   "cell_type": "code",
   "execution_count": 68,
   "id": "93caf072",
   "metadata": {},
   "outputs": [
    {
     "data": {
      "text/plain": [
       "max_speed    4\n",
       "shield       5\n",
       "Name: viper, dtype: int64"
      ]
     },
     "execution_count": 68,
     "metadata": {},
     "output_type": "execute_result"
    }
   ],
   "source": [
    "df.loc['viper']"
   ]
  },
  {
   "cell_type": "code",
   "execution_count": 70,
   "id": "1d2fb6e0",
   "metadata": {},
   "outputs": [
    {
     "data": {
      "text/plain": [
       "2"
      ]
     },
     "execution_count": 70,
     "metadata": {},
     "output_type": "execute_result"
    }
   ],
   "source": [
    "df.loc['cobra','shield']"
   ]
  },
  {
   "cell_type": "code",
   "execution_count": 72,
   "id": "3853c48d",
   "metadata": {},
   "outputs": [
    {
     "data": {
      "text/plain": [
       "cobra    1\n",
       "viper    4\n",
       "Name: max_speed, dtype: int64"
      ]
     },
     "execution_count": 72,
     "metadata": {},
     "output_type": "execute_result"
    }
   ],
   "source": [
    "df.loc['cobra':'viper','max_speed']"
   ]
  },
  {
   "cell_type": "code",
   "execution_count": 74,
   "id": "1d3c6346",
   "metadata": {},
   "outputs": [
    {
     "data": {
      "text/html": [
       "<div>\n",
       "<style scoped>\n",
       "    .dataframe tbody tr th:only-of-type {\n",
       "        vertical-align: middle;\n",
       "    }\n",
       "\n",
       "    .dataframe tbody tr th {\n",
       "        vertical-align: top;\n",
       "    }\n",
       "\n",
       "    .dataframe thead th {\n",
       "        text-align: right;\n",
       "    }\n",
       "</style>\n",
       "<table border=\"1\" class=\"dataframe\">\n",
       "  <thead>\n",
       "    <tr style=\"text-align: right;\">\n",
       "      <th></th>\n",
       "      <th>max_speed</th>\n",
       "      <th>shield</th>\n",
       "    </tr>\n",
       "  </thead>\n",
       "  <tbody>\n",
       "    <tr>\n",
       "      <th>sidewinder</th>\n",
       "      <td>7</td>\n",
       "      <td>8</td>\n",
       "    </tr>\n",
       "  </tbody>\n",
       "</table>\n",
       "</div>"
      ],
      "text/plain": [
       "            max_speed  shield\n",
       "sidewinder          7       8"
      ]
     },
     "execution_count": 74,
     "metadata": {},
     "output_type": "execute_result"
    }
   ],
   "source": [
    "df.loc[df['shield']>6]"
   ]
  },
  {
   "cell_type": "code",
   "execution_count": 76,
   "id": "22846b9f",
   "metadata": {},
   "outputs": [
    {
     "data": {
      "text/html": [
       "<div>\n",
       "<style scoped>\n",
       "    .dataframe tbody tr th:only-of-type {\n",
       "        vertical-align: middle;\n",
       "    }\n",
       "\n",
       "    .dataframe tbody tr th {\n",
       "        vertical-align: top;\n",
       "    }\n",
       "\n",
       "    .dataframe thead th {\n",
       "        text-align: right;\n",
       "    }\n",
       "</style>\n",
       "<table border=\"1\" class=\"dataframe\">\n",
       "  <thead>\n",
       "    <tr style=\"text-align: right;\">\n",
       "      <th></th>\n",
       "      <th>a</th>\n",
       "      <th>b</th>\n",
       "      <th>c</th>\n",
       "      <th>d</th>\n",
       "    </tr>\n",
       "  </thead>\n",
       "  <tbody>\n",
       "    <tr>\n",
       "      <th>0</th>\n",
       "      <td>1</td>\n",
       "      <td>2</td>\n",
       "      <td>3</td>\n",
       "      <td>4</td>\n",
       "    </tr>\n",
       "    <tr>\n",
       "      <th>1</th>\n",
       "      <td>100</td>\n",
       "      <td>200</td>\n",
       "      <td>300</td>\n",
       "      <td>400</td>\n",
       "    </tr>\n",
       "    <tr>\n",
       "      <th>2</th>\n",
       "      <td>1000</td>\n",
       "      <td>2000</td>\n",
       "      <td>3000</td>\n",
       "      <td>4000</td>\n",
       "    </tr>\n",
       "  </tbody>\n",
       "</table>\n",
       "</div>"
      ],
      "text/plain": [
       "      a     b     c     d\n",
       "0     1     2     3     4\n",
       "1   100   200   300   400\n",
       "2  1000  2000  3000  4000"
      ]
     },
     "execution_count": 76,
     "metadata": {},
     "output_type": "execute_result"
    }
   ],
   "source": [
    "import pandas as pd\n",
    "df = pd.DataFrame([[1,2,3,4],[100,200,300,400],[1000,2000,3000,4000]],columns=['a','b','c','d'])\n",
    "df"
   ]
  },
  {
   "cell_type": "code",
   "execution_count": 78,
   "id": "9170c981",
   "metadata": {},
   "outputs": [
    {
     "data": {
      "text/plain": [
       "a    100\n",
       "b    200\n",
       "c    300\n",
       "d    400\n",
       "Name: 1, dtype: int64"
      ]
     },
     "execution_count": 78,
     "metadata": {},
     "output_type": "execute_result"
    }
   ],
   "source": [
    "df.loc[1]"
   ]
  },
  {
   "cell_type": "code",
   "execution_count": 80,
   "id": "4cd37094",
   "metadata": {},
   "outputs": [
    {
     "data": {
      "text/plain": [
       "a    100\n",
       "b    200\n",
       "c    300\n",
       "d    400\n",
       "Name: 1, dtype: int64"
      ]
     },
     "execution_count": 80,
     "metadata": {},
     "output_type": "execute_result"
    }
   ],
   "source": [
    "df.iloc[1]"
   ]
  },
  {
   "cell_type": "code",
   "execution_count": 84,
   "id": "e838299c",
   "metadata": {},
   "outputs": [
    {
     "data": {
      "text/plain": [
       "200"
      ]
     },
     "execution_count": 84,
     "metadata": {},
     "output_type": "execute_result"
    }
   ],
   "source": [
    "df.loc[1,'b']"
   ]
  },
  {
   "cell_type": "code",
   "execution_count": 87,
   "id": "9febae3d",
   "metadata": {},
   "outputs": [
    {
     "data": {
      "text/plain": [
       "200"
      ]
     },
     "execution_count": 87,
     "metadata": {},
     "output_type": "execute_result"
    }
   ],
   "source": [
    "df.iloc[1,1]"
   ]
  },
  {
   "cell_type": "code",
   "execution_count": 89,
   "id": "56c4eb76",
   "metadata": {},
   "outputs": [
    {
     "data": {
      "text/html": [
       "<div>\n",
       "<style scoped>\n",
       "    .dataframe tbody tr th:only-of-type {\n",
       "        vertical-align: middle;\n",
       "    }\n",
       "\n",
       "    .dataframe tbody tr th {\n",
       "        vertical-align: top;\n",
       "    }\n",
       "\n",
       "    .dataframe thead th {\n",
       "        text-align: right;\n",
       "    }\n",
       "</style>\n",
       "<table border=\"1\" class=\"dataframe\">\n",
       "  <thead>\n",
       "    <tr style=\"text-align: right;\">\n",
       "      <th></th>\n",
       "      <th>a</th>\n",
       "      <th>b</th>\n",
       "      <th>c</th>\n",
       "      <th>d</th>\n",
       "    </tr>\n",
       "  </thead>\n",
       "  <tbody>\n",
       "    <tr>\n",
       "      <th>0</th>\n",
       "      <td>1</td>\n",
       "      <td>2</td>\n",
       "      <td>3</td>\n",
       "      <td>4</td>\n",
       "    </tr>\n",
       "    <tr>\n",
       "      <th>1</th>\n",
       "      <td>100</td>\n",
       "      <td>200</td>\n",
       "      <td>300</td>\n",
       "      <td>400</td>\n",
       "    </tr>\n",
       "    <tr>\n",
       "      <th>2</th>\n",
       "      <td>1000</td>\n",
       "      <td>2000</td>\n",
       "      <td>3000</td>\n",
       "      <td>4000</td>\n",
       "    </tr>\n",
       "  </tbody>\n",
       "</table>\n",
       "</div>"
      ],
      "text/plain": [
       "      a     b     c     d\n",
       "0     1     2     3     4\n",
       "1   100   200   300   400\n",
       "2  1000  2000  3000  4000"
      ]
     },
     "execution_count": 89,
     "metadata": {},
     "output_type": "execute_result"
    }
   ],
   "source": [
    "df.iloc[:3]"
   ]
  },
  {
   "cell_type": "code",
   "execution_count": 94,
   "id": "6b475c06",
   "metadata": {},
   "outputs": [
    {
     "data": {
      "text/plain": [
       "a    100\n",
       "b    200\n",
       "Name: 1, dtype: int64"
      ]
     },
     "execution_count": 94,
     "metadata": {},
     "output_type": "execute_result"
    }
   ],
   "source": [
    "df.loc[1,'a':'b']"
   ]
  },
  {
   "cell_type": "code",
   "execution_count": 96,
   "id": "5033bb6d",
   "metadata": {},
   "outputs": [
    {
     "data": {
      "text/html": [
       "<div>\n",
       "<style scoped>\n",
       "    .dataframe tbody tr th:only-of-type {\n",
       "        vertical-align: middle;\n",
       "    }\n",
       "\n",
       "    .dataframe tbody tr th {\n",
       "        vertical-align: top;\n",
       "    }\n",
       "\n",
       "    .dataframe thead th {\n",
       "        text-align: right;\n",
       "    }\n",
       "</style>\n",
       "<table border=\"1\" class=\"dataframe\">\n",
       "  <thead>\n",
       "    <tr style=\"text-align: right;\">\n",
       "      <th></th>\n",
       "      <th>a</th>\n",
       "      <th>b</th>\n",
       "      <th>c</th>\n",
       "    </tr>\n",
       "  </thead>\n",
       "  <tbody>\n",
       "    <tr>\n",
       "      <th>1</th>\n",
       "      <td>100</td>\n",
       "      <td>200</td>\n",
       "      <td>300</td>\n",
       "    </tr>\n",
       "    <tr>\n",
       "      <th>2</th>\n",
       "      <td>1000</td>\n",
       "      <td>2000</td>\n",
       "      <td>3000</td>\n",
       "    </tr>\n",
       "  </tbody>\n",
       "</table>\n",
       "</div>"
      ],
      "text/plain": [
       "      a     b     c\n",
       "1   100   200   300\n",
       "2  1000  2000  3000"
      ]
     },
     "execution_count": 96,
     "metadata": {},
     "output_type": "execute_result"
    }
   ],
   "source": [
    "df.iloc[1:3,0:3]"
   ]
  },
  {
   "cell_type": "markdown",
   "id": "4804830a",
   "metadata": {},
   "source": [
    "from_unixtime(BIGINT unixtime,'yyyy-MM-dd')\n",
    "from_unixtime(cast(<字段名>/1000 as bigInt))\n",
    "sum(),row_numbre(),max() over()\n",
    "select *,row_number() over(partition by deptid order by salary desc) rank from employee\n",
    "select *,sum(teacher_gmv) over() as all_gmv,a.teacher_gmv/sum(teacher_gmv) over() as gmv_rate from (\n",
    "select period_num,teacher_id,guide_id,sum(whole_sale) over (partition by teacher_id)as teacher_gmv,\n",
    "    Row_number() over (partition by teacher_id order by teacher_id) row_no \n",
    "    from dms.adm_multidimensional_query\n",
    "    where period_num =137\n",
    ") as a where a.row_no=137"
   ]
  },
  {
   "cell_type": "code",
   "execution_count": 105,
   "id": "67eb27c5",
   "metadata": {},
   "outputs": [],
   "source": [
    "import pandas as pd\n",
    "import numpy as np\n",
    "import xlrd\n",
    "import xlwt\n",
    "#from xlutils.copy import copy\n",
    "data = pd.read_excel('/Users/yanshuo/Downloads/ML模型/关于内部近亲属关系及外部利益冲突全员申报(1).xlsx',sheet_name='员工之间近亲属关系申报')\n",
    "data_1 = pd.read_excel('/Users/yanshuo/Downloads/ML模型/关于内部近亲属关系及外部利益冲突全员申报(1).xlsx')\n",
    "index = len(data_1)\n",
    "# workbook = xlrd.open_workbook('total_found_info_2020-09-05.xlsx')\n",
    "# sheets = workbook.sheet_names()\n",
    "# worksheet = workbook.sheet_by_name('sheet[0]')\n"
   ]
  },
  {
   "cell_type": "code",
   "execution_count": 106,
   "id": "e6e47523",
   "metadata": {},
   "outputs": [
    {
     "name": "stdout",
     "output_type": "stream",
     "text": [
      "8\n"
     ]
    }
   ],
   "source": [
    "print(index)"
   ]
  },
  {
   "cell_type": "code",
   "execution_count": 110,
   "id": "a41e8aaa",
   "metadata": {},
   "outputs": [],
   "source": [
    "# workbook = xlrd.open_workbook('test.xlsx')\n",
    "# sheets = workbook.sheet_names()\n",
    "# worksheet = workbook.sheet_by_name(sheets[0])\n",
    "# rows_old = worksheet.nrows \n",
    "# new_workbook = copy(workbook)\n",
    "# new_worksheet = new_workbook.get_sheet(0)\n",
    "# for i in range(0,index):\n",
    "#     print(i)\n",
    "#     for j in range(0,data_1.shape[1]):\n",
    "#         print(j)\n",
    "#         new_worksheet.write(i+rows_old,j,str(data_1.iloc[i][j]))\n",
    "#         print(j)\n",
    "# new_workbook.save('total.xlsx')"
   ]
  },
  {
   "cell_type": "code",
   "execution_count": 126,
   "id": "3634122b",
   "metadata": {},
   "outputs": [],
   "source": [
    "import matplotlib.pyplot as plt\n",
    "from  sklearn.datasets import load_boston\n",
    "data = load_boston()\n",
    "data = data.data"
   ]
  },
  {
   "cell_type": "code",
   "execution_count": 132,
   "id": "7d082cc2",
   "metadata": {},
   "outputs": [
    {
     "data": {
      "image/png": "[encoded data removed]",
      "text/plain": [
       "<Figure size 432x288 with 1 Axes>"
      ]
     },
     "metadata": {
      "needs_background": "light"
     },
     "output_type": "display_data"
    }
   ],
   "source": [
    "%matplotlib inline\n",
    "plt.scatter(data[:,1],data[:,0])\n",
    "plt.show()"
   ]
  },
  {
   "cell_type": "markdown",
   "id": "6520414d",
   "metadata": {},
   "source": [
    "select data_add(date(now()),interval 1 day)\n",
    "select datediff(date1,date2),timediff(time1,time2)\n",
    "select locate('k',salary),salary from DataAnalyst\n",
    "select left(salary,locate('k',salary)-1),salary from DataAnalyst\n",
    "select left(salary,locate('k',salary)-1) as bottomSalary,\n",
    "substr(salary, locate('-',salary)+1,length(salary)-locate('-',salary)-1) as topSalaly,salary from DataAnalyst\n",
    "where salary not like '%以上%'"
   ]
  },
  {
   "cell_type": "markdown",
   "id": "6cf4b594",
   "metadata": {},
   "source": [
    "select city,workYear,avg(bottomSalary+topSalary)/2) as avgSalary from (\n",
    "select left(salary, locate('k',salary)-1) as bottomSalary, substr(salary,locate('-',salary)+1,length(salary)-locate('-',salary)-1) as topSalary,\n",
    "city, positionId,workYear\n",
    "from DataAnalyst where salary not like '%以上%') as t1\n",
    "group by city,workYear\n",
    "order by city, avgSalary"
   ]
  },
  {
   "cell_type": "markdown",
   "id": "43051d1b",
   "metadata": {},
   "source": [
    "select t.Name as Department,e.Name as Employee,e.Salary as Salary\n",
    "from(\n",
    "    select d.Id,\n",
    "           d.Name as Name,\n",
    "    max(e.Salary) as Salary\n",
    "    from Department d\n",
    "    JOIN Employee e\n",
    "    on e.Department = d.Id\n",
    "    Group by d.Id  \n",
    ")t\n",
    "Join Employee\n",
    "on t.Id = e.Department and e.Salary= t.Salary"
   ]
  },
  {
   "cell_type": "code",
   "execution_count": 135,
   "id": "79246911",
   "metadata": {},
   "outputs": [],
   "source": [
    "# groups = data.groupby('label')\n",
    "# fig,ax = plt.subplots()\n",
    "# for name,group in groups:\n",
    "#     ax.plot(group.x,group.y,marker='o',linestyle='',ms = 8,label=Name)\n",
    "# ax.legend()\n",
    "# plt.xlabel('r')\n",
    "# plt.ylabel('m')\n",
    "# plt.show()\n"
   ]
  },
  {
   "cell_type": "code",
   "execution_count": 143,
   "id": "58cd724a",
   "metadata": {},
   "outputs": [
    {
     "data": {
      "text/html": [
       "<div>\n",
       "<style scoped>\n",
       "    .dataframe tbody tr th:only-of-type {\n",
       "        vertical-align: middle;\n",
       "    }\n",
       "\n",
       "    .dataframe tbody tr th {\n",
       "        vertical-align: top;\n",
       "    }\n",
       "\n",
       "    .dataframe thead th {\n",
       "        text-align: right;\n",
       "    }\n",
       "</style>\n",
       "<table border=\"1\" class=\"dataframe\">\n",
       "  <thead>\n",
       "    <tr style=\"text-align: right;\">\n",
       "      <th></th>\n",
       "      <th>city</th>\n",
       "      <th>companyFullName</th>\n",
       "      <th>companyId</th>\n",
       "      <th>companyLabelList</th>\n",
       "      <th>companyShortName</th>\n",
       "      <th>companySize</th>\n",
       "      <th>businessZones</th>\n",
       "      <th>firstType</th>\n",
       "      <th>secondType</th>\n",
       "      <th>education</th>\n",
       "      <th>industryField</th>\n",
       "      <th>positionId</th>\n",
       "      <th>positionAdvantage</th>\n",
       "      <th>positionName</th>\n",
       "      <th>positionLables</th>\n",
       "      <th>salary</th>\n",
       "      <th>workYear</th>\n",
       "    </tr>\n",
       "  </thead>\n",
       "  <tbody>\n",
       "    <tr>\n",
       "      <th>0</th>\n",
       "      <td>上海</td>\n",
       "      <td>纽海信息技术(上海)有限公司</td>\n",
       "      <td>8581</td>\n",
       "      <td>['技能培训', '节日礼物', '带薪年假', '岗位晋升']</td>\n",
       "      <td>1号店</td>\n",
       "      <td>2000人以上</td>\n",
       "      <td>['张江']</td>\n",
       "      <td>技术</td>\n",
       "      <td>数据开发</td>\n",
       "      <td>硕士</td>\n",
       "      <td>移动互联网</td>\n",
       "      <td>2537336</td>\n",
       "      <td>知名平台</td>\n",
       "      <td>数据分析师</td>\n",
       "      <td>['分析师', '数据分析', '数据挖掘', '数据']</td>\n",
       "      <td>7k-9k</td>\n",
       "      <td>应届毕业生</td>\n",
       "    </tr>\n",
       "    <tr>\n",
       "      <th>1</th>\n",
       "      <td>上海</td>\n",
       "      <td>上海点荣金融信息服务有限责任公司</td>\n",
       "      <td>23177</td>\n",
       "      <td>['节日礼物', '带薪年假', '岗位晋升', '扁平管理']</td>\n",
       "      <td>点融网</td>\n",
       "      <td>500-2000人</td>\n",
       "      <td>['五里桥', '打浦桥', '制造局路']</td>\n",
       "      <td>技术</td>\n",
       "      <td>数据开发</td>\n",
       "      <td>本科</td>\n",
       "      <td>金融</td>\n",
       "      <td>2427485</td>\n",
       "      <td>挑战机会,团队好,与大牛合作,工作环境好</td>\n",
       "      <td>数据分析师-CR2017-SH2909</td>\n",
       "      <td>['分析师', '数据分析', '数据挖掘', '数据']</td>\n",
       "      <td>10k-15k</td>\n",
       "      <td>应届毕业生</td>\n",
       "    </tr>\n",
       "    <tr>\n",
       "      <th>2</th>\n",
       "      <td>上海</td>\n",
       "      <td>上海晶樵网络信息技术有限公司</td>\n",
       "      <td>57561</td>\n",
       "      <td>['技能培训', '绩效奖金', '岗位晋升', '管理规范']</td>\n",
       "      <td>SPD</td>\n",
       "      <td>50-150人</td>\n",
       "      <td>['打浦桥']</td>\n",
       "      <td>设计</td>\n",
       "      <td>数据分析</td>\n",
       "      <td>本科</td>\n",
       "      <td>移动互联网</td>\n",
       "      <td>2511252</td>\n",
       "      <td>时间自由,领导nic</td>\n",
       "      <td>数据分析师</td>\n",
       "      <td>['分析师', '数据分析', '数据']</td>\n",
       "      <td>4k-6k</td>\n",
       "      <td>应届毕业生</td>\n",
       "    </tr>\n",
       "    <tr>\n",
       "      <th>3</th>\n",
       "      <td>上海</td>\n",
       "      <td>杭州数云信息技术有限公司上海分公司</td>\n",
       "      <td>7502</td>\n",
       "      <td>['绩效奖金', '股票期权', '五险一金', '通讯津贴']</td>\n",
       "      <td>数云</td>\n",
       "      <td>150-500人</td>\n",
       "      <td>['龙华', '上海体育场', '万体馆']</td>\n",
       "      <td>市场与销售</td>\n",
       "      <td>数据分析</td>\n",
       "      <td>本科</td>\n",
       "      <td>企业服务,数据服务</td>\n",
       "      <td>2427530</td>\n",
       "      <td>五险一金 绩效奖金 带薪年假 节日福利</td>\n",
       "      <td>大数据业务分析师【数云校招】</td>\n",
       "      <td>['商业', '分析师', '大数据', '数据']</td>\n",
       "      <td>6k-8k</td>\n",
       "      <td>应届毕业生</td>\n",
       "    </tr>\n",
       "    <tr>\n",
       "      <th>4</th>\n",
       "      <td>上海</td>\n",
       "      <td>上海银基富力信息技术有限公司</td>\n",
       "      <td>130876</td>\n",
       "      <td>['年底双薪', '通讯津贴', '定期体检', '绩效奖金']</td>\n",
       "      <td>银基富力</td>\n",
       "      <td>15-50人</td>\n",
       "      <td>['上海影城', '新华路', '虹桥']</td>\n",
       "      <td>技术</td>\n",
       "      <td>软件开发</td>\n",
       "      <td>本科</td>\n",
       "      <td>其他</td>\n",
       "      <td>2245819</td>\n",
       "      <td>在大牛下指导</td>\n",
       "      <td>BI开发/数据分析师</td>\n",
       "      <td>['分析师', '数据分析', '数据', 'BI']</td>\n",
       "      <td>2k-3k</td>\n",
       "      <td>应届毕业生</td>\n",
       "    </tr>\n",
       "  </tbody>\n",
       "</table>\n",
       "</div>"
      ],
      "text/plain": [
       "  city    companyFullName  ...   salary workYear\n",
       "0   上海     纽海信息技术(上海)有限公司  ...    7k-9k    应届毕业生\n",
       "1   上海   上海点荣金融信息服务有限责任公司  ...  10k-15k    应届毕业生\n",
       "2   上海     上海晶樵网络信息技术有限公司  ...    4k-6k    应届毕业生\n",
       "3   上海  杭州数云信息技术有限公司上海分公司  ...    6k-8k    应届毕业生\n",
       "4   上海     上海银基富力信息技术有限公司  ...    2k-3k    应届毕业生\n",
       "\n",
       "[5 rows x 17 columns]"
      ]
     },
     "execution_count": 143,
     "metadata": {},
     "output_type": "execute_result"
    }
   ],
   "source": [
    "data = pd.read_csv('DataAnalyst.csv',encoding='gb2312')\n",
    "data.head()"
   ]
  },
  {
   "cell_type": "code",
   "execution_count": null,
   "id": "4f55ecb5",
   "metadata": {},
   "outputs": [],
   "source": [
    "data.plot.hist(alpha=0.5,bins=20)\n",
    "plt.hist(data[data.city=='上海'].avg,10,normed=1,facecolor='green',alpha=0.5)\n",
    "plt.hist(data[data.city=='北京'].avg,10,normed=1,facecolor='red',alpha=0.5)\n"
   ]
  }
 ],
 "metadata": {
  "kernelspec": {
   "display_name": "Python 3",
   "language": "python",
   "name": "python3"
  },
  "language_info": {
   "codemirror_mode": {
    "name": "ipython",
    "version": 3
   },
   "file_extension": ".py",
   "mimetype": "text/x-python",
   "name": "python",
   "nbconvert_exporter": "python",
   "pygments_lexer": "ipython3",
   "version": "3.7.10"
  }
 },
 "nbformat": 4,
 "nbformat_minor": 5
}
