{
 "cells": [
  {
   "cell_type": "code",
   "execution_count": 2,
   "id": "d6e491a3",
   "metadata": {},
   "outputs": [
    {
     "name": "stdout",
     "output_type": "stream",
     "text": [
      "1.20.3\n"
     ]
    }
   ],
   "source": [
    "import numpy as np\n",
    "print(np.__version__)"
   ]
  },
  {
   "cell_type": "code",
   "execution_count": 4,
   "id": "1c1d8fdc",
   "metadata": {},
   "outputs": [
    {
     "data": {
      "text/plain": [
       "array([1, 2, 3, 4])"
      ]
     },
     "execution_count": 4,
     "metadata": {},
     "output_type": "execute_result"
    }
   ],
   "source": [
    "np.array([1,2,3,4])\n"
   ]
  },
  {
   "cell_type": "code",
   "execution_count": 5,
   "id": "b9fdd142",
   "metadata": {},
   "outputs": [
    {
     "data": {
      "text/plain": [
       "array([[ True,  True,  True],\n",
       "       [ True,  True,  True],\n",
       "       [ True,  True,  True]])"
      ]
     },
     "execution_count": 5,
     "metadata": {},
     "output_type": "execute_result"
    }
   ],
   "source": [
    "np.full((3,3),True,dtype=bool)"
   ]
  },
  {
   "cell_type": "code",
   "execution_count": 8,
   "id": "df230b9c",
   "metadata": {},
   "outputs": [
    {
     "data": {
      "text/plain": [
       "array([1, 3, 5, 7, 9])"
      ]
     },
     "execution_count": 8,
     "metadata": {},
     "output_type": "execute_result"
    }
   ],
   "source": [
    "arr=np.arange(10)\n",
    "arr[arr%2==1]"
   ]
  },
  {
   "cell_type": "code",
   "execution_count": 12,
   "id": "d763c269",
   "metadata": {},
   "outputs": [
    {
     "data": {
      "text/plain": [
       "array([ 0, -1,  2, -1,  4, -1,  6, -1,  8, -1])"
      ]
     },
     "execution_count": 12,
     "metadata": {},
     "output_type": "execute_result"
    }
   ],
   "source": [
    "arr_1 = np.arange(10)\n",
    "arr_1[arr_1%2==1]=-1\n",
    "arr_1"
   ]
  },
  {
   "cell_type": "code",
   "execution_count": 14,
   "id": "9722da39",
   "metadata": {},
   "outputs": [
    {
     "name": "stdout",
     "output_type": "stream",
     "text": [
      "[0 1 2 3 4 5 6 7 8 9]\n"
     ]
    },
    {
     "data": {
      "text/plain": [
       "array([ 0, -1,  2, -1,  4, -1,  6, -1,  8, -1])"
      ]
     },
     "execution_count": 14,
     "metadata": {},
     "output_type": "execute_result"
    }
   ],
   "source": [
    "arr = np.arange(10)\n",
    "out = np.where(arr%2==1,-1,arr)\n",
    "print(arr)\n",
    "out"
   ]
  },
  {
   "cell_type": "code",
   "execution_count": 17,
   "id": "b37b8025",
   "metadata": {},
   "outputs": [
    {
     "data": {
      "text/plain": [
       "array([[0, 1, 2, 3, 4],\n",
       "       [5, 6, 7, 8, 9]])"
      ]
     },
     "execution_count": 17,
     "metadata": {},
     "output_type": "execute_result"
    }
   ],
   "source": [
    "arr.reshape(2,-1)"
   ]
  },
  {
   "cell_type": "code",
   "execution_count": 23,
   "id": "ad6d45e3",
   "metadata": {},
   "outputs": [
    {
     "data": {
      "text/plain": [
       "(array([[0, 1, 2, 3, 4],\n",
       "        [5, 6, 7, 8, 9],\n",
       "        [1, 1, 1, 1, 1],\n",
       "        [1, 1, 1, 1, 1]]),\n",
       " array([[0, 1, 2, 3, 4],\n",
       "        [5, 6, 7, 8, 9],\n",
       "        [1, 1, 1, 1, 1],\n",
       "        [1, 1, 1, 1, 1]]),\n",
       " array([[0, 1, 2, 3, 4],\n",
       "        [5, 6, 7, 8, 9],\n",
       "        [1, 1, 1, 1, 1],\n",
       "        [1, 1, 1, 1, 1]]))"
      ]
     },
     "execution_count": 23,
     "metadata": {},
     "output_type": "execute_result"
    }
   ],
   "source": [
    "a = np.arange(10).reshape(2,-1)\n",
    "b = np.repeat(1,10).reshape(2,-1)\n",
    "np.vstack([a,b]),np.concatenate([a,b],axis=0),np.r_[a,b]"
   ]
  },
  {
   "cell_type": "code",
   "execution_count": 25,
   "id": "0e6ab071",
   "metadata": {},
   "outputs": [
    {
     "data": {
      "text/plain": [
       "(array([[0, 1, 2, 3, 4, 1, 1, 1, 1, 1],\n",
       "        [5, 6, 7, 8, 9, 1, 1, 1, 1, 1]]),\n",
       " array([[0, 1, 2, 3, 4, 1, 1, 1, 1, 1],\n",
       "        [5, 6, 7, 8, 9, 1, 1, 1, 1, 1]]),\n",
       " array([[0, 1, 2, 3, 4, 1, 1, 1, 1, 1],\n",
       "        [5, 6, 7, 8, 9, 1, 1, 1, 1, 1]]))"
      ]
     },
     "execution_count": 25,
     "metadata": {},
     "output_type": "execute_result"
    }
   ],
   "source": [
    "np.hstack([a,b]),np.concatenate([a,b],axis=1),np.c_[a,b]"
   ]
  },
  {
   "cell_type": "code",
   "execution_count": 28,
   "id": "e03f1a3c",
   "metadata": {},
   "outputs": [
    {
     "data": {
      "text/plain": [
       "array([1, 1, 1, 2, 2, 2, 3, 3, 3, 1, 2, 3, 1, 2, 3, 1, 2, 3])"
      ]
     },
     "execution_count": 28,
     "metadata": {},
     "output_type": "execute_result"
    }
   ],
   "source": [
    "a = np.array([1,2,3])\n",
    "np.r_[np.repeat(a,3),np.tile(a,3)]"
   ]
  },
  {
   "cell_type": "code",
   "execution_count": 39,
   "id": "66ea95ae",
   "metadata": {},
   "outputs": [],
   "source": [
    "a = np.array([1,2,3,4,5,6,6,7,8,9,9])\n",
    "b = np.array([7,2,10,2,7,4,9,8])\n",
    "c = np.intersect1d(a,b)\n"
   ]
  },
  {
   "cell_type": "code",
   "execution_count": 35,
   "id": "85f62124",
   "metadata": {},
   "outputs": [
    {
     "data": {
      "text/plain": [
       "array([1, 3, 5, 6])"
      ]
     },
     "execution_count": 35,
     "metadata": {},
     "output_type": "execute_result"
    }
   ],
   "source": [
    "np.setdiff1d(a,c)"
   ]
  },
  {
   "cell_type": "code",
   "execution_count": 44,
   "id": "712f23e9",
   "metadata": {},
   "outputs": [
    {
     "data": {
      "text/plain": [
       "(array([1, 3, 5, 7]),)"
      ]
     },
     "execution_count": 44,
     "metadata": {},
     "output_type": "execute_result"
    }
   ],
   "source": [
    "a = np.array([1,2,3,2,3,4,3,4,5,6])\n",
    "b = np.array([7,2,10,2,7,4,9,4,9,10])\n",
    "np.where(a == b)"
   ]
  },
  {
   "cell_type": "code",
   "execution_count": 46,
   "id": "fa1f9895",
   "metadata": {},
   "outputs": [
    {
     "data": {
      "text/plain": [
       "array([5, 6])"
      ]
     },
     "execution_count": 46,
     "metadata": {},
     "output_type": "execute_result"
    }
   ],
   "source": [
    "index = np.where((a>=5)&(a<=10))\n",
    "a[index]"
   ]
  },
  {
   "cell_type": "code",
   "execution_count": 49,
   "id": "9f9b5cbe",
   "metadata": {},
   "outputs": [
    {
     "data": {
      "text/plain": [
       "array([5, 6])"
      ]
     },
     "execution_count": 49,
     "metadata": {},
     "output_type": "execute_result"
    }
   ],
   "source": [
    "index = np.where(np.logical_and(a>=5,a<=10))\n",
    "a[index]"
   ]
  },
  {
   "cell_type": "code",
   "execution_count": 51,
   "id": "8439c72d",
   "metadata": {},
   "outputs": [
    {
     "data": {
      "text/plain": [
       "array([5, 6])"
      ]
     },
     "execution_count": 51,
     "metadata": {},
     "output_type": "execute_result"
    }
   ],
   "source": [
    "a[(a>=5)&(a<=10)]"
   ]
  },
  {
   "cell_type": "code",
   "execution_count": 54,
   "id": "eee91a52",
   "metadata": {},
   "outputs": [
    {
     "name": "stdout",
     "output_type": "stream",
     "text": [
      "[1 3 5 7 9] [ 1  5  9 13 17]\n"
     ]
    },
    {
     "data": {
      "text/plain": [
       "array([ 1.,  5.,  9., 13., 17.])"
      ]
     },
     "execution_count": 54,
     "metadata": {},
     "output_type": "execute_result"
    }
   ],
   "source": [
    "def maxx(x,y):\n",
    "    if x>=y:\n",
    "        return x\n",
    "    else:\n",
    "        return y\n",
    "    \n",
    "a = np.arange(1,10,2)\n",
    "b = np.arange(1,20,4)\n",
    "print(a,b)\n",
    "pair_max = np.vectorize(maxx,otypes=[float])\n",
    "pair_max(a,b)\n"
   ]
  },
  {
   "cell_type": "code",
   "execution_count": 57,
   "id": "19cfb5d1",
   "metadata": {},
   "outputs": [
    {
     "data": {
      "text/plain": [
       "array([[0, 1, 2],\n",
       "       [3, 4, 5],\n",
       "       [6, 7, 8]])"
      ]
     },
     "execution_count": 57,
     "metadata": {},
     "output_type": "execute_result"
    }
   ],
   "source": [
    "arr = np.arange(9).reshape(3,3)\n",
    "arr"
   ]
  },
  {
   "cell_type": "code",
   "execution_count": 61,
   "id": "a8ea35a7",
   "metadata": {},
   "outputs": [
    {
     "data": {
      "text/plain": [
       "array([[1, 0, 2],\n",
       "       [4, 3, 5],\n",
       "       [7, 6, 8]])"
      ]
     },
     "execution_count": 61,
     "metadata": {},
     "output_type": "execute_result"
    }
   ],
   "source": [
    "arr[:,[1,0,2]]"
   ]
  },
  {
   "cell_type": "code",
   "execution_count": 64,
   "id": "442fa43c",
   "metadata": {},
   "outputs": [
    {
     "data": {
      "text/plain": [
       "array([[3, 4, 5],\n",
       "       [0, 1, 2],\n",
       "       [6, 7, 8]])"
      ]
     },
     "execution_count": 64,
     "metadata": {},
     "output_type": "execute_result"
    }
   ],
   "source": [
    "arr[[1,0,2],:]"
   ]
  },
  {
   "cell_type": "code",
   "execution_count": 67,
   "id": "6a845950",
   "metadata": {},
   "outputs": [
    {
     "data": {
      "text/plain": [
       "array([[6, 7, 8],\n",
       "       [3, 4, 5],\n",
       "       [0, 1, 2]])"
      ]
     },
     "execution_count": 67,
     "metadata": {},
     "output_type": "execute_result"
    }
   ],
   "source": [
    "arr[::-1]"
   ]
  },
  {
   "cell_type": "code",
   "execution_count": 70,
   "id": "1ae1b574",
   "metadata": {},
   "outputs": [
    {
     "data": {
      "text/plain": [
       "array([[2, 1, 0],\n",
       "       [5, 4, 3],\n",
       "       [8, 7, 6]])"
      ]
     },
     "execution_count": 70,
     "metadata": {},
     "output_type": "execute_result"
    }
   ],
   "source": [
    "arr[:,::-1]"
   ]
  },
  {
   "cell_type": "code",
   "execution_count": 77,
   "id": "32e9978c",
   "metadata": {},
   "outputs": [
    {
     "data": {
      "text/plain": [
       "array([[7.28710235, 7.56420456, 8.81275296],\n",
       "       [8.60435264, 8.29209066, 8.80332706],\n",
       "       [6.9996048 , 8.43685478, 7.44228248],\n",
       "       [5.4458943 , 6.88663173, 6.24665371],\n",
       "       [7.17839238, 9.25552805, 6.39575558]])"
      ]
     },
     "execution_count": 77,
     "metadata": {},
     "output_type": "execute_result"
    }
   ],
   "source": [
    "np.random.randint(5,10,size=(5,3))+np.random.random((5,3))"
   ]
  },
  {
   "cell_type": "code",
   "execution_count": 79,
   "id": "c801eec3",
   "metadata": {},
   "outputs": [
    {
     "data": {
      "text/plain": [
       "array([[7.19938273, 7.43763482, 9.93625887],\n",
       "       [6.19699866, 6.51983942, 7.34547726],\n",
       "       [8.36369635, 9.63285827, 9.24602833],\n",
       "       [7.63254336, 7.55596454, 7.21924369],\n",
       "       [7.2711361 , 5.78280897, 5.61187528]])"
      ]
     },
     "execution_count": 79,
     "metadata": {},
     "output_type": "execute_result"
    }
   ],
   "source": [
    "np.random.uniform(5,10,size=(5,3))\n"
   ]
  },
  {
   "cell_type": "code",
   "execution_count": 81,
   "id": "edd122f2",
   "metadata": {},
   "outputs": [
    {
     "data": {
      "text/plain": [
       "array([[5.205, 5.781, 6.613],\n",
       "       [7.072, 8.848, 6.762],\n",
       "       [8.62 , 7.712, 5.929],\n",
       "       [7.385, 5.397, 7.514],\n",
       "       [8.179, 9.11 , 5.788]])"
      ]
     },
     "execution_count": 81,
     "metadata": {},
     "output_type": "execute_result"
    }
   ],
   "source": [
    "np.set_printoptions(precision=3)\n",
    "np.random.uniform(5,10,size=(5,3))"
   ]
  },
  {
   "cell_type": "code",
   "execution_count": 82,
   "id": "649bed88",
   "metadata": {},
   "outputs": [],
   "source": [
    "np.random.seed(100)\n",
    "rand_arr = np.random.random([3,3])/1e3"
   ]
  },
  {
   "cell_type": "code",
   "execution_count": 84,
   "id": "408b76b4",
   "metadata": {},
   "outputs": [
    {
     "data": {
      "text/plain": [
       "array([[5.434e-04, 2.784e-04, 4.245e-04],\n",
       "       [8.448e-04, 4.719e-06, 1.216e-04],\n",
       "       [6.707e-04, 8.259e-04, 1.367e-04]])"
      ]
     },
     "execution_count": 84,
     "metadata": {},
     "output_type": "execute_result"
    }
   ],
   "source": [
    "rand_arr"
   ]
  },
  {
   "cell_type": "code",
   "execution_count": 86,
   "id": "d2167c7b",
   "metadata": {},
   "outputs": [
    {
     "data": {
      "text/plain": [
       "array([[0.000543, 0.000278, 0.000425],\n",
       "       [0.000845, 0.000005, 0.000122],\n",
       "       [0.000671, 0.000826, 0.000137]])"
      ]
     },
     "execution_count": 86,
     "metadata": {},
     "output_type": "execute_result"
    }
   ],
   "source": [
    "np.set_printoptions(suppress=True,precision=6)\n",
    "rand_arr"
   ]
  },
  {
   "cell_type": "code",
   "execution_count": 87,
   "id": "b759fea4",
   "metadata": {},
   "outputs": [
    {
     "data": {
      "text/plain": [
       "array([ 0,  1,  2, ..., 97, 98, 99])"
      ]
     },
     "execution_count": 87,
     "metadata": {},
     "output_type": "execute_result"
    }
   ],
   "source": [
    "np.set_printoptions(threshold=6)\n",
    "np.arange(100)"
   ]
  },
  {
   "cell_type": "code",
   "execution_count": 94,
   "id": "256cba8b",
   "metadata": {},
   "outputs": [
    {
     "data": {
      "text/plain": [
       "array([0, 1, 2, 3, 4, 5, 6, 7, 8, 9])"
      ]
     },
     "execution_count": 94,
     "metadata": {},
     "output_type": "execute_result"
    }
   ],
   "source": [
    "import sys\n",
    "np.set_printoptions(threshold=sys.maxsize)\n",
    "np.arange(10)"
   ]
  },
  {
   "cell_type": "code",
   "execution_count": 96,
   "id": "608faa4a",
   "metadata": {},
   "outputs": [
    {
     "data": {
      "text/plain": [
       "array([[b'5.1', b'3.5', b'1.4', b'0.2', b'Iris-setosa'],\n",
       "       [b'4.9', b'3.0', b'1.4', b'0.2', b'Iris-setosa'],\n",
       "       [b'4.7', b'3.2', b'1.3', b'0.2', b'Iris-setosa']], dtype=object)"
      ]
     },
     "execution_count": 96,
     "metadata": {},
     "output_type": "execute_result"
    }
   ],
   "source": [
    "url = 'https://archive.ics.uci.edu/ml/machine-learning-databases/iris/iris.data'\n",
    "iris = np.genfromtxt(url,delimiter=',',dtype='object')\n",
    "names=('sepallength', 'sepalwidth', 'petallength', 'petalwidth', 'species')\n",
    "iris[:3]"
   ]
  },
  {
   "cell_type": "code",
   "execution_count": 97,
   "id": "cca33ef6",
   "metadata": {},
   "outputs": [
    {
     "name": "stderr",
     "output_type": "stream",
     "text": [
      "/Users/yanshuo/opt/anaconda3/lib/python3.7/site-packages/ipykernel_launcher.py:1: VisibleDeprecationWarning: Reading unicode strings without specifying the encoding argument is deprecated. Set the encoding, use None for the system default.\n",
      "  \"\"\"Entry point for launching an IPython kernel.\n"
     ]
    },
    {
     "data": {
      "text/plain": [
       "array([(5.1, 3.5, 1.4, 0.2, b'Iris-setosa'),\n",
       "       (4.9, 3. , 1.4, 0.2, b'Iris-setosa')],\n",
       "      dtype=[('f0', '<f8'), ('f1', '<f8'), ('f2', '<f8'), ('f3', '<f8'), ('f4', 'S15')])"
      ]
     },
     "execution_count": 97,
     "metadata": {},
     "output_type": "execute_result"
    }
   ],
   "source": [
    "iris_1d = np.genfromtxt(url,delimiter=',',dtype=None)\n",
    "iris_1d[:2]"
   ]
  },
  {
   "cell_type": "code",
   "execution_count": 100,
   "id": "26bb76ab",
   "metadata": {},
   "outputs": [
    {
     "data": {
      "text/plain": [
       "array([b'Iris-setosa', b'Iris-setosa', b'Iris-setosa', ...,\n",
       "       b'Iris-virginica', b'Iris-virginica', b'Iris-virginica'],\n",
       "      dtype='|S15')"
      ]
     },
     "execution_count": 100,
     "metadata": {},
     "output_type": "execute_result"
    }
   ],
   "source": [
    "np.set_printoptions(threshold=6)\n",
    "np.array([row[4] for row in iris_1d])"
   ]
  },
  {
   "cell_type": "code",
   "execution_count": 102,
   "id": "0439af37",
   "metadata": {},
   "outputs": [
    {
     "name": "stderr",
     "output_type": "stream",
     "text": [
      "/Users/yanshuo/opt/anaconda3/lib/python3.7/site-packages/ipykernel_launcher.py:2: VisibleDeprecationWarning: Reading unicode strings without specifying the encoding argument is deprecated. Set the encoding, use None for the system default.\n",
      "  \n"
     ]
    },
    {
     "data": {
      "text/plain": [
       "array([[5.1, 3.5, 1.4, 0.2],\n",
       "       [4.9, 3. , 1.4, 0.2],\n",
       "       [4.7, 3.2, 1.3, 0.2],\n",
       "       [4.6, 3.1, 1.5, 0.2]])"
      ]
     },
     "execution_count": 102,
     "metadata": {},
     "output_type": "execute_result"
    }
   ],
   "source": [
    "url = 'https://archive.ics.uci.edu/ml/machine-learning-databases/iris/iris.data'\n",
    "iris_1d = np.genfromtxt(url,delimiter=',',dtype=None)\n",
    "iris_2d = np.array([row.tolist()[:4] for row in iris_1d])\n",
    "iris_2d[:4]"
   ]
  },
  {
   "cell_type": "code",
   "execution_count": 107,
   "id": "91a0def7",
   "metadata": {},
   "outputs": [],
   "source": [
    "sepallength = np.genfromtxt(url,delimiter=',',dtype='float',usecols=[0])"
   ]
  },
  {
   "cell_type": "code",
   "execution_count": 109,
   "id": "f5e7219c",
   "metadata": {},
   "outputs": [
    {
     "data": {
      "text/plain": [
       "(5.843333333333334, 0.8253012917851409, 5.8)"
      ]
     },
     "execution_count": 109,
     "metadata": {},
     "output_type": "execute_result"
    }
   ],
   "source": [
    "np.mean(sepallength),np.std(sepallength),np.median(sepallength)"
   ]
  },
  {
   "cell_type": "code",
   "execution_count": 113,
   "id": "679d1754",
   "metadata": {},
   "outputs": [
    {
     "data": {
      "text/plain": [
       "array([0.222222, 0.166667, 0.111111, ..., 0.611111, 0.527778, 0.444444])"
      ]
     },
     "execution_count": 113,
     "metadata": {},
     "output_type": "execute_result"
    }
   ],
   "source": [
    "max_s = sepallength.max()\n",
    "min_s = sepallength.min()\n",
    "S = (sepallength-min_s)/(max_s-min_s)\n",
    "S"
   ]
  },
  {
   "cell_type": "code",
   "execution_count": 116,
   "id": "01073d81",
   "metadata": {},
   "outputs": [
    {
     "data": {
      "text/plain": [
       "array([0.222222, 0.166667, 0.111111, ..., 0.611111, 0.527778, 0.444444])"
      ]
     },
     "execution_count": 116,
     "metadata": {},
     "output_type": "execute_result"
    }
   ],
   "source": [
    "S = (sepallength-min_s)/sepallength.ptp()\n",
    "S"
   ]
  },
  {
   "cell_type": "code",
   "execution_count": 119,
   "id": "302a12eb",
   "metadata": {},
   "outputs": [
    {
     "name": "stdout",
     "output_type": "stream",
     "text": [
      "[0.00222  0.001817 0.001488 ... 0.009001 0.006668 0.00494 ]\n"
     ]
    }
   ],
   "source": [
    "url = 'https://archive.ics.uci.edu/ml/machine-learning-databases/iris/iris.data'\n",
    "iris = np.genfromtxt(url,delimiter=',',dtype='object')\n",
    "sepallength = np.array([float(row[0]) for row in iris])\n",
    "def softmax(x):\n",
    "    ex = np.exp(x-np.max(x))\n",
    "    return ex/ex.sum(axis=0)\n",
    "print(softmax(sepallength))"
   ]
  },
  {
   "cell_type": "code",
   "execution_count": 121,
   "id": "5877aed3",
   "metadata": {},
   "outputs": [],
   "source": [
    "sepallength = np.genfromtxt(url,delimiter=',',dtype='float',usecols=[0])\n"
   ]
  },
  {
   "cell_type": "code",
   "execution_count": 123,
   "id": "de6e8983",
   "metadata": {},
   "outputs": [
    {
     "data": {
      "text/plain": [
       "array([4.6  , 7.255])"
      ]
     },
     "execution_count": 123,
     "metadata": {},
     "output_type": "execute_result"
    }
   ],
   "source": [
    "np.percentile(sepallength,q=[5,95])"
   ]
  },
  {
   "cell_type": "code",
   "execution_count": 125,
   "id": "f854a7a7",
   "metadata": {},
   "outputs": [
    {
     "data": {
      "text/plain": [
       "array([[b'5.1', b'3.5', b'1.4', b'0.2', b'Iris-setosa'],\n",
       "       [b'4.9', b'3.0', b'1.4', b'0.2', b'Iris-setosa']], dtype=object)"
      ]
     },
     "execution_count": 125,
     "metadata": {},
     "output_type": "execute_result"
    }
   ],
   "source": [
    "iris_2d = np.genfromtxt(url,delimiter=',',dtype='object')\n",
    "iris_2d[:2]"
   ]
  },
  {
   "cell_type": "code",
   "execution_count": 129,
   "id": "ff35cf70",
   "metadata": {},
   "outputs": [],
   "source": [
    "i,j = np.where(iris_2d)"
   ]
  },
  {
   "cell_type": "code",
   "execution_count": 133,
   "id": "2cebcad9",
   "metadata": {},
   "outputs": [],
   "source": [
    "np.random.seed(100)\n",
    "iris[np.random.randint(150,size=20),np.random.randint(4,size=20)]=np.nan"
   ]
  },
  {
   "cell_type": "code",
   "execution_count": 149,
   "id": "b0e3963f",
   "metadata": {},
   "outputs": [
    {
     "name": "stdout",
     "output_type": "stream",
     "text": [
      "4\n",
      "(array([14, 34, 79, 87]),)\n"
     ]
    }
   ],
   "source": [
    "iris_2d = np.genfromtxt(url,delimiter=',',dtype='float',usecols=[0,1,2,3])\n",
    "np.random.seed(100)\n",
    "iris_2d[np.random.randint(150,size=20),np.random.randint(4,size=20)] = np.nan\n",
    "print(np.isnan(iris_2d[:,0]).sum())\n",
    "print(np.where(np.isnan(iris_2d[:,0])))"
   ]
  },
  {
   "cell_type": "code",
   "execution_count": 150,
   "id": "79b06b5b",
   "metadata": {},
   "outputs": [],
   "source": [
    "iris_2d = np.genfromtxt(url,delimiter=',',dtype='float',usecols=[0,1,2,3])\n",
    "iris_2d[np.random.randint(150, size=20), np.random.randint(4, size=20)] = np.nan\n"
   ]
  },
  {
   "cell_type": "code",
   "execution_count": 152,
   "id": "d3c5517b",
   "metadata": {},
   "outputs": [
    {
     "data": {
      "text/plain": [
       "array([[5.1, 3.5, 1.4, 0.2],\n",
       "       [4.9, 3. , 1.4, 0.2],\n",
       "       [4.6, 3.1, 1.5, 0.2],\n",
       "       [5. , 3.6, 1.4, 0.2],\n",
       "       [5.4, 3.9, 1.7, 0.4]])"
      ]
     },
     "execution_count": 152,
     "metadata": {},
     "output_type": "execute_result"
    }
   ],
   "source": [
    "any_none = np.array([~np.any(np.isnan(row)) for row in iris_2d])\n",
    "iris_2d[any_none][:5]"
   ]
  },
  {
   "cell_type": "code",
   "execution_count": 154,
   "id": "87a1163b",
   "metadata": {},
   "outputs": [
    {
     "data": {
      "text/plain": [
       "array([[5.1, 3.5, 1.4, 0.2],\n",
       "       [4.9, 3. , 1.4, 0.2],\n",
       "       [4.6, 3.1, 1.5, 0.2],\n",
       "       [5. , 3.6, 1.4, 0.2]])"
      ]
     },
     "execution_count": 154,
     "metadata": {},
     "output_type": "execute_result"
    }
   ],
   "source": [
    "iris_2d[np.sum(np.isnan(iris_2d),axis=1)==0][:4]"
   ]
  },
  {
   "cell_type": "code",
   "execution_count": 156,
   "id": "9b286446",
   "metadata": {},
   "outputs": [
    {
     "data": {
      "text/plain": [
       "array([[1.      , 0.871754],\n",
       "       [0.871754, 1.      ]])"
      ]
     },
     "execution_count": 156,
     "metadata": {},
     "output_type": "execute_result"
    }
   ],
   "source": [
    "iris_2d = np.genfromtxt(url,delimiter=',',dtype='float',usecols=[0,1,2,3])\n",
    "\n",
    "np.corrcoef(iris_2d[:,0],iris_2d[:,2])"
   ]
  },
  {
   "cell_type": "code",
   "execution_count": 158,
   "id": "2090fe7c",
   "metadata": {},
   "outputs": [
    {
     "name": "stdout",
     "output_type": "stream",
     "text": [
      "0.8717541573048713\n"
     ]
    }
   ],
   "source": [
    "from scipy.stats.stats import pearsonr\n",
    "corr,p_value = pearsonr(iris_2d[:,0],iris_2d[:,2])\n",
    "print(corr)"
   ]
  },
  {
   "cell_type": "code",
   "execution_count": 160,
   "id": "9d634827",
   "metadata": {},
   "outputs": [
    {
     "data": {
      "text/plain": [
       "(0.8717541573048713, 1.0384540627941062e-47)"
      ]
     },
     "execution_count": 160,
     "metadata": {},
     "output_type": "execute_result"
    }
   ],
   "source": [
    "from scipy.stats.stats import pearsonr\n",
    "corr,p_vlaue = pearsonr(iris_2d[:,0],iris_2d[:,2])\n",
    "corr,p_value"
   ]
  },
  {
   "cell_type": "code",
   "execution_count": 169,
   "id": "be030b9a",
   "metadata": {},
   "outputs": [
    {
     "data": {
      "text/plain": [
       "10"
      ]
     },
     "execution_count": 169,
     "metadata": {},
     "output_type": "execute_result"
    }
   ],
   "source": [
    "a = list(range(100))\n",
    "a = sorted(a)\n",
    "len_a = len(a)\n",
    "a[int(len_a/100*10)]\n"
   ]
  },
  {
   "cell_type": "code",
   "execution_count": 173,
   "id": "bba3bc0a",
   "metadata": {},
   "outputs": [
    {
     "data": {
      "text/plain": [
       "20"
      ]
     },
     "execution_count": 173,
     "metadata": {},
     "output_type": "execute_result"
    }
   ],
   "source": [
    "iris_2d = np.genfromtxt(url,delimiter=',',dtype='float',usecols=[0,1,2,3])\n",
    "iris_2d[np.random.randint(150, size=20), np.random.randint(4, size=20)] = np.nan\n",
    "np.isnan(iris_2d).sum()"
   ]
  },
  {
   "cell_type": "code",
   "execution_count": 175,
   "id": "5f5e9e7a",
   "metadata": {},
   "outputs": [],
   "source": [
    "iris_2d[np.isnan(iris_2d)]=0"
   ]
  },
  {
   "cell_type": "code",
   "execution_count": 178,
   "id": "9671f65c",
   "metadata": {},
   "outputs": [
    {
     "data": {
      "text/plain": [
       "(array([b'Iris-setosa', b'Iris-versicolor', b'Iris-virginica'],\n",
       "       dtype=object),\n",
       " array([50, 50, 50]))"
      ]
     },
     "execution_count": 178,
     "metadata": {},
     "output_type": "execute_result"
    }
   ],
   "source": [
    "species = np.genfromtxt(url,delimiter=',',dtype='object',usecols=[4])\n",
    "np.unique(species,return_counts=True)"
   ]
  },
  {
   "cell_type": "code",
   "execution_count": 183,
   "id": "f20652ed",
   "metadata": {},
   "outputs": [
    {
     "data": {
      "text/plain": [
       "['large', 'large', 'large', 'large']"
      ]
     },
     "execution_count": 183,
     "metadata": {},
     "output_type": "execute_result"
    }
   ],
   "source": [
    "petallength = np.genfromtxt(url,delimiter=',',dtype='float',usecols=[2])\n",
    "bins = [0,3,5]\n",
    "petallength_label = np.digitize(petallength,bins)\n",
    "label_map = {1:'small',2:'medium',3:'large',4:np.nan}\n",
    "petallength_label_re = [label_map[x] for x in petallength_label]\n",
    "petallength_label_re[-4:]"
   ]
  },
  {
   "cell_type": "code",
   "execution_count": 187,
   "id": "9529653b",
   "metadata": {},
   "outputs": [
    {
     "data": {
      "text/plain": [
       "array([[  5.1     ,   3.5     ,   1.4     ,   0.2     ,        nan,\n",
       "         38.132652],\n",
       "       [  4.9     ,   3.      ,   1.4     ,   0.2     ,        nan,\n",
       "         35.200498],\n",
       "       [  4.7     ,   3.2     ,   1.3     ,   0.2     ,        nan,\n",
       "         30.072372],\n",
       "       ...,\n",
       "       [  6.5     ,   3.      ,   5.2     ,   2.      ,        nan,\n",
       "        230.069302],\n",
       "       [  6.2     ,   3.4     ,   5.4     ,   2.3     ,        nan,\n",
       "        217.373079],\n",
       "       [  5.9     ,   3.      ,   5.1     ,   1.8     ,        nan,\n",
       "        185.910028]])"
      ]
     },
     "execution_count": 187,
     "metadata": {},
     "output_type": "execute_result"
    }
   ],
   "source": [
    "iris_2d = np.genfromtxt(url,delimiter=',',dtype='float')\n",
    "sepallength = iris_2d[:,0]\n",
    "petallength = iris_2d[:,2]\n",
    "volums = (np.pi*petallength*(sepallength**2))/3\n",
    "volums = volums.reshape(len(iris_2d),-1)\n",
    "np.hstack([iris_2d,volums])"
   ]
  },
  {
   "cell_type": "code",
   "execution_count": 189,
   "id": "3710023d",
   "metadata": {},
   "outputs": [
    {
     "data": {
      "text/plain": [
       "array([b'Iris-setosa', b'Iris-versicolor', b'Iris-virginica'],\n",
       "      dtype=object)"
      ]
     },
     "execution_count": 189,
     "metadata": {},
     "output_type": "execute_result"
    }
   ],
   "source": [
    "np.unique(species)"
   ]
  },
  {
   "cell_type": "code",
   "execution_count": 191,
   "id": "23e5fdf0",
   "metadata": {},
   "outputs": [],
   "source": [
    "a = np.array(['Iris-setosa', 'Iris-versicolor', 'Iris-virginica'])\n",
    "speciese_out = np.random.choice(a,p=[0.5,0.25,0.25])"
   ]
  },
  {
   "cell_type": "code",
   "execution_count": 193,
   "id": "21bfac8b",
   "metadata": {},
   "outputs": [],
   "source": [
    "np.random.seed(100)\n",
    "probs = np.r_[np.linspace(0,0.5,num=50),np.linspace(0.5,0.75,num=25),np.linspace(0.75,1,num=25)]\n",
    "index = np.searchsorted(probs,np.random.random(150))\n",
    "speciese_out=species[index]"
   ]
  },
  {
   "cell_type": "code",
   "execution_count": 199,
   "id": "fed5f8da",
   "metadata": {},
   "outputs": [
    {
     "data": {
      "text/plain": [
       "(array([80]),)"
      ]
     },
     "execution_count": 199,
     "metadata": {},
     "output_type": "execute_result"
    }
   ],
   "source": [
    "b = np.argsort(sepallength)\n",
    "np.where(b==149)"
   ]
  },
  {
   "cell_type": "code",
   "execution_count": 200,
   "id": "6b9ca1e2",
   "metadata": {},
   "outputs": [],
   "source": [
    "iris = np.genfromtxt(url, delimiter=',', dtype='object')\n"
   ]
  },
  {
   "cell_type": "code",
   "execution_count": 202,
   "id": "c7261daf",
   "metadata": {},
   "outputs": [],
   "source": [
    "petal_len_sortosa = iris[iris[:,4]==b'Iris-setosa',[2]].astype('float')\n",
    "petal_len_sortosa = np.unique(np.sort(petal_len_sortosa))"
   ]
  },
  {
   "cell_type": "code",
   "execution_count": 205,
   "id": "482be2bc",
   "metadata": {},
   "outputs": [
    {
     "data": {
      "text/plain": [
       "1.7"
      ]
     },
     "execution_count": 205,
     "metadata": {},
     "output_type": "execute_result"
    }
   ],
   "source": [
    "petal_len_sortosa[-2]"
   ]
  },
  {
   "cell_type": "code",
   "execution_count": 207,
   "id": "d29f485c",
   "metadata": {},
   "outputs": [
    {
     "data": {
      "text/plain": [
       "array([[b'4.3', b'3.0', b'1.1', b'0.1', b'Iris-setosa'],\n",
       "       [b'4.4', b'3.2', b'1.3', b'0.2', b'Iris-setosa'],\n",
       "       [b'4.4', b'3.0', b'1.3', b'0.2', b'Iris-setosa'],\n",
       "       ...,\n",
       "       [b'4.9', b'2.5', b'4.5', b'1.7', b'Iris-virginica'],\n",
       "       [b'4.9', b'3.1', b'1.5', b'0.1', b'Iris-setosa'],\n",
       "       [b'4.9', b'3.1', b'1.5', b'0.1', b'Iris-setosa']], dtype=object)"
      ]
     },
     "execution_count": 207,
     "metadata": {},
     "output_type": "execute_result"
    }
   ],
   "source": [
    "iris[iris[:,0].argsort()][:20]"
   ]
  },
  {
   "cell_type": "code",
   "execution_count": 212,
   "id": "ebdc77db",
   "metadata": {},
   "outputs": [
    {
     "data": {
      "text/plain": [
       "1.5"
      ]
     },
     "execution_count": 212,
     "metadata": {},
     "output_type": "execute_result"
    }
   ],
   "source": [
    "petallength = np.genfromtxt(url,delimiter=',',dtype='float',usecols=[2])\n",
    "\n",
    "val, counts = np.unique(petallength,return_counts=True)\n",
    "val[np.argmax(counts)]"
   ]
  },
  {
   "cell_type": "code",
   "execution_count": 214,
   "id": "2e7d5fbd",
   "metadata": {},
   "outputs": [
    {
     "data": {
      "text/plain": [
       "array([50])"
      ]
     },
     "execution_count": 214,
     "metadata": {},
     "output_type": "execute_result"
    }
   ],
   "source": [
    "petalwidth = np.genfromtxt(url,delimiter=',',dtype='float',usecols=[3])\n",
    "np.argwhere(petalwidth>1.0)[0]"
   ]
  },
  {
   "cell_type": "code",
   "execution_count": 216,
   "id": "d66590ea",
   "metadata": {},
   "outputs": [
    {
     "data": {
      "text/plain": [
       "array([27.626842, 14.6401  , 21.801362, ..., 10.      , 30.      ,\n",
       "       14.429614])"
      ]
     },
     "execution_count": 216,
     "metadata": {},
     "output_type": "execute_result"
    }
   ],
   "source": [
    "np.random.seed(100)\n",
    "a = np.random.uniform(1,50,20)\n",
    "np.clip(a,a_min=10,a_max=30)"
   ]
  },
  {
   "cell_type": "code",
   "execution_count": 218,
   "id": "0aae9f12",
   "metadata": {},
   "outputs": [
    {
     "data": {
      "text/plain": [
       "array([27.626842, 14.6401  , 21.801362, ..., 10.      , 30.      ,\n",
       "       14.429614])"
      ]
     },
     "execution_count": 218,
     "metadata": {},
     "output_type": "execute_result"
    }
   ],
   "source": [
    "np.where(a<10,10,np.where(a>30,30,a))"
   ]
  },
  {
   "cell_type": "code",
   "execution_count": 222,
   "id": "e97b2336",
   "metadata": {},
   "outputs": [
    {
     "name": "stdout",
     "output_type": "stream",
     "text": [
      "[ 4 13  5 ...  3 10 15]\n"
     ]
    }
   ],
   "source": [
    "np.random.seed(100)\n",
    "a = np.random.uniform(1,50,20)\n",
    "print(a.argsort())\n"
   ]
  },
  {
   "cell_type": "code",
   "execution_count": 228,
   "id": "4f1b0354",
   "metadata": {},
   "outputs": [
    {
     "data": {
      "text/plain": [
       "array([27.626842, 14.6401  , 21.801362, 42.39403 ,  1.231224,  6.956887,\n",
       "       33.866705, 41.466785,  7.698623, 29.179573, 44.674776, 11.250904,\n",
       "       10.081083,  6.310468, 11.765177, 48.952565, 40.772474,  9.42511 ,\n",
       "       40.995013, 14.429614])"
      ]
     },
     "execution_count": 228,
     "metadata": {},
     "output_type": "execute_result"
    }
   ],
   "source": [
    "np.set_printoptions(threshold=sys.maxsize)\n",
    "a"
   ]
  },
  {
   "cell_type": "code",
   "execution_count": 229,
   "id": "00b8c4ce",
   "metadata": {},
   "outputs": [
    {
     "data": {
      "text/plain": [
       "array([ 4, 13,  5,  8, 17, 12, 11, 14, 19,  1,  2,  0,  9,  6, 16, 18,  7,\n",
       "        3, 10, 15])"
      ]
     },
     "execution_count": 229,
     "metadata": {},
     "output_type": "execute_result"
    }
   ],
   "source": [
    "a.argsort()"
   ]
  },
  {
   "cell_type": "code",
   "execution_count": 232,
   "id": "8902470d",
   "metadata": {},
   "outputs": [
    {
     "data": {
      "text/plain": [
       "array([48.952565, 44.674776, 42.39403 , 41.466785, 40.995013])"
      ]
     },
     "execution_count": 232,
     "metadata": {},
     "output_type": "execute_result"
    }
   ],
   "source": [
    "a[np.argpartition(-a,5)[:5]]"
   ]
  },
  {
   "cell_type": "code",
   "execution_count": 236,
   "id": "27652ce9",
   "metadata": {},
   "outputs": [
    {
     "data": {
      "text/plain": [
       "array([11.250904, 14.429614, 21.801362,  9.42511 ,  1.231224,  6.956887,\n",
       "       11.765177,  6.310468,  7.698623, 14.6401  , 10.081083, 27.626842,\n",
       "       40.772474, 33.866705, 29.179573, 40.995013, 41.466785, 42.39403 ,\n",
       "       44.674776, 48.952565])"
      ]
     },
     "execution_count": 236,
     "metadata": {},
     "output_type": "execute_result"
    }
   ],
   "source": [
    "np.partition(a,kth=-5)"
   ]
  },
  {
   "cell_type": "code",
   "execution_count": 238,
   "id": "5a341bad",
   "metadata": {},
   "outputs": [
    {
     "data": {
      "text/plain": [
       "array([ 1.231224,  6.310468,  6.956887,  7.698623,  9.42511 , 10.081083,\n",
       "       11.250904, 11.765177, 14.429614, 14.6401  , 21.801362, 27.626842,\n",
       "       29.179573, 33.866705, 40.772474, 40.995013, 41.466785, 42.39403 ,\n",
       "       44.674776, 48.952565])"
      ]
     },
     "execution_count": 238,
     "metadata": {},
     "output_type": "execute_result"
    }
   ],
   "source": [
    "np.sort(a)"
   ]
  },
  {
   "cell_type": "code",
   "execution_count": 247,
   "id": "dd15d644",
   "metadata": {
    "scrolled": true
   },
   "outputs": [
    {
     "data": {
      "text/plain": [
       "array([ 1,  2,  3,  4,  5,  6,  7,  8,  9, 10])"
      ]
     },
     "execution_count": 247,
     "metadata": {},
     "output_type": "execute_result"
    }
   ],
   "source": [
    "np.random.seed(100)\n",
    "arr = np.random.randint(1,11,size=(6,10))\n",
    "np.unique(arr)"
   ]
  },
  {
   "cell_type": "code",
   "execution_count": 248,
   "id": "8137d568",
   "metadata": {},
   "outputs": [],
   "source": [
    "def counts_of_all_values_rowwise(arr2d):\n",
    "    num_counts_array = [np.unique(row,return_counts=True) for row in arr2d]\n",
    "    return ([[int(b[a==i]) if i in a else 0 for i in np.unique(arr)] for a,b in num_counts_array])\n"
   ]
  },
  {
   "cell_type": "code",
   "execution_count": 250,
   "id": "bad7f452",
   "metadata": {},
   "outputs": [
    {
     "name": "stdout",
     "output_type": "stream",
     "text": [
      "[ 1  2  3  4  5  6  7  8  9 10]\n"
     ]
    },
    {
     "data": {
      "text/plain": [
       "[[1, 0, 2, 1, 1, 1, 0, 2, 2, 0],\n",
       " [2, 1, 3, 0, 1, 0, 1, 0, 1, 1],\n",
       " [0, 3, 0, 2, 3, 1, 0, 1, 0, 0],\n",
       " [1, 0, 2, 1, 0, 1, 0, 2, 1, 2],\n",
       " [2, 2, 2, 0, 0, 1, 1, 1, 1, 0],\n",
       " [1, 1, 1, 1, 1, 2, 0, 0, 2, 1]]"
      ]
     },
     "execution_count": 250,
     "metadata": {},
     "output_type": "execute_result"
    }
   ],
   "source": [
    "print(np.arange(1,11))\n",
    "counts_of_all_values_rowwise(arr)"
   ]
  },
  {
   "cell_type": "code",
   "execution_count": 255,
   "id": "c46329f5",
   "metadata": {},
   "outputs": [
    {
     "name": "stderr",
     "output_type": "stream",
     "text": [
      "/Users/yanshuo/opt/anaconda3/lib/python3.7/site-packages/ipykernel_launcher.py:4: VisibleDeprecationWarning: Creating an ndarray from ragged nested sequences (which is a list-or-tuple of lists-or-tuples-or ndarrays with different lengths or shapes) is deprecated. If you meant to do this, you must specify 'dtype=object' when creating the ndarray.\n",
      "  after removing the cwd from sys.path.\n"
     ]
    },
    {
     "data": {
      "text/plain": [
       "array([0, 1, 2, 3, 4, 5, 6, 7, 8, 9])"
      ]
     },
     "execution_count": 255,
     "metadata": {},
     "output_type": "execute_result"
    }
   ],
   "source": [
    "arr1 = np.arange(3)\n",
    "arr2 = np.arange(3,7)\n",
    "arr3 = np.arange(7,10)\n",
    "array_of_arrays = np.array([arr1,arr2,arr3])\n",
    "np.array([a for arr in array_of_arrays for a in arr])"
   ]
  },
  {
   "cell_type": "code",
   "execution_count": 258,
   "id": "4c6cd9d7",
   "metadata": {},
   "outputs": [
    {
     "data": {
      "text/plain": [
       "array([0, 1, 2, 3, 4, 5, 6, 7, 8, 9])"
      ]
     },
     "execution_count": 258,
     "metadata": {},
     "output_type": "execute_result"
    }
   ],
   "source": [
    "arr = np.concatenate(array_of_arrays)\n",
    "arr"
   ]
  },
  {
   "cell_type": "code",
   "execution_count": 260,
   "id": "d874f493",
   "metadata": {},
   "outputs": [
    {
     "data": {
      "text/plain": [
       "array([2, 3, 2, 2, 2, 1])"
      ]
     },
     "execution_count": 260,
     "metadata": {},
     "output_type": "execute_result"
    }
   ],
   "source": [
    "np.random.seed(101)\n",
    "arr = np.random.randint(1,4,size=6)\n",
    "arr"
   ]
  },
  {
   "cell_type": "code",
   "execution_count": 265,
   "id": "27316b4d",
   "metadata": {},
   "outputs": [
    {
     "data": {
      "text/plain": [
       "[[0, 1, 0], [0, 0, 1], [0, 1, 0], [0, 1, 0], [0, 1, 0], [1, 0, 0]]"
      ]
     },
     "execution_count": 265,
     "metadata": {},
     "output_type": "execute_result"
    }
   ],
   "source": [
    "arr = arr.reshape(6,-1)\n",
    "np.unique(arr,return_counts=True)\n",
    "def one_hot_code(arr):\n",
    "    num_counts_array = [np.unique(row,return_counts=True) for row in arr]\n",
    "    return ([[1 if i in a else 0 for i in np.unique(arr)] for a,b in num_counts_array])\n",
    "\n",
    "one_hot_code(arr)"
   ]
  },
  {
   "cell_type": "code",
   "execution_count": 264,
   "id": "b26076d9",
   "metadata": {},
   "outputs": [
    {
     "data": {
      "text/plain": [
       "[(array([2]), array([1])),\n",
       " (array([3]), array([1])),\n",
       " (array([2]), array([1])),\n",
       " (array([2]), array([1])),\n",
       " (array([2]), array([1])),\n",
       " (array([1]), array([1]))]"
      ]
     },
     "execution_count": 264,
     "metadata": {},
     "output_type": "execute_result"
    }
   ],
   "source": [
    "[np.unique(row,return_counts=True) for row in arr]"
   ]
  },
  {
   "cell_type": "code",
   "execution_count": 267,
   "id": "5087dc33",
   "metadata": {},
   "outputs": [
    {
     "data": {
      "text/plain": [
       "array([[0., 1., 0.],\n",
       "       [0., 0., 1.],\n",
       "       [0., 1., 0.],\n",
       "       [0., 1., 0.],\n",
       "       [0., 1., 0.],\n",
       "       [1., 0., 0.]])"
      ]
     },
     "execution_count": 267,
     "metadata": {},
     "output_type": "execute_result"
    }
   ],
   "source": [
    "def one_hot_encodings(arr):\n",
    "    uniqs = np.unique(arr)\n",
    "    out = np.zeros((arr.shape[0],uniqs.shape[0]))\n",
    "    for i,k in enumerate(arr):\n",
    "        out[i,k-1]=1\n",
    "    return out\n",
    "one_hot_encodings(arr)"
   ]
  },
  {
   "cell_type": "code",
   "execution_count": 269,
   "id": "2f9ea100",
   "metadata": {},
   "outputs": [
    {
     "data": {
      "text/plain": [
       "array([[[0, 1, 0]],\n",
       "\n",
       "       [[0, 0, 1]],\n",
       "\n",
       "       [[0, 1, 0]],\n",
       "\n",
       "       [[0, 1, 0]],\n",
       "\n",
       "       [[0, 1, 0]],\n",
       "\n",
       "       [[1, 0, 0]]], dtype=int8)"
      ]
     },
     "execution_count": 269,
     "metadata": {},
     "output_type": "execute_result"
    }
   ],
   "source": [
    "(arr[:, None] == np.unique(arr)).view(np.int8)\n"
   ]
  },
  {
   "cell_type": "code",
   "execution_count": 271,
   "id": "4ea2bb1a",
   "metadata": {},
   "outputs": [
    {
     "data": {
      "text/plain": [
       "array([b'Iris-setosa', b'Iris-setosa', b'Iris-setosa', b'Iris-versicolor',\n",
       "       b'Iris-versicolor', b'Iris-versicolor', b'Iris-versicolor',\n",
       "       b'Iris-versicolor', b'Iris-versicolor', b'Iris-versicolor',\n",
       "       b'Iris-versicolor', b'Iris-versicolor', b'Iris-versicolor',\n",
       "       b'Iris-virginica', b'Iris-virginica', b'Iris-virginica',\n",
       "       b'Iris-virginica', b'Iris-virginica', b'Iris-virginica',\n",
       "       b'Iris-virginica'], dtype=object)"
      ]
     },
     "execution_count": 271,
     "metadata": {},
     "output_type": "execute_result"
    }
   ],
   "source": [
    "specis = np.genfromtxt(url,delimiter=',',dtype='str',usecols=4)\n",
    "species = np.sort(np.random.choice(species,size=20))\n",
    "species"
   ]
  },
  {
   "cell_type": "code",
   "execution_count": 273,
   "id": "419c9f4a",
   "metadata": {},
   "outputs": [
    {
     "data": {
      "text/plain": [
       "[0, 1, 2, 0, 1, 2, 3, 4, 5, 6, 7, 8, 9, 0, 1, 2, 3, 4, 5, 6]"
      ]
     },
     "execution_count": 273,
     "metadata": {},
     "output_type": "execute_result"
    }
   ],
   "source": [
    "[i for val in np.unique(species) for i,gap in enumerate(species[species==val])]"
   ]
  },
  {
   "cell_type": "code",
   "execution_count": 283,
   "id": "7195979b",
   "metadata": {},
   "outputs": [
    {
     "data": {
      "text/plain": [
       "[0, 0, 0, 1, 1, 1, 1, 1, 1, 1, 1, 1, 1, 2, 2, 2, 2, 2, 2, 2]"
      ]
     },
     "execution_count": 283,
     "metadata": {},
     "output_type": "execute_result"
    }
   ],
   "source": [
    "[np.argwhere(np.unique(species)==gap).tolist()[0][0] for val in np.unique(species) for gap in species[species==val]]"
   ]
  },
  {
   "cell_type": "code",
   "execution_count": 292,
   "id": "9a1cd3e6",
   "metadata": {},
   "outputs": [
    {
     "name": "stdout",
     "output_type": "stream",
     "text": [
      "[ 9  4 15  0 17 16 17  8  9  0]\n",
      "[3 9 1 7 0 8 2 5 4 6]\n"
     ]
    },
    {
     "data": {
      "text/plain": [
       "array([4, 2, 6, 0, 8, 7, 9, 3, 5, 1])"
      ]
     },
     "execution_count": 292,
     "metadata": {},
     "output_type": "execute_result"
    }
   ],
   "source": [
    "np.random.seed(10)\n",
    "a = np.random.randint(20,size=10)\n",
    "print(a)\n",
    "print(a.argsort())\n",
    "a.argsort().argsort()"
   ]
  },
  {
   "cell_type": "code",
   "execution_count": 287,
   "id": "9d4075bf",
   "metadata": {},
   "outputs": [
    {
     "data": {
      "text/plain": [
       "(array([b'Iris-setosa', b'Iris-versicolor', b'Iris-virginica'],\n",
       "       dtype=object),\n",
       " array([ 3, 10,  7]))"
      ]
     },
     "execution_count": 287,
     "metadata": {},
     "output_type": "execute_result"
    }
   ],
   "source": [
    "np.unique(species,return_counts=True)"
   ]
  },
  {
   "cell_type": "code",
   "execution_count": 288,
   "id": "718b17f8",
   "metadata": {},
   "outputs": [
    {
     "name": "stdout",
     "output_type": "stream",
     "text": [
      "[[10  8  4 19 16]\n",
      " [ 4 15 11 11  1]]\n"
     ]
    }
   ],
   "source": [
    "a = np.random.randint(20,size=[2,5])\n",
    "print(a)\n"
   ]
  },
  {
   "cell_type": "code",
   "execution_count": 291,
   "id": "67a47ded",
   "metadata": {},
   "outputs": [
    {
     "name": "stdout",
     "output_type": "stream",
     "text": [
      "[[4 3 1 9 8]\n",
      " [2 7 5 6 0]]\n"
     ]
    }
   ],
   "source": [
    "print(a.ravel().argsort().argsort().reshape(a.shape))"
   ]
  },
  {
   "cell_type": "code",
   "execution_count": 296,
   "id": "9af711fb",
   "metadata": {},
   "outputs": [
    {
     "data": {
      "text/plain": [
       "(array([[9, 9, 4],\n",
       "        [8, 8, 1],\n",
       "        [5, 3, 6],\n",
       "        [3, 3, 3],\n",
       "        [2, 1, 9]]),\n",
       " array([[1, 0, 2],\n",
       "        [0, 1, 2],\n",
       "        [1, 0, 2],\n",
       "        [2, 0, 1],\n",
       "        [2, 0, 1]]))"
      ]
     },
     "execution_count": 296,
     "metadata": {},
     "output_type": "execute_result"
    }
   ],
   "source": [
    "np.random.seed(100)\n",
    "a = np.random.randint(1,10, [5,3])\n",
    "a, a.argsort()[::-1]\n"
   ]
  },
  {
   "cell_type": "code",
   "execution_count": 298,
   "id": "57343082",
   "metadata": {},
   "outputs": [
    {
     "data": {
      "text/plain": [
       "array([9, 8, 6, 3, 9])"
      ]
     },
     "execution_count": 298,
     "metadata": {},
     "output_type": "execute_result"
    }
   ],
   "source": [
    "np.amax(a,axis=1)"
   ]
  },
  {
   "cell_type": "code",
   "execution_count": 299,
   "id": "4563b2e4",
   "metadata": {},
   "outputs": [
    {
     "data": {
      "text/plain": [
       "array([9, 8, 6, 3, 9])"
      ]
     },
     "execution_count": 299,
     "metadata": {},
     "output_type": "execute_result"
    }
   ],
   "source": [
    "np.apply_along_axis(np.max,arr=a,axis=1)"
   ]
  },
  {
   "cell_type": "code",
   "execution_count": 301,
   "id": "4ca9d0d8",
   "metadata": {},
   "outputs": [
    {
     "data": {
      "text/plain": [
       "array([0.444444, 0.125   , 0.5     , 1.      , 0.111111])"
      ]
     },
     "execution_count": 301,
     "metadata": {},
     "output_type": "execute_result"
    }
   ],
   "source": [
    "np.apply_along_axis(lambda x:np.min(x)/np.max(x),arr=a,axis=1)"
   ]
  },
  {
   "cell_type": "code",
   "execution_count": 310,
   "id": "a71087b2",
   "metadata": {},
   "outputs": [
    {
     "data": {
      "text/plain": [
       "[False, True, True, False, True, True, True, True, False, False]"
      ]
     },
     "execution_count": 310,
     "metadata": {},
     "output_type": "execute_result"
    }
   ],
   "source": [
    "np.random.seed(100)\n",
    "a = np.random.randint(0, 5, 10)\n",
    "b = [i for val in np.unique(a) for i,v in enumerate(a[a==val])]\n",
    "\n",
    "[False if i==0 else True for i in b]"
   ]
  },
  {
   "cell_type": "code",
   "execution_count": 308,
   "id": "2b731a52",
   "metadata": {},
   "outputs": [
    {
     "data": {
      "text/plain": [
       "array([0, 4, 2, 5])"
      ]
     },
     "execution_count": 308,
     "metadata": {},
     "output_type": "execute_result"
    }
   ],
   "source": [
    "np.unique(a, return_index=True)[1]"
   ]
  },
  {
   "cell_type": "code",
   "execution_count": 311,
   "id": "d7aa2867",
   "metadata": {},
   "outputs": [
    {
     "data": {
      "text/plain": [
       "array([0, 0, 3, 0, 2, 4, 2, 2, 2, 2])"
      ]
     },
     "execution_count": 311,
     "metadata": {},
     "output_type": "execute_result"
    }
   ],
   "source": [
    "a"
   ]
  },
  {
   "cell_type": "code",
   "execution_count": 313,
   "id": "8be46b1c",
   "metadata": {},
   "outputs": [],
   "source": [
    "from sklearn.linear_model import LogisticRegression\n",
    "lr = LogisticRegression()"
   ]
  },
  {
   "cell_type": "code",
   "execution_count": 314,
   "id": "1ef807fa",
   "metadata": {},
   "outputs": [
    {
     "data": {
      "text/plain": [
       "(array([0, 2, 3, 4]), array([0, 4, 2, 5]))"
      ]
     },
     "execution_count": 314,
     "metadata": {},
     "output_type": "execute_result"
    }
   ],
   "source": [
    "np.unique(a,return_index=True)"
   ]
  },
  {
   "cell_type": "code",
   "execution_count": 317,
   "id": "894cafbd",
   "metadata": {},
   "outputs": [
    {
     "data": {
      "text/plain": [
       "array([False,  True, False,  True, False, False,  True,  True,  True,\n",
       "        True])"
      ]
     },
     "execution_count": 317,
     "metadata": {},
     "output_type": "execute_result"
    }
   ],
   "source": [
    "out = np.full(a.shape[0],True)\n",
    "uniuqe_positions = np.unique(a,return_index=True)[1]\n",
    "out[uniuqe_positions]=False\n",
    "out"
   ]
  },
  {
   "cell_type": "code",
   "execution_count": 318,
   "id": "a4ebfd5e",
   "metadata": {},
   "outputs": [],
   "source": [
    "iris = np.genfromtxt(url,delimiter=',',dtype='object')\n"
   ]
  },
  {
   "cell_type": "code",
   "execution_count": 323,
   "id": "6c471f86",
   "metadata": {},
   "outputs": [
    {
     "data": {
      "text/plain": [
       "[[b'Iris-setosa', 3.42], [b'Iris-versicolor', 2.77], [b'Iris-virginica', 2.97]]"
      ]
     },
     "execution_count": 323,
     "metadata": {},
     "output_type": "execute_result"
    }
   ],
   "source": [
    "numeric_column = iris[:,1].astype('float')\n",
    "grouping_column = iris[:,4]\n",
    "[[group_val, round(numeric_column[grouping_column==group_val].mean(),2)] for group_val in np.unique(grouping_column)]\n"
   ]
  },
  {
   "cell_type": "code",
   "execution_count": 325,
   "id": "c31a6709",
   "metadata": {},
   "outputs": [],
   "source": [
    "from io import BytesIO\n",
    "from PIL import Image\n",
    "import PIL,requests\n",
    "url = 'https://upload.wikimedia.org/wikipedia/commons/8/8b/Denali_Mt_McKinley.jpg'\n",
    "response = requests.get(url)\n"
   ]
  },
  {
   "cell_type": "code",
   "execution_count": 326,
   "id": "f6a08722",
   "metadata": {},
   "outputs": [],
   "source": [
    "from io import BytesIO\n",
    "from PIL import Image\n",
    "import PIL,requests\n",
    "response = requests.get(url)"
   ]
  },
  {
   "cell_type": "code",
   "execution_count": 329,
   "id": "4628ffdf",
   "metadata": {},
   "outputs": [],
   "source": [
    "from io import BytesIO\n",
    "from PIL import Image\n",
    "import PIL, requests\n",
    "\n",
    "URL = 'https://upload.wikimedia.org/wikipedia/commons/8/8b/Denali_Mt_McKinley.jpg'\n",
    "response = requests.get(URL)"
   ]
  },
  {
   "cell_type": "code",
   "execution_count": 330,
   "id": "89ed2884",
   "metadata": {},
   "outputs": [],
   "source": [
    "I = Image.open(BytesIO(response.content))"
   ]
  },
  {
   "cell_type": "code",
   "execution_count": 334,
   "id": "d3b0c542",
   "metadata": {
    "scrolled": true
   },
   "outputs": [],
   "source": [
    "I = I.resize([150,150])\n",
    "arr = np.asarray(I)\n"
   ]
  },
  {
   "cell_type": "code",
   "execution_count": 332,
   "id": "865ac169",
   "metadata": {},
   "outputs": [],
   "source": [
    "arr = np.asarray(I)\n",
    "im = PIL.Image.fromarray(np.uint8(arr))\n",
    "Image.Image.show(im)"
   ]
  },
  {
   "cell_type": "code",
   "execution_count": 336,
   "id": "9c9b3594",
   "metadata": {},
   "outputs": [
    {
     "data": {
      "text/plain": [
       "array([1., 2., 3., 5., 6., 7.])"
      ]
     },
     "execution_count": 336,
     "metadata": {},
     "output_type": "execute_result"
    }
   ],
   "source": [
    "a = np.array([1,2,3,np.nan,5,6,7,np.nan])\n",
    "a[~np.isnan(a)]"
   ]
  },
  {
   "cell_type": "code",
   "execution_count": 337,
   "id": "6f177f08",
   "metadata": {},
   "outputs": [],
   "source": [
    "a = np.array([1,2,3,4,5])\n",
    "b = np.array([4,5,6,7,8])"
   ]
  },
  {
   "cell_type": "code",
   "execution_count": 343,
   "id": "04b19d19",
   "metadata": {},
   "outputs": [
    {
     "data": {
      "text/plain": [
       "6.708203932499369"
      ]
     },
     "execution_count": 343,
     "metadata": {},
     "output_type": "execute_result"
    }
   ],
   "source": [
    "np.linalg.norm(a-b)"
   ]
  },
  {
   "cell_type": "code",
   "execution_count": 344,
   "id": "607eedf1",
   "metadata": {},
   "outputs": [
    {
     "data": {
      "text/plain": [
       "6.708203932499369"
      ]
     },
     "execution_count": 344,
     "metadata": {},
     "output_type": "execute_result"
    }
   ],
   "source": [
    "np.sqrt(((a-b)**2).sum())"
   ]
  },
  {
   "cell_type": "code",
   "execution_count": 347,
   "id": "d169a650",
   "metadata": {},
   "outputs": [
    {
     "data": {
      "text/plain": [
       "array([ 5,  8, 11, 14, 17, 20, 23, 26, 29, 32])"
      ]
     },
     "execution_count": 347,
     "metadata": {},
     "output_type": "execute_result"
    }
   ],
   "source": [
    "length = 10\n",
    "start = 5\n",
    "step = 3\n",
    "np.arange(start,start+length*step,step)"
   ]
  },
  {
   "cell_type": "code",
   "execution_count": 350,
   "id": "393699b1",
   "metadata": {},
   "outputs": [
    {
     "name": "stdout",
     "output_type": "stream",
     "text": [
      "[[ 0  1  2  3]\n",
      " [ 2  3  4  5]\n",
      " [ 4  5  6  7]\n",
      " [ 6  7  8  9]\n",
      " [ 8  9 10 11]\n",
      " [10 11 12 13]]\n"
     ]
    }
   ],
   "source": [
    "def gen_strides(a,stride_len=5,window_len=5):\n",
    "    n_strides = ((a.size-window_len)//stride_len)+1\n",
    "    return np.array([a[s:(s+window_len)] for s in np.arange(0,n_strides*stride_len,stride_len)])\n",
    "print(gen_strides(np.arange(15),stride_len=2,window_len=4))"
   ]
  },
  {
   "cell_type": "code",
   "execution_count": 354,
   "id": "a2761bec",
   "metadata": {},
   "outputs": [
    {
     "name": "stdout",
     "output_type": "stream",
     "text": [
      "array [8 8 3 7 7 0 4 2 5 2]\n"
     ]
    },
    {
     "data": {
      "text/plain": [
       "array([6.333333, 6.      , 5.666667, 4.666667, 3.666667, 2.      ,\n",
       "       3.666667, 3.      ])"
      ]
     },
     "execution_count": 354,
     "metadata": {},
     "output_type": "execute_result"
    }
   ],
   "source": [
    "def moving_average(a,n=3):\n",
    "    ret = np.cumsum(a,dtype=float)\n",
    "    ret[n:] = ret[n:]-ret[:-n]\n",
    "    return ret[n-1:]/n\n",
    "np.random.seed(100)\n",
    "Z = np.random.randint(10,size=10)\n",
    "print('array',Z)\n",
    "moving_average(Z,3)"
   ]
  },
  {
   "cell_type": "code",
   "execution_count": 355,
   "id": "d69f93ea",
   "metadata": {},
   "outputs": [
    {
     "data": {
      "text/plain": [
       "array([ 2,  4, -6,  1,  4, -6,  1])"
      ]
     },
     "execution_count": 355,
     "metadata": {},
     "output_type": "execute_result"
    }
   ],
   "source": [
    "a = np.array([1, 3, 7, 1, 2, 6, 0, 1])\n",
    "np.diff(a)"
   ]
  },
  {
   "cell_type": "code",
   "execution_count": 361,
   "id": "51cb4831",
   "metadata": {},
   "outputs": [
    {
     "data": {
      "text/plain": [
       "array([2, 5])"
      ]
     },
     "execution_count": 361,
     "metadata": {},
     "output_type": "execute_result"
    }
   ],
   "source": [
    "np.sign(np.diff(a))\n",
    "doublediff = np.diff(np.sign(np.diff(a)))\n",
    "peak_locations = np.where(doublediff==-2)[0]+1\n",
    "peak_locations"
   ]
  },
  {
   "cell_type": "code",
   "execution_count": 363,
   "id": "1946b233",
   "metadata": {},
   "outputs": [
    {
     "name": "stdout",
     "output_type": "stream",
     "text": [
      "[[2 2 2]\n",
      " [2 2 2]\n",
      " [2 2 2]]\n"
     ]
    }
   ],
   "source": [
    "a_2d = np.array([[3,3,3],[4,4,4],[5,5,5]])\n",
    "b_1d = np.array([1,2,3])\n",
    "print(a_2d-b_1d[:,None])"
   ]
  },
  {
   "cell_type": "code",
   "execution_count": 365,
   "id": "f1193918",
   "metadata": {},
   "outputs": [],
   "source": [
    "dt64 = np.datetime64('2018-02-25 22:10:10')"
   ]
  },
  {
   "cell_type": "code",
   "execution_count": 372,
   "id": "27395bda",
   "metadata": {},
   "outputs": [
    {
     "data": {
      "text/plain": [
       "datetime.datetime(2018, 2, 25, 22, 10, 10)"
      ]
     },
     "execution_count": 372,
     "metadata": {},
     "output_type": "execute_result"
    }
   ],
   "source": [
    "dt64.tolist()"
   ]
  },
  {
   "cell_type": "code",
   "execution_count": 369,
   "id": "45c6130f",
   "metadata": {},
   "outputs": [
    {
     "data": {
      "text/plain": [
       "datetime.datetime(2018, 2, 25, 22, 10, 10)"
      ]
     },
     "execution_count": 369,
     "metadata": {},
     "output_type": "execute_result"
    }
   ],
   "source": [
    "from datetime import datetime\n",
    "dt64.astype(datetime)"
   ]
  },
  {
   "cell_type": "code",
   "execution_count": 375,
   "id": "5d2d4327",
   "metadata": {},
   "outputs": [
    {
     "name": "stdout",
     "output_type": "stream",
     "text": [
      "['2018-02-01' '2018-02-03' '2018-02-05' '2018-02-07' '2018-02-09'\n",
      " '2018-02-11' '2018-02-13' '2018-02-15' '2018-02-17' '2018-02-19'\n",
      " '2018-02-21' '2018-02-23']\n"
     ]
    }
   ],
   "source": [
    "dates = np.arange(np.datetime64('2018-02-01'),np.datetime64('2018-02-25'),2)\n",
    "print(dates)"
   ]
  },
  {
   "cell_type": "code",
   "execution_count": 380,
   "id": "5076126f",
   "metadata": {},
   "outputs": [
    {
     "data": {
      "text/plain": [
       "array(['2018-02-01', '2018-02-02', '2018-02-03', '2018-02-04',\n",
       "       '2018-02-05', '2018-02-06', '2018-02-07', '2018-02-08',\n",
       "       '2018-02-09', '2018-02-10', '2018-02-11', '2018-02-12',\n",
       "       '2018-02-13', '2018-02-14', '2018-02-15', '2018-02-16',\n",
       "       '2018-02-17', '2018-02-18', '2018-02-19', '2018-02-20',\n",
       "       '2018-02-21', '2018-02-22', '2018-02-23'], dtype='datetime64[D]')"
      ]
     },
     "execution_count": 380,
     "metadata": {},
     "output_type": "execute_result"
    }
   ],
   "source": [
    "filled_in = np.array([np.arange(date,(date+d)) for date,d in zip(dates,np.diff(dates))]).reshape(-1)\n",
    "output = np.hstack([filled_in,dates[-1]])\n",
    "output"
   ]
  },
  {
   "cell_type": "code",
   "execution_count": null,
   "id": "3974c618",
   "metadata": {},
   "outputs": [],
   "source": []
  }
 ],
 "metadata": {
  "kernelspec": {
   "display_name": "Python 3",
   "language": "python",
   "name": "python3"
  },
  "language_info": {
   "codemirror_mode": {
    "name": "ipython",
    "version": 3
   },
   "file_extension": ".py",
   "mimetype": "text/x-python",
   "name": "python",
   "nbconvert_exporter": "python",
   "pygments_lexer": "ipython3",
   "version": "3.7.10"
  }
 },
 "nbformat": 4,
 "nbformat_minor": 5
}
