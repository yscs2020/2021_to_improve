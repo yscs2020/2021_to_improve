{
 "cells": [
  {
   "cell_type": "code",
   "execution_count": 2,
   "id": "6b2829ef",
   "metadata": {},
   "outputs": [
    {
     "name": "stdout",
     "output_type": "stream",
     "text": [
      "1.20.3\n"
     ]
    }
   ],
   "source": [
    "import numpy as np\n",
    "print(np.__version__)"
   ]
  },
  {
   "cell_type": "code",
   "execution_count": 4,
   "id": "73af45a8",
   "metadata": {},
   "outputs": [
    {
     "data": {
      "text/plain": [
       "array([1, 2, 3, 4])"
      ]
     },
     "execution_count": 4,
     "metadata": {},
     "output_type": "execute_result"
    }
   ],
   "source": [
    "np.array([1,2,3,4])\n"
   ]
  },
  {
   "cell_type": "code",
   "execution_count": 5,
   "id": "3c976677",
   "metadata": {},
   "outputs": [
    {
     "data": {
      "text/plain": [
       "array([[ True,  True,  True],\n",
       "       [ True,  True,  True],\n",
       "       [ True,  True,  True]])"
      ]
     },
     "execution_count": 5,
     "metadata": {},
     "output_type": "execute_result"
    }
   ],
   "source": [
    "np.full((3,3),True,dtype=bool)"
   ]
  },
  {
   "cell_type": "code",
   "execution_count": 8,
   "id": "cab00918",
   "metadata": {},
   "outputs": [
    {
     "data": {
      "text/plain": [
       "array([1, 3, 5, 7, 9])"
      ]
     },
     "execution_count": 8,
     "metadata": {},
     "output_type": "execute_result"
    }
   ],
   "source": [
    "arr=np.arange(10)\n",
    "arr[arr%2==1]"
   ]
  },
  {
   "cell_type": "code",
   "execution_count": 12,
   "id": "b1caf97d",
   "metadata": {},
   "outputs": [
    {
     "data": {
      "text/plain": [
       "array([ 0, -1,  2, -1,  4, -1,  6, -1,  8, -1])"
      ]
     },
     "execution_count": 12,
     "metadata": {},
     "output_type": "execute_result"
    }
   ],
   "source": [
    "arr_1 = np.arange(10)\n",
    "arr_1[arr_1%2==1]=-1\n",
    "arr_1"
   ]
  },
  {
   "cell_type": "code",
   "execution_count": 14,
   "id": "523d3ebb",
   "metadata": {},
   "outputs": [
    {
     "name": "stdout",
     "output_type": "stream",
     "text": [
      "[0 1 2 3 4 5 6 7 8 9]\n"
     ]
    },
    {
     "data": {
      "text/plain": [
       "array([ 0, -1,  2, -1,  4, -1,  6, -1,  8, -1])"
      ]
     },
     "execution_count": 14,
     "metadata": {},
     "output_type": "execute_result"
    }
   ],
   "source": [
    "arr = np.arange(10)\n",
    "out = np.where(arr%2==1,-1,arr)\n",
    "print(arr)\n",
    "out"
   ]
  },
  {
   "cell_type": "code",
   "execution_count": 17,
   "id": "d32685c4",
   "metadata": {},
   "outputs": [
    {
     "data": {
      "text/plain": [
       "array([[0, 1, 2, 3, 4],\n",
       "       [5, 6, 7, 8, 9]])"
      ]
     },
     "execution_count": 17,
     "metadata": {},
     "output_type": "execute_result"
    }
   ],
   "source": [
    "arr.reshape(2,-1)"
   ]
  },
  {
   "cell_type": "code",
   "execution_count": 23,
   "id": "df000e21",
   "metadata": {},
   "outputs": [
    {
     "data": {
      "text/plain": [
       "(array([[0, 1, 2, 3, 4],\n",
       "        [5, 6, 7, 8, 9],\n",
       "        [1, 1, 1, 1, 1],\n",
       "        [1, 1, 1, 1, 1]]),\n",
       " array([[0, 1, 2, 3, 4],\n",
       "        [5, 6, 7, 8, 9],\n",
       "        [1, 1, 1, 1, 1],\n",
       "        [1, 1, 1, 1, 1]]),\n",
       " array([[0, 1, 2, 3, 4],\n",
       "        [5, 6, 7, 8, 9],\n",
       "        [1, 1, 1, 1, 1],\n",
       "        [1, 1, 1, 1, 1]]))"
      ]
     },
     "execution_count": 23,
     "metadata": {},
     "output_type": "execute_result"
    }
   ],
   "source": [
    "a = np.arange(10).reshape(2,-1)\n",
    "b = np.repeat(1,10).reshape(2,-1)\n",
    "np.vstack([a,b]),np.concatenate([a,b],axis=0),np.r_[a,b]"
   ]
  },
  {
   "cell_type": "code",
   "execution_count": 25,
   "id": "ff9b8445",
   "metadata": {},
   "outputs": [
    {
     "data": {
      "text/plain": [
       "(array([[0, 1, 2, 3, 4, 1, 1, 1, 1, 1],\n",
       "        [5, 6, 7, 8, 9, 1, 1, 1, 1, 1]]),\n",
       " array([[0, 1, 2, 3, 4, 1, 1, 1, 1, 1],\n",
       "        [5, 6, 7, 8, 9, 1, 1, 1, 1, 1]]),\n",
       " array([[0, 1, 2, 3, 4, 1, 1, 1, 1, 1],\n",
       "        [5, 6, 7, 8, 9, 1, 1, 1, 1, 1]]))"
      ]
     },
     "execution_count": 25,
     "metadata": {},
     "output_type": "execute_result"
    }
   ],
   "source": [
    "np.hstack([a,b]),np.concatenate([a,b],axis=1),np.c_[a,b]"
   ]
  },
  {
   "cell_type": "code",
   "execution_count": 28,
   "id": "03eaee18",
   "metadata": {},
   "outputs": [
    {
     "data": {
      "text/plain": [
       "array([1, 1, 1, 2, 2, 2, 3, 3, 3, 1, 2, 3, 1, 2, 3, 1, 2, 3])"
      ]
     },
     "execution_count": 28,
     "metadata": {},
     "output_type": "execute_result"
    }
   ],
   "source": [
    "a = np.array([1,2,3])\n",
    "np.r_[np.repeat(a,3),np.tile(a,3)]"
   ]
  },
  {
   "cell_type": "code",
   "execution_count": 39,
   "id": "f4314fd8",
   "metadata": {},
   "outputs": [],
   "source": [
    "a = np.array([1,2,3,4,5,6,6,7,8,9,9])\n",
    "b = np.array([7,2,10,2,7,4,9,8])\n",
    "c = np.intersect1d(a,b)\n"
   ]
  },
  {
   "cell_type": "code",
   "execution_count": 35,
   "id": "5b34fbef",
   "metadata": {},
   "outputs": [
    {
     "data": {
      "text/plain": [
       "array([1, 3, 5, 6])"
      ]
     },
     "execution_count": 35,
     "metadata": {},
     "output_type": "execute_result"
    }
   ],
   "source": [
    "np.setdiff1d(a,c)"
   ]
  },
  {
   "cell_type": "code",
   "execution_count": 44,
   "id": "ddd91f3a",
   "metadata": {},
   "outputs": [
    {
     "data": {
      "text/plain": [
       "(array([1, 3, 5, 7]),)"
      ]
     },
     "execution_count": 44,
     "metadata": {},
     "output_type": "execute_result"
    }
   ],
   "source": [
    "a = np.array([1,2,3,2,3,4,3,4,5,6])\n",
    "b = np.array([7,2,10,2,7,4,9,4,9,10])\n",
    "np.where(a == b)"
   ]
  },
  {
   "cell_type": "code",
   "execution_count": 46,
   "id": "8ff08291",
   "metadata": {},
   "outputs": [
    {
     "data": {
      "text/plain": [
       "array([5, 6])"
      ]
     },
     "execution_count": 46,
     "metadata": {},
     "output_type": "execute_result"
    }
   ],
   "source": [
    "index = np.where((a>=5)&(a<=10))\n",
    "a[index]"
   ]
  },
  {
   "cell_type": "code",
   "execution_count": 49,
   "id": "946d504a",
   "metadata": {},
   "outputs": [
    {
     "data": {
      "text/plain": [
       "array([5, 6])"
      ]
     },
     "execution_count": 49,
     "metadata": {},
     "output_type": "execute_result"
    }
   ],
   "source": [
    "index = np.where(np.logical_and(a>=5,a<=10))\n",
    "a[index]"
   ]
  },
  {
   "cell_type": "code",
   "execution_count": 51,
   "id": "5428e4d6",
   "metadata": {},
   "outputs": [
    {
     "data": {
      "text/plain": [
       "array([5, 6])"
      ]
     },
     "execution_count": 51,
     "metadata": {},
     "output_type": "execute_result"
    }
   ],
   "source": [
    "a[(a>=5)&(a<=10)]"
   ]
  },
  {
   "cell_type": "code",
   "execution_count": 54,
   "id": "9318201d",
   "metadata": {},
   "outputs": [
    {
     "name": "stdout",
     "output_type": "stream",
     "text": [
      "[1 3 5 7 9] [ 1  5  9 13 17]\n"
     ]
    },
    {
     "data": {
      "text/plain": [
       "array([ 1.,  5.,  9., 13., 17.])"
      ]
     },
     "execution_count": 54,
     "metadata": {},
     "output_type": "execute_result"
    }
   ],
   "source": [
    "def maxx(x,y):\n",
    "    if x>=y:\n",
    "        return x\n",
    "    else:\n",
    "        return y\n",
    "    \n",
    "a = np.arange(1,10,2)\n",
    "b = np.arange(1,20,4)\n",
    "print(a,b)\n",
    "pair_max = np.vectorize(maxx,otypes=[float])\n",
    "pair_max(a,b)\n"
   ]
  },
  {
   "cell_type": "code",
   "execution_count": 57,
   "id": "bdd1f46a",
   "metadata": {},
   "outputs": [
    {
     "data": {
      "text/plain": [
       "array([[0, 1, 2],\n",
       "       [3, 4, 5],\n",
       "       [6, 7, 8]])"
      ]
     },
     "execution_count": 57,
     "metadata": {},
     "output_type": "execute_result"
    }
   ],
   "source": [
    "arr = np.arange(9).reshape(3,3)\n",
    "arr"
   ]
  },
  {
   "cell_type": "code",
   "execution_count": 61,
   "id": "72e30913",
   "metadata": {},
   "outputs": [
    {
     "data": {
      "text/plain": [
       "array([[1, 0, 2],\n",
       "       [4, 3, 5],\n",
       "       [7, 6, 8]])"
      ]
     },
     "execution_count": 61,
     "metadata": {},
     "output_type": "execute_result"
    }
   ],
   "source": [
    "arr[:,[1,0,2]]"
   ]
  },
  {
   "cell_type": "code",
   "execution_count": 64,
   "id": "33767bb8",
   "metadata": {},
   "outputs": [
    {
     "data": {
      "text/plain": [
       "array([[3, 4, 5],\n",
       "       [0, 1, 2],\n",
       "       [6, 7, 8]])"
      ]
     },
     "execution_count": 64,
     "metadata": {},
     "output_type": "execute_result"
    }
   ],
   "source": [
    "arr[[1,0,2],:]"
   ]
  },
  {
   "cell_type": "code",
   "execution_count": 67,
   "id": "5f396e75",
   "metadata": {},
   "outputs": [
    {
     "data": {
      "text/plain": [
       "array([[6, 7, 8],\n",
       "       [3, 4, 5],\n",
       "       [0, 1, 2]])"
      ]
     },
     "execution_count": 67,
     "metadata": {},
     "output_type": "execute_result"
    }
   ],
   "source": [
    "arr[::-1]"
   ]
  },
  {
   "cell_type": "code",
   "execution_count": 70,
   "id": "38050499",
   "metadata": {},
   "outputs": [
    {
     "data": {
      "text/plain": [
       "array([[2, 1, 0],\n",
       "       [5, 4, 3],\n",
       "       [8, 7, 6]])"
      ]
     },
     "execution_count": 70,
     "metadata": {},
     "output_type": "execute_result"
    }
   ],
   "source": [
    "arr[:,::-1]"
   ]
  },
  {
   "cell_type": "code",
   "execution_count": 77,
   "id": "00ece46f",
   "metadata": {},
   "outputs": [
    {
     "data": {
      "text/plain": [
       "array([[7.28710235, 7.56420456, 8.81275296],\n",
       "       [8.60435264, 8.29209066, 8.80332706],\n",
       "       [6.9996048 , 8.43685478, 7.44228248],\n",
       "       [5.4458943 , 6.88663173, 6.24665371],\n",
       "       [7.17839238, 9.25552805, 6.39575558]])"
      ]
     },
     "execution_count": 77,
     "metadata": {},
     "output_type": "execute_result"
    }
   ],
   "source": [
    "np.random.randint(5,10,size=(5,3))+np.random.random((5,3))"
   ]
  },
  {
   "cell_type": "code",
   "execution_count": 79,
   "id": "1d79077e",
   "metadata": {},
   "outputs": [
    {
     "data": {
      "text/plain": [
       "array([[7.19938273, 7.43763482, 9.93625887],\n",
       "       [6.19699866, 6.51983942, 7.34547726],\n",
       "       [8.36369635, 9.63285827, 9.24602833],\n",
       "       [7.63254336, 7.55596454, 7.21924369],\n",
       "       [7.2711361 , 5.78280897, 5.61187528]])"
      ]
     },
     "execution_count": 79,
     "metadata": {},
     "output_type": "execute_result"
    }
   ],
   "source": [
    "np.random.uniform(5,10,size=(5,3))\n"
   ]
  },
  {
   "cell_type": "code",
   "execution_count": 81,
   "id": "6bc8f96b",
   "metadata": {},
   "outputs": [
    {
     "data": {
      "text/plain": [
       "array([[5.205, 5.781, 6.613],\n",
       "       [7.072, 8.848, 6.762],\n",
       "       [8.62 , 7.712, 5.929],\n",
       "       [7.385, 5.397, 7.514],\n",
       "       [8.179, 9.11 , 5.788]])"
      ]
     },
     "execution_count": 81,
     "metadata": {},
     "output_type": "execute_result"
    }
   ],
   "source": [
    "np.set_printoptions(precision=3)\n",
    "np.random.uniform(5,10,size=(5,3))"
   ]
  },
  {
   "cell_type": "code",
   "execution_count": 82,
   "id": "9de906e4",
   "metadata": {},
   "outputs": [],
   "source": [
    "np.random.seed(100)\n",
    "rand_arr = np.random.random([3,3])/1e3"
   ]
  },
  {
   "cell_type": "code",
   "execution_count": 84,
   "id": "f41dc47e",
   "metadata": {},
   "outputs": [
    {
     "data": {
      "text/plain": [
       "array([[5.434e-04, 2.784e-04, 4.245e-04],\n",
       "       [8.448e-04, 4.719e-06, 1.216e-04],\n",
       "       [6.707e-04, 8.259e-04, 1.367e-04]])"
      ]
     },
     "execution_count": 84,
     "metadata": {},
     "output_type": "execute_result"
    }
   ],
   "source": [
    "rand_arr"
   ]
  },
  {
   "cell_type": "code",
   "execution_count": 86,
   "id": "7338f3a4",
   "metadata": {},
   "outputs": [
    {
     "data": {
      "text/plain": [
       "array([[0.000543, 0.000278, 0.000425],\n",
       "       [0.000845, 0.000005, 0.000122],\n",
       "       [0.000671, 0.000826, 0.000137]])"
      ]
     },
     "execution_count": 86,
     "metadata": {},
     "output_type": "execute_result"
    }
   ],
   "source": [
    "np.set_printoptions(suppress=True,precision=6)\n",
    "rand_arr"
   ]
  },
  {
   "cell_type": "code",
   "execution_count": 87,
   "id": "9ee22820",
   "metadata": {},
   "outputs": [
    {
     "data": {
      "text/plain": [
       "array([ 0,  1,  2, ..., 97, 98, 99])"
      ]
     },
     "execution_count": 87,
     "metadata": {},
     "output_type": "execute_result"
    }
   ],
   "source": [
    "np.set_printoptions(threshold=6)\n",
    "np.arange(100)"
   ]
  },
  {
   "cell_type": "code",
   "execution_count": 94,
   "id": "5b95a102",
   "metadata": {},
   "outputs": [
    {
     "data": {
      "text/plain": [
       "array([0, 1, 2, 3, 4, 5, 6, 7, 8, 9])"
      ]
     },
     "execution_count": 94,
     "metadata": {},
     "output_type": "execute_result"
    }
   ],
   "source": [
    "import sys\n",
    "np.set_printoptions(threshold=sys.maxsize)\n",
    "np.arange(10)"
   ]
  },
  {
   "cell_type": "code",
   "execution_count": 96,
   "id": "a0da0d1b",
   "metadata": {},
   "outputs": [
    {
     "data": {
      "text/plain": [
       "array([[b'5.1', b'3.5', b'1.4', b'0.2', b'Iris-setosa'],\n",
       "       [b'4.9', b'3.0', b'1.4', b'0.2', b'Iris-setosa'],\n",
       "       [b'4.7', b'3.2', b'1.3', b'0.2', b'Iris-setosa']], dtype=object)"
      ]
     },
     "execution_count": 96,
     "metadata": {},
     "output_type": "execute_result"
    }
   ],
   "source": [
    "url = 'https://archive.ics.uci.edu/ml/machine-learning-databases/iris/iris.data'\n",
    "iris = np.genfromtxt(url,delimiter=',',dtype='object')\n",
    "names=('sepallength', 'sepalwidth', 'petallength', 'petalwidth', 'species')\n",
    "iris[:3]"
   ]
  },
  {
   "cell_type": "code",
   "execution_count": 97,
   "id": "1b516109",
   "metadata": {},
   "outputs": [
    {
     "name": "stderr",
     "output_type": "stream",
     "text": [
      "/Users/yanshuo/opt/anaconda3/lib/python3.7/site-packages/ipykernel_launcher.py:1: VisibleDeprecationWarning: Reading unicode strings without specifying the encoding argument is deprecated. Set the encoding, use None for the system default.\n",
      "  \"\"\"Entry point for launching an IPython kernel.\n"
     ]
    },
    {
     "data": {
      "text/plain": [
       "array([(5.1, 3.5, 1.4, 0.2, b'Iris-setosa'),\n",
       "       (4.9, 3. , 1.4, 0.2, b'Iris-setosa')],\n",
       "      dtype=[('f0', '<f8'), ('f1', '<f8'), ('f2', '<f8'), ('f3', '<f8'), ('f4', 'S15')])"
      ]
     },
     "execution_count": 97,
     "metadata": {},
     "output_type": "execute_result"
    }
   ],
   "source": [
    "iris_1d = np.genfromtxt(url,delimiter=',',dtype=None)\n",
    "iris_1d[:2]"
   ]
  },
  {
   "cell_type": "code",
   "execution_count": 100,
   "id": "f1ac6bef",
   "metadata": {},
   "outputs": [
    {
     "data": {
      "text/plain": [
       "array([b'Iris-setosa', b'Iris-setosa', b'Iris-setosa', ...,\n",
       "       b'Iris-virginica', b'Iris-virginica', b'Iris-virginica'],\n",
       "      dtype='|S15')"
      ]
     },
     "execution_count": 100,
     "metadata": {},
     "output_type": "execute_result"
    }
   ],
   "source": [
    "np.set_printoptions(threshold=6)\n",
    "np.array([row[4] for row in iris_1d])"
   ]
  },
  {
   "cell_type": "code",
   "execution_count": 102,
   "id": "e5945369",
   "metadata": {},
   "outputs": [
    {
     "name": "stderr",
     "output_type": "stream",
     "text": [
      "/Users/yanshuo/opt/anaconda3/lib/python3.7/site-packages/ipykernel_launcher.py:2: VisibleDeprecationWarning: Reading unicode strings without specifying the encoding argument is deprecated. Set the encoding, use None for the system default.\n",
      "  \n"
     ]
    },
    {
     "data": {
      "text/plain": [
       "array([[5.1, 3.5, 1.4, 0.2],\n",
       "       [4.9, 3. , 1.4, 0.2],\n",
       "       [4.7, 3.2, 1.3, 0.2],\n",
       "       [4.6, 3.1, 1.5, 0.2]])"
      ]
     },
     "execution_count": 102,
     "metadata": {},
     "output_type": "execute_result"
    }
   ],
   "source": [
    "url = 'https://archive.ics.uci.edu/ml/machine-learning-databases/iris/iris.data'\n",
    "iris_1d = np.genfromtxt(url,delimiter=',',dtype=None)\n",
    "iris_2d = np.array([row.tolist()[:4] for row in iris_1d])\n",
    "iris_2d[:4]"
   ]
  },
  {
   "cell_type": "code",
   "execution_count": 107,
   "id": "63a13c10",
   "metadata": {},
   "outputs": [],
   "source": [
    "sepallength = np.genfromtxt(url,delimiter=',',dtype='float',usecols=[0])"
   ]
  },
  {
   "cell_type": "code",
   "execution_count": 109,
   "id": "e274cb3f",
   "metadata": {},
   "outputs": [
    {
     "data": {
      "text/plain": [
       "(5.843333333333334, 0.8253012917851409, 5.8)"
      ]
     },
     "execution_count": 109,
     "metadata": {},
     "output_type": "execute_result"
    }
   ],
   "source": [
    "np.mean(sepallength),np.std(sepallength),np.median(sepallength)"
   ]
  },
  {
   "cell_type": "code",
   "execution_count": 113,
   "id": "5bb52504",
   "metadata": {},
   "outputs": [
    {
     "data": {
      "text/plain": [
       "array([0.222222, 0.166667, 0.111111, ..., 0.611111, 0.527778, 0.444444])"
      ]
     },
     "execution_count": 113,
     "metadata": {},
     "output_type": "execute_result"
    }
   ],
   "source": [
    "max_s = sepallength.max()\n",
    "min_s = sepallength.min()\n",
    "S = (sepallength-min_s)/(max_s-min_s)\n",
    "S"
   ]
  },
  {
   "cell_type": "code",
   "execution_count": 116,
   "id": "7c2973f8",
   "metadata": {},
   "outputs": [
    {
     "data": {
      "text/plain": [
       "array([0.222222, 0.166667, 0.111111, ..., 0.611111, 0.527778, 0.444444])"
      ]
     },
     "execution_count": 116,
     "metadata": {},
     "output_type": "execute_result"
    }
   ],
   "source": [
    "S = (sepallength-min_s)/sepallength.ptp()\n",
    "S"
   ]
  },
  {
   "cell_type": "code",
   "execution_count": 119,
   "id": "1b47a9de",
   "metadata": {},
   "outputs": [
    {
     "name": "stdout",
     "output_type": "stream",
     "text": [
      "[0.00222  0.001817 0.001488 ... 0.009001 0.006668 0.00494 ]\n"
     ]
    }
   ],
   "source": [
    "url = 'https://archive.ics.uci.edu/ml/machine-learning-databases/iris/iris.data'\n",
    "iris = np.genfromtxt(url,delimiter=',',dtype='object')\n",
    "sepallength = np.array([float(row[0]) for row in iris])\n",
    "def softmax(x):\n",
    "    ex = np.exp(x-np.max(x))\n",
    "    return ex/ex.sum(axis=0)\n",
    "print(softmax(sepallength))"
   ]
  },
  {
   "cell_type": "code",
   "execution_count": 121,
   "id": "54b5218f",
   "metadata": {},
   "outputs": [],
   "source": [
    "sepallength = np.genfromtxt(url,delimiter=',',dtype='float',usecols=[0])\n"
   ]
  },
  {
   "cell_type": "code",
   "execution_count": 123,
   "id": "d193bdc7",
   "metadata": {},
   "outputs": [
    {
     "data": {
      "text/plain": [
       "array([4.6  , 7.255])"
      ]
     },
     "execution_count": 123,
     "metadata": {},
     "output_type": "execute_result"
    }
   ],
   "source": [
    "np.percentile(sepallength,q=[5,95])"
   ]
  },
  {
   "cell_type": "code",
   "execution_count": 125,
   "id": "bb8bedcf",
   "metadata": {},
   "outputs": [
    {
     "data": {
      "text/plain": [
       "array([[b'5.1', b'3.5', b'1.4', b'0.2', b'Iris-setosa'],\n",
       "       [b'4.9', b'3.0', b'1.4', b'0.2', b'Iris-setosa']], dtype=object)"
      ]
     },
     "execution_count": 125,
     "metadata": {},
     "output_type": "execute_result"
    }
   ],
   "source": [
    "iris_2d = np.genfromtxt(url,delimiter=',',dtype='object')\n",
    "iris_2d[:2]"
   ]
  },
  {
   "cell_type": "code",
   "execution_count": 129,
   "id": "7e8bc84b",
   "metadata": {},
   "outputs": [],
   "source": [
    "i,j = np.where(iris_2d)"
   ]
  },
  {
   "cell_type": "code",
   "execution_count": 133,
   "id": "b28ec6cb",
   "metadata": {},
   "outputs": [],
   "source": [
    "np.random.seed(100)\n",
    "iris[np.random.randint(150,size=20),np.random.randint(4,size=20)]=np.nan"
   ]
  },
  {
   "cell_type": "code",
   "execution_count": 149,
   "id": "0e5bf677",
   "metadata": {},
   "outputs": [
    {
     "name": "stdout",
     "output_type": "stream",
     "text": [
      "4\n",
      "(array([14, 34, 79, 87]),)\n"
     ]
    }
   ],
   "source": [
    "iris_2d = np.genfromtxt(url,delimiter=',',dtype='float',usecols=[0,1,2,3])\n",
    "np.random.seed(100)\n",
    "iris_2d[np.random.randint(150,size=20),np.random.randint(4,size=20)] = np.nan\n",
    "print(np.isnan(iris_2d[:,0]).sum())\n",
    "print(np.where(np.isnan(iris_2d[:,0])))"
   ]
  },
  {
   "cell_type": "code",
   "execution_count": 150,
   "id": "2aebe919",
   "metadata": {},
   "outputs": [],
   "source": [
    "iris_2d = np.genfromtxt(url,delimiter=',',dtype='float',usecols=[0,1,2,3])\n",
    "iris_2d[np.random.randint(150, size=20), np.random.randint(4, size=20)] = np.nan\n"
   ]
  },
  {
   "cell_type": "code",
   "execution_count": 152,
   "id": "2a04c9ec",
   "metadata": {},
   "outputs": [
    {
     "data": {
      "text/plain": [
       "array([[5.1, 3.5, 1.4, 0.2],\n",
       "       [4.9, 3. , 1.4, 0.2],\n",
       "       [4.6, 3.1, 1.5, 0.2],\n",
       "       [5. , 3.6, 1.4, 0.2],\n",
       "       [5.4, 3.9, 1.7, 0.4]])"
      ]
     },
     "execution_count": 152,
     "metadata": {},
     "output_type": "execute_result"
    }
   ],
   "source": [
    "any_none = np.array([~np.any(np.isnan(row)) for row in iris_2d])\n",
    "iris_2d[any_none][:5]"
   ]
  },
  {
   "cell_type": "code",
   "execution_count": 154,
   "id": "9aa75103",
   "metadata": {},
   "outputs": [
    {
     "data": {
      "text/plain": [
       "array([[5.1, 3.5, 1.4, 0.2],\n",
       "       [4.9, 3. , 1.4, 0.2],\n",
       "       [4.6, 3.1, 1.5, 0.2],\n",
       "       [5. , 3.6, 1.4, 0.2]])"
      ]
     },
     "execution_count": 154,
     "metadata": {},
     "output_type": "execute_result"
    }
   ],
   "source": [
    "iris_2d[np.sum(np.isnan(iris_2d),axis=1)==0][:4]"
   ]
  },
  {
   "cell_type": "code",
   "execution_count": 156,
   "id": "0be6d447",
   "metadata": {},
   "outputs": [
    {
     "data": {
      "text/plain": [
       "array([[1.      , 0.871754],\n",
       "       [0.871754, 1.      ]])"
      ]
     },
     "execution_count": 156,
     "metadata": {},
     "output_type": "execute_result"
    }
   ],
   "source": [
    "iris_2d = np.genfromtxt(url,delimiter=',',dtype='float',usecols=[0,1,2,3])\n",
    "\n",
    "np.corrcoef(iris_2d[:,0],iris_2d[:,2])"
   ]
  },
  {
   "cell_type": "code",
   "execution_count": 158,
   "id": "b2dff9c8",
   "metadata": {},
   "outputs": [
    {
     "name": "stdout",
     "output_type": "stream",
     "text": [
      "0.8717541573048713\n"
     ]
    }
   ],
   "source": [
    "from scipy.stats.stats import pearsonr\n",
    "corr,p_value = pearsonr(iris_2d[:,0],iris_2d[:,2])\n",
    "print(corr)"
   ]
  },
  {
   "cell_type": "code",
   "execution_count": 160,
   "id": "321e1d3b",
   "metadata": {},
   "outputs": [
    {
     "data": {
      "text/plain": [
       "(0.8717541573048713, 1.0384540627941062e-47)"
      ]
     },
     "execution_count": 160,
     "metadata": {},
     "output_type": "execute_result"
    }
   ],
   "source": [
    "from scipy.stats.stats import pearsonr\n",
    "corr,p_vlaue = pearsonr(iris_2d[:,0],iris_2d[:,2])\n",
    "corr,p_value"
   ]
  },
  {
   "cell_type": "code",
   "execution_count": 169,
   "id": "16e06680",
   "metadata": {},
   "outputs": [
    {
     "data": {
      "text/plain": [
       "10"
      ]
     },
     "execution_count": 169,
     "metadata": {},
     "output_type": "execute_result"
    }
   ],
   "source": [
    "a = list(range(100))\n",
    "a = sorted(a)\n",
    "len_a = len(a)\n",
    "a[int(len_a/100*10)]\n"
   ]
  },
  {
   "cell_type": "code",
   "execution_count": 173,
   "id": "2c279690",
   "metadata": {},
   "outputs": [
    {
     "data": {
      "text/plain": [
       "20"
      ]
     },
     "execution_count": 173,
     "metadata": {},
     "output_type": "execute_result"
    }
   ],
   "source": [
    "iris_2d = np.genfromtxt(url,delimiter=',',dtype='float',usecols=[0,1,2,3])\n",
    "iris_2d[np.random.randint(150, size=20), np.random.randint(4, size=20)] = np.nan\n",
    "np.isnan(iris_2d).sum()"
   ]
  },
  {
   "cell_type": "code",
   "execution_count": 175,
   "id": "9531a725",
   "metadata": {},
   "outputs": [],
   "source": [
    "iris_2d[np.isnan(iris_2d)]=0"
   ]
  },
  {
   "cell_type": "code",
   "execution_count": 178,
   "id": "76da4c98",
   "metadata": {},
   "outputs": [
    {
     "data": {
      "text/plain": [
       "(array([b'Iris-setosa', b'Iris-versicolor', b'Iris-virginica'],\n",
       "       dtype=object),\n",
       " array([50, 50, 50]))"
      ]
     },
     "execution_count": 178,
     "metadata": {},
     "output_type": "execute_result"
    }
   ],
   "source": [
    "species = np.genfromtxt(url,delimiter=',',dtype='object',usecols=[4])\n",
    "np.unique(species,return_counts=True)"
   ]
  },
  {
   "cell_type": "code",
   "execution_count": 183,
   "id": "554457cb",
   "metadata": {},
   "outputs": [
    {
     "data": {
      "text/plain": [
       "['large', 'large', 'large', 'large']"
      ]
     },
     "execution_count": 183,
     "metadata": {},
     "output_type": "execute_result"
    }
   ],
   "source": [
    "petallength = np.genfromtxt(url,delimiter=',',dtype='float',usecols=[2])\n",
    "bins = [0,3,5]\n",
    "petallength_label = np.digitize(petallength,bins)\n",
    "label_map = {1:'small',2:'medium',3:'large',4:np.nan}\n",
    "petallength_label_re = [label_map[x] for x in petallength_label]\n",
    "petallength_label_re[-4:]"
   ]
  },
  {
   "cell_type": "code",
   "execution_count": 187,
   "id": "e902e3ea",
   "metadata": {},
   "outputs": [
    {
     "data": {
      "text/plain": [
       "array([[  5.1     ,   3.5     ,   1.4     ,   0.2     ,        nan,\n",
       "         38.132652],\n",
       "       [  4.9     ,   3.      ,   1.4     ,   0.2     ,        nan,\n",
       "         35.200498],\n",
       "       [  4.7     ,   3.2     ,   1.3     ,   0.2     ,        nan,\n",
       "         30.072372],\n",
       "       ...,\n",
       "       [  6.5     ,   3.      ,   5.2     ,   2.      ,        nan,\n",
       "        230.069302],\n",
       "       [  6.2     ,   3.4     ,   5.4     ,   2.3     ,        nan,\n",
       "        217.373079],\n",
       "       [  5.9     ,   3.      ,   5.1     ,   1.8     ,        nan,\n",
       "        185.910028]])"
      ]
     },
     "execution_count": 187,
     "metadata": {},
     "output_type": "execute_result"
    }
   ],
   "source": [
    "iris_2d = np.genfromtxt(url,delimiter=',',dtype='float')\n",
    "sepallength = iris_2d[:,0]\n",
    "petallength = iris_2d[:,2]\n",
    "volums = (np.pi*petallength*(sepallength**2))/3\n",
    "volums = volums.reshape(len(iris_2d),-1)\n",
    "np.hstack([iris_2d,volums])"
   ]
  },
  {
   "cell_type": "code",
   "execution_count": 189,
   "id": "f485b7fc",
   "metadata": {},
   "outputs": [
    {
     "data": {
      "text/plain": [
       "array([b'Iris-setosa', b'Iris-versicolor', b'Iris-virginica'],\n",
       "      dtype=object)"
      ]
     },
     "execution_count": 189,
     "metadata": {},
     "output_type": "execute_result"
    }
   ],
   "source": [
    "np.unique(species)"
   ]
  },
  {
   "cell_type": "code",
   "execution_count": 191,
   "id": "5fba4c17",
   "metadata": {},
   "outputs": [],
   "source": [
    "a = np.array(['Iris-setosa', 'Iris-versicolor', 'Iris-virginica'])\n",
    "speciese_out = np.random.choice(a,p=[0.5,0.25,0.25])"
   ]
  },
  {
   "cell_type": "code",
   "execution_count": 193,
   "id": "44ce53bc",
   "metadata": {},
   "outputs": [],
   "source": [
    "np.random.seed(100)\n",
    "probs = np.r_[np.linspace(0,0.5,num=50),np.linspace(0.5,0.75,num=25),np.linspace(0.75,1,num=25)]\n",
    "index = np.searchsorted(probs,np.random.random(150))\n",
    "speciese_out=species[index]"
   ]
  },
  {
   "cell_type": "code",
   "execution_count": 199,
   "id": "b664b174",
   "metadata": {},
   "outputs": [
    {
     "data": {
      "text/plain": [
       "(array([80]),)"
      ]
     },
     "execution_count": 199,
     "metadata": {},
     "output_type": "execute_result"
    }
   ],
   "source": [
    "b = np.argsort(sepallength)\n",
    "np.where(b==149)"
   ]
  },
  {
   "cell_type": "code",
   "execution_count": 200,
   "id": "e2cb022c",
   "metadata": {},
   "outputs": [],
   "source": [
    "iris = np.genfromtxt(url, delimiter=',', dtype='object')\n"
   ]
  },
  {
   "cell_type": "code",
   "execution_count": 202,
   "id": "d4545584",
   "metadata": {},
   "outputs": [],
   "source": [
    "petal_len_sortosa = iris[iris[:,4]==b'Iris-setosa',[2]].astype('float')\n",
    "petal_len_sortosa = np.unique(np.sort(petal_len_sortosa))"
   ]
  },
  {
   "cell_type": "code",
   "execution_count": 205,
   "id": "fc021d77",
   "metadata": {},
   "outputs": [
    {
     "data": {
      "text/plain": [
       "1.7"
      ]
     },
     "execution_count": 205,
     "metadata": {},
     "output_type": "execute_result"
    }
   ],
   "source": [
    "petal_len_sortosa[-2]"
   ]
  },
  {
   "cell_type": "code",
   "execution_count": 207,
   "id": "e4504e49",
   "metadata": {},
   "outputs": [
    {
     "data": {
      "text/plain": [
       "array([[b'4.3', b'3.0', b'1.1', b'0.1', b'Iris-setosa'],\n",
       "       [b'4.4', b'3.2', b'1.3', b'0.2', b'Iris-setosa'],\n",
       "       [b'4.4', b'3.0', b'1.3', b'0.2', b'Iris-setosa'],\n",
       "       ...,\n",
       "       [b'4.9', b'2.5', b'4.5', b'1.7', b'Iris-virginica'],\n",
       "       [b'4.9', b'3.1', b'1.5', b'0.1', b'Iris-setosa'],\n",
       "       [b'4.9', b'3.1', b'1.5', b'0.1', b'Iris-setosa']], dtype=object)"
      ]
     },
     "execution_count": 207,
     "metadata": {},
     "output_type": "execute_result"
    }
   ],
   "source": [
    "iris[iris[:,0].argsort()][:20]"
   ]
  },
  {
   "cell_type": "code",
   "execution_count": 212,
   "id": "803a0176",
   "metadata": {},
   "outputs": [
    {
     "data": {
      "text/plain": [
       "1.5"
      ]
     },
     "execution_count": 212,
     "metadata": {},
     "output_type": "execute_result"
    }
   ],
   "source": [
    "petallength = np.genfromtxt(url,delimiter=',',dtype='float',usecols=[2])\n",
    "\n",
    "val, counts = np.unique(petallength,return_counts=True)\n",
    "val[np.argmax(counts)]"
   ]
  },
  {
   "cell_type": "code",
   "execution_count": 214,
   "id": "a20f32a4",
   "metadata": {},
   "outputs": [
    {
     "data": {
      "text/plain": [
       "array([50])"
      ]
     },
     "execution_count": 214,
     "metadata": {},
     "output_type": "execute_result"
    }
   ],
   "source": [
    "petalwidth = np.genfromtxt(url,delimiter=',',dtype='float',usecols=[3])\n",
    "np.argwhere(petalwidth>1.0)[0]"
   ]
  },
  {
   "cell_type": "code",
   "execution_count": 216,
   "id": "1cc770a5",
   "metadata": {},
   "outputs": [
    {
     "data": {
      "text/plain": [
       "array([27.626842, 14.6401  , 21.801362, ..., 10.      , 30.      ,\n",
       "       14.429614])"
      ]
     },
     "execution_count": 216,
     "metadata": {},
     "output_type": "execute_result"
    }
   ],
   "source": [
    "np.random.seed(100)\n",
    "a = np.random.uniform(1,50,20)\n",
    "np.clip(a,a_min=10,a_max=30)"
   ]
  },
  {
   "cell_type": "code",
   "execution_count": 218,
   "id": "19ad92b9",
   "metadata": {},
   "outputs": [
    {
     "data": {
      "text/plain": [
       "array([27.626842, 14.6401  , 21.801362, ..., 10.      , 30.      ,\n",
       "       14.429614])"
      ]
     },
     "execution_count": 218,
     "metadata": {},
     "output_type": "execute_result"
    }
   ],
   "source": [
    "np.where(a<10,10,np.where(a>30,30,a))"
   ]
  },
  {
   "cell_type": "code",
   "execution_count": 222,
   "id": "ab3d24ac",
   "metadata": {},
   "outputs": [
    {
     "name": "stdout",
     "output_type": "stream",
     "text": [
      "[ 4 13  5 ...  3 10 15]\n"
     ]
    }
   ],
   "source": [
    "np.random.seed(100)\n",
    "a = np.random.uniform(1,50,20)\n",
    "print(a.argsort())\n"
   ]
  },
  {
   "cell_type": "code",
   "execution_count": 228,
   "id": "5cb48b64",
   "metadata": {},
   "outputs": [
    {
     "data": {
      "text/plain": [
       "array([27.626842, 14.6401  , 21.801362, 42.39403 ,  1.231224,  6.956887,\n",
       "       33.866705, 41.466785,  7.698623, 29.179573, 44.674776, 11.250904,\n",
       "       10.081083,  6.310468, 11.765177, 48.952565, 40.772474,  9.42511 ,\n",
       "       40.995013, 14.429614])"
      ]
     },
     "execution_count": 228,
     "metadata": {},
     "output_type": "execute_result"
    }
   ],
   "source": [
    "np.set_printoptions(threshold=sys.maxsize)\n",
    "a"
   ]
  },
  {
   "cell_type": "code",
   "execution_count": 229,
   "id": "19c11a77",
   "metadata": {},
   "outputs": [
    {
     "data": {
      "text/plain": [
       "array([ 4, 13,  5,  8, 17, 12, 11, 14, 19,  1,  2,  0,  9,  6, 16, 18,  7,\n",
       "        3, 10, 15])"
      ]
     },
     "execution_count": 229,
     "metadata": {},
     "output_type": "execute_result"
    }
   ],
   "source": [
    "a.argsort()"
   ]
  },
  {
   "cell_type": "code",
   "execution_count": 232,
   "id": "e7935add",
   "metadata": {},
   "outputs": [
    {
     "data": {
      "text/plain": [
       "array([48.952565, 44.674776, 42.39403 , 41.466785, 40.995013])"
      ]
     },
     "execution_count": 232,
     "metadata": {},
     "output_type": "execute_result"
    }
   ],
   "source": [
    "a[np.argpartition(-a,5)[:5]]"
   ]
  },
  {
   "cell_type": "code",
   "execution_count": 236,
   "id": "71942c2f",
   "metadata": {},
   "outputs": [
    {
     "data": {
      "text/plain": [
       "array([11.250904, 14.429614, 21.801362,  9.42511 ,  1.231224,  6.956887,\n",
       "       11.765177,  6.310468,  7.698623, 14.6401  , 10.081083, 27.626842,\n",
       "       40.772474, 33.866705, 29.179573, 40.995013, 41.466785, 42.39403 ,\n",
       "       44.674776, 48.952565])"
      ]
     },
     "execution_count": 236,
     "metadata": {},
     "output_type": "execute_result"
    }
   ],
   "source": [
    "np.partition(a,kth=-5)"
   ]
  },
  {
   "cell_type": "code",
   "execution_count": 238,
   "id": "bc911ae9",
   "metadata": {},
   "outputs": [
    {
     "data": {
      "text/plain": [
       "array([ 1.231224,  6.310468,  6.956887,  7.698623,  9.42511 , 10.081083,\n",
       "       11.250904, 11.765177, 14.429614, 14.6401  , 21.801362, 27.626842,\n",
       "       29.179573, 33.866705, 40.772474, 40.995013, 41.466785, 42.39403 ,\n",
       "       44.674776, 48.952565])"
      ]
     },
     "execution_count": 238,
     "metadata": {},
     "output_type": "execute_result"
    }
   ],
   "source": [
    "np.sort(a)"
   ]
  },
  {
   "cell_type": "code",
   "execution_count": 247,
   "id": "91927aa5",
   "metadata": {
    "scrolled": true
   },
   "outputs": [
    {
     "data": {
      "text/plain": [
       "array([ 1,  2,  3,  4,  5,  6,  7,  8,  9, 10])"
      ]
     },
     "execution_count": 247,
     "metadata": {},
     "output_type": "execute_result"
    }
   ],
   "source": [
    "np.random.seed(100)\n",
    "arr = np.random.randint(1,11,size=(6,10))\n",
    "np.unique(arr)"
   ]
  },
  {
   "cell_type": "code",
   "execution_count": 248,
   "id": "5bbca3be",
   "metadata": {},
   "outputs": [],
   "source": [
    "def counts_of_all_values_rowwise(arr2d):\n",
    "    num_counts_array = [np.unique(row,return_counts=True) for row in arr2d]\n",
    "    return ([[int(b[a==i]) if i in a else 0 for i in np.unique(arr)] for a,b in num_counts_array])\n"
   ]
  },
  {
   "cell_type": "code",
   "execution_count": 250,
   "id": "b3348bb6",
   "metadata": {},
   "outputs": [
    {
     "name": "stdout",
     "output_type": "stream",
     "text": [
      "[ 1  2  3  4  5  6  7  8  9 10]\n"
     ]
    },
    {
     "data": {
      "text/plain": [
       "[[1, 0, 2, 1, 1, 1, 0, 2, 2, 0],\n",
       " [2, 1, 3, 0, 1, 0, 1, 0, 1, 1],\n",
       " [0, 3, 0, 2, 3, 1, 0, 1, 0, 0],\n",
       " [1, 0, 2, 1, 0, 1, 0, 2, 1, 2],\n",
       " [2, 2, 2, 0, 0, 1, 1, 1, 1, 0],\n",
       " [1, 1, 1, 1, 1, 2, 0, 0, 2, 1]]"
      ]
     },
     "execution_count": 250,
     "metadata": {},
     "output_type": "execute_result"
    }
   ],
   "source": [
    "print(np.arange(1,11))\n",
    "counts_of_all_values_rowwise(arr)"
   ]
  },
  {
   "cell_type": "code",
   "execution_count": 255,
   "id": "b039337f",
   "metadata": {},
   "outputs": [
    {
     "name": "stderr",
     "output_type": "stream",
     "text": [
      "/Users/yanshuo/opt/anaconda3/lib/python3.7/site-packages/ipykernel_launcher.py:4: VisibleDeprecationWarning: Creating an ndarray from ragged nested sequences (which is a list-or-tuple of lists-or-tuples-or ndarrays with different lengths or shapes) is deprecated. If you meant to do this, you must specify 'dtype=object' when creating the ndarray.\n",
      "  after removing the cwd from sys.path.\n"
     ]
    },
    {
     "data": {
      "text/plain": [
       "array([0, 1, 2, 3, 4, 5, 6, 7, 8, 9])"
      ]
     },
     "execution_count": 255,
     "metadata": {},
     "output_type": "execute_result"
    }
   ],
   "source": [
    "arr1 = np.arange(3)\n",
    "arr2 = np.arange(3,7)\n",
    "arr3 = np.arange(7,10)\n",
    "array_of_arrays = np.array([arr1,arr2,arr3])\n",
    "np.array([a for arr in array_of_arrays for a in arr])"
   ]
  },
  {
   "cell_type": "code",
   "execution_count": 258,
   "id": "10d6569f",
   "metadata": {},
   "outputs": [
    {
     "data": {
      "text/plain": [
       "array([0, 1, 2, 3, 4, 5, 6, 7, 8, 9])"
      ]
     },
     "execution_count": 258,
     "metadata": {},
     "output_type": "execute_result"
    }
   ],
   "source": [
    "arr = np.concatenate(array_of_arrays)\n",
    "arr"
   ]
  },
  {
   "cell_type": "code",
   "execution_count": 260,
   "id": "71fc60a6",
   "metadata": {},
   "outputs": [
    {
     "data": {
      "text/plain": [
       "array([2, 3, 2, 2, 2, 1])"
      ]
     },
     "execution_count": 260,
     "metadata": {},
     "output_type": "execute_result"
    }
   ],
   "source": [
    "np.random.seed(101)\n",
    "arr = np.random.randint(1,4,size=6)\n",
    "arr"
   ]
  },
  {
   "cell_type": "code",
   "execution_count": 265,
   "id": "6de39119",
   "metadata": {},
   "outputs": [
    {
     "data": {
      "text/plain": [
       "[[0, 1, 0], [0, 0, 1], [0, 1, 0], [0, 1, 0], [0, 1, 0], [1, 0, 0]]"
      ]
     },
     "execution_count": 265,
     "metadata": {},
     "output_type": "execute_result"
    }
   ],
   "source": [
    "arr = arr.reshape(6,-1)\n",
    "np.unique(arr,return_counts=True)\n",
    "def one_hot_code(arr):\n",
    "    num_counts_array = [np.unique(row,return_counts=True) for row in arr]\n",
    "    return ([[1 if i in a else 0 for i in np.unique(arr)] for a,b in num_counts_array])\n",
    "\n",
    "one_hot_code(arr)"
   ]
  },
  {
   "cell_type": "code",
   "execution_count": 264,
   "id": "81e779af",
   "metadata": {},
   "outputs": [
    {
     "data": {
      "text/plain": [
       "[(array([2]), array([1])),\n",
       " (array([3]), array([1])),\n",
       " (array([2]), array([1])),\n",
       " (array([2]), array([1])),\n",
       " (array([2]), array([1])),\n",
       " (array([1]), array([1]))]"
      ]
     },
     "execution_count": 264,
     "metadata": {},
     "output_type": "execute_result"
    }
   ],
   "source": [
    "[np.unique(row,return_counts=True) for row in arr]"
   ]
  },
  {
   "cell_type": "code",
   "execution_count": 267,
   "id": "553efdd5",
   "metadata": {},
   "outputs": [
    {
     "data": {
      "text/plain": [
       "array([[0., 1., 0.],\n",
       "       [0., 0., 1.],\n",
       "       [0., 1., 0.],\n",
       "       [0., 1., 0.],\n",
       "       [0., 1., 0.],\n",
       "       [1., 0., 0.]])"
      ]
     },
     "execution_count": 267,
     "metadata": {},
     "output_type": "execute_result"
    }
   ],
   "source": [
    "def one_hot_encodings(arr):\n",
    "    uniqs = np.unique(arr)\n",
    "    out = np.zeros((arr.shape[0],uniqs.shape[0]))\n",
    "    for i,k in enumerate(arr):\n",
    "        out[i,k-1]=1\n",
    "    return out\n",
    "one_hot_encodings(arr)"
   ]
  },
  {
   "cell_type": "code",
   "execution_count": 269,
   "id": "0bbb4797",
   "metadata": {},
   "outputs": [
    {
     "data": {
      "text/plain": [
       "array([[[0, 1, 0]],\n",
       "\n",
       "       [[0, 0, 1]],\n",
       "\n",
       "       [[0, 1, 0]],\n",
       "\n",
       "       [[0, 1, 0]],\n",
       "\n",
       "       [[0, 1, 0]],\n",
       "\n",
       "       [[1, 0, 0]]], dtype=int8)"
      ]
     },
     "execution_count": 269,
     "metadata": {},
     "output_type": "execute_result"
    }
   ],
   "source": [
    "(arr[:, None] == np.unique(arr)).view(np.int8)\n"
   ]
  },
  {
   "cell_type": "code",
   "execution_count": 271,
   "id": "dff010b0",
   "metadata": {},
   "outputs": [
    {
     "data": {
      "text/plain": [
       "array([b'Iris-setosa', b'Iris-setosa', b'Iris-setosa', b'Iris-versicolor',\n",
       "       b'Iris-versicolor', b'Iris-versicolor', b'Iris-versicolor',\n",
       "       b'Iris-versicolor', b'Iris-versicolor', b'Iris-versicolor',\n",
       "       b'Iris-versicolor', b'Iris-versicolor', b'Iris-versicolor',\n",
       "       b'Iris-virginica', b'Iris-virginica', b'Iris-virginica',\n",
       "       b'Iris-virginica', b'Iris-virginica', b'Iris-virginica',\n",
       "       b'Iris-virginica'], dtype=object)"
      ]
     },
     "execution_count": 271,
     "metadata": {},
     "output_type": "execute_result"
    }
   ],
   "source": [
    "specis = np.genfromtxt(url,delimiter=',',dtype='str',usecols=4)\n",
    "species = np.sort(np.random.choice(species,size=20))\n",
    "species"
   ]
  },
  {
   "cell_type": "code",
   "execution_count": 273,
   "id": "8d0fc848",
   "metadata": {},
   "outputs": [
    {
     "data": {
      "text/plain": [
       "[0, 1, 2, 0, 1, 2, 3, 4, 5, 6, 7, 8, 9, 0, 1, 2, 3, 4, 5, 6]"
      ]
     },
     "execution_count": 273,
     "metadata": {},
     "output_type": "execute_result"
    }
   ],
   "source": [
    "[i for val in np.unique(species) for i,gap in enumerate(species[species==val])]"
   ]
  },
  {
   "cell_type": "code",
   "execution_count": 283,
   "id": "4af91a80",
   "metadata": {},
   "outputs": [
    {
     "data": {
      "text/plain": [
       "[0, 0, 0, 1, 1, 1, 1, 1, 1, 1, 1, 1, 1, 2, 2, 2, 2, 2, 2, 2]"
      ]
     },
     "execution_count": 283,
     "metadata": {},
     "output_type": "execute_result"
    }
   ],
   "source": [
    "[np.argwhere(np.unique(species)==gap).tolist()[0][0] for val in np.unique(species) for gap in species[species==val]]"
   ]
  },
  {
   "cell_type": "code",
   "execution_count": 292,
   "id": "cc8cb465",
   "metadata": {},
   "outputs": [
    {
     "name": "stdout",
     "output_type": "stream",
     "text": [
      "[ 9  4 15  0 17 16 17  8  9  0]\n",
      "[3 9 1 7 0 8 2 5 4 6]\n"
     ]
    },
    {
     "data": {
      "text/plain": [
       "array([4, 2, 6, 0, 8, 7, 9, 3, 5, 1])"
      ]
     },
     "execution_count": 292,
     "metadata": {},
     "output_type": "execute_result"
    }
   ],
   "source": [
    "np.random.seed(10)\n",
    "a = np.random.randint(20,size=10)\n",
    "print(a)\n",
    "print(a.argsort())\n",
    "a.argsort().argsort()"
   ]
  },
  {
   "cell_type": "code",
   "execution_count": 287,
   "id": "c833cbaf",
   "metadata": {},
   "outputs": [
    {
     "data": {
      "text/plain": [
       "(array([b'Iris-setosa', b'Iris-versicolor', b'Iris-virginica'],\n",
       "       dtype=object),\n",
       " array([ 3, 10,  7]))"
      ]
     },
     "execution_count": 287,
     "metadata": {},
     "output_type": "execute_result"
    }
   ],
   "source": [
    "np.unique(species,return_counts=True)"
   ]
  },
  {
   "cell_type": "code",
   "execution_count": 288,
   "id": "4a510a09",
   "metadata": {},
   "outputs": [
    {
     "name": "stdout",
     "output_type": "stream",
     "text": [
      "[[10  8  4 19 16]\n",
      " [ 4 15 11 11  1]]\n"
     ]
    }
   ],
   "source": [
    "a = np.random.randint(20,size=[2,5])\n",
    "print(a)\n"
   ]
  },
  {
   "cell_type": "code",
   "execution_count": 291,
   "id": "1a9610fa",
   "metadata": {},
   "outputs": [
    {
     "name": "stdout",
     "output_type": "stream",
     "text": [
      "[[4 3 1 9 8]\n",
      " [2 7 5 6 0]]\n"
     ]
    }
   ],
   "source": [
    "print(a.ravel().argsort().argsort().reshape(a.shape))"
   ]
  },
  {
   "cell_type": "code",
   "execution_count": 296,
   "id": "67eb9bfe",
   "metadata": {},
   "outputs": [
    {
     "data": {
      "text/plain": [
       "(array([[9, 9, 4],\n",
       "        [8, 8, 1],\n",
       "        [5, 3, 6],\n",
       "        [3, 3, 3],\n",
       "        [2, 1, 9]]),\n",
       " array([[1, 0, 2],\n",
       "        [0, 1, 2],\n",
       "        [1, 0, 2],\n",
       "        [2, 0, 1],\n",
       "        [2, 0, 1]]))"
      ]
     },
     "execution_count": 296,
     "metadata": {},
     "output_type": "execute_result"
    }
   ],
   "source": [
    "np.random.seed(100)\n",
    "a = np.random.randint(1,10, [5,3])\n",
    "a, a.argsort()[::-1]\n"
   ]
  },
  {
   "cell_type": "code",
   "execution_count": 298,
   "id": "c01127cc",
   "metadata": {},
   "outputs": [
    {
     "data": {
      "text/plain": [
       "array([9, 8, 6, 3, 9])"
      ]
     },
     "execution_count": 298,
     "metadata": {},
     "output_type": "execute_result"
    }
   ],
   "source": [
    "np.amax(a,axis=1)"
   ]
  },
  {
   "cell_type": "code",
   "execution_count": 299,
   "id": "e2da6fa0",
   "metadata": {},
   "outputs": [
    {
     "data": {
      "text/plain": [
       "array([9, 8, 6, 3, 9])"
      ]
     },
     "execution_count": 299,
     "metadata": {},
     "output_type": "execute_result"
    }
   ],
   "source": [
    "np.apply_along_axis(np.max,arr=a,axis=1)"
   ]
  },
  {
   "cell_type": "code",
   "execution_count": 301,
   "id": "84165d6f",
   "metadata": {},
   "outputs": [
    {
     "data": {
      "text/plain": [
       "array([0.444444, 0.125   , 0.5     , 1.      , 0.111111])"
      ]
     },
     "execution_count": 301,
     "metadata": {},
     "output_type": "execute_result"
    }
   ],
   "source": [
    "np.apply_along_axis(lambda x:np.min(x)/np.max(x),arr=a,axis=1)"
   ]
  },
  {
   "cell_type": "code",
   "execution_count": 306,
   "id": "9a92b8a9",
   "metadata": {},
   "outputs": [
    {
     "data": {
      "text/plain": [
       "[False, True, False, False, True, False, False, False, False, False]"
      ]
     },
     "execution_count": 306,
     "metadata": {},
     "output_type": "execute_result"
    }
   ],
   "source": [
    "np.random.seed(100)\n",
    "a = np.random.randint(0, 5, 10)\n",
    "b = [i for val in np.unique(a) for i,v in enumerate(a[a==val])]\n",
    "\n",
    "[True if i==0 else False for i in b]"
   ]
  },
  {
   "cell_type": "code",
   "execution_count": 308,
   "id": "6dd0c83f",
   "metadata": {},
   "outputs": [
    {
     "data": {
      "text/plain": [
       "array([0, 4, 2, 5])"
      ]
     },
     "execution_count": 308,
     "metadata": {},
     "output_type": "execute_result"
    }
   ],
   "source": [
    "np.unique(a, return_index=True)[1]"
   ]
  },
  {
   "cell_type": "code",
   "execution_count": 309,
   "id": "56da50c5",
   "metadata": {},
   "outputs": [
    {
     "data": {
      "text/plain": [
       "[0, 1, 2, 0, 1, 2, 3, 4, 0, 0]"
      ]
     },
     "execution_count": 309,
     "metadata": {},
     "output_type": "execute_result"
    }
   ],
   "source": [
    "b"
   ]
  },
  {
   "cell_type": "code",
   "execution_count": null,
   "id": "92458feb",
   "metadata": {},
   "outputs": [],
   "source": []
  }
 ],
 "metadata": {
  "kernelspec": {
   "display_name": "Python 3",
   "language": "python",
   "name": "python3"
  },
  "language_info": {
   "codemirror_mode": {
    "name": "ipython",
    "version": 3
   },
   "file_extension": ".py",
   "mimetype": "text/x-python",
   "name": "python",
   "nbconvert_exporter": "python",
   "pygments_lexer": "ipython3",
   "version": "3.7.10"
  }
 },
 "nbformat": 4,
 "nbformat_minor": 5
}
