{
 "cells": [
  {
   "cell_type": "code",
   "execution_count": 163,
   "id": "acb2fad9",
   "metadata": {},
   "outputs": [
    {
     "name": "stdout",
     "output_type": "stream",
     "text": [
      "[[1. 2.]\n",
      " [3. 4.]]\n",
      "[[5. 6.]\n",
      " [7. 8.]]\n",
      "[[ 6.  8.]\n",
      " [10. 12.]]\n",
      "[[-4. -4.]\n",
      " [-4. -4.]]\n",
      "[[ 5. 12.]\n",
      " [21. 32.]]\n",
      "[[0.2        0.33333333]\n",
      " [0.42857143 0.5       ]]\n"
     ]
    }
   ],
   "source": [
    "import numpy as np\n",
    "a = np.array([[1.0,2.0],[3.0,4.0]])\n",
    "b = np.array([[5.0,6.0],[7.0,8.0]])\n",
    "sum = a+b\n",
    "difference = a-b\n",
    "product = a*b \n",
    "quotient = a/b\n",
    "print(a)\n",
    "print(b)\n",
    "print(sum)\n",
    "print(difference)\n",
    "print(product)\n",
    "print(quotient)"
   ]
  },
  {
   "cell_type": "code",
   "execution_count": 4,
   "id": "fa8cc1f2",
   "metadata": {},
   "outputs": [
    {
     "name": "stdout",
     "output_type": "stream",
     "text": [
      "[[19. 22.]\n",
      " [43. 50.]]\n"
     ]
    }
   ],
   "source": [
    "maxtrix_product = a.dot(b)\n",
    "print(maxtrix_product)"
   ]
  },
  {
   "cell_type": "code",
   "execution_count": 5,
   "id": "c3b28d4a",
   "metadata": {},
   "outputs": [],
   "source": [
    "a = np.array([0,1,2,3,4,5])\n",
    "b = np.array([0,1,2,3,4,5])\n",
    "c = np.arange(5)\n",
    "d = np.linspace(0,2*np.pi,5)"
   ]
  },
  {
   "cell_type": "code",
   "execution_count": 7,
   "id": "f2ccd297",
   "metadata": {},
   "outputs": [
    {
     "name": "stdout",
     "output_type": "stream",
     "text": [
      "[0 1 2 3 4 5]\n",
      "[0 1 2 3 4 5]\n",
      "[0 1 2 3 4]\n",
      "[0.         1.57079633 3.14159265 4.71238898 6.28318531]\n",
      "6.283185307179586\n"
     ]
    }
   ],
   "source": [
    "print(a)\n",
    "print(b)\n",
    "print(c)\n",
    "print(d)\n",
    "print(d[4])"
   ]
  },
  {
   "cell_type": "code",
   "execution_count": 9,
   "id": "20c0921f",
   "metadata": {},
   "outputs": [
    {
     "name": "stdout",
     "output_type": "stream",
     "text": [
      "25\n"
     ]
    }
   ],
   "source": [
    "a= np.array([[11, 12, 13, 14, 15],\n",
    "              [16, 17, 18, 19, 20],\n",
    "              [21, 22, 23, 24, 25],\n",
    "              [26, 27, 28 ,29, 30],\n",
    "              [31, 32, 33, 34, 35]])\n",
    "print(a[2,4])\n"
   ]
  },
  {
   "cell_type": "code",
   "execution_count": 11,
   "id": "9bc9aa8e",
   "metadata": {},
   "outputs": [
    {
     "name": "stdout",
     "output_type": "stream",
     "text": [
      "[12 13 14]\n",
      "[[24]]\n"
     ]
    }
   ],
   "source": [
    "print(a[0,1:4])\n",
    "print(a[2:3,3:4])"
   ]
  },
  {
   "cell_type": "code",
   "execution_count": 18,
   "id": "cd0f4ce2",
   "metadata": {},
   "outputs": [
    {
     "name": "stdout",
     "output_type": "stream",
     "text": [
      "[[11 12 13 14 15]\n",
      " [21 22 23 24 25]\n",
      " [31 32 33 34 35]]\n",
      "[[11 14]\n",
      " [21 24]\n",
      " [31 34]]\n",
      "[[11 12 13 14 15]]\n",
      "[12 17 22 27 32]\n"
     ]
    }
   ],
   "source": [
    "print(a[::2])\n",
    "print(a[::2,::3])\n",
    "print(a[:1])\n",
    "print(a[:,1])"
   ]
  },
  {
   "cell_type": "code",
   "execution_count": 19,
   "id": "973af2a2",
   "metadata": {},
   "outputs": [
    {
     "name": "stdout",
     "output_type": "stream",
     "text": [
      "<class 'numpy.ndarray'>\n",
      "int64\n",
      "25\n",
      "(5, 5)\n",
      "8\n",
      "2\n",
      "200\n"
     ]
    }
   ],
   "source": [
    "print(type(a))\n",
    "print(a.dtype)\n",
    "print(a.size)\n",
    "print(a.shape)\n",
    "print(a.itemsize)\n",
    "print(a.ndim)\n",
    "print(a.nbytes)\n"
   ]
  },
  {
   "cell_type": "code",
   "execution_count": 22,
   "id": "d314378d",
   "metadata": {},
   "outputs": [
    {
     "name": "stdout",
     "output_type": "stream",
     "text": [
      "[[ 10  63   3  17   6]\n",
      " [ 61  85   9   9  54]\n",
      " [ 14 103  17  68  77]\n",
      " [ 58  51  23  71  43]\n",
      " [ 76  24  78  67 102]]\n",
      "[[-10 -61   1 -11   2]\n",
      " [-51 -73   5   7 -36]\n",
      " [  6 -81   7 -42 -49]\n",
      " [-28 -19  11 -35  -5]\n",
      " [-36  18 -34 -21 -54]]\n",
      "[[   0   62    2   42    8]\n",
      " [ 280  474   14    8  405]\n",
      " [  40 1012   60  715  882]\n",
      " [ 645  560  102  954  456]\n",
      " [1120   63 1232 1012 1872]]\n",
      "[[0.         0.01612903 2.         0.21428571 2.        ]\n",
      " [0.08928571 0.07594937 3.5        8.         0.2       ]\n",
      " [2.5        0.11956522 2.4        0.23636364 0.22222222]\n",
      " [0.34883721 0.45714286 2.83333333 0.33962264 0.79166667]\n",
      " [0.35714286 7.         0.39285714 0.52272727 0.30769231]]\n",
      "[[  0   1   4   9  16]\n",
      " [ 25  36  49  64  81]\n",
      " [100 121 144 169 196]\n",
      " [225 256 289 324 361]\n",
      " [400 441 484 529 576]]\n",
      "[[ True  True False  True False]\n",
      " [ True  True False False  True]\n",
      " [False  True False  True  True]\n",
      " [ True  True False  True  True]\n",
      " [ True False  True  True  True]]\n",
      "[[False False  True False  True]\n",
      " [False False  True  True False]\n",
      " [ True False  True False False]\n",
      " [False False  True False False]\n",
      " [False  True False False False]]\n"
     ]
    }
   ],
   "source": [
    "a = np.arange(25)\n",
    "a = a.reshape((5,5))\n",
    "b = np.array([10, 62, 1, 14, 2, 56, 79, 2, 1, 45,\n",
    "              4, 92, 5, 55, 63, 43, 35, 6, 53, 24,\n",
    "              56, 3, 56, 44, 78])\n",
    "b = b.reshape((5,5))\n",
    "print(a+b)\n",
    "print(a-b)\n",
    "print(a*b)\n",
    "print(a/b)\n",
    "print(a**2)\n",
    "print(a<b)\n",
    "print(a>b)\n"
   ]
  },
  {
   "cell_type": "code",
   "execution_count": 23,
   "id": "af8c3463",
   "metadata": {},
   "outputs": [
    {
     "name": "stdout",
     "output_type": "stream",
     "text": [
      "[[ 417  380  254  446  555]\n",
      " [1262 1735  604 1281 1615]\n",
      " [2107 3090  954 2116 2675]\n",
      " [2952 4445 1304 2951 3735]\n",
      " [3797 5800 1654 3786 4795]]\n"
     ]
    }
   ],
   "source": [
    "print(a.dot(b))"
   ]
  },
  {
   "cell_type": "code",
   "execution_count": 27,
   "id": "ae0dc348",
   "metadata": {},
   "outputs": [
    {
     "name": "stdout",
     "output_type": "stream",
     "text": [
      "45\n",
      "9\n",
      "0\n",
      "[ 0  1  3  6 10 15 21 28 36 45]\n"
     ]
    }
   ],
   "source": [
    "a = np.arange(10)\n",
    "print(a.sum())\n",
    "print(a.max())\n",
    "print(a.min())\n",
    "print(a.cumsum())"
   ]
  },
  {
   "cell_type": "code",
   "execution_count": 29,
   "id": "2b788af3",
   "metadata": {},
   "outputs": [
    {
     "name": "stdout",
     "output_type": "stream",
     "text": [
      "[ 0 10 20 30 40 50 60 70 80 90]\n",
      "[10 50 90]\n"
     ]
    }
   ],
   "source": [
    "a = np.arange(0,100,10)\n",
    "indices = [1,5,-1]\n",
    "print(a)\n",
    "print(a[indices])"
   ]
  },
  {
   "cell_type": "code",
   "execution_count": 31,
   "id": "9cb0de72",
   "metadata": {},
   "outputs": [
    {
     "data": {
      "text/plain": [
       "[<matplotlib.lines.Line2D at 0x7f9fb2faf150>]"
      ]
     },
     "execution_count": 31,
     "metadata": {},
     "output_type": "execute_result"
    },
    {
     "data": {
      "image/png": "[encoded data removed]",
      "text/plain": [
       "<Figure size 432x288 with 1 Axes>"
      ]
     },
     "metadata": {
      "needs_background": "light"
     },
     "output_type": "display_data"
    }
   ],
   "source": [
    "import matplotlib.pyplot as plt\n",
    "a = np.linspace(0,2*np.pi,50)\n",
    "b = np.sin(a)\n",
    "plt.plot(a,b)\n",
    "mask = b>=0\n",
    "plt.plot(a[mask],b[mask],'bo')\n",
    "# mask = (b>=0)&(a<=np.pi/2)\n",
    "# plt.plot(a[mask],b[mask],'go')\n",
    "# plt.show()"
   ]
  },
  {
   "cell_type": "code",
   "execution_count": 34,
   "id": "1d1a1210",
   "metadata": {},
   "outputs": [
    {
     "data": {
      "image/png": "[encoded data removed]",
      "text/plain": [
       "<Figure size 432x288 with 1 Axes>"
      ]
     },
     "metadata": {
      "needs_background": "light"
     },
     "output_type": "display_data"
    }
   ],
   "source": [
    "a = np.linspace(0,2*np.pi,50)\n",
    "b = np.sin(a)\n",
    "plt.plot(a,b)\n",
    "# mask = b>=0\n",
    "# plt.plot(a[mask],b[mask],'bo')\n",
    "mask = (b>=0)&(a<=np.pi/2)\n",
    "plt.plot(a[mask],b[mask],'go')\n",
    "plt.show()"
   ]
  },
  {
   "cell_type": "code",
   "execution_count": 36,
   "id": "8866d5d7",
   "metadata": {},
   "outputs": [
    {
     "name": "stdout",
     "output_type": "stream",
     "text": [
      "[ 0 10 20 30 40]\n",
      "[50 60 70 80 90]\n"
     ]
    }
   ],
   "source": [
    "a = np.arange(0,100,10)\n",
    "b = a[:5]\n",
    "c = a[a>=50]\n",
    "print(b)\n",
    "print(c)"
   ]
  },
  {
   "cell_type": "code",
   "execution_count": 38,
   "id": "1086d8df",
   "metadata": {},
   "outputs": [
    {
     "name": "stdout",
     "output_type": "stream",
     "text": [
      "[ 0 10 20 30 40 50 60 70 80 90] (array([0, 1, 2, 3, 4]),) [5 6 7 8 9]\n"
     ]
    }
   ],
   "source": [
    "a = np.arange(0,100,10)\n",
    "b = np.where(a<50)\n",
    "c = np.where(a>=50)[0]\n",
    "print(a,b,c)"
   ]
  },
  {
   "cell_type": "code",
   "execution_count": 40,
   "id": "9f963739",
   "metadata": {},
   "outputs": [
    {
     "name": "stdout",
     "output_type": "stream",
     "text": [
      "[1, 2, 3, 4, 5, 6, 7, 8, 10]\n"
     ]
    }
   ],
   "source": [
    "def quicksort(arr):\n",
    "    if len(arr)<=1:\n",
    "        return arr\n",
    "    pivot = arr[len(arr)//2]\n",
    "    left = [x for x in arr if x<pivot]\n",
    "    mid = [x for x in arr if x==pivot]\n",
    "    right = [x for x in arr if x>pivot]\n",
    "    return quicksort(left)+mid+quicksort(right)\n",
    "print(quicksort([2,3,4,5,6,8,10,1,7]))"
   ]
  },
  {
   "cell_type": "code",
   "execution_count": 49,
   "id": "05f6c6a8",
   "metadata": {},
   "outputs": [
    {
     "name": "stdout",
     "output_type": "stream",
     "text": [
      "<class 'int'>\n",
      "3\n",
      "4\n",
      "2\n",
      "6\n",
      "9\n",
      "4\n",
      "8\n",
      "<class 'float'>\n",
      "2.5 3.5 5.0 6.25\n"
     ]
    }
   ],
   "source": [
    "x = 3\n",
    "print(type(3))\n",
    "print(x)\n",
    "print(x+1)\n",
    "print(x-1)\n",
    "print(x*2)\n",
    "print(x**2)\n",
    "x+=1\n",
    "print(x)\n",
    "x*=2\n",
    "print(x)\n",
    "y = 2.5\n",
    "print(type(y))\n",
    "print(y,y+1,y*2,y**2)"
   ]
  },
  {
   "cell_type": "code",
   "execution_count": 51,
   "id": "4e9e578e",
   "metadata": {},
   "outputs": [
    {
     "name": "stdout",
     "output_type": "stream",
     "text": [
      "<class 'bool'>\n",
      "False\n",
      "True\n",
      "False\n",
      "True\n"
     ]
    }
   ],
   "source": [
    "t = True\n",
    "f = False\n",
    "print(type(t))\n",
    "print(t and f)\n",
    "print(t or f)\n",
    "print(not t)\n",
    "print(t!=f)"
   ]
  },
  {
   "cell_type": "code",
   "execution_count": 52,
   "id": "02e95a84",
   "metadata": {},
   "outputs": [
    {
     "name": "stdout",
     "output_type": "stream",
     "text": [
      "Hello\n",
      "World\n",
      "HelloWorld\n"
     ]
    }
   ],
   "source": [
    "hello= 'Hello'\n",
    "world = 'World'\n",
    "print(hello)\n",
    "print(world)\n",
    "print(hello+world)"
   ]
  },
  {
   "cell_type": "code",
   "execution_count": 55,
   "id": "f8e8fca6",
   "metadata": {},
   "outputs": [
    {
     "name": "stdout",
     "output_type": "stream",
     "text": [
      "Hello World 12\n"
     ]
    }
   ],
   "source": [
    "hw12 = '%s %s %d' %(hello,world,12)\n",
    "print(hw12)"
   ]
  },
  {
   "cell_type": "code",
   "execution_count": 60,
   "id": "eaaaa151",
   "metadata": {},
   "outputs": [
    {
     "name": "stdout",
     "output_type": "stream",
     "text": [
      "Hello\n",
      "HELLO\n",
      "  Hello\n",
      " Hello \n",
      "He(ell)(ell)o\n",
      "world\n"
     ]
    }
   ],
   "source": [
    "s = 'Hello'\n",
    "print(s.capitalize())\n",
    "print(s.upper())\n",
    "print(s.rjust(7))\n",
    "print(s.center(7))\n",
    "print(s.replace('l','(ell)'))\n",
    "print(' world'.strip())"
   ]
  },
  {
   "cell_type": "code",
   "execution_count": 63,
   "id": "1df4a988",
   "metadata": {},
   "outputs": [
    {
     "name": "stdout",
     "output_type": "stream",
     "text": [
      "[3, 1, 2] 2\n",
      "2\n",
      "[3, 1, 'foo']\n"
     ]
    }
   ],
   "source": [
    "xs = [3,1,2]\n",
    "print(xs,xs[2])\n",
    "print(xs[-1])\n",
    "xs[2]='foo'\n",
    "print(xs)"
   ]
  },
  {
   "cell_type": "code",
   "execution_count": 66,
   "id": "09210cf7",
   "metadata": {},
   "outputs": [
    {
     "name": "stdout",
     "output_type": "stream",
     "text": [
      "[3, 1, 'foo', 'bar']\n",
      "bar\n",
      "bar [3, 1, 'foo']\n"
     ]
    }
   ],
   "source": [
    "xs.append('bar')\n",
    "print(xs)\n",
    "x = xs.pop()\n",
    "print(x)\n",
    "print(x,xs)"
   ]
  },
  {
   "cell_type": "code",
   "execution_count": 70,
   "id": "45497162",
   "metadata": {},
   "outputs": [
    {
     "name": "stdout",
     "output_type": "stream",
     "text": [
      "[0, 1, 2, 3, 4]\n",
      "[2, 3]\n",
      "[2, 3, 4]\n",
      "[0, 1]\n",
      "[0, 1, 2, 3, 4]\n",
      "[0, 1, 8, 9, 4]\n"
     ]
    }
   ],
   "source": [
    "nums = list(range(5))\n",
    "print(nums)\n",
    "print(nums[2:4])\n",
    "print(nums[2:])\n",
    "print(nums[:2])\n",
    "print(nums[:])\n",
    "nums[2:4]=[8,9]\n",
    "print(nums)"
   ]
  },
  {
   "cell_type": "code",
   "execution_count": 71,
   "id": "eb2939da",
   "metadata": {},
   "outputs": [
    {
     "name": "stdout",
     "output_type": "stream",
     "text": [
      "cat\n",
      "dog\n",
      "monkey\n"
     ]
    }
   ],
   "source": [
    "animals = ['cat','dog','monkey']\n",
    "for animal in animals:\n",
    "    print(animal)\n"
   ]
  },
  {
   "cell_type": "code",
   "execution_count": 73,
   "id": "2ba77e06",
   "metadata": {},
   "outputs": [
    {
     "name": "stdout",
     "output_type": "stream",
     "text": [
      "1:cat\n",
      "2:dog\n",
      "3:monkey\n"
     ]
    }
   ],
   "source": [
    "for idx,animal in enumerate(animals):\n",
    "    print('%d:%s'%(idx+1,animal))"
   ]
  },
  {
   "cell_type": "code",
   "execution_count": 75,
   "id": "c3a77f85",
   "metadata": {},
   "outputs": [
    {
     "name": "stdout",
     "output_type": "stream",
     "text": [
      "[0, 1, 4, 9, 16]\n"
     ]
    }
   ],
   "source": [
    "nums = [0,1,2,3,4]\n",
    "squars = [x**2 for x in nums]\n",
    "print(squars)"
   ]
  },
  {
   "cell_type": "code",
   "execution_count": 77,
   "id": "6278076b",
   "metadata": {},
   "outputs": [
    {
     "name": "stdout",
     "output_type": "stream",
     "text": [
      "[0, 4, 16]\n"
     ]
    }
   ],
   "source": [
    "even_squares=[x**2 for x in nums if x%2==0]\n",
    "print(even_squares)"
   ]
  },
  {
   "cell_type": "code",
   "execution_count": 82,
   "id": "b14ed1f4",
   "metadata": {},
   "outputs": [
    {
     "name": "stdout",
     "output_type": "stream",
     "text": [
      "cute\n",
      "True\n",
      "wet\n",
      "N/A\n",
      "wet\n",
      "N/A\n"
     ]
    }
   ],
   "source": [
    "d = {'cat':'cute','dog':'furry'}\n",
    "print(d['cat'])\n",
    "print('cat' in d)\n",
    "d['fish']='wet'\n",
    "print(d['fish'])\n",
    "print(d.get('monkey','N/A'))\n",
    "print(d.get('fish','N/A'))\n",
    "del d['fish']\n",
    "print(d.get('fish','N/A'))"
   ]
  },
  {
   "cell_type": "code",
   "execution_count": 84,
   "id": "ccf4e90a",
   "metadata": {},
   "outputs": [
    {
     "name": "stdout",
     "output_type": "stream",
     "text": [
      "person 2\n",
      "cat 4\n",
      "spider 8\n"
     ]
    }
   ],
   "source": [
    "d = {'person':2,'cat':4,'spider':8}\n",
    "for animal in d:\n",
    "    legs = d[animal]\n",
    "    print(animal,legs)\n",
    "    "
   ]
  },
  {
   "cell_type": "code",
   "execution_count": 87,
   "id": "cf8408dd",
   "metadata": {},
   "outputs": [
    {
     "name": "stdout",
     "output_type": "stream",
     "text": [
      "person 2\n",
      "cat 4\n",
      "spider 8\n"
     ]
    }
   ],
   "source": [
    "for animal,legs in d.items():\n",
    "    print(animal,legs)"
   ]
  },
  {
   "cell_type": "code",
   "execution_count": 89,
   "id": "63c109e4",
   "metadata": {},
   "outputs": [
    {
     "name": "stdout",
     "output_type": "stream",
     "text": [
      "{0: 0, 2: 4, 4: 16}\n"
     ]
    }
   ],
   "source": [
    "nums = [0,1,2,3,4]\n",
    "even_num_to_square = {x:x**2 for x in nums if x%2==0}\n",
    "print(even_num_to_square)"
   ]
  },
  {
   "cell_type": "code",
   "execution_count": 91,
   "id": "cfebc30f",
   "metadata": {},
   "outputs": [
    {
     "name": "stdout",
     "output_type": "stream",
     "text": [
      "True\n",
      "False\n",
      "True\n",
      "3\n",
      "3\n",
      "2\n"
     ]
    }
   ],
   "source": [
    "animals = {'cat','dog'}\n",
    "print('cat' in animals)\n",
    "print('fish' in animals)\n",
    "animals.add('fish')\n",
    "print('fish' in animals)\n",
    "print(len(animals))\n",
    "animals.add('cat')\n",
    "print(len(animals))\n",
    "animals.remove('cat')\n",
    "print(len(animals))"
   ]
  },
  {
   "cell_type": "code",
   "execution_count": 92,
   "id": "cb6cb008",
   "metadata": {},
   "outputs": [
    {
     "name": "stdout",
     "output_type": "stream",
     "text": [
      "1 dog\n",
      "2 cat\n",
      "3 fish\n"
     ]
    }
   ],
   "source": [
    "animals = {'cat','dog','fish'}\n",
    "for idx,animals in enumerate(animals):\n",
    "    print(idx+1,animals)"
   ]
  },
  {
   "cell_type": "code",
   "execution_count": 94,
   "id": "cd48d2d5",
   "metadata": {},
   "outputs": [
    {
     "name": "stdout",
     "output_type": "stream",
     "text": [
      "{0, 1, 2, 3, 4, 5}\n"
     ]
    }
   ],
   "source": [
    "from math import sqrt\n",
    "nums = {int(sqrt(x)) for x in range(30)}\n",
    "print(nums)"
   ]
  },
  {
   "cell_type": "code",
   "execution_count": 96,
   "id": "15fd30c9",
   "metadata": {},
   "outputs": [
    {
     "name": "stdout",
     "output_type": "stream",
     "text": [
      "<class 'tuple'>\n",
      "5\n",
      "1\n"
     ]
    }
   ],
   "source": [
    "d = {(x,x+1):x for x in range(10)}\n",
    "t = (5,6)\n",
    "print(type(t))\n",
    "print(d[t])\n",
    "print(d[(1,2)])"
   ]
  },
  {
   "cell_type": "code",
   "execution_count": 99,
   "id": "10841be5",
   "metadata": {},
   "outputs": [
    {
     "name": "stdout",
     "output_type": "stream",
     "text": [
      "opposite\n",
      "opposite\n",
      "opposite\n",
      "opposite\n",
      "opposite\n",
      "zero\n",
      "postive\n",
      "postive\n",
      "postive\n",
      "postive\n"
     ]
    }
   ],
   "source": [
    "def sign(x):\n",
    "    if x>0:\n",
    "        return 'postive'\n",
    "    elif x<0:\n",
    "        return 'opposite'\n",
    "    else:\n",
    "        return 'zero'\n",
    "for x in range(-10,10,2):\n",
    "    print(sign(x))"
   ]
  },
  {
   "cell_type": "code",
   "execution_count": 101,
   "id": "53ac4de4",
   "metadata": {},
   "outputs": [
    {
     "name": "stdout",
     "output_type": "stream",
     "text": [
      "Hello bob\n",
      "Hello FRED\n"
     ]
    }
   ],
   "source": [
    "def hello(name,loud=False):\n",
    "    if loud:\n",
    "        print('Hello %s'%name.upper())\n",
    "    else:\n",
    "        print('Hello %s'%name)\n",
    "hello('bob')\n",
    "hello('Fred',loud=True)"
   ]
  },
  {
   "cell_type": "code",
   "execution_count": 105,
   "id": "feed715f",
   "metadata": {},
   "outputs": [
    {
     "name": "stdout",
     "output_type": "stream",
     "text": [
      "Hello, Fred\n"
     ]
    }
   ],
   "source": [
    "class Greeter(object):\n",
    "    def __init__(self,name):\n",
    "        self.name = name\n",
    "    def greet(self,loud=False):\n",
    "        if loud:\n",
    "            print('Hello, %s' %self.name.upper())\n",
    "        else:\n",
    "            print('Hello, %s'%self.name)\n",
    "g = Greeter('Fred')\n",
    "g.greet()"
   ]
  },
  {
   "cell_type": "code",
   "execution_count": 107,
   "id": "5682e4be",
   "metadata": {},
   "outputs": [
    {
     "name": "stdout",
     "output_type": "stream",
     "text": [
      "Hello, FRED\n"
     ]
    }
   ],
   "source": [
    "g.greet(loud=True)"
   ]
  },
  {
   "cell_type": "code",
   "execution_count": 2,
   "id": "98ece17b",
   "metadata": {},
   "outputs": [
    {
     "name": "stdout",
     "output_type": "stream",
     "text": [
      "<class 'numpy.ndarray'>\n",
      "(3,)\n",
      "1 2 3\n",
      "[5 2 3]\n",
      "(2, 3)\n",
      "1 2 4\n"
     ]
    }
   ],
   "source": [
    "import numpy as np\n",
    "a = np.array([1,2,3])\n",
    "print(type(a))\n",
    "print(a.shape)\n",
    "print(a[0],a[1],a[2])\n",
    "a[0]=5\n",
    "print(a)\n",
    "b = np.array([[1,2,3],[4,5,6]])\n",
    "print(b.shape)\n",
    "print(b[0,0],b[0,1],b[1,0])"
   ]
  },
  {
   "cell_type": "code",
   "execution_count": 4,
   "id": "3a145123",
   "metadata": {},
   "outputs": [
    {
     "name": "stdout",
     "output_type": "stream",
     "text": [
      "[[0. 0.]\n",
      " [0. 0.]]\n",
      "[[0. 0.]]\n",
      "[[7 7]\n",
      " [7 7]]\n",
      "[[1. 0.]\n",
      " [0. 1.]]\n",
      "[[0.88735468 0.05862862]\n",
      " [0.71759987 0.07061126]]\n"
     ]
    }
   ],
   "source": [
    "import numpy as np\n",
    "a = np.zeros((2,2))\n",
    "print(a)\n",
    "b = np.zeros((1,2))\n",
    "print(b)\n",
    "c = np.full((2,2),7)\n",
    "print(c)\n",
    "d = np.eye(2)\n",
    "print(d)\n",
    "e = np.random.random((2,2))\n",
    "print(e)\n"
   ]
  },
  {
   "cell_type": "code",
   "execution_count": 6,
   "id": "72497b2e",
   "metadata": {},
   "outputs": [
    {
     "name": "stdout",
     "output_type": "stream",
     "text": [
      "[[2 3]\n",
      " [6 7]]\n"
     ]
    }
   ],
   "source": [
    "a = np.array([[1,2,3,4],[5,6,7,8],[9,10,11,12]])\n",
    "b = a[:2,1:3]\n",
    "print(b)"
   ]
  },
  {
   "cell_type": "code",
   "execution_count": 8,
   "id": "005e59b2",
   "metadata": {},
   "outputs": [
    {
     "name": "stdout",
     "output_type": "stream",
     "text": [
      "77\n",
      "77\n"
     ]
    }
   ],
   "source": [
    "print(a[0,1])\n",
    "b[0,0]=77\n",
    "print(a[0,1])"
   ]
  },
  {
   "cell_type": "code",
   "execution_count": 10,
   "id": "38f81ada",
   "metadata": {},
   "outputs": [
    {
     "name": "stdout",
     "output_type": "stream",
     "text": [
      "[6] [[5 6 7 8]]\n"
     ]
    }
   ],
   "source": [
    "import numpy as np\n",
    "a = np.array([[1,2,3,4],[5,6,7,8],[9,10,11,12]])\n",
    "row_r1 = a[1,1:2]\n",
    "row_r2 = a[1:2,:]\n",
    "print(row_r1,row_r2)"
   ]
  },
  {
   "cell_type": "code",
   "execution_count": 12,
   "id": "2b9f3ad6",
   "metadata": {},
   "outputs": [
    {
     "name": "stdout",
     "output_type": "stream",
     "text": [
      "[ 2  6 10] (3,)\n",
      "[[ 2]\n",
      " [ 6]\n",
      " [10]] (3, 1)\n"
     ]
    }
   ],
   "source": [
    "col_r1 = a[:,1]\n",
    "col_r2 = a[:,1:2]\n",
    "print(col_r1,col_r1.shape)\n",
    "print(col_r2,col_r2.shape)\n"
   ]
  },
  {
   "cell_type": "code",
   "execution_count": 14,
   "id": "a14531c3",
   "metadata": {},
   "outputs": [
    {
     "name": "stdout",
     "output_type": "stream",
     "text": [
      "[1 4 5]\n"
     ]
    }
   ],
   "source": [
    "a = np.array([[1,2],[3,4],[5,6]])\n",
    "print(a[[0,1,2],[0,1,0]])"
   ]
  },
  {
   "cell_type": "code",
   "execution_count": 17,
   "id": "10752a7d",
   "metadata": {},
   "outputs": [
    {
     "name": "stdout",
     "output_type": "stream",
     "text": [
      "[1 4 5]\n"
     ]
    }
   ],
   "source": [
    "print(np.array([a[0, 0], a[1, 1], a[2, 0]]))"
   ]
  },
  {
   "cell_type": "code",
   "execution_count": 19,
   "id": "300cb3b0",
   "metadata": {},
   "outputs": [
    {
     "name": "stdout",
     "output_type": "stream",
     "text": [
      "[2 2]\n",
      "[2 2]\n"
     ]
    }
   ],
   "source": [
    "print(a[[0,0],[1,1]])\n",
    "print(np.array([a[0,1],a[0,1]]))\n"
   ]
  },
  {
   "cell_type": "code",
   "execution_count": 20,
   "id": "5db2652a",
   "metadata": {},
   "outputs": [
    {
     "name": "stdout",
     "output_type": "stream",
     "text": [
      "[[ 1  2  3]\n",
      " [ 4  5  6]\n",
      " [ 7  8  9]\n",
      " [10 11 12]]\n"
     ]
    }
   ],
   "source": [
    "a = np.array([[1,2,3],[4,5,6],[7,8,9],[10,11,12]])\n",
    "print(a)\n"
   ]
  },
  {
   "cell_type": "code",
   "execution_count": 22,
   "id": "0bde74cb",
   "metadata": {},
   "outputs": [
    {
     "name": "stdout",
     "output_type": "stream",
     "text": [
      "[ 1  6  7 11]\n"
     ]
    }
   ],
   "source": [
    "b = np.array([0,2,0,1])\n",
    "print(a[np.arange(4),b])"
   ]
  },
  {
   "cell_type": "code",
   "execution_count": 24,
   "id": "c75e015b",
   "metadata": {},
   "outputs": [
    {
     "data": {
      "text/plain": [
       "array([11, 16, 17, 21])"
      ]
     },
     "execution_count": 24,
     "metadata": {},
     "output_type": "execute_result"
    }
   ],
   "source": [
    "a[np.arange(4),b]+10"
   ]
  },
  {
   "cell_type": "code",
   "execution_count": 25,
   "id": "47503dee",
   "metadata": {},
   "outputs": [
    {
     "name": "stdout",
     "output_type": "stream",
     "text": [
      "[[ 1  2  3]\n",
      " [ 4  5  6]\n",
      " [ 7  8  9]\n",
      " [10 11 12]]\n"
     ]
    }
   ],
   "source": [
    "print(a)"
   ]
  },
  {
   "cell_type": "code",
   "execution_count": 27,
   "id": "342f486e",
   "metadata": {},
   "outputs": [
    {
     "name": "stdout",
     "output_type": "stream",
     "text": [
      "[[False False]\n",
      " [ True  True]\n",
      " [ True  True]]\n"
     ]
    }
   ],
   "source": [
    "import numpy as np\n",
    "a = np.array([[1,2],[3,4],[5,6]])\n",
    "bool_idx =(a>2)\n",
    "print(bool_idx)"
   ]
  },
  {
   "cell_type": "code",
   "execution_count": 29,
   "id": "512a8b04",
   "metadata": {},
   "outputs": [
    {
     "name": "stdout",
     "output_type": "stream",
     "text": [
      "int64\n",
      "float64\n"
     ]
    }
   ],
   "source": [
    "x = np.array([1,2])\n",
    "print(x.dtype)\n",
    "y = np.array([1.0,2.0])\n",
    "print(y.dtype)\n"
   ]
  },
  {
   "cell_type": "code",
   "execution_count": 32,
   "id": "f3cd2a20",
   "metadata": {},
   "outputs": [
    {
     "name": "stdout",
     "output_type": "stream",
     "text": [
      "int64\n"
     ]
    }
   ],
   "source": [
    "y = np.array([1,2],dtype = np.int64)\n",
    "print(y.dtype)"
   ]
  },
  {
   "cell_type": "code",
   "execution_count": 35,
   "id": "0b032777",
   "metadata": {},
   "outputs": [
    {
     "name": "stdout",
     "output_type": "stream",
     "text": [
      "[[ 6.  8.]\n",
      " [10. 12.]]\n",
      "[[ 6.  8.]\n",
      " [10. 12.]]\n"
     ]
    }
   ],
   "source": [
    "x = np.array([[1,2],[3,4]],dtype=np.float64)\n",
    "y = np.array([[5,6],[7,8]],dtype=np.float64)\n",
    "print(x+y)\n",
    "print(np.add(x,y))\n"
   ]
  },
  {
   "cell_type": "code",
   "execution_count": 37,
   "id": "1eae0beb",
   "metadata": {},
   "outputs": [
    {
     "name": "stdout",
     "output_type": "stream",
     "text": [
      "[[-4. -4.]\n",
      " [-4. -4.]]\n",
      "[[ 5. 12.]\n",
      " [21. 32.]]\n",
      "[[0.2        0.33333333]\n",
      " [0.42857143 0.5       ]]\n",
      "[[0.2        0.33333333]\n",
      " [0.42857143 0.5       ]]\n"
     ]
    }
   ],
   "source": [
    "print(x-y)\n",
    "print(np.multiply(x,y))\n",
    "print(x/y)\n",
    "print(np.divide(x,y))\n"
   ]
  },
  {
   "cell_type": "code",
   "execution_count": 39,
   "id": "a9741379",
   "metadata": {},
   "outputs": [
    {
     "name": "stdout",
     "output_type": "stream",
     "text": [
      "[[1.         1.41421356]\n",
      " [1.73205081 2.        ]]\n"
     ]
    }
   ],
   "source": [
    "print(np.sqrt(x))"
   ]
  },
  {
   "cell_type": "code",
   "execution_count": 41,
   "id": "f068bcf8",
   "metadata": {},
   "outputs": [
    {
     "name": "stdout",
     "output_type": "stream",
     "text": [
      "219\n",
      "[29 67]\n",
      "[29 67]\n",
      "[29 67]\n"
     ]
    }
   ],
   "source": [
    "import numpy as np\n",
    "x = np.array([[1,2],[3,4]])\n",
    "y = np.array([[5,6],[7,8]])\n",
    "v = np.array([9,10])\n",
    "w = np.array([11,12])\n",
    "print(v.dot(w))\n",
    "print(np.dot(x,v))\n",
    "print(x.dot(v))\n",
    "print(np.dot(x,v))"
   ]
  },
  {
   "cell_type": "code",
   "execution_count": 43,
   "id": "46320c8b",
   "metadata": {},
   "outputs": [
    {
     "name": "stdout",
     "output_type": "stream",
     "text": [
      "[[19 22]\n",
      " [43 50]]\n",
      "[[19 22]\n",
      " [43 50]]\n"
     ]
    }
   ],
   "source": [
    "print(x.dot(y))\n",
    "print(np.dot(x,y))"
   ]
  },
  {
   "cell_type": "code",
   "execution_count": 48,
   "id": "63797a73",
   "metadata": {},
   "outputs": [
    {
     "name": "stdout",
     "output_type": "stream",
     "text": [
      "[[1 2]\n",
      " [3 4]]\n",
      "[[1 3]\n",
      " [2 4]]\n",
      "[1 2 3]\n",
      "[1 2 3]\n"
     ]
    }
   ],
   "source": [
    "x = np.array([[1,2],[3,4]])\n",
    "print(x)\n",
    "print(x.T)\n",
    "v = np.array([1,2,3])\n",
    "print(v)\n",
    "print(v.T)"
   ]
  },
  {
   "cell_type": "code",
   "execution_count": null,
   "id": "d11ff428",
   "metadata": {},
   "outputs": [],
   "source": [
    "import numpy as np\n",
    "x = np.array([[1,2],[3,4]])\n",
    "print(np.sum(x))\n",
    "print(np.sum(x,axis=0))\n",
    "print(np.sum(x,axis=1))\n"
   ]
  },
  {
   "cell_type": "code",
   "execution_count": 51,
   "id": "00dc17fc",
   "metadata": {},
   "outputs": [],
   "source": [
    "#1  感觉题目不够清晰   比如 首期到期0天的件数逾期 需不需要用户注册渠道为556  所有到期总件数  是指的第一期的 还是全部不管哪一期\n",
    "select d.loan_cnt, d.delay_loan/loan_cnt  as first_delay_ratio\n",
    "from \n",
    "(select b.month_id, count(distinct loan_id) as loan_cnt,\n",
    "     count(case when c.days > 0 then id end) as delay_loan\n",
    "from \n",
    "(select user_id from user where registered_from=556) a \n",
    "inner join (select user_id, loan_id, substr(transcted_at, 1, 7) as month_id from loan) b on a.user_id=b.user_id\n",
    "left join (select loan_id, datediff(repaid_at, dead_line) as days from repay where tern_no=1) c on b.loan_id=c.loan_id \n",
    "group by month_id) d\n",
    "\n",
    "\n",
    "#2\n",
    "import pandas as pd\n",
    "df = pd.read_excel('model3.xlsx')\n",
    "df.drop_duplicates('load_id',inplace=True)\n",
    "group = df.groupby(['transacted_at','term'])\n",
    "group.size()\n",
    "\n",
    "\n",
    "#3 \n",
    "import pandas as pd\n",
    "import numpy as np\n",
    "import json\n",
    "df['A']=np.nan\n",
    "df['B']=np.nan\n",
    "for i in range(df.shape[0]):\n",
    "    if np.isnan(df['content'][i]):\n",
    "        continue\n",
    "    content = df['content'][i]\n",
    "    content_dict = json.load(content)\n",
    "    if 'data' in content_dict:\n",
    "        if 'A' in content_dict['data']:\n",
    "            df['A'][i] = content_dict['data']['A']\n",
    "        if 'B' in content_dict['data']:\n",
    "            df['B'][i] = content_dict['data']['B']\n",
    "\n",
    "            \n",
    "#5\n",
    "dict_ratio = {500:25,400:20,300:15}\n",
    "def get_nums(total,begin,origin,sums,n):\n",
    "    if n==1:\n",
    "        return n-1\n",
    "    else:\n",
    "        begin = round(begin + begin*dict_ratio[origin]/100-dict_ratio[origin])\n",
    "        sums = sums + begin\n",
    "        get_nums(total,begin,origin,sums,n-1)\n",
    "def money(total):\n",
    "    for begin in [500,400,300]:\n",
    "        n = get_nums(total,begin,origin=begin,sums=0,n=total//begin)\n",
    "        print(n)"
   ]
  },
  {
   "cell_type": "code",
   "execution_count": 77,
   "id": "fd18fb33",
   "metadata": {},
   "outputs": [],
   "source": [
    "x = np.array([[1,2,3], [4,5,6], [7,8,9], [10, 11, 12]])\n",
    "v = np.array([1, 0, 1])\n",
    "y = np.empty_like(x)   # Create an empty matrix with the same shape as x\n"
   ]
  },
  {
   "cell_type": "code",
   "execution_count": 81,
   "id": "6ba7c921",
   "metadata": {},
   "outputs": [
    {
     "name": "stdout",
     "output_type": "stream",
     "text": [
      "[[ 2  2  4]\n",
      " [ 5  5  7]\n",
      " [ 8  8 10]\n",
      " [11 11 13]]\n"
     ]
    }
   ],
   "source": [
    "for i in range(4):\n",
    "    y[i, :] = x[i, :] + v\n",
    "print(y)"
   ]
  },
  {
   "cell_type": "code",
   "execution_count": 83,
   "id": "adb20ce2",
   "metadata": {},
   "outputs": [
    {
     "name": "stdout",
     "output_type": "stream",
     "text": [
      "[[1 0 1]\n",
      " [1 0 1]\n",
      " [1 0 1]\n",
      " [1 0 1]]\n",
      "[[ 2  2  4]\n",
      " [ 5  5  7]\n",
      " [ 8  8 10]\n",
      " [11 11 13]]\n"
     ]
    }
   ],
   "source": [
    "vv = np.tile(v,(4,1))\n",
    "print(vv)\n",
    "y= x+vv\n",
    "print(y)"
   ]
  },
  {
   "cell_type": "code",
   "execution_count": 120,
   "id": "d0379ece",
   "metadata": {},
   "outputs": [],
   "source": [
    "dict_ratio = {500:25,400:20,300:15}\n",
    "def get_nums(total,begin,origin):\n",
    "    if total==origin and begin==origin:\n",
    "        return 0\n",
    "    else:\n",
    "        begin = round(begin + begin*dict_ratio[origin]/100-dict_ratio[origin])\n",
    "        return get_nums(total,begin,origin)+1\n"
   ]
  },
  {
   "cell_type": "code",
   "execution_count": 121,
   "id": "b27efe8a",
   "metadata": {
    "collapsed": true
   },
   "outputs": [
    {
     "ename": "RecursionError",
     "evalue": "maximum recursion depth exceeded while calling a Python object",
     "output_type": "error",
     "traceback": [
      "\u001b[0;31m---------------------------------------------------------------------------\u001b[0m",
      "\u001b[0;31mRecursionError\u001b[0m                            Traceback (most recent call last)",
      "\u001b[0;32m<ipython-input-121-a617a9dc4c5a>\u001b[0m in \u001b[0;36m<module>\u001b[0;34m\u001b[0m\n\u001b[1;32m      2\u001b[0m     \u001b[0;32mfor\u001b[0m \u001b[0mbegin\u001b[0m \u001b[0;32min\u001b[0m \u001b[0;34m[\u001b[0m\u001b[0;36m500\u001b[0m\u001b[0;34m,\u001b[0m\u001b[0;36m400\u001b[0m\u001b[0;34m,\u001b[0m\u001b[0;36m300\u001b[0m\u001b[0;34m]\u001b[0m\u001b[0;34m:\u001b[0m\u001b[0;34m\u001b[0m\u001b[0;34m\u001b[0m\u001b[0m\n\u001b[1;32m      3\u001b[0m         \u001b[0mprint\u001b[0m\u001b[0;34m(\u001b[0m\u001b[0mget_nums\u001b[0m\u001b[0;34m(\u001b[0m\u001b[0mtotal\u001b[0m\u001b[0;34m,\u001b[0m\u001b[0mbegin\u001b[0m\u001b[0;34m,\u001b[0m\u001b[0morigin\u001b[0m\u001b[0;34m=\u001b[0m\u001b[0mbegin\u001b[0m\u001b[0;34m)\u001b[0m\u001b[0;34m)\u001b[0m\u001b[0;34m\u001b[0m\u001b[0;34m\u001b[0m\u001b[0m\n\u001b[0;32m----> 4\u001b[0;31m \u001b[0mmoney\u001b[0m\u001b[0;34m(\u001b[0m\u001b[0;36m2006\u001b[0m\u001b[0;34m)\u001b[0m\u001b[0;34m\u001b[0m\u001b[0;34m\u001b[0m\u001b[0m\n\u001b[0m",
      "\u001b[0;32m<ipython-input-121-a617a9dc4c5a>\u001b[0m in \u001b[0;36mmoney\u001b[0;34m(total)\u001b[0m\n\u001b[1;32m      1\u001b[0m \u001b[0;32mdef\u001b[0m \u001b[0mmoney\u001b[0m\u001b[0;34m(\u001b[0m\u001b[0mtotal\u001b[0m\u001b[0;34m)\u001b[0m\u001b[0;34m:\u001b[0m\u001b[0;34m\u001b[0m\u001b[0;34m\u001b[0m\u001b[0m\n\u001b[1;32m      2\u001b[0m     \u001b[0;32mfor\u001b[0m \u001b[0mbegin\u001b[0m \u001b[0;32min\u001b[0m \u001b[0;34m[\u001b[0m\u001b[0;36m500\u001b[0m\u001b[0;34m,\u001b[0m\u001b[0;36m400\u001b[0m\u001b[0;34m,\u001b[0m\u001b[0;36m300\u001b[0m\u001b[0;34m]\u001b[0m\u001b[0;34m:\u001b[0m\u001b[0;34m\u001b[0m\u001b[0;34m\u001b[0m\u001b[0m\n\u001b[0;32m----> 3\u001b[0;31m         \u001b[0mprint\u001b[0m\u001b[0;34m(\u001b[0m\u001b[0mget_nums\u001b[0m\u001b[0;34m(\u001b[0m\u001b[0mtotal\u001b[0m\u001b[0;34m,\u001b[0m\u001b[0mbegin\u001b[0m\u001b[0;34m,\u001b[0m\u001b[0morigin\u001b[0m\u001b[0;34m=\u001b[0m\u001b[0mbegin\u001b[0m\u001b[0;34m)\u001b[0m\u001b[0;34m)\u001b[0m\u001b[0;34m\u001b[0m\u001b[0;34m\u001b[0m\u001b[0m\n\u001b[0m\u001b[1;32m      4\u001b[0m \u001b[0mmoney\u001b[0m\u001b[0;34m(\u001b[0m\u001b[0;36m2006\u001b[0m\u001b[0;34m)\u001b[0m\u001b[0;34m\u001b[0m\u001b[0;34m\u001b[0m\u001b[0m\n",
      "\u001b[0;32m<ipython-input-120-c1313db8e195>\u001b[0m in \u001b[0;36mget_nums\u001b[0;34m(total, begin, origin)\u001b[0m\n\u001b[1;32m      6\u001b[0m     \u001b[0;32melse\u001b[0m\u001b[0;34m:\u001b[0m\u001b[0;34m\u001b[0m\u001b[0;34m\u001b[0m\u001b[0m\n\u001b[1;32m      7\u001b[0m         \u001b[0mbegin\u001b[0m \u001b[0;34m=\u001b[0m \u001b[0mround\u001b[0m\u001b[0;34m(\u001b[0m\u001b[0mbegin\u001b[0m \u001b[0;34m+\u001b[0m \u001b[0mbegin\u001b[0m\u001b[0;34m*\u001b[0m\u001b[0mdict_ratio\u001b[0m\u001b[0;34m[\u001b[0m\u001b[0morigin\u001b[0m\u001b[0;34m]\u001b[0m\u001b[0;34m/\u001b[0m\u001b[0;36m100\u001b[0m\u001b[0;34m-\u001b[0m\u001b[0mdict_ratio\u001b[0m\u001b[0;34m[\u001b[0m\u001b[0morigin\u001b[0m\u001b[0;34m]\u001b[0m\u001b[0;34m)\u001b[0m\u001b[0;34m\u001b[0m\u001b[0;34m\u001b[0m\u001b[0m\n\u001b[0;32m----> 8\u001b[0;31m         \u001b[0;32mreturn\u001b[0m \u001b[0mget_nums\u001b[0m\u001b[0;34m(\u001b[0m\u001b[0mtotal\u001b[0m\u001b[0;34m,\u001b[0m\u001b[0mbegin\u001b[0m\u001b[0;34m,\u001b[0m\u001b[0morigin\u001b[0m\u001b[0;34m)\u001b[0m\u001b[0;34m+\u001b[0m\u001b[0;36m1\u001b[0m\u001b[0;34m\u001b[0m\u001b[0;34m\u001b[0m\u001b[0m\n\u001b[0m",
      "... last 1 frames repeated, from the frame below ...\n",
      "\u001b[0;32m<ipython-input-120-c1313db8e195>\u001b[0m in \u001b[0;36mget_nums\u001b[0;34m(total, begin, origin)\u001b[0m\n\u001b[1;32m      6\u001b[0m     \u001b[0;32melse\u001b[0m\u001b[0;34m:\u001b[0m\u001b[0;34m\u001b[0m\u001b[0;34m\u001b[0m\u001b[0m\n\u001b[1;32m      7\u001b[0m         \u001b[0mbegin\u001b[0m \u001b[0;34m=\u001b[0m \u001b[0mround\u001b[0m\u001b[0;34m(\u001b[0m\u001b[0mbegin\u001b[0m \u001b[0;34m+\u001b[0m \u001b[0mbegin\u001b[0m\u001b[0;34m*\u001b[0m\u001b[0mdict_ratio\u001b[0m\u001b[0;34m[\u001b[0m\u001b[0morigin\u001b[0m\u001b[0;34m]\u001b[0m\u001b[0;34m/\u001b[0m\u001b[0;36m100\u001b[0m\u001b[0;34m-\u001b[0m\u001b[0mdict_ratio\u001b[0m\u001b[0;34m[\u001b[0m\u001b[0morigin\u001b[0m\u001b[0;34m]\u001b[0m\u001b[0;34m)\u001b[0m\u001b[0;34m\u001b[0m\u001b[0;34m\u001b[0m\u001b[0m\n\u001b[0;32m----> 8\u001b[0;31m         \u001b[0;32mreturn\u001b[0m \u001b[0mget_nums\u001b[0m\u001b[0;34m(\u001b[0m\u001b[0mtotal\u001b[0m\u001b[0;34m,\u001b[0m\u001b[0mbegin\u001b[0m\u001b[0;34m,\u001b[0m\u001b[0morigin\u001b[0m\u001b[0;34m)\u001b[0m\u001b[0;34m+\u001b[0m\u001b[0;36m1\u001b[0m\u001b[0;34m\u001b[0m\u001b[0;34m\u001b[0m\u001b[0m\n\u001b[0m",
      "\u001b[0;31mRecursionError\u001b[0m: maximum recursion depth exceeded while calling a Python object"
     ]
    }
   ],
   "source": [
    "def money(total):\n",
    "    for begin in [500,400,300]: \n",
    "        print(get_nums(total,begin,begin))\n",
    "money(2006)"
   ]
  },
  {
   "cell_type": "code",
   "execution_count": 125,
   "id": "2d759b0f",
   "metadata": {
    "collapsed": true
   },
   "outputs": [
    {
     "name": "stdout",
     "output_type": "stream",
     "text": [
      "600\n",
      "725\n",
      "881\n",
      "1076\n",
      "1320\n",
      "1625\n",
      "2006\n",
      "(500, 2006)\n",
      "460\n",
      "532\n",
      "618\n",
      "722\n",
      "846\n",
      "995\n",
      "1174\n",
      "1389\n",
      "1647\n",
      "1956\n",
      "2327\n",
      "2772\n",
      "3306\n",
      "3947\n",
      "4716\n",
      "5639\n",
      "6747\n",
      "8076\n",
      "9671\n",
      "11585\n",
      "13882\n",
      "16638\n",
      "19946\n",
      "23915\n",
      "28678\n",
      "34394\n",
      "41253\n",
      "49484\n",
      "59361\n",
      "71213\n",
      "85436\n",
      "102503\n",
      "122984\n",
      "147561\n",
      "177053\n",
      "212444\n",
      "254913\n",
      "305876\n",
      "367031\n",
      "440417\n",
      "528480\n",
      "634156\n",
      "760967\n",
      "913140\n",
      "1095748\n",
      "1314878\n",
      "1577834\n",
      "1893381\n",
      "2272037\n",
      "2726424\n",
      "3271689\n",
      "3926007\n",
      "4711188\n",
      "5653406\n",
      "6784067\n",
      "8140860\n",
      "9769012\n",
      "11722794\n",
      "14067333\n",
      "16880780\n",
      "20256916\n",
      "24308279\n",
      "29169915\n",
      "35003878\n",
      "42004634\n",
      "50405541\n",
      "60486629\n",
      "72583935\n",
      "87100702\n",
      "104520822\n",
      "125424966\n",
      "150509939\n",
      "180611907\n",
      "216734268\n",
      "260081102\n",
      "312097302\n",
      "374516742\n",
      "449420070\n",
      "539304064\n",
      "647164857\n",
      "776597808\n",
      "931917350\n",
      "1118300800\n",
      "1341960940\n",
      "1610353108\n",
      "1932423710\n",
      "2318908432\n",
      "2782690098\n",
      "3339228098\n",
      "4007073698\n",
      "4808488418\n",
      "5770186082\n",
      "6924223278\n",
      "8309067914\n",
      "9970881477\n",
      "11965057752\n",
      "14358069282\n",
      "17229683118\n",
      "20675619722\n",
      "24810743646\n",
      "29772892355\n",
      "None\n",
      "330\n",
      "364\n",
      "404\n",
      "450\n",
      "502\n",
      "562\n",
      "631\n",
      "711\n",
      "803\n",
      "908\n",
      "1029\n",
      "1168\n",
      "1328\n",
      "1512\n",
      "1724\n",
      "1968\n",
      "2248\n",
      "2570\n",
      "2940\n",
      "3366\n",
      "3856\n",
      "4419\n",
      "5067\n",
      "5812\n",
      "6669\n",
      "7654\n",
      "8787\n",
      "10090\n",
      "11588\n",
      "13311\n",
      "15293\n",
      "17572\n",
      "20193\n",
      "23207\n",
      "26673\n",
      "30659\n",
      "35243\n",
      "40514\n",
      "46576\n",
      "53547\n",
      "61564\n",
      "70784\n",
      "81387\n",
      "93580\n",
      "107602\n",
      "123727\n",
      "142271\n",
      "163597\n",
      "188122\n",
      "216325\n",
      "248759\n",
      "286058\n",
      "328952\n",
      "378280\n",
      "435007\n",
      "500243\n",
      "575264\n",
      "661539\n",
      "760755\n",
      "874853\n",
      "1006066\n",
      "1156961\n",
      "1330490\n",
      "1530048\n",
      "1759540\n",
      "2023456\n",
      "2326959\n",
      "2675988\n",
      "3077371\n",
      "3538962\n",
      "4069791\n",
      "4680245\n",
      "5382267\n",
      "6189592\n",
      "7118016\n",
      "8185703\n",
      "9413543\n",
      "10825559\n",
      "12449378\n",
      "14316770\n",
      "16464270\n",
      "18933896\n",
      "21773965\n",
      "25040045\n",
      "28796037\n",
      "33115428\n",
      "38082727\n",
      "43795121\n",
      "50364374\n",
      "57919015\n",
      "66606852\n",
      "76597865\n",
      "88087530\n",
      "101300644\n",
      "116495726\n",
      "133970070\n",
      "154065566\n",
      "177175386\n",
      "203751679\n",
      "234314416\n",
      "269461563\n",
      "309880782\n",
      "356362884\n",
      "409817302\n",
      "471289882\n",
      "541983349\n",
      "623280836\n",
      "716772946\n",
      "824288873\n",
      "947932189\n",
      "1090122002\n",
      "1253640287\n",
      "1441686315\n",
      "1657939247\n",
      "1906630119\n",
      "2192624622\n",
      "2521518300\n",
      "2899746030\n",
      "3334707920\n",
      "3834914093\n",
      "4410151192\n",
      "5071673856\n",
      "5832424919\n",
      "6707288642\n",
      "7713381923\n",
      "8870389196\n",
      "10200947560\n",
      "11731089679\n",
      "13490753116\n",
      "15514366068\n",
      "17841520963\n",
      "20517749092\n",
      "23595411441\n",
      "27134723142\n",
      "None\n"
     ]
    }
   ],
   "source": [
    "dict_ratio = {500:25,400:20,300:15}\n",
    "def get_test(total,begin):\n",
    "    origin  = begin\n",
    "    for i in range(int(total/dict_ratio[origin])+1):\n",
    "        if total == begin:\n",
    "            return origin,begin\n",
    "        else:\n",
    "            begin = round(begin + begin*dict_ratio[origin]/100-dict_ratio[origin])\n",
    "            print(begin)\n",
    "def money_test(total):\n",
    "    for begin in [500,400,300]: \n",
    "        print(get_test(total,begin))\n",
    "money_test(2006)"
   ]
  },
  {
   "cell_type": "code",
   "execution_count": 127,
   "id": "cc9b3f1d",
   "metadata": {},
   "outputs": [
    {
     "name": "stdout",
     "output_type": "stream",
     "text": [
      "[[ 4  5]\n",
      " [ 8 10]\n",
      " [12 15]]\n",
      "[[2 4 6]\n",
      " [5 7 9]]\n"
     ]
    }
   ],
   "source": [
    "import numpy as np\n",
    "v = np.array([1,2,3])\n",
    "w = np.array([4,5])\n",
    "print(np.reshape(v,(3,1))*w)\n",
    "x = np.array([[1,2,3],[4,5,6]])\n",
    "print(x+v)"
   ]
  },
  {
   "cell_type": "code",
   "execution_count": 130,
   "id": "ee73918c",
   "metadata": {},
   "outputs": [
    {
     "name": "stdout",
     "output_type": "stream",
     "text": [
      "[[ 5  6  7]\n",
      " [ 9 10 11]]\n"
     ]
    }
   ],
   "source": [
    "print((x.T+w).T)\n"
   ]
  },
  {
   "cell_type": "code",
   "execution_count": 132,
   "id": "5e89a841",
   "metadata": {},
   "outputs": [
    {
     "name": "stdout",
     "output_type": "stream",
     "text": [
      "[[ 2  4  6]\n",
      " [ 8 10 12]]\n"
     ]
    }
   ],
   "source": [
    "print(x*2)"
   ]
  },
  {
   "cell_type": "code",
   "execution_count": 134,
   "id": "2f36d15d",
   "metadata": {
    "collapsed": true
   },
   "outputs": [
    {
     "ename": "ImportError",
     "evalue": "cannot import name 'imread' from 'scipy.misc' (/Users/yanshuo/opt/anaconda3/lib/python3.7/site-packages/scipy/misc/__init__.py)",
     "output_type": "error",
     "traceback": [
      "\u001b[0;31m---------------------------------------------------------------------------\u001b[0m",
      "\u001b[0;31mImportError\u001b[0m                               Traceback (most recent call last)",
      "\u001b[0;32m<ipython-input-134-ccc63bb5c257>\u001b[0m in \u001b[0;36m<module>\u001b[0;34m\u001b[0m\n\u001b[0;32m----> 1\u001b[0;31m \u001b[0;32mfrom\u001b[0m \u001b[0mscipy\u001b[0m\u001b[0;34m.\u001b[0m\u001b[0mmisc\u001b[0m \u001b[0;32mimport\u001b[0m \u001b[0mimread\u001b[0m\u001b[0;34m,\u001b[0m\u001b[0mimsave\u001b[0m\u001b[0;34m,\u001b[0m\u001b[0mimresize\u001b[0m\u001b[0;34m\u001b[0m\u001b[0;34m\u001b[0m\u001b[0m\n\u001b[0m\u001b[1;32m      2\u001b[0m \u001b[0mimg\u001b[0m \u001b[0;34m=\u001b[0m \u001b[0mimread\u001b[0m\u001b[0;34m(\u001b[0m\u001b[0;34m'cat.jpeg'\u001b[0m\u001b[0;34m)\u001b[0m\u001b[0;34m\u001b[0m\u001b[0;34m\u001b[0m\u001b[0m\n\u001b[1;32m      3\u001b[0m \u001b[0mprint\u001b[0m\u001b[0;34m(\u001b[0m\u001b[0mimg\u001b[0m\u001b[0;34m.\u001b[0m\u001b[0mdtype\u001b[0m\u001b[0;34m,\u001b[0m\u001b[0mimg\u001b[0m\u001b[0;34m.\u001b[0m\u001b[0mshape\u001b[0m\u001b[0;34m)\u001b[0m\u001b[0;34m\u001b[0m\u001b[0;34m\u001b[0m\u001b[0m\n\u001b[1;32m      4\u001b[0m \u001b[0mimg_tinted\u001b[0m \u001b[0;34m=\u001b[0m \u001b[0mimg\u001b[0m \u001b[0;34m*\u001b[0m \u001b[0;34m[\u001b[0m\u001b[0;36m1\u001b[0m\u001b[0;34m,\u001b[0m\u001b[0;36m0.95\u001b[0m\u001b[0;34m,\u001b[0m\u001b[0;36m0.9\u001b[0m\u001b[0;34m]\u001b[0m\u001b[0;34m\u001b[0m\u001b[0;34m\u001b[0m\u001b[0m\n\u001b[1;32m      5\u001b[0m \u001b[0mimg_tinted\u001b[0m \u001b[0;34m=\u001b[0m \u001b[0mimresize\u001b[0m\u001b[0;34m(\u001b[0m\u001b[0mimg_tinted\u001b[0m\u001b[0;34m,\u001b[0m\u001b[0;34m(\u001b[0m\u001b[0;36m300\u001b[0m\u001b[0;34m,\u001b[0m\u001b[0;36m300\u001b[0m\u001b[0;34m)\u001b[0m\u001b[0;34m)\u001b[0m\u001b[0;34m\u001b[0m\u001b[0;34m\u001b[0m\u001b[0m\n",
      "\u001b[0;31mImportError\u001b[0m: cannot import name 'imread' from 'scipy.misc' (/Users/yanshuo/opt/anaconda3/lib/python3.7/site-packages/scipy/misc/__init__.py)"
     ]
    }
   ],
   "source": [
    "from scipy.misc import imread,imsave,imresize\n",
    "img = imread('cat.jpeg')\n",
    "print(img.dtype,img.shape)\n",
    "img_tinted = img * [1,0.95,0.9]\n",
    "img_tinted = imresize(img_tinted,(300,300))"
   ]
  },
  {
   "cell_type": "code",
   "execution_count": 136,
   "id": "7b5641da",
   "metadata": {},
   "outputs": [
    {
     "name": "stdout",
     "output_type": "stream",
     "text": [
      "[[0 1]\n",
      " [1 0]\n",
      " [2 0]]\n",
      "[[0.         1.41421356 2.23606798]\n",
      " [1.41421356 0.         1.        ]\n",
      " [2.23606798 1.         0.        ]]\n"
     ]
    }
   ],
   "source": [
    "from scipy.spatial.distance import pdist,squareform\n",
    "x = np.array([[0,1],[1,0],[2,0]])\n",
    "print(x)\n",
    "d = squareform(pdist(x,'euclidean'))\n",
    "print(d)"
   ]
  },
  {
   "cell_type": "code",
   "execution_count": 139,
   "id": "fd396a3c",
   "metadata": {},
   "outputs": [
    {
     "data": {
      "image/png": "[encoded data removed]",
      "text/plain": [
       "<Figure size 432x288 with 1 Axes>"
      ]
     },
     "metadata": {
      "needs_background": "light"
     },
     "output_type": "display_data"
    }
   ],
   "source": [
    "import matplotlib.pyplot as plt\n",
    "x = np.arange(0,3*np.pi,0.1)\n",
    "y = np.sin(x)\n",
    "plt.plot(x,y)\n",
    "plt.show()"
   ]
  },
  {
   "cell_type": "code",
   "execution_count": 140,
   "id": "4e3e2d67",
   "metadata": {
    "scrolled": true
   },
   "outputs": [
    {
     "data": {
      "image/png": "[encoded data removed]",
      "text/plain": [
       "<Figure size 432x288 with 1 Axes>"
      ]
     },
     "metadata": {
      "needs_background": "light"
     },
     "output_type": "display_data"
    }
   ],
   "source": [
    "x = np.arange(0,3*np.pi,0.1)\n",
    "y_sin = np.sin(x)\n",
    "y_cos = np.cos(x)\n",
    "plt.plot(x,y_sin)\n",
    "plt.plot(x,y_cos)\n",
    "plt.legend(['Sine','Cosine'])\n",
    "\n",
    "plt.show()"
   ]
  },
  {
   "cell_type": "code",
   "execution_count": 141,
   "id": "b7587bad",
   "metadata": {},
   "outputs": [
    {
     "data": {
      "image/png": "[encoded data removed]",
      "text/plain": [
       "<Figure size 432x288 with 2 Axes>"
      ]
     },
     "metadata": {
      "needs_background": "light"
     },
     "output_type": "display_data"
    }
   ],
   "source": [
    "x = np.arange(0,3*np.pi,0.1)\n",
    "y_sin = np.sin(x)\n",
    "y_cos = np.cos(x)\n",
    "plt.subplot(2,1,1)\n",
    "plt.plot(x,y_sin)\n",
    "plt.title('Sine')\n",
    "plt.subplot(2,1,2)\n",
    "plt.plot(x,y_cos)\n",
    "plt.title('Cosine')\n",
    "plt.show()"
   ]
  },
  {
   "cell_type": "code",
   "execution_count": 142,
   "id": "e36bdadd",
   "metadata": {},
   "outputs": [
    {
     "data": {
      "text/plain": [
       "array([ 0,  1,  2,  3,  4,  5,  6,  7,  8,  9, 10, 11, 12, 13, 14, 15, 16,\n",
       "       17, 18, 19])"
      ]
     },
     "execution_count": 142,
     "metadata": {},
     "output_type": "execute_result"
    }
   ],
   "source": [
    "import numpy as np\n",
    "array = np.arange(20)\n",
    "array"
   ]
  },
  {
   "cell_type": "code",
   "execution_count": 143,
   "id": "48dd5c6c",
   "metadata": {},
   "outputs": [
    {
     "data": {
      "text/plain": [
       "(20,)"
      ]
     },
     "execution_count": 143,
     "metadata": {},
     "output_type": "execute_result"
    }
   ],
   "source": [
    "array.shape"
   ]
  },
  {
   "cell_type": "code",
   "execution_count": 144,
   "id": "001b3e4e",
   "metadata": {},
   "outputs": [
    {
     "data": {
      "text/plain": [
       "2"
      ]
     },
     "execution_count": 144,
     "metadata": {},
     "output_type": "execute_result"
    }
   ],
   "source": [
    "array[2]"
   ]
  },
  {
   "cell_type": "code",
   "execution_count": 145,
   "id": "7db6965e",
   "metadata": {},
   "outputs": [
    {
     "name": "stdout",
     "output_type": "stream",
     "text": [
      "[  0   1   2 100   4   5   6   7   8   9  10  11  12  13  14  15  16  17\n",
      "  18  19]\n"
     ]
    }
   ],
   "source": [
    "array[3]=100\n",
    "print(array)"
   ]
  },
  {
   "cell_type": "code",
   "execution_count": 146,
   "id": "ea48f498",
   "metadata": {},
   "outputs": [
    {
     "data": {
      "text/plain": [
       "array([[ 0,  1,  2,  3,  4],\n",
       "       [ 5,  6,  7,  8,  9],\n",
       "       [10, 11, 12, 13, 14],\n",
       "       [15, 16, 17, 18, 19]])"
      ]
     },
     "execution_count": 146,
     "metadata": {},
     "output_type": "execute_result"
    }
   ],
   "source": [
    "a = np.arange(20).reshape(4,5)\n",
    "a"
   ]
  },
  {
   "cell_type": "code",
   "execution_count": 147,
   "id": "3a0c0615",
   "metadata": {},
   "outputs": [
    {
     "data": {
      "text/plain": [
       "19"
      ]
     },
     "execution_count": 147,
     "metadata": {},
     "output_type": "execute_result"
    }
   ],
   "source": [
    "a[3][4]"
   ]
  },
  {
   "cell_type": "code",
   "execution_count": 148,
   "id": "2717afc1",
   "metadata": {},
   "outputs": [
    {
     "data": {
      "text/plain": [
       "array([[[ 0,  1,  2],\n",
       "        [ 3,  4,  5],\n",
       "        [ 6,  7,  8]],\n",
       "\n",
       "       [[ 9, 10, 11],\n",
       "        [12, 13, 14],\n",
       "        [15, 16, 17]],\n",
       "\n",
       "       [[18, 19, 20],\n",
       "        [21, 22, 23],\n",
       "        [24, 25, 26]]])"
      ]
     },
     "execution_count": 148,
     "metadata": {},
     "output_type": "execute_result"
    }
   ],
   "source": [
    "array = np.arange(27).reshape(3,3,3)\n",
    "array"
   ]
  },
  {
   "cell_type": "code",
   "execution_count": 151,
   "id": "72eead9a",
   "metadata": {},
   "outputs": [
    {
     "data": {
      "text/plain": [
       "array([10, 13, 16, 19, 22, 25, 28, 31, 34])"
      ]
     },
     "execution_count": 151,
     "metadata": {},
     "output_type": "execute_result"
    }
   ],
   "source": [
    "np.arange(10,35,3)"
   ]
  },
  {
   "cell_type": "code",
   "execution_count": 152,
   "id": "58c04c64",
   "metadata": {},
   "outputs": [
    {
     "data": {
      "text/plain": [
       "array([[0., 0., 0., 0.],\n",
       "       [0., 0., 0., 0.]])"
      ]
     },
     "execution_count": 152,
     "metadata": {},
     "output_type": "execute_result"
    }
   ],
   "source": [
    "np.zeros((2,4))\n"
   ]
  },
  {
   "cell_type": "code",
   "execution_count": 153,
   "id": "6c9b527e",
   "metadata": {},
   "outputs": [
    {
     "data": {
      "text/plain": [
       "array([[1., 1., 1., 1.],\n",
       "       [1., 1., 1., 1.],\n",
       "       [1., 1., 1., 1.]])"
      ]
     },
     "execution_count": 153,
     "metadata": {},
     "output_type": "execute_result"
    }
   ],
   "source": [
    "np.ones((3,4))\n"
   ]
  },
  {
   "cell_type": "code",
   "execution_count": 154,
   "id": "b29d6194",
   "metadata": {},
   "outputs": [
    {
     "data": {
      "text/plain": [
       "array([[17.2, 17.2, 17.2],\n",
       "       [17.2, 17.2, 24.2]])"
      ]
     },
     "execution_count": 154,
     "metadata": {},
     "output_type": "execute_result"
    }
   ],
   "source": [
    "np.empty((2,3))"
   ]
  },
  {
   "cell_type": "code",
   "execution_count": 155,
   "id": "702288f9",
   "metadata": {},
   "outputs": [
    {
     "data": {
      "text/plain": [
       "array([[3, 3],\n",
       "       [3, 3]])"
      ]
     },
     "execution_count": 155,
     "metadata": {},
     "output_type": "execute_result"
    }
   ],
   "source": [
    "np.full((2,2),3)\n"
   ]
  },
  {
   "cell_type": "code",
   "execution_count": 156,
   "id": "2df7743a",
   "metadata": {},
   "outputs": [
    {
     "data": {
      "text/plain": [
       "array([[1., 0., 0.],\n",
       "       [0., 1., 0.],\n",
       "       [0., 0., 1.]])"
      ]
     },
     "execution_count": 156,
     "metadata": {},
     "output_type": "execute_result"
    }
   ],
   "source": [
    "np.eye(3,3)\n"
   ]
  },
  {
   "cell_type": "code",
   "execution_count": 157,
   "id": "dcb9dce3",
   "metadata": {},
   "outputs": [
    {
     "data": {
      "text/plain": [
       "array([ 0.        ,  3.33333333,  6.66666667, 10.        ])"
      ]
     },
     "execution_count": 157,
     "metadata": {},
     "output_type": "execute_result"
    }
   ],
   "source": [
    "np.linspace(0,10,num=4)\n"
   ]
  },
  {
   "cell_type": "code",
   "execution_count": 158,
   "id": "fa11532b",
   "metadata": {},
   "outputs": [
    {
     "data": {
      "text/plain": [
       "array([1, 2, 3])"
      ]
     },
     "execution_count": 158,
     "metadata": {},
     "output_type": "execute_result"
    }
   ],
   "source": [
    "array = np.array([1,2,3])\n",
    "array"
   ]
  },
  {
   "cell_type": "code",
   "execution_count": 160,
   "id": "85649733",
   "metadata": {},
   "outputs": [
    {
     "data": {
      "text/plain": [
       "[4, 5, 6]"
      ]
     },
     "execution_count": 160,
     "metadata": {},
     "output_type": "execute_result"
    }
   ],
   "source": [
    "list = [4,5,6]\n",
    "list"
   ]
  },
  {
   "cell_type": "code",
   "execution_count": 161,
   "id": "d9d79eca",
   "metadata": {},
   "outputs": [],
   "source": [
    "array = np.array([4,5,6])"
   ]
  },
  {
   "cell_type": "code",
   "execution_count": 162,
   "id": "b9473b50",
   "metadata": {},
   "outputs": [
    {
     "data": {
      "text/plain": [
       "array([4, 5, 6])"
      ]
     },
     "execution_count": 162,
     "metadata": {},
     "output_type": "execute_result"
    }
   ],
   "source": [
    "array"
   ]
  },
  {
   "cell_type": "code",
   "execution_count": 164,
   "id": "bc667023",
   "metadata": {},
   "outputs": [
    {
     "data": {
      "text/plain": [
       "(list, numpy.ndarray)"
      ]
     },
     "execution_count": 164,
     "metadata": {},
     "output_type": "execute_result"
    }
   ],
   "source": [
    "type(list),type(array)"
   ]
  },
  {
   "cell_type": "code",
   "execution_count": 165,
   "id": "0a14dcaa",
   "metadata": {},
   "outputs": [
    {
     "data": {
      "text/plain": [
       "array([[0.34814972, 0.74429541],\n",
       "       [0.15886139, 0.27934607]])"
      ]
     },
     "execution_count": 165,
     "metadata": {},
     "output_type": "execute_result"
    }
   ],
   "source": [
    "np.random.random((2,2))"
   ]
  },
  {
   "cell_type": "code",
   "execution_count": 167,
   "id": "88615786",
   "metadata": {},
   "outputs": [],
   "source": [
    "A = np.array([[1,-1,2],[3,2,0]])\n",
    "v = np.array([[2],[1],[3]])"
   ]
  },
  {
   "cell_type": "code",
   "execution_count": 171,
   "id": "beeea8bb",
   "metadata": {},
   "outputs": [
    {
     "name": "stdout",
     "output_type": "stream",
     "text": [
      "0\n",
      "[[-1]\n",
      " [ 2]]\n"
     ]
    }
   ],
   "source": [
    "v = np.transpose(np.array([[2,1,3]]))\n",
    "print(A[1,2])\n",
    "col = A[:,1:2]\n",
    "print(col)"
   ]
  },
  {
   "cell_type": "code",
   "execution_count": 169,
   "id": "7bccbe24",
   "metadata": {},
   "outputs": [],
   "source": [
    "w = np.dot(A,v)"
   ]
  },
  {
   "cell_type": "code",
   "execution_count": 170,
   "id": "56baff90",
   "metadata": {},
   "outputs": [
    {
     "data": {
      "text/plain": [
       "array([[7],\n",
       "       [8]])"
      ]
     },
     "execution_count": 170,
     "metadata": {},
     "output_type": "execute_result"
    }
   ],
   "source": [
    "w"
   ]
  },
  {
   "cell_type": "code",
   "execution_count": 172,
   "id": "2aaa4fac",
   "metadata": {},
   "outputs": [],
   "source": [
    "A = np.array([[2,1,-2],[3,0,1],[1,1,-1]])\n",
    "b = np.transpose(np.array([[-3,5,-2]]))"
   ]
  },
  {
   "cell_type": "code",
   "execution_count": 173,
   "id": "76bbe923",
   "metadata": {},
   "outputs": [
    {
     "data": {
      "text/plain": [
       "array([[ 1.],\n",
       "       [-1.],\n",
       "       [ 2.]])"
      ]
     },
     "execution_count": 173,
     "metadata": {},
     "output_type": "execute_result"
    }
   ],
   "source": [
    "x = np.linalg.solve(A,b)\n",
    "x"
   ]
  },
  {
   "cell_type": "code",
   "execution_count": 175,
   "id": "6677fcdc",
   "metadata": {},
   "outputs": [],
   "source": [
    "# import csv\n",
    "# import numpy as np\n",
    "# def readData():\n",
    "#     X = []\n",
    "#     y = []\n",
    "#     with open('HousePrices.csv') as f:\n",
    "#         rdr = csv.reader(f)\n",
    "#         next(rdr)\n",
    "#         for line in rdr:\n",
    "#             xline = [1.0]\n",
    "#             for s in line[:-1]:\n",
    "#                 xline.append(float(s))\n",
    "#             X.append(xline)\n",
    "#             y.append(float(line[-1]))\n",
    "#     return (X,y)\n",
    "# X0,y0 = readData()\n",
    "# d = len(X0)-10\n",
    "# X = np.array(X0[:d])\n",
    "# y = np.transpose(np.array([y0[:d]]))\n",
    "# Xt = np.transpose(X)\n",
    "# XtX = np.dot(Xt,X)\n",
    "# Xty = np.dot(Xt,y)\n",
    "# beta = np.linalg.solve(XtX,Xty)\n",
    "# print(beta)\n"
   ]
  },
  {
   "cell_type": "code",
   "execution_count": 176,
   "id": "acbb6b71",
   "metadata": {},
   "outputs": [],
   "source": [
    "# for data,actual in zip(X0[d:],y0[d:]):\n",
    "#     x = np.array([data])\n",
    "#     prediction = np.dot(x,beta)\n",
    "#     print()"
   ]
  },
  {
   "cell_type": "code",
   "execution_count": 177,
   "id": "63754995",
   "metadata": {},
   "outputs": [
    {
     "name": "stdout",
     "output_type": "stream",
     "text": [
      "<class 'numpy.ndarray'>\n"
     ]
    },
    {
     "data": {
      "text/plain": [
       "array([0, 1, 2, 3, 4])"
      ]
     },
     "execution_count": 177,
     "metadata": {},
     "output_type": "execute_result"
    }
   ],
   "source": [
    "import numpy as np\n",
    "list1 = [0,1,2,3,4]\n",
    "arrld = np.array(list1)\n",
    "print(type(arrld))\n",
    "arrld"
   ]
  },
  {
   "cell_type": "code",
   "execution_count": 179,
   "id": "84899782",
   "metadata": {},
   "outputs": [
    {
     "name": "stdout",
     "output_type": "stream",
     "text": [
      "<class 'numpy.ndarray'>\n"
     ]
    }
   ],
   "source": [
    "print(type(arrld))"
   ]
  },
  {
   "cell_type": "code",
   "execution_count": 180,
   "id": "8218d91b",
   "metadata": {},
   "outputs": [
    {
     "data": {
      "text/plain": [
       "array([[0, 1, 2],\n",
       "       [3, 4, 5],\n",
       "       [6, 7, 8]])"
      ]
     },
     "execution_count": 180,
     "metadata": {},
     "output_type": "execute_result"
    }
   ],
   "source": [
    "list2 = [[0,1,2],[3,4,5],[6,7,8]]\n",
    "arr2d = np.array(list2)\n",
    "arr2d"
   ]
  },
  {
   "cell_type": "code",
   "execution_count": 182,
   "id": "54bb7bc6",
   "metadata": {},
   "outputs": [
    {
     "name": "stdout",
     "output_type": "stream",
     "text": [
      "[[0. 1. 2.]\n",
      " [3. 4. 5.]\n",
      " [6. 7. 8.]]\n"
     ]
    }
   ],
   "source": [
    "arr2d_f = np.array(list2,dtype='float')\n",
    "print(arr2d_f)"
   ]
  },
  {
   "cell_type": "code",
   "execution_count": 184,
   "id": "7c5702bb",
   "metadata": {},
   "outputs": [
    {
     "data": {
      "text/plain": [
       "array([[0, 1, 2],\n",
       "       [3, 4, 5],\n",
       "       [6, 7, 8]])"
      ]
     },
     "execution_count": 184,
     "metadata": {},
     "output_type": "execute_result"
    }
   ],
   "source": [
    "arr2d_f.astype('int')"
   ]
  },
  {
   "cell_type": "code",
   "execution_count": 185,
   "id": "f7105f5a",
   "metadata": {},
   "outputs": [
    {
     "data": {
      "text/plain": [
       "array([['0.0', '1.0', '2.0'],\n",
       "       ['3.0', '4.0', '5.0'],\n",
       "       ['6.0', '7.0', '8.0']], dtype='<U32')"
      ]
     },
     "execution_count": 185,
     "metadata": {},
     "output_type": "execute_result"
    }
   ],
   "source": [
    "arr2d_f.astype('str')"
   ]
  },
  {
   "cell_type": "code",
   "execution_count": 186,
   "id": "ac1bbe44",
   "metadata": {},
   "outputs": [
    {
     "data": {
      "text/plain": [
       "array(['1', 'a'], dtype=object)"
      ]
     },
     "execution_count": 186,
     "metadata": {},
     "output_type": "execute_result"
    }
   ],
   "source": [
    "arrld_obj = np.array(['1','a'],dtype='object')\n",
    "arrld_obj"
   ]
  },
  {
   "cell_type": "code",
   "execution_count": 188,
   "id": "978151c5",
   "metadata": {},
   "outputs": [
    {
     "data": {
      "text/plain": [
       "array([ True, False,  True])"
      ]
     },
     "execution_count": 188,
     "metadata": {},
     "output_type": "execute_result"
    }
   ],
   "source": [
    "arr2d_b = np.array([1,0,10],dtype='bool')\n",
    "arr2d_b"
   ]
  },
  {
   "cell_type": "code",
   "execution_count": 189,
   "id": "dc3b58cf",
   "metadata": {},
   "outputs": [
    {
     "data": {
      "text/plain": [
       "array([[1., 2., 3., 4.],\n",
       "       [3., 4., 5., 6.],\n",
       "       [5., 6., 7., 8.]])"
      ]
     },
     "execution_count": 189,
     "metadata": {},
     "output_type": "execute_result"
    }
   ],
   "source": [
    "list2 = [[1,2,3,4],[3,4,5,6],[5,6,7,8]]\n",
    "arr2 = np.array(list2,dtype='float')\n",
    "arr2"
   ]
  },
  {
   "cell_type": "code",
   "execution_count": 191,
   "id": "5cc0b996",
   "metadata": {},
   "outputs": [
    {
     "name": "stdout",
     "output_type": "stream",
     "text": [
      "(3, 4)\n",
      "float64\n",
      "12\n",
      "2\n"
     ]
    }
   ],
   "source": [
    "print(arr2.shape)\n",
    "print(arr2.dtype)\n",
    "print(arr2.size)\n",
    "print(arr2.ndim)"
   ]
  },
  {
   "cell_type": "code",
   "execution_count": 194,
   "id": "74a5e209",
   "metadata": {},
   "outputs": [
    {
     "data": {
      "text/plain": [
       "array([[1., 2.],\n",
       "       [3., 4.]])"
      ]
     },
     "execution_count": 194,
     "metadata": {},
     "output_type": "execute_result"
    }
   ],
   "source": [
    "arr2[:2,:2]\n"
   ]
  },
  {
   "cell_type": "code",
   "execution_count": 195,
   "id": "a85e6125",
   "metadata": {},
   "outputs": [],
   "source": [
    "b = arr2>4"
   ]
  },
  {
   "cell_type": "code",
   "execution_count": 196,
   "id": "5d816152",
   "metadata": {},
   "outputs": [
    {
     "data": {
      "text/plain": [
       "array([[False, False, False, False],\n",
       "       [False, False,  True,  True],\n",
       "       [ True,  True,  True,  True]])"
      ]
     },
     "execution_count": 196,
     "metadata": {},
     "output_type": "execute_result"
    }
   ],
   "source": [
    "b"
   ]
  },
  {
   "cell_type": "code",
   "execution_count": 197,
   "id": "38d4158c",
   "metadata": {},
   "outputs": [
    {
     "data": {
      "text/plain": [
       "array([5., 6., 5., 6., 7., 8.])"
      ]
     },
     "execution_count": 197,
     "metadata": {},
     "output_type": "execute_result"
    }
   ],
   "source": [
    "arr2[b]"
   ]
  },
  {
   "cell_type": "code",
   "execution_count": 198,
   "id": "dabcc7c3",
   "metadata": {},
   "outputs": [
    {
     "data": {
      "text/plain": [
       "array([[5., 6., 7., 8.],\n",
       "       [3., 4., 5., 6.],\n",
       "       [1., 2., 3., 4.]])"
      ]
     },
     "execution_count": 198,
     "metadata": {},
     "output_type": "execute_result"
    }
   ],
   "source": [
    "arr2[::-1,]"
   ]
  },
  {
   "cell_type": "code",
   "execution_count": 199,
   "id": "d5036e63",
   "metadata": {},
   "outputs": [
    {
     "data": {
      "text/plain": [
       "array([[1., 2., 3., 4.],\n",
       "       [3., 4., 5., 6.],\n",
       "       [5., 6., 7., 8.]])"
      ]
     },
     "execution_count": 199,
     "metadata": {},
     "output_type": "execute_result"
    }
   ],
   "source": [
    "arr2"
   ]
  },
  {
   "cell_type": "code",
   "execution_count": 202,
   "id": "b31398f7",
   "metadata": {},
   "outputs": [
    {
     "data": {
      "text/plain": [
       "array([[8., 7., 6., 5.],\n",
       "       [6., 5., 4., 3.],\n",
       "       [4., 3., 2., 1.]])"
      ]
     },
     "execution_count": 202,
     "metadata": {},
     "output_type": "execute_result"
    }
   ],
   "source": [
    "arr2[::-1,::-1]\n"
   ]
  },
  {
   "cell_type": "code",
   "execution_count": 208,
   "id": "b3156057",
   "metadata": {},
   "outputs": [
    {
     "data": {
      "text/plain": [
       "array([[4., 3., 2., 1.],\n",
       "       [6., 5., 4., 3.],\n",
       "       [8., 7., 6., 5.]])"
      ]
     },
     "execution_count": 208,
     "metadata": {},
     "output_type": "execute_result"
    }
   ],
   "source": [
    "arr2[:,::-1]"
   ]
  },
  {
   "cell_type": "code",
   "execution_count": 209,
   "id": "d59c545f",
   "metadata": {},
   "outputs": [
    {
     "data": {
      "text/plain": [
       "array([[ 1.,  2.,  3.,  4.],\n",
       "       [ 3., nan, inf,  6.],\n",
       "       [ 5.,  6.,  7.,  8.]])"
      ]
     },
     "execution_count": 209,
     "metadata": {},
     "output_type": "execute_result"
    }
   ],
   "source": [
    "arr2[1,1]=np.nan\n",
    "arr2[1,2]=np.inf\n",
    "arr2"
   ]
  },
  {
   "cell_type": "code",
   "execution_count": 210,
   "id": "5e3a5431",
   "metadata": {},
   "outputs": [
    {
     "data": {
      "text/plain": [
       "array([[ 1.,  2.,  3.,  4.],\n",
       "       [ 3., -1., -1.,  6.],\n",
       "       [ 5.,  6.,  7.,  8.]])"
      ]
     },
     "execution_count": 210,
     "metadata": {},
     "output_type": "execute_result"
    }
   ],
   "source": [
    "miss_bool = np.isnan(arr2)|np.isinf(arr2)\n",
    "arr2[miss_bool]=-1\n",
    "arr2"
   ]
  },
  {
   "cell_type": "code",
   "execution_count": 211,
   "id": "c898cdd3",
   "metadata": {},
   "outputs": [
    {
     "data": {
      "text/plain": [
       "(3.5833333333333335, -1.0, 8.0)"
      ]
     },
     "execution_count": 211,
     "metadata": {},
     "output_type": "execute_result"
    }
   ],
   "source": [
    "arr2.mean(),arr2.min(),arr2.max()"
   ]
  },
  {
   "cell_type": "code",
   "execution_count": 212,
   "id": "e52c760f",
   "metadata": {},
   "outputs": [
    {
     "data": {
      "text/plain": [
       "array([4., 6., 8.])"
      ]
     },
     "execution_count": 212,
     "metadata": {},
     "output_type": "execute_result"
    }
   ],
   "source": [
    "np.amax(arr2,axis=1)"
   ]
  },
  {
   "cell_type": "code",
   "execution_count": 214,
   "id": "c1b5e57a",
   "metadata": {},
   "outputs": [
    {
     "data": {
      "text/plain": [
       "array([5., 6., 7., 8.])"
      ]
     },
     "execution_count": 214,
     "metadata": {},
     "output_type": "execute_result"
    }
   ],
   "source": [
    "np.amax(arr2,axis=0)"
   ]
  },
  {
   "cell_type": "code",
   "execution_count": 215,
   "id": "602b8b68",
   "metadata": {},
   "outputs": [
    {
     "data": {
      "text/plain": [
       "array([ 1.,  3.,  6., 10., 13., 12., 11., 17., 22., 28., 35., 43.])"
      ]
     },
     "execution_count": 215,
     "metadata": {},
     "output_type": "execute_result"
    }
   ],
   "source": [
    "np.cumsum(arr2)"
   ]
  },
  {
   "cell_type": "code",
   "execution_count": 216,
   "id": "0e1b9fab",
   "metadata": {},
   "outputs": [
    {
     "data": {
      "text/plain": [
       "array([[ 1.,  2.],\n",
       "       [ 3., -1.]])"
      ]
     },
     "execution_count": 216,
     "metadata": {},
     "output_type": "execute_result"
    }
   ],
   "source": [
    "arr2a = arr2[:2,:2]\n",
    "arr2a"
   ]
  },
  {
   "cell_type": "code",
   "execution_count": 217,
   "id": "4be27dd1",
   "metadata": {},
   "outputs": [
    {
     "data": {
      "text/plain": [
       "array([[100.,   2.,   3.,   4.],\n",
       "       [  3.,  -1.,  -1.,   6.],\n",
       "       [  5.,   6.,   7.,   8.]])"
      ]
     },
     "execution_count": 217,
     "metadata": {},
     "output_type": "execute_result"
    }
   ],
   "source": [
    "arr2a[:1,:1]=100\n",
    "arr2"
   ]
  },
  {
   "cell_type": "code",
   "execution_count": 218,
   "id": "241ec875",
   "metadata": {},
   "outputs": [
    {
     "data": {
      "text/plain": [
       "array([[100.,   2.,   3.,   4.],\n",
       "       [  3.,  -1.,  -1.,   6.],\n",
       "       [  5.,   6.,   7.,   8.]])"
      ]
     },
     "execution_count": 218,
     "metadata": {},
     "output_type": "execute_result"
    }
   ],
   "source": [
    "arr2b = arr2[:2,:2].copy()\n",
    "arr2b[:1,:1]=101\n",
    "arr2"
   ]
  },
  {
   "cell_type": "code",
   "execution_count": 219,
   "id": "9aae2c40",
   "metadata": {},
   "outputs": [
    {
     "data": {
      "text/plain": [
       "array([[100.,   2.,   3.],\n",
       "       [  4.,   3.,  -1.],\n",
       "       [ -1.,   6.,   5.],\n",
       "       [  6.,   7.,   8.]])"
      ]
     },
     "execution_count": 219,
     "metadata": {},
     "output_type": "execute_result"
    }
   ],
   "source": [
    "arr2.reshape(4,3)"
   ]
  },
  {
   "cell_type": "code",
   "execution_count": 220,
   "id": "d6ba0ab5",
   "metadata": {},
   "outputs": [
    {
     "data": {
      "text/plain": [
       "array([100.,   2.,   3.,   4.,   3.,  -1.,  -1.,   6.,   5.,   6.,   7.,\n",
       "         8.])"
      ]
     },
     "execution_count": 220,
     "metadata": {},
     "output_type": "execute_result"
    }
   ],
   "source": [
    "arr2.flatten()\n"
   ]
  },
  {
   "cell_type": "code",
   "execution_count": 221,
   "id": "112a4725",
   "metadata": {},
   "outputs": [
    {
     "data": {
      "text/plain": [
       "array([100.,   2.,   3.,   4.,   3.,  -1.,  -1.,   6.,   5.,   6.,   7.,\n",
       "         8.])"
      ]
     },
     "execution_count": 221,
     "metadata": {},
     "output_type": "execute_result"
    }
   ],
   "source": [
    "arr2.ravel()"
   ]
  },
  {
   "cell_type": "code",
   "execution_count": 222,
   "id": "9f8989b2",
   "metadata": {},
   "outputs": [
    {
     "data": {
      "text/plain": [
       "array([[100.,   2.,   3.,   4.],\n",
       "       [  3.,  -1.,  -1.,   6.],\n",
       "       [  5.,   6.,   7.,   8.]])"
      ]
     },
     "execution_count": 222,
     "metadata": {},
     "output_type": "execute_result"
    }
   ],
   "source": [
    "b1 = arr2.flatten()\n",
    "b1[1]=100\n",
    "arr2"
   ]
  },
  {
   "cell_type": "code",
   "execution_count": 223,
   "id": "7eb1f4f6",
   "metadata": {},
   "outputs": [
    {
     "data": {
      "text/plain": [
       "array([[100., 100.,   3.,   4.],\n",
       "       [  3.,  -1.,  -1.,   6.],\n",
       "       [  5.,   6.,   7.,   8.]])"
      ]
     },
     "execution_count": 223,
     "metadata": {},
     "output_type": "execute_result"
    }
   ],
   "source": [
    "b1 = arr2.ravel()\n",
    "b1[1]=100\n",
    "arr2"
   ]
  },
  {
   "cell_type": "code",
   "execution_count": 225,
   "id": "0400bfd8",
   "metadata": {},
   "outputs": [
    {
     "name": "stdout",
     "output_type": "stream",
     "text": [
      "[0 1 2 3 4]\n",
      "[0 1 2 3 4 5 6 7 8 9]\n",
      "[0 2 4 6 8]\n",
      "[10  9  8  7  6  5  4  3  2]\n"
     ]
    }
   ],
   "source": [
    "print(np.arange(5))\n",
    "print(np.arange(0,10))\n",
    "print(np.arange(0,10,2))\n",
    "print(np.arange(10,1,-1))"
   ]
  },
  {
   "cell_type": "code",
   "execution_count": 227,
   "id": "64c177db",
   "metadata": {},
   "outputs": [
    {
     "data": {
      "text/plain": [
       "array([ 1,  6, 11, 17, 22, 28, 33, 39, 44, 50])"
      ]
     },
     "execution_count": 227,
     "metadata": {},
     "output_type": "execute_result"
    }
   ],
   "source": [
    "np.linspace(1,50,10,dtype=int)"
   ]
  },
  {
   "cell_type": "code",
   "execution_count": 228,
   "id": "8d4d7321",
   "metadata": {},
   "outputs": [
    {
     "data": {
      "text/plain": [
       "array([1.00e+01, 2.78e+06, 7.74e+11, 2.15e+17, 5.99e+22, 1.67e+28,\n",
       "       4.64e+33, 1.29e+39, 3.59e+44, 1.00e+50])"
      ]
     },
     "execution_count": 228,
     "metadata": {},
     "output_type": "execute_result"
    }
   ],
   "source": [
    "np.set_printoptions(precision=2)\n",
    "np.logspace(1,50,10,base=10)"
   ]
  },
  {
   "cell_type": "code",
   "execution_count": 229,
   "id": "929327cf",
   "metadata": {},
   "outputs": [
    {
     "data": {
      "text/plain": [
       "array([[0., 0.],\n",
       "       [0., 0.]])"
      ]
     },
     "execution_count": 229,
     "metadata": {},
     "output_type": "execute_result"
    }
   ],
   "source": [
    "np.zeros([2,2])\n"
   ]
  },
  {
   "cell_type": "code",
   "execution_count": 230,
   "id": "ac6f4fdf",
   "metadata": {},
   "outputs": [
    {
     "data": {
      "text/plain": [
       "array([[1., 1., 1.],\n",
       "       [1., 1., 1.]])"
      ]
     },
     "execution_count": 230,
     "metadata": {},
     "output_type": "execute_result"
    }
   ],
   "source": [
    "np.ones([2,3])"
   ]
  },
  {
   "cell_type": "code",
   "execution_count": 231,
   "id": "4f5988b4",
   "metadata": {},
   "outputs": [
    {
     "data": {
      "text/plain": [
       "array([1, 2, 3, 4, 1, 2, 3, 4])"
      ]
     },
     "execution_count": 231,
     "metadata": {},
     "output_type": "execute_result"
    }
   ],
   "source": [
    "a = [1,2,3,4]\n",
    "np.tile(a,2)"
   ]
  },
  {
   "cell_type": "code",
   "execution_count": 232,
   "id": "6906a73c",
   "metadata": {},
   "outputs": [
    {
     "data": {
      "text/plain": [
       "array([1, 1, 1, 2, 2, 2, 3, 3, 3, 4, 4, 4])"
      ]
     },
     "execution_count": 232,
     "metadata": {},
     "output_type": "execute_result"
    }
   ],
   "source": [
    "np.repeat(a,3)"
   ]
  },
  {
   "cell_type": "code",
   "execution_count": 233,
   "id": "3d1690ac",
   "metadata": {},
   "outputs": [
    {
     "data": {
      "text/plain": [
       "array([[0.31, 0.63],\n",
       "       [0.78, 0.07]])"
      ]
     },
     "execution_count": 233,
     "metadata": {},
     "output_type": "execute_result"
    }
   ],
   "source": [
    "np.random.rand(2,2)"
   ]
  },
  {
   "cell_type": "code",
   "execution_count": 234,
   "id": "8d0cc478",
   "metadata": {},
   "outputs": [
    {
     "data": {
      "text/plain": [
       "array([[ 1.16,  0.29],\n",
       "       [ 0.57, -0.82]])"
      ]
     },
     "execution_count": 234,
     "metadata": {},
     "output_type": "execute_result"
    }
   ],
   "source": [
    "np.random.randn(2,2)"
   ]
  },
  {
   "cell_type": "code",
   "execution_count": 235,
   "id": "1a8a6c41",
   "metadata": {},
   "outputs": [
    {
     "data": {
      "text/plain": [
       "array([[4, 1],\n",
       "       [0, 1]])"
      ]
     },
     "execution_count": 235,
     "metadata": {},
     "output_type": "execute_result"
    }
   ],
   "source": [
    "np.random.randint(0,10,size=[2,2])"
   ]
  },
  {
   "cell_type": "code",
   "execution_count": 236,
   "id": "2aeb7e3e",
   "metadata": {},
   "outputs": [
    {
     "name": "stdout",
     "output_type": "stream",
     "text": [
      "0.39808489792448964\n"
     ]
    }
   ],
   "source": [
    "print(np.random.random())"
   ]
  },
  {
   "cell_type": "code",
   "execution_count": 237,
   "id": "6d1817cd",
   "metadata": {},
   "outputs": [
    {
     "data": {
      "text/plain": [
       "array([[0.09, 0.15],\n",
       "       [0.22, 0.25]])"
      ]
     },
     "execution_count": 237,
     "metadata": {},
     "output_type": "execute_result"
    }
   ],
   "source": [
    "np.random.random(size=(2,2))"
   ]
  },
  {
   "cell_type": "code",
   "execution_count": 238,
   "id": "b13aefa0",
   "metadata": {},
   "outputs": [
    {
     "data": {
      "text/plain": [
       "array(['i', 'a', 'i', 'a', 'u', 'e', 'e', 'u', 'i', 'a'], dtype='<U1')"
      ]
     },
     "execution_count": 238,
     "metadata": {},
     "output_type": "execute_result"
    }
   ],
   "source": [
    "np.random.choice(['a','e','i','o','u'],size=10)"
   ]
  },
  {
   "cell_type": "code",
   "execution_count": 240,
   "id": "94fe850b",
   "metadata": {},
   "outputs": [
    {
     "data": {
      "text/plain": [
       "array(['a', 'c', 'a', 'b', 'c', 'a', 'c', 'c', 'a', 'a'], dtype='<U1')"
      ]
     },
     "execution_count": 240,
     "metadata": {},
     "output_type": "execute_result"
    }
   ],
   "source": [
    "np.random.choice(['a','b','c','d'],size=10,p=[0.3,.1,0.3,0.3])"
   ]
  },
  {
   "cell_type": "code",
   "execution_count": 241,
   "id": "ff5ed529",
   "metadata": {},
   "outputs": [
    {
     "data": {
      "text/plain": [
       "array([[0.54, 0.28],\n",
       "       [0.42, 0.84]])"
      ]
     },
     "execution_count": 241,
     "metadata": {},
     "output_type": "execute_result"
    }
   ],
   "source": [
    "rn = np.random.RandomState(100)\n",
    "rn.rand(2,2)"
   ]
  },
  {
   "cell_type": "code",
   "execution_count": 242,
   "id": "d49bb59a",
   "metadata": {},
   "outputs": [
    {
     "data": {
      "text/plain": [
       "array([[0.54, 0.28],\n",
       "       [0.42, 0.84]])"
      ]
     },
     "execution_count": 242,
     "metadata": {},
     "output_type": "execute_result"
    }
   ],
   "source": [
    "np.random.seed(100)\n",
    "np.random.rand(2,2)"
   ]
  },
  {
   "cell_type": "code",
   "execution_count": 243,
   "id": "77de6440",
   "metadata": {},
   "outputs": [
    {
     "name": "stdout",
     "output_type": "stream",
     "text": [
      "[8 8 3 7 7 0 4 2 5 2]\n"
     ]
    }
   ],
   "source": [
    "np.random.seed(100)\n",
    "arr_and = np.random.randint(0,10,size=10)\n",
    "print(arr_and)"
   ]
  },
  {
   "cell_type": "code",
   "execution_count": 246,
   "id": "f1d01f75",
   "metadata": {},
   "outputs": [
    {
     "data": {
      "text/plain": [
       "array([0, 2, 3, 4, 5, 7, 8])"
      ]
     },
     "execution_count": 246,
     "metadata": {},
     "output_type": "execute_result"
    }
   ],
   "source": [
    "uniques = np.unique(arr_and)\n",
    "uniques"
   ]
  },
  {
   "cell_type": "code",
   "execution_count": 247,
   "id": "2ec424e3",
   "metadata": {},
   "outputs": [],
   "source": [
    "uniques,counts = np.unique(arr_and,return_counts=True)"
   ]
  },
  {
   "cell_type": "code",
   "execution_count": 248,
   "id": "5845809b",
   "metadata": {},
   "outputs": [
    {
     "data": {
      "text/plain": [
       "(array([0, 2, 3, 4, 5, 7, 8]), array([1, 2, 1, 1, 1, 2, 2]))"
      ]
     },
     "execution_count": 248,
     "metadata": {},
     "output_type": "execute_result"
    }
   ],
   "source": [
    "uniques,counts"
   ]
  },
  {
   "cell_type": "code",
   "execution_count": 1,
   "id": "d4aea534",
   "metadata": {},
   "outputs": [
    {
     "name": "stdout",
     "output_type": "stream",
     "text": [
      "array: [8 8 3 7 0 4 2 5 2]\n"
     ]
    }
   ],
   "source": [
    "import numpy as np\n",
    "arr_rand = np.array([8,8,3,7,0,4,2,5,2])\n",
    "print('array:',arr_rand)"
   ]
  },
  {
   "cell_type": "code",
   "execution_count": 12,
   "id": "6239c157",
   "metadata": {},
   "outputs": [
    {
     "ename": "AttributeError",
     "evalue": "'AxesSubplot' object has no attribute 'bar_label'",
     "output_type": "error",
     "traceback": [
      "\u001b[0;31m---------------------------------------------------------------------------\u001b[0m",
      "\u001b[0;31mAttributeError\u001b[0m                            Traceback (most recent call last)",
      "\u001b[0;32m<ipython-input-12-3bcf1f43fd20>\u001b[0m in \u001b[0;36m<module>\u001b[0;34m\u001b[0m\n\u001b[1;32m     52\u001b[0m \u001b[0;34m\u001b[0m\u001b[0m\n\u001b[1;32m     53\u001b[0m \u001b[0;34m\u001b[0m\u001b[0m\n\u001b[0;32m---> 54\u001b[0;31m \u001b[0msurvey\u001b[0m\u001b[0;34m(\u001b[0m\u001b[0mresults\u001b[0m\u001b[0;34m,\u001b[0m \u001b[0mcategory_names\u001b[0m\u001b[0;34m)\u001b[0m\u001b[0;34m\u001b[0m\u001b[0;34m\u001b[0m\u001b[0m\n\u001b[0m\u001b[1;32m     55\u001b[0m \u001b[0mplt\u001b[0m\u001b[0;34m.\u001b[0m\u001b[0mshow\u001b[0m\u001b[0;34m(\u001b[0m\u001b[0;34m)\u001b[0m\u001b[0;34m\u001b[0m\u001b[0;34m\u001b[0m\u001b[0m\n",
      "\u001b[0;32m<ipython-input-12-3bcf1f43fd20>\u001b[0m in \u001b[0;36msurvey\u001b[0;34m(results, category_names)\u001b[0m\n\u001b[1;32m     45\u001b[0m         \u001b[0mr\u001b[0m\u001b[0;34m,\u001b[0m \u001b[0mg\u001b[0m\u001b[0;34m,\u001b[0m \u001b[0mb\u001b[0m\u001b[0;34m,\u001b[0m \u001b[0m_\u001b[0m \u001b[0;34m=\u001b[0m \u001b[0mcolor\u001b[0m\u001b[0;34m\u001b[0m\u001b[0;34m\u001b[0m\u001b[0m\n\u001b[1;32m     46\u001b[0m         \u001b[0mtext_color\u001b[0m \u001b[0;34m=\u001b[0m \u001b[0;34m'white'\u001b[0m \u001b[0;32mif\u001b[0m \u001b[0mr\u001b[0m \u001b[0;34m*\u001b[0m \u001b[0mg\u001b[0m \u001b[0;34m*\u001b[0m \u001b[0mb\u001b[0m \u001b[0;34m<\u001b[0m \u001b[0;36m0.5\u001b[0m \u001b[0;32melse\u001b[0m \u001b[0;34m'darkgrey'\u001b[0m\u001b[0;34m\u001b[0m\u001b[0;34m\u001b[0m\u001b[0m\n\u001b[0;32m---> 47\u001b[0;31m         \u001b[0max\u001b[0m\u001b[0;34m.\u001b[0m\u001b[0mbar_label\u001b[0m\u001b[0;34m(\u001b[0m\u001b[0mrects\u001b[0m\u001b[0;34m,\u001b[0m \u001b[0mlabel_type\u001b[0m\u001b[0;34m=\u001b[0m\u001b[0;34m'center'\u001b[0m\u001b[0;34m,\u001b[0m \u001b[0mcolor\u001b[0m\u001b[0;34m=\u001b[0m\u001b[0mtext_color\u001b[0m\u001b[0;34m)\u001b[0m\u001b[0;34m\u001b[0m\u001b[0;34m\u001b[0m\u001b[0m\n\u001b[0m\u001b[1;32m     48\u001b[0m     ax.legend(ncol=len(category_names), bbox_to_anchor=(0, 1),\n\u001b[1;32m     49\u001b[0m               loc='lower left', fontsize='small')\n",
      "\u001b[0;31mAttributeError\u001b[0m: 'AxesSubplot' object has no attribute 'bar_label'"
     ]
    },
    {
     "data": {
      "image/png": "[encoded data removed]",
      "text/plain": [
       "<Figure size 662.4x360 with 1 Axes>"
      ]
     },
     "metadata": {
      "needs_background": "light"
     },
     "output_type": "display_data"
    }
   ],
   "source": [
    "import numpy as np\n",
    "import matplotlib.pyplot as plt\n",
    "\n",
    "\n",
    "category_names = ['Strongly disagree', 'Disagree',\n",
    "                  'Neither agree nor disagree', 'Agree', 'Strongly agree']\n",
    "results = {\n",
    "    'Question 1': [10, 15, 17, 32, 26],\n",
    "    'Question 2': [26, 22, 29, 10, 13],\n",
    "    'Question 3': [35, 37, 7, 2, 19],\n",
    "    'Question 4': [32, 11, 9, 15, 33],\n",
    "    'Question 5': [21, 29, 5, 5, 40],\n",
    "    'Question 6': [8, 19, 5, 30, 38]\n",
    "}\n",
    "\n",
    "\n",
    "def survey(results, category_names):\n",
    "    \"\"\"\n",
    "    Parameters\n",
    "    ----------\n",
    "    results : dict\n",
    "        A mapping from question labels to a list of answers per category.\n",
    "        It is assumed all lists contain the same number of entries and that\n",
    "        it matches the length of *category_names*.\n",
    "    category_names : list of str\n",
    "        The category labels.\n",
    "    \"\"\"\n",
    "    labels = list(results.keys())\n",
    "    data = np.array(list(results.values()))\n",
    "    data_cum = data.cumsum(axis=1)\n",
    "    category_colors = plt.get_cmap('RdYlGn')(\n",
    "        np.linspace(0.15, 0.85, data.shape[1]))\n",
    "\n",
    "    fig, ax = plt.subplots(figsize=(9.2, 5))\n",
    "    ax.invert_yaxis()\n",
    "    ax.xaxis.set_visible(False)\n",
    "    ax.set_xlim(0, np.sum(data, axis=1).max())\n",
    "\n",
    "    for i, (colname, color) in enumerate(zip(category_names, category_colors)):\n",
    "        widths = data[:, i]\n",
    "        starts = data_cum[:, i] - widths\n",
    "        rects = ax.barh(labels, widths, left=starts, height=0.5,\n",
    "                        label=colname, color=color)\n",
    "\n",
    "        r, g, b, _ = color\n",
    "        text_color = 'white' if r * g * b < 0.5 else 'darkgrey'\n",
    "        ax.bar_label(rects, label_type='center', color=text_color)\n",
    "    ax.legend(ncol=len(category_names), bbox_to_anchor=(0, 1),\n",
    "              loc='lower left', fontsize='small')\n",
    "    return fig, ax\n",
    "\n",
    "survey(results, category_names)\n",
    "plt.show()"
   ]
  },
  {
   "cell_type": "code",
   "execution_count": 14,
   "id": "aac02200",
   "metadata": {},
   "outputs": [
    {
     "data": {
      "text/plain": [
       "array([8, 8, 3, 7, 7, 0, 4, 2, 5, 2])"
      ]
     },
     "execution_count": 14,
     "metadata": {},
     "output_type": "execute_result"
    }
   ],
   "source": [
    "import numpy as np\n",
    "arr_rand  = np.array([8,8,3,7,7,0,4,2,5,2])\n",
    "arr_rand"
   ]
  },
  {
   "cell_type": "code",
   "execution_count": 15,
   "id": "0e3361f6",
   "metadata": {},
   "outputs": [
    {
     "name": "stdout",
     "output_type": "stream",
     "text": [
      "(array([0, 1, 3, 4]),)\n"
     ]
    }
   ],
   "source": [
    "index_gt5 = np.where(arr_rand>5)\n",
    "print(index_gt5)"
   ]
  },
  {
   "cell_type": "code",
   "execution_count": 16,
   "id": "d1eb9488",
   "metadata": {},
   "outputs": [
    {
     "data": {
      "text/plain": [
       "array([[8, 8, 7, 7]])"
      ]
     },
     "execution_count": 16,
     "metadata": {},
     "output_type": "execute_result"
    }
   ],
   "source": [
    "arr_rand.take(index_gt5)"
   ]
  },
  {
   "cell_type": "code",
   "execution_count": 18,
   "id": "e37aaa82",
   "metadata": {},
   "outputs": [
    {
     "data": {
      "text/plain": [
       "array(['gt5', 'gt5', 'le5', 'gt5', 'gt5', 'le5', 'le5', 'le5', 'le5',\n",
       "       'le5'], dtype='<U3')"
      ]
     },
     "execution_count": 18,
     "metadata": {},
     "output_type": "execute_result"
    }
   ],
   "source": [
    "np.where(arr_rand>5,'gt5','le5')\n"
   ]
  },
  {
   "cell_type": "code",
   "execution_count": 20,
   "id": "0377d5ae",
   "metadata": {},
   "outputs": [
    {
     "data": {
      "text/plain": [
       "(0, 5)"
      ]
     },
     "execution_count": 20,
     "metadata": {},
     "output_type": "execute_result"
    }
   ],
   "source": [
    "np.argmax(arr_rand),np.argmin(arr_rand)"
   ]
  },
  {
   "cell_type": "code",
   "execution_count": 24,
   "id": "55fe28ce",
   "metadata": {},
   "outputs": [
    {
     "data": {
      "text/plain": [
       "array([[  18. ,    8. ,  307. ,  130. , 3504. ,   12. ,   70. ,    1. ,\n",
       "        -999. ],\n",
       "       [  15. ,    8. ,  350. ,  165. , 3693. ,   11.5,   70. ,    1. ,\n",
       "        -999. ],\n",
       "       [  18. ,    8. ,  318. ,  150. , 3436. ,   11. ,   70. ,    1. ,\n",
       "        -999. ]])"
      ]
     },
     "execution_count": 24,
     "metadata": {},
     "output_type": "execute_result"
    }
   ],
   "source": [
    "np.set_printoptions(suppress=True)\n",
    "path = 'https://raw.githubusercontent.com/selva86/datasets/master/Auto.csv'\n",
    "data = np.genfromtxt(path,delimiter=',',skip_header=1,filling_values=-999,dtype='float')\n",
    "data[:3]"
   ]
  },
  {
   "cell_type": "code",
   "execution_count": 27,
   "id": "c67cc808",
   "metadata": {},
   "outputs": [
    {
     "name": "stderr",
     "output_type": "stream",
     "text": [
      "/Users/yanshuo/opt/anaconda3/lib/python3.7/site-packages/ipykernel_launcher.py:1: VisibleDeprecationWarning: Reading unicode strings without specifying the encoding argument is deprecated. Set the encoding, use None for the system default.\n",
      "  \"\"\"Entry point for launching an IPython kernel.\n"
     ]
    }
   ],
   "source": [
    "data2 = np.genfromtxt(path,delimiter=',',skip_header=1,dtype=None)"
   ]
  },
  {
   "cell_type": "code",
   "execution_count": 35,
   "id": "ffd6316b",
   "metadata": {},
   "outputs": [],
   "source": [
    "data2[:3]\n",
    "data2=np.random.random((2,3))\n",
    "np.savetxt('out.csv',data2)"
   ]
  },
  {
   "cell_type": "code",
   "execution_count": 38,
   "id": "975d43ca",
   "metadata": {},
   "outputs": [],
   "source": [
    "np.save('myarray.npy',data2)\n",
    "np.savez('array.npz',data2,data2)"
   ]
  },
  {
   "cell_type": "code",
   "execution_count": 40,
   "id": "7f000c86",
   "metadata": {},
   "outputs": [
    {
     "data": {
      "text/plain": [
       "array([[0.4623488 , 0.88931224, 0.10005819],\n",
       "       [0.80525908, 0.74127418, 0.18670044]])"
      ]
     },
     "execution_count": 40,
     "metadata": {},
     "output_type": "execute_result"
    }
   ],
   "source": [
    "np.random.random((2,3))"
   ]
  },
  {
   "cell_type": "code",
   "execution_count": 41,
   "id": "b90b690b",
   "metadata": {},
   "outputs": [
    {
     "name": "stdout",
     "output_type": "stream",
     "text": [
      "[[0.31455622 0.16103286 0.56371724]\n",
      " [0.38510267 0.85032076 0.41885353]]\n"
     ]
    }
   ],
   "source": [
    "a = np.load('myarray.npy')\n",
    "print(a)"
   ]
  },
  {
   "cell_type": "code",
   "execution_count": 43,
   "id": "5f1cc0e7",
   "metadata": {},
   "outputs": [
    {
     "name": "stdout",
     "output_type": "stream",
     "text": [
      "['arr_0', 'arr_1']\n"
     ]
    },
    {
     "data": {
      "text/plain": [
       "array([[0.31455622, 0.16103286, 0.56371724],\n",
       "       [0.38510267, 0.85032076, 0.41885353]])"
      ]
     },
     "execution_count": 43,
     "metadata": {},
     "output_type": "execute_result"
    }
   ],
   "source": [
    "b = np.load('array.npz')\n",
    "print(b.files)\n",
    "b['arr_1']"
   ]
  },
  {
   "cell_type": "code",
   "execution_count": 44,
   "id": "b8f836d2",
   "metadata": {},
   "outputs": [
    {
     "name": "stdout",
     "output_type": "stream",
     "text": [
      "['arr_0', 'arr_1']\n"
     ]
    },
    {
     "data": {
      "text/plain": [
       "array([[0.31455622, 0.16103286, 0.56371724],\n",
       "       [0.38510267, 0.85032076, 0.41885353]])"
      ]
     },
     "execution_count": 44,
     "metadata": {},
     "output_type": "execute_result"
    }
   ],
   "source": [
    "b = np.load('array.npz')\n",
    "print(b.files)\n",
    "b['arr_0']"
   ]
  },
  {
   "cell_type": "code",
   "execution_count": 46,
   "id": "81f35467",
   "metadata": {},
   "outputs": [
    {
     "name": "stdout",
     "output_type": "stream",
     "text": [
      "[[0. 0. 0. 0.]\n",
      " [0. 0. 0. 0.]\n",
      " [0. 0. 0. 0.]\n",
      " [0. 0. 0. 0.]] [[1. 1. 1. 1.]\n",
      " [1. 1. 1. 1.]\n",
      " [1. 1. 1. 1.]\n",
      " [1. 1. 1. 1.]]\n"
     ]
    }
   ],
   "source": [
    "a = np.zeros([4,4])\n",
    "b = np.ones([4,4])\n",
    "print(a,b)"
   ]
  },
  {
   "cell_type": "code",
   "execution_count": 49,
   "id": "9fcda0eb",
   "metadata": {},
   "outputs": [
    {
     "data": {
      "text/plain": [
       "array([[0., 0., 0., 0.],\n",
       "       [0., 0., 0., 0.],\n",
       "       [0., 0., 0., 0.],\n",
       "       [0., 0., 0., 0.],\n",
       "       [1., 1., 1., 1.],\n",
       "       [1., 1., 1., 1.],\n",
       "       [1., 1., 1., 1.],\n",
       "       [1., 1., 1., 1.]])"
      ]
     },
     "execution_count": 49,
     "metadata": {},
     "output_type": "execute_result"
    }
   ],
   "source": [
    "np.concatenate([a,b],axis=0)"
   ]
  },
  {
   "cell_type": "code",
   "execution_count": 52,
   "id": "f837ec33",
   "metadata": {},
   "outputs": [
    {
     "data": {
      "text/plain": [
       "array([[0., 0., 0., 0.],\n",
       "       [0., 0., 0., 0.],\n",
       "       [0., 0., 0., 0.],\n",
       "       [0., 0., 0., 0.],\n",
       "       [1., 1., 1., 1.],\n",
       "       [1., 1., 1., 1.],\n",
       "       [1., 1., 1., 1.],\n",
       "       [1., 1., 1., 1.]])"
      ]
     },
     "execution_count": 52,
     "metadata": {},
     "output_type": "execute_result"
    }
   ],
   "source": [
    "np.vstack([a,b])\n"
   ]
  },
  {
   "cell_type": "code",
   "execution_count": 54,
   "id": "9718e8a3",
   "metadata": {},
   "outputs": [
    {
     "data": {
      "text/plain": [
       "array([[0., 0., 0., 0.],\n",
       "       [0., 0., 0., 0.],\n",
       "       [0., 0., 0., 0.],\n",
       "       [0., 0., 0., 0.],\n",
       "       [1., 1., 1., 1.],\n",
       "       [1., 1., 1., 1.],\n",
       "       [1., 1., 1., 1.],\n",
       "       [1., 1., 1., 1.]])"
      ]
     },
     "execution_count": 54,
     "metadata": {},
     "output_type": "execute_result"
    }
   ],
   "source": [
    "np.r_[a,b]"
   ]
  },
  {
   "cell_type": "code",
   "execution_count": 57,
   "id": "e397fea9",
   "metadata": {},
   "outputs": [
    {
     "data": {
      "text/plain": [
       "array([[0., 0., 0., 0., 1., 1., 1., 1.],\n",
       "       [0., 0., 0., 0., 1., 1., 1., 1.],\n",
       "       [0., 0., 0., 0., 1., 1., 1., 1.],\n",
       "       [0., 0., 0., 0., 1., 1., 1., 1.]])"
      ]
     },
     "execution_count": 57,
     "metadata": {},
     "output_type": "execute_result"
    }
   ],
   "source": [
    "np.concatenate([a,b],axis=1)\n"
   ]
  },
  {
   "cell_type": "code",
   "execution_count": 58,
   "id": "fb72bea0",
   "metadata": {},
   "outputs": [
    {
     "data": {
      "text/plain": [
       "array([[0., 0., 0., 0., 1., 1., 1., 1.],\n",
       "       [0., 0., 0., 0., 1., 1., 1., 1.],\n",
       "       [0., 0., 0., 0., 1., 1., 1., 1.],\n",
       "       [0., 0., 0., 0., 1., 1., 1., 1.]])"
      ]
     },
     "execution_count": 58,
     "metadata": {},
     "output_type": "execute_result"
    }
   ],
   "source": [
    "np.c_[a,b]"
   ]
  },
  {
   "cell_type": "code",
   "execution_count": 60,
   "id": "58fdc7bf",
   "metadata": {},
   "outputs": [
    {
     "data": {
      "text/plain": [
       "array([[0., 0., 0., 0., 1., 1., 1., 1.],\n",
       "       [0., 0., 0., 0., 1., 1., 1., 1.],\n",
       "       [0., 0., 0., 0., 1., 1., 1., 1.],\n",
       "       [0., 0., 0., 0., 1., 1., 1., 1.]])"
      ]
     },
     "execution_count": 60,
     "metadata": {},
     "output_type": "execute_result"
    }
   ],
   "source": [
    "np.hstack([a,b])"
   ]
  },
  {
   "cell_type": "code",
   "execution_count": 62,
   "id": "4bee0174",
   "metadata": {},
   "outputs": [
    {
     "data": {
      "text/plain": [
       "array([[0., 0., 0., 0., 1., 1., 1., 1.],\n",
       "       [0., 0., 0., 0., 1., 1., 1., 1.],\n",
       "       [0., 0., 0., 0., 1., 1., 1., 1.],\n",
       "       [0., 0., 0., 0., 1., 1., 1., 1.]])"
      ]
     },
     "execution_count": 62,
     "metadata": {},
     "output_type": "execute_result"
    }
   ],
   "source": [
    "np.hstack([a,b])\n"
   ]
  },
  {
   "cell_type": "code",
   "execution_count": 63,
   "id": "5bc499c3",
   "metadata": {},
   "outputs": [
    {
     "data": {
      "text/plain": [
       "array([1, 2, 3, 0, 0, 4, 5, 6])"
      ]
     },
     "execution_count": 63,
     "metadata": {},
     "output_type": "execute_result"
    }
   ],
   "source": [
    "np.r_[[1,2,3],0,0,[4,5,6]]\n"
   ]
  },
  {
   "cell_type": "code",
   "execution_count": 64,
   "id": "6638eb24",
   "metadata": {},
   "outputs": [
    {
     "data": {
      "text/plain": [
       "array([[0., 0., 0., 0.],\n",
       "       [0., 0., 0., 0.],\n",
       "       [0., 0., 0., 0.],\n",
       "       [0., 0., 0., 0.],\n",
       "       [1., 1., 1., 1.],\n",
       "       [1., 1., 1., 1.],\n",
       "       [1., 1., 1., 1.],\n",
       "       [1., 1., 1., 1.]])"
      ]
     },
     "execution_count": 64,
     "metadata": {},
     "output_type": "execute_result"
    }
   ],
   "source": [
    "np.vstack([a,b])\n"
   ]
  },
  {
   "cell_type": "code",
   "execution_count": 66,
   "id": "6dff8a00",
   "metadata": {},
   "outputs": [
    {
     "data": {
      "text/plain": [
       "array([[0., 0., 0., 0.],\n",
       "       [0., 0., 0., 0.],\n",
       "       [0., 0., 0., 0.],\n",
       "       [0., 0., 0., 0.],\n",
       "       [1., 1., 1., 1.],\n",
       "       [1., 1., 1., 1.],\n",
       "       [1., 1., 1., 1.],\n",
       "       [1., 1., 1., 1.]])"
      ]
     },
     "execution_count": 66,
     "metadata": {},
     "output_type": "execute_result"
    }
   ],
   "source": [
    "np.r_[a,b]\n"
   ]
  },
  {
   "cell_type": "code",
   "execution_count": 67,
   "id": "23dc4f72",
   "metadata": {},
   "outputs": [
    {
     "data": {
      "text/plain": [
       "array([[0., 0., 0., 0., 1., 1., 1., 1.],\n",
       "       [0., 0., 0., 0., 1., 1., 1., 1.],\n",
       "       [0., 0., 0., 0., 1., 1., 1., 1.],\n",
       "       [0., 0., 0., 0., 1., 1., 1., 1.]])"
      ]
     },
     "execution_count": 67,
     "metadata": {},
     "output_type": "execute_result"
    }
   ],
   "source": [
    "np.concatenate([a,b],axis=1)\n"
   ]
  },
  {
   "cell_type": "code",
   "execution_count": 68,
   "id": "aab7e571",
   "metadata": {},
   "outputs": [
    {
     "data": {
      "text/plain": [
       "array([[0., 0., 0., 0., 1., 1., 1., 1.],\n",
       "       [0., 0., 0., 0., 1., 1., 1., 1.],\n",
       "       [0., 0., 0., 0., 1., 1., 1., 1.],\n",
       "       [0., 0., 0., 0., 1., 1., 1., 1.]])"
      ]
     },
     "execution_count": 68,
     "metadata": {},
     "output_type": "execute_result"
    }
   ],
   "source": [
    "np.hstack([a,b])\n"
   ]
  },
  {
   "cell_type": "code",
   "execution_count": 70,
   "id": "3843953a",
   "metadata": {},
   "outputs": [
    {
     "data": {
      "text/plain": [
       "array([[0., 0., 0., 0., 1., 1., 1., 1.],\n",
       "       [0., 0., 0., 0., 1., 1., 1., 1.],\n",
       "       [0., 0., 0., 0., 1., 1., 1., 1.],\n",
       "       [0., 0., 0., 0., 1., 1., 1., 1.]])"
      ]
     },
     "execution_count": 70,
     "metadata": {},
     "output_type": "execute_result"
    }
   ],
   "source": [
    "np.c_[a,b]"
   ]
  },
  {
   "cell_type": "code",
   "execution_count": 71,
   "id": "f1e6b5fd",
   "metadata": {},
   "outputs": [],
   "source": [
    "arr = np.random.randint(1,6,size=[8,4])"
   ]
  },
  {
   "cell_type": "code",
   "execution_count": 78,
   "id": "92686fc2",
   "metadata": {},
   "outputs": [
    {
     "data": {
      "text/plain": [
       "array([[2, 2, 4, 3],\n",
       "       [2, 3, 3, 4],\n",
       "       [4, 2, 3, 1],\n",
       "       [2, 1, 2, 5],\n",
       "       [4, 4, 3, 4],\n",
       "       [5, 5, 3, 4],\n",
       "       [4, 5, 4, 2],\n",
       "       [3, 4, 2, 5]])"
      ]
     },
     "execution_count": 78,
     "metadata": {},
     "output_type": "execute_result"
    }
   ],
   "source": [
    "arr"
   ]
  },
  {
   "cell_type": "code",
   "execution_count": 80,
   "id": "1a2b293f",
   "metadata": {},
   "outputs": [
    {
     "data": {
      "text/plain": [
       "array([[0, 3, 3, 2],\n",
       "       [1, 0, 7, 6],\n",
       "       [3, 2, 1, 0],\n",
       "       [7, 1, 2, 1],\n",
       "       [2, 4, 4, 4],\n",
       "       [4, 7, 5, 5],\n",
       "       [6, 5, 0, 3],\n",
       "       [5, 6, 6, 7]])"
      ]
     },
     "execution_count": 80,
     "metadata": {},
     "output_type": "execute_result"
    }
   ],
   "source": [
    "np.argsort(arr,axis=0)"
   ]
  },
  {
   "cell_type": "code",
   "execution_count": 86,
   "id": "3afddf28",
   "metadata": {},
   "outputs": [
    {
     "data": {
      "text/plain": [
       "array([1, 2, 3, 4, 0])"
      ]
     },
     "execution_count": 86,
     "metadata": {},
     "output_type": "execute_result"
    }
   ],
   "source": [
    "x = np.argsort(np.array([13,2,3,4,5]))\n",
    "x"
   ]
  },
  {
   "cell_type": "code",
   "execution_count": 88,
   "id": "f68132a7",
   "metadata": {},
   "outputs": [
    {
     "data": {
      "text/plain": [
       "array([[2, 2, 4, 3],\n",
       "       [2, 3, 3, 4],\n",
       "       [2, 1, 2, 5],\n",
       "       [3, 4, 2, 5],\n",
       "       [4, 2, 3, 1],\n",
       "       [4, 4, 3, 4],\n",
       "       [4, 5, 4, 2],\n",
       "       [5, 5, 3, 4]])"
      ]
     },
     "execution_count": 88,
     "metadata": {},
     "output_type": "execute_result"
    }
   ],
   "source": [
    "sorted_inex_1 = arr[:,0].argsort()\n",
    "arr[sorted_inex_1]"
   ]
  },
  {
   "cell_type": "code",
   "execution_count": 89,
   "id": "ec6653fe",
   "metadata": {},
   "outputs": [
    {
     "data": {
      "text/plain": [
       "array([[5, 5, 3, 4],\n",
       "       [4, 5, 4, 2],\n",
       "       [4, 4, 3, 4],\n",
       "       [4, 2, 3, 1],\n",
       "       [3, 4, 2, 5],\n",
       "       [2, 1, 2, 5],\n",
       "       [2, 3, 3, 4],\n",
       "       [2, 2, 4, 3]])"
      ]
     },
     "execution_count": 89,
     "metadata": {},
     "output_type": "execute_result"
    }
   ],
   "source": [
    "arr[sorted_inex_1[::-1]]"
   ]
  },
  {
   "cell_type": "code",
   "execution_count": 91,
   "id": "fb33d4fe",
   "metadata": {},
   "outputs": [
    {
     "data": {
      "text/plain": [
       "array([[2, 1, 2, 5],\n",
       "       [2, 2, 4, 3],\n",
       "       [2, 3, 3, 4],\n",
       "       [3, 4, 2, 5],\n",
       "       [4, 2, 3, 1],\n",
       "       [4, 4, 3, 4],\n",
       "       [4, 5, 4, 2],\n",
       "       [5, 5, 3, 4]])"
      ]
     },
     "execution_count": 91,
     "metadata": {},
     "output_type": "execute_result"
    }
   ],
   "source": [
    "lexsorted_index = np.lexsort((arr[:,1],arr[:,0]))\n",
    "arr[lexsorted_index]"
   ]
  },
  {
   "cell_type": "code",
   "execution_count": 93,
   "id": "2cda4670",
   "metadata": {},
   "outputs": [
    {
     "data": {
      "text/plain": [
       "numpy.datetime64('2018-02-04T23:10:10')"
      ]
     },
     "execution_count": 93,
     "metadata": {},
     "output_type": "execute_result"
    }
   ],
   "source": [
    "data = np.datetime64('2018-02-04 23:10:10')\n",
    "data"
   ]
  },
  {
   "cell_type": "code",
   "execution_count": 112,
   "id": "624acee4",
   "metadata": {},
   "outputs": [
    {
     "data": {
      "text/plain": [
       "numpy.datetime64('2018-02-04')"
      ]
     },
     "execution_count": 112,
     "metadata": {},
     "output_type": "execute_result"
    }
   ],
   "source": [
    "dt64 = np.datetime64(data,'D')\n",
    "dt64"
   ]
  },
  {
   "cell_type": "code",
   "execution_count": 106,
   "id": "fa25ab60",
   "metadata": {},
   "outputs": [],
   "source": [
    "tenminutes = np.timedelta64(10,'m')\n",
    "tenseconds = np.timedelta64(10,'s')\n",
    "tennanoseconds = np.timedelta64(10,'ns')"
   ]
  },
  {
   "cell_type": "code",
   "execution_count": 107,
   "id": "aeeb68b7",
   "metadata": {},
   "outputs": [
    {
     "name": "stdout",
     "output_type": "stream",
     "text": [
      "2018-12\n",
      "2018-02-01T00:10\n",
      "2018-02-01T00:10\n",
      "2018-02-01T00:00:00.000000010\n"
     ]
    }
   ],
   "source": [
    "print(dt64+10)\n",
    "print(dt64+tenminutes)\n",
    "print(dt64+tenminutes)\n",
    "print(dt64+tennanoseconds)"
   ]
  },
  {
   "cell_type": "code",
   "execution_count": 109,
   "id": "98d312b4",
   "metadata": {},
   "outputs": [
    {
     "data": {
      "text/plain": [
       "'2018-02'"
      ]
     },
     "execution_count": 109,
     "metadata": {},
     "output_type": "execute_result"
    }
   ],
   "source": [
    "np.datetime_as_string(dt64)"
   ]
  },
  {
   "cell_type": "code",
   "execution_count": 114,
   "id": "6b66f273",
   "metadata": {},
   "outputs": [
    {
     "name": "stdout",
     "output_type": "stream",
     "text": [
      "2018-02-04\n",
      "False\n"
     ]
    }
   ],
   "source": [
    "print(dt64)\n",
    "print(np.is_busday(dt64))"
   ]
  },
  {
   "cell_type": "code",
   "execution_count": 115,
   "id": "a3eab2f4",
   "metadata": {},
   "outputs": [
    {
     "data": {
      "text/plain": [
       "numpy.datetime64('2018-02-07')"
      ]
     },
     "execution_count": 115,
     "metadata": {},
     "output_type": "execute_result"
    }
   ],
   "source": [
    "np.busday_offset(dt64,2,roll='forward')\n"
   ]
  },
  {
   "cell_type": "code",
   "execution_count": 117,
   "id": "0722ddb3",
   "metadata": {},
   "outputs": [
    {
     "data": {
      "text/plain": [
       "numpy.datetime64('2018-02-06')"
      ]
     },
     "execution_count": 117,
     "metadata": {},
     "output_type": "execute_result"
    }
   ],
   "source": [
    "np.busday_offset(dt64,2,roll='backward')"
   ]
  },
  {
   "cell_type": "code",
   "execution_count": 119,
   "id": "7abb3fff",
   "metadata": {},
   "outputs": [
    {
     "data": {
      "text/plain": [
       "array(['2018-02-01', '2018-02-02', '2018-02-03', '2018-02-04',\n",
       "       '2018-02-05', '2018-02-06', '2018-02-07', '2018-02-08',\n",
       "       '2018-02-09'], dtype='datetime64[D]')"
      ]
     },
     "execution_count": 119,
     "metadata": {},
     "output_type": "execute_result"
    }
   ],
   "source": [
    "datas = np.arange(np.datetime64('2018-02-01'),np.datetime64('2018-02-10'))\n",
    "datas"
   ]
  },
  {
   "cell_type": "code",
   "execution_count": 120,
   "id": "252cdddb",
   "metadata": {},
   "outputs": [
    {
     "data": {
      "text/plain": [
       "array([ True,  True, False, False,  True,  True,  True,  True,  True])"
      ]
     },
     "execution_count": 120,
     "metadata": {},
     "output_type": "execute_result"
    }
   ],
   "source": [
    "np.is_busday(datas)"
   ]
  },
  {
   "cell_type": "code",
   "execution_count": 123,
   "id": "7ba0ee52",
   "metadata": {},
   "outputs": [
    {
     "data": {
      "text/plain": [
       "datetime.date(2018, 2, 4)"
      ]
     },
     "execution_count": 123,
     "metadata": {},
     "output_type": "execute_result"
    }
   ],
   "source": [
    "import datetime\n",
    "dt=dt64.tolist()\n",
    "dt"
   ]
  },
  {
   "cell_type": "code",
   "execution_count": 125,
   "id": "4ca30987",
   "metadata": {},
   "outputs": [
    {
     "name": "stdout",
     "output_type": "stream",
     "text": [
      "2018\n"
     ]
    }
   ],
   "source": [
    "print(dt.year)"
   ]
  },
  {
   "cell_type": "code",
   "execution_count": 127,
   "id": "5c6a004c",
   "metadata": {},
   "outputs": [
    {
     "name": "stdout",
     "output_type": "stream",
     "text": [
      "6\n"
     ]
    }
   ],
   "source": [
    "print(dt.weekday())"
   ]
  },
  {
   "cell_type": "code",
   "execution_count": 129,
   "id": "cbacc4b6",
   "metadata": {},
   "outputs": [
    {
     "name": "stdout",
     "output_type": "stream",
     "text": [
      "5.0 121\n"
     ]
    }
   ],
   "source": [
    "def foo(x):\n",
    "    if x%2==1:\n",
    "        return x**2\n",
    "    else:\n",
    "        return x/2\n",
    "print(foo(10),foo(11))\n"
   ]
  },
  {
   "cell_type": "code",
   "execution_count": 132,
   "id": "29504036",
   "metadata": {},
   "outputs": [
    {
     "name": "stdout",
     "output_type": "stream",
     "text": [
      "[ 1.  1.  9.  2. 25.]\n"
     ]
    }
   ],
   "source": [
    "foo_v = np.vectorize(foo,otypes=[float])\n",
    "print(foo_v([1,2,3,4,5]))"
   ]
  },
  {
   "cell_type": "code",
   "execution_count": 133,
   "id": "d8bb3b3f",
   "metadata": {},
   "outputs": [
    {
     "data": {
      "text/plain": [
       "array([[9, 9, 4, 8, 8, 1, 5, 3, 6, 3],\n",
       "       [3, 3, 2, 1, 9, 5, 1, 7, 3, 5],\n",
       "       [2, 6, 4, 5, 5, 4, 8, 2, 2, 8],\n",
       "       [8, 1, 3, 4, 3, 6, 9, 2, 1, 8]])"
      ]
     },
     "execution_count": 133,
     "metadata": {},
     "output_type": "execute_result"
    }
   ],
   "source": [
    "np.random.seed(100)\n",
    "arr_x = np.random.randint(1,10,size=[4,10])\n",
    "arr_x"
   ]
  },
  {
   "cell_type": "code",
   "execution_count": 137,
   "id": "61dd1833",
   "metadata": {},
   "outputs": [
    {
     "name": "stdout",
     "output_type": "stream",
     "text": [
      "[8 8 6 8]\n",
      "[7 8 2 7 6 5 8 5 5 5]\n"
     ]
    }
   ],
   "source": [
    "def max_minus_min(x):\n",
    "    return np.max(x)-np.min(x)\n",
    "print(np.apply_along_axis(max_minus_min,1,arr=arr_x))\n",
    "print(np.apply_along_axis(max_minus_min,0,arr_x))"
   ]
  },
  {
   "cell_type": "code",
   "execution_count": 140,
   "id": "fdd84ecd",
   "metadata": {},
   "outputs": [
    {
     "name": "stdout",
     "output_type": "stream",
     "text": [
      "5\n",
      "5\n"
     ]
    }
   ],
   "source": [
    "x = np.arange(100)\n",
    "print(np.searchsorted(x,5))\n",
    "print(np.searchsorted(x,5,side='left'))"
   ]
  },
  {
   "cell_type": "code",
   "execution_count": 143,
   "id": "43b2d07a",
   "metadata": {},
   "outputs": [
    {
     "data": {
      "text/plain": [
       "array([0.00194525, 0.00036272, 0.00180949, 0.0004069 , 0.00132499,\n",
       "       0.00012462, 0.00074759, 0.00196288, 0.00086303, 0.00090771,\n",
       "       0.00114827, 0.00090852, 0.00060635, 0.00024641, 0.00007848,\n",
       "       0.0006064 , 0.00014011, 0.00075828, 0.00124455, 0.00034499,\n",
       "       0.00078416, 0.00135812, 0.00030634, 0.00158393, 0.0003755 ,\n",
       "       0.00018504, 0.0016442 , 0.00014572, 0.00138602, 0.00144791,\n",
       "       0.00102326, 0.0001075 , 0.00199434, 0.00065058, 0.00008344,\n",
       "       0.00174538, 0.00053719, 0.00146765, 0.0018184 , 0.00173353,\n",
       "       0.00044799, 0.0003666 , 0.00061743, 0.00185953, 0.00021007,\n",
       "       0.00180549, 0.00055673, 0.00053783, 0.00203234, 0.00006212,\n",
       "       0.00140109, 0.00032919, 0.00118175, 0.00098046, 0.00093354,\n",
       "       0.00127187, 0.00189501, 0.00016162, 0.00182992, 0.00079122,\n",
       "       0.00111567, 0.00091536, 0.00095702, 0.00195876, 0.00095201,\n",
       "       0.00106449, 0.00149052, 0.0007738 , 0.00044223, 0.00021755,\n",
       "       0.00177782, 0.00030025, 0.0016146 , 0.00069586, 0.00179118,\n",
       "       0.00162566, 0.00189643, 0.00034027, 0.00153743, 0.00150966,\n",
       "       0.00054764, 0.00157697, 0.00187585, 0.00153702, 0.00005724,\n",
       "       0.00003189, 0.00059244, 0.00131788, 0.00054069, 0.00089014,\n",
       "       0.00007153, 0.00003755, 0.00163546, 0.00010882, 0.00098848,\n",
       "       0.00169037, 0.00170783, 0.00164521, 0.00142341, 0.00112248,\n",
       "       0.00142924, 0.00011514, 0.00075154, 0.00061848, 0.00026707,\n",
       "       0.00182878, 0.00149266, 0.00162479, 0.0016503 , 0.00097718,\n",
       "       0.00112793, 0.00158831, 0.00125801, 0.0016372 , 0.00113721,\n",
       "       0.00034121, 0.00049624, 0.00153977, 0.00054073, 0.00072122,\n",
       "       0.00020001, 0.00044408, 0.00125604, 0.00126133, 0.000461  ,\n",
       "       0.00057045, 0.00069349, 0.00021579, 0.00019991, 0.00098627,\n",
       "       0.00121065, 0.00168257, 0.00075072, 0.00033746, 0.00087275,\n",
       "       0.00016146, 0.00098277, 0.00058022, 0.00049329, 0.00137556,\n",
       "       0.00041726, 0.00135026, 0.00064382, 0.00182945, 0.00056148,\n",
       "       0.00132861, 0.0004295 , 0.00030794, 0.00107658, 0.00019787,\n",
       "       0.00056964, 0.0012742 , 0.00067287, 0.00197267, 0.00086566,\n",
       "       0.0008178 , 0.00064521, 0.00176321, 0.00005853, 0.00157234,\n",
       "       0.00007466, 0.00019813, 0.00102537, 0.00034305, 0.00027921,\n",
       "       0.00156054, 0.00204804, 0.00079426, 0.00133263, 0.00021392,\n",
       "       0.0006943 , 0.00150923, 0.00029774, 0.00037094, 0.00164802,\n",
       "       0.00033826, 0.00174482, 0.00144624, 0.00123664, 0.00081711,\n",
       "       0.00045685, 0.00119202, 0.00172882, 0.0008801 , 0.00004746,\n",
       "       0.00039445, 0.00060951, 0.00100995, 0.00077713, 0.00020622,\n",
       "       0.00101501, 0.00179555, 0.00038782, 0.00006854, 0.00162083,\n",
       "       0.00107131, 0.00147999, 0.00166203, 0.00064818, 0.00036729,\n",
       "       0.00022653, 0.00080832, 0.00184016, 0.00001689, 0.00081894,\n",
       "       0.00182906, 0.00133983, 0.00103944, 0.00164725, 0.00116865,\n",
       "       0.00046688, 0.00077929, 0.00071144, 0.00125409, 0.00118578,\n",
       "       0.0006291 , 0.0017491 , 0.00045325, 0.00177332, 0.0015804 ,\n",
       "       0.00048428, 0.00045123, 0.0013299 , 0.00159852, 0.00084692,\n",
       "       0.00116953, 0.00046544, 0.00193754, 0.00154665, 0.00167415,\n",
       "       0.00121676, 0.0002722 , 0.00121621, 0.00127598, 0.00054491,\n",
       "       0.00155617, 0.00180516, 0.00151993, 0.00178145, 0.00174651,\n",
       "       0.00047177, 0.00010646, 0.00149572, 0.0009273 , 0.00190221,\n",
       "       0.00019636, 0.00133396, 0.00052582, 0.0007319 , 0.00200191,\n",
       "       0.00033666, 0.00116233, 0.00144233, 0.00028155, 0.00002978,\n",
       "       0.00203094, 0.00029686, 0.00168039, 0.00048442, 0.00068814,\n",
       "       0.00093154, 0.00164406, 0.00099148, 0.00007242, 0.00033493,\n",
       "       0.00197439, 0.00178562, 0.000263  , 0.00201277, 0.00009042,\n",
       "       0.00143239, 0.00024298, 0.00121889, 0.00149036, 0.00036384,\n",
       "       0.00166084, 0.00034057, 0.00110517, 0.00120189, 0.00056   ,\n",
       "       0.00109756, 0.00035911, 0.00073749, 0.00139387, 0.00117118,\n",
       "       0.00118524, 0.00149152, 0.00088973, 0.00153914, 0.00199693,\n",
       "       0.00091673, 0.00101335, 0.00016735, 0.00000166, 0.00106089,\n",
       "       0.00071778, 0.00127926, 0.00020541, 0.00080416, 0.00133215,\n",
       "       0.00172128, 0.00091001, 0.00027487, 0.00174933, 0.00090347,\n",
       "       0.00174413, 0.0013253 , 0.00179608, 0.00098071, 0.00024272,\n",
       "       0.00197991, 0.00155428, 0.00185303, 0.00142465, 0.00034518,\n",
       "       0.00098992, 0.00183996, 0.00078954, 0.00053026, 0.00121722,\n",
       "       0.0015103 , 0.0004081 , 0.00068762, 0.00085714, 0.00085942,\n",
       "       0.0005067 , 0.00082405, 0.00012395, 0.00203388, 0.00150199,\n",
       "       0.00010164, 0.00177725, 0.00005933, 0.00054507, 0.00163686,\n",
       "       0.00198598, 0.00055101, 0.00095934, 0.00002882, 0.00166291,\n",
       "       0.0012883 , 0.00166131, 0.00043958, 0.00022876, 0.00015927,\n",
       "       0.00203949, 0.00023556, 0.00182222, 0.0006304 , 0.00093939,\n",
       "       0.00062782, 0.00099461, 0.00035854, 0.00062766, 0.00037377,\n",
       "       0.00021162, 0.00139227, 0.00088992, 0.0005134 , 0.00061255,\n",
       "       0.00171041, 0.00134882, 0.00015473, 0.00055728, 0.00026308,\n",
       "       0.00149055, 0.00048602, 0.00098293, 0.00010592, 0.00103045,\n",
       "       0.00024681, 0.0017159 , 0.00168177, 0.00076553, 0.0002045 ,\n",
       "       0.00002256, 0.00114804, 0.00114714, 0.00161647, 0.00021696,\n",
       "       0.00021832, 0.00149764, 0.00150349, 0.00101327, 0.00177084,\n",
       "       0.00059753, 0.00166513, 0.00001791, 0.00119756, 0.00093672,\n",
       "       0.00041224, 0.00031316, 0.00000286, 0.00183763, 0.00030646,\n",
       "       0.0014424 , 0.00197109, 0.00201318, 0.00041774, 0.00199332,\n",
       "       0.00071314, 0.00126948, 0.00180993, 0.0011693 , 0.00133704,\n",
       "       0.00052159, 0.00044802, 0.00147593, 0.00143962, 0.00181518,\n",
       "       0.00021851, 0.00121301, 0.00001604, 0.00044411, 0.00023092,\n",
       "       0.00060209, 0.00183405, 0.00065209, 0.00087935, 0.00082   ,\n",
       "       0.00033484, 0.00091697, 0.00029641, 0.0014836 , 0.00135567,\n",
       "       0.00023236, 0.00119512, 0.00129528, 0.00053326, 0.00018294,\n",
       "       0.0018342 , 0.00004337, 0.00091789, 0.00089634, 0.0015421 ,\n",
       "       0.00003505, 0.00124454, 0.00136663, 0.00152956, 0.00110892,\n",
       "       0.00014527, 0.00077262, 0.00189971, 0.00031131, 0.00009836,\n",
       "       0.00065511, 0.00051928, 0.00039789, 0.00002459, 0.00093568,\n",
       "       0.00082703, 0.00026653, 0.00006337, 0.00046571, 0.00053671,\n",
       "       0.00057433, 0.00149551, 0.00027541, 0.00164699, 0.0007673 ,\n",
       "       0.0016614 , 0.00005575, 0.00183336, 0.00132479, 0.00130478,\n",
       "       0.00147126, 0.00143489, 0.00192257, 0.00202676, 0.00080029,\n",
       "       0.00152663, 0.00142764, 0.00152219, 0.00112618, 0.0005119 ,\n",
       "       0.00159977, 0.00101659, 0.00165006, 0.00085612, 0.00010661,\n",
       "       0.00135098, 0.00048889, 0.00095191, 0.00054953, 0.0019371 ,\n",
       "       0.00002123, 0.00069582, 0.00124926, 0.00175957, 0.00042847,\n",
       "       0.001037  , 0.00173294, 0.00056122, 0.00157114, 0.0018812 ,\n",
       "       0.00016781, 0.00167084, 0.00012531, 0.0013457 , 0.00108018,\n",
       "       0.00017471, 0.0000942 , 0.00177481, 0.00171886, 0.0010999 ,\n",
       "       0.00079233, 0.00076912, 0.00054929, 0.00154911, 0.00149302,\n",
       "       0.00193861, 0.0010283 , 0.00133211, 0.00146702, 0.00142608,\n",
       "       0.00203026, 0.00017177, 0.00094911, 0.0001963 , 0.00015141,\n",
       "       0.00046554, 0.00031222, 0.00194385, 0.00038556, 0.00151634,\n",
       "       0.00068514, 0.00190671, 0.00187956, 0.00084439, 0.00172708,\n",
       "       0.00183129, 0.00155757, 0.00071452, 0.00077413, 0.00191484,\n",
       "       0.00164852, 0.00187072, 0.00106141, 0.00117403, 0.0011307 ,\n",
       "       0.00168726, 0.00178619, 0.00118527, 0.00006379, 0.00189642,\n",
       "       0.00174184, 0.00063421, 0.00097889, 0.00154014, 0.00189121,\n",
       "       0.00193175, 0.00017143, 0.00197921, 0.00060035, 0.00060056,\n",
       "       0.00068061, 0.00150404, 0.00054844, 0.00028306, 0.00153343,\n",
       "       0.00103164, 0.00106271, 0.00059656, 0.00010768, 0.00124793,\n",
       "       0.00047004, 0.00032108, 0.00096337, 0.00139197, 0.00117627,\n",
       "       0.00158797, 0.00125462, 0.00002061, 0.00191686, 0.00181036,\n",
       "       0.00070001, 0.00189669, 0.0007249 , 0.00018138, 0.00179149,\n",
       "       0.0012643 , 0.00019487, 0.00021374, 0.00142506, 0.0010509 ,\n",
       "       0.00136891, 0.00154627, 0.00045319, 0.00158178, 0.00071481,\n",
       "       0.00137733, 0.00136382, 0.00080158, 0.00071025, 0.00010609,\n",
       "       0.0008494 , 0.00004115, 0.00186408, 0.00106943, 0.00000566,\n",
       "       0.00177325, 0.00016854, 0.00187706, 0.00088991, 0.00006188,\n",
       "       0.00204032, 0.0008255 , 0.00151739, 0.00078137, 0.00092731,\n",
       "       0.00184318, 0.00111839, 0.00015458, 0.00013307, 0.00010622,\n",
       "       0.00118498, 0.00110579, 0.00053481, 0.00082409, 0.00173658,\n",
       "       0.00083918, 0.00161004, 0.00069931, 0.00155451, 0.00057307,\n",
       "       0.00151994, 0.00108804, 0.00049937, 0.00148265, 0.00062114,\n",
       "       0.0010756 , 0.00115234, 0.00149781, 0.00057565, 0.00059862,\n",
       "       0.00149807, 0.00181012, 0.00127463, 0.00110165, 0.00119631,\n",
       "       0.00134942, 0.00064237, 0.0007654 , 0.00191229, 0.00155665,\n",
       "       0.00056743, 0.00025797, 0.0002747 , 0.00129723, 0.00134363,\n",
       "       0.00040295, 0.00132048, 0.0016073 , 0.00181068, 0.00018395,\n",
       "       0.00146918, 0.00004294, 0.00024406, 0.00016826, 0.00103509,\n",
       "       0.00073632, 0.0019456 , 0.00075892, 0.00115746, 0.00055925,\n",
       "       0.00203899, 0.00076883, 0.00174305, 0.00202587, 0.0016637 ,\n",
       "       0.00094264, 0.00007178, 0.00176366, 0.00144937, 0.00103966,\n",
       "       0.00015274, 0.00190955, 0.00052536, 0.00159554, 0.00129604,\n",
       "       0.00020592, 0.00149795, 0.00041395, 0.00190894, 0.001667  ,\n",
       "       0.00120383, 0.00204249, 0.00130809, 0.00136859, 0.00006892,\n",
       "       0.00048045, 0.00040468, 0.00065769, 0.00099437, 0.0013947 ,\n",
       "       0.00018883, 0.00169662, 0.00173975, 0.00113714, 0.00050345,\n",
       "       0.00057938, 0.00041135, 0.00187361, 0.00094276, 0.00002712,\n",
       "       0.00125463, 0.00067924, 0.00042235, 0.00068051, 0.00015395,\n",
       "       0.00045944, 0.0011385 , 0.00042598, 0.00162062, 0.00130034,\n",
       "       0.00060635, 0.00160625, 0.00061405, 0.00049343, 0.00123211,\n",
       "       0.00179161, 0.00119519, 0.00098057, 0.0001407 , 0.00183727,\n",
       "       0.00078894, 0.0008554 , 0.0019797 , 0.00166759, 0.00196772,\n",
       "       0.00044457, 0.00039537, 0.00136479, 0.00119809, 0.00091754,\n",
       "       0.00181107, 0.00203841, 0.00111507, 0.00148143, 0.00087991,\n",
       "       0.00030861, 0.00070441, 0.00142357, 0.00080105, 0.00009168,\n",
       "       0.0008534 , 0.00039145, 0.0004452 , 0.0018229 , 0.0014822 ,\n",
       "       0.00000506, 0.00036975, 0.00189909, 0.0003211 , 0.00049845,\n",
       "       0.00040195, 0.00032365, 0.00192367, 0.00127392, 0.00007687,\n",
       "       0.00054884, 0.00087518, 0.00175116, 0.00042846, 0.00168312,\n",
       "       0.00101439, 0.00138388, 0.00151272, 0.00017267, 0.00183482,\n",
       "       0.00001618, 0.0015339 , 0.00010217, 0.00069189, 0.00151825,\n",
       "       0.00024737, 0.00129986, 0.00181098, 0.00162781, 0.00007846,\n",
       "       0.00123846, 0.00050655, 0.00011558, 0.00095447, 0.00049481,\n",
       "       0.00012315, 0.00034062, 0.00095998, 0.00198916, 0.00068858,\n",
       "       0.00049057, 0.00122444, 0.00109192, 0.0012831 , 0.00041713,\n",
       "       0.00076668, 0.00149705, 0.00018174, 0.0013822 , 0.00067479,\n",
       "       0.00081336, 0.00103102, 0.00163707, 0.00134336, 0.00003322,\n",
       "       0.00078639, 0.00053032, 0.00126804, 0.00065386, 0.00164821,\n",
       "       0.00177609, 0.00071487, 0.00045702, 0.0013781 , 0.00146944,\n",
       "       0.00052673, 0.000217  , 0.00186544, 0.00081618, 0.00050837,\n",
       "       0.00107424, 0.00142634, 0.00088021, 0.00030819, 0.0019244 ,\n",
       "       0.00031506, 0.00125932, 0.0015014 , 0.00143417, 0.00087442,\n",
       "       0.00018329, 0.00057843, 0.00188046, 0.00043168, 0.00176806,\n",
       "       0.00162939, 0.00158667, 0.00166283, 0.00065672, 0.00083203,\n",
       "       0.00089156, 0.0005399 , 0.002033  , 0.00102151, 0.00053921,\n",
       "       0.0004881 , 0.00159391, 0.00014162, 0.00195966, 0.00134641,\n",
       "       0.00089163, 0.00071661, 0.0011736 , 0.00039381, 0.00033191,\n",
       "       0.00064416, 0.00121456, 0.0011917 , 0.00123887, 0.00157948,\n",
       "       0.00163928, 0.00137138, 0.00158841, 0.00029121, 0.00166254,\n",
       "       0.00071772, 0.00058164, 0.0018487 , 0.00127783, 0.00022799,\n",
       "       0.00077548, 0.00080934, 0.00137961, 0.00027938, 0.00189269,\n",
       "       0.00051184, 0.00081509, 0.00085636, 0.00053111, 0.00011024,\n",
       "       0.00117948, 0.00115863, 0.00130013, 0.00082849, 0.00098968,\n",
       "       0.00137343, 0.00170142, 0.00200009, 0.00070453, 0.00196953,\n",
       "       0.00044001, 0.00042304, 0.00089982, 0.00118342, 0.00140788,\n",
       "       0.00099437, 0.00114716, 0.00149187, 0.00055655, 0.00092072,\n",
       "       0.00037959, 0.00166019, 0.00081091, 0.00026102, 0.00067285,\n",
       "       0.00195655, 0.00000631, 0.0004055 , 0.00096293, 0.00082543,\n",
       "       0.0007431 , 0.00165779, 0.00094937, 0.00152265, 0.00080927,\n",
       "       0.00161043, 0.00132943, 0.00174856, 0.00034018, 0.00167002,\n",
       "       0.00008629, 0.00038064, 0.00135294, 0.00067233, 0.00147288,\n",
       "       0.00077383, 0.00135952, 0.00201934, 0.00090635, 0.00096795,\n",
       "       0.00196655, 0.00045659, 0.00130132, 0.00077075, 0.00144167,\n",
       "       0.0001616 , 0.00091551, 0.00084477, 0.00192187, 0.00087281,\n",
       "       0.00085895, 0.00161733, 0.00189486, 0.00022113, 0.00169904,\n",
       "       0.000448  , 0.00155903, 0.00183167, 0.00064434, 0.00199942,\n",
       "       0.0004515 , 0.00026927, 0.00001645, 0.00127041, 0.00038457,\n",
       "       0.00195868, 0.00086885, 0.00169989, 0.00153054, 0.00000359,\n",
       "       0.0011865 , 0.00116562, 0.00108592, 0.00097344, 0.00028141,\n",
       "       0.00009857, 0.00088997, 0.00181907, 0.00077859, 0.00125698,\n",
       "       0.00184986, 0.00007568, 0.00083309, 0.00197972, 0.00044209,\n",
       "       0.00106523, 0.00091764, 0.00144794, 0.00164132, 0.00195018,\n",
       "       0.0009819 , 0.00186254, 0.00063116, 0.00132881, 0.00171338,\n",
       "       0.00123185, 0.00197383, 0.00102548, 0.00080613, 0.00170801,\n",
       "       0.00103706, 0.00187095, 0.00165164, 0.00139197, 0.00082002,\n",
       "       0.00082497, 0.00009662, 0.00008057, 0.00080326, 0.00100036])"
      ]
     },
     "execution_count": 143,
     "metadata": {},
     "output_type": "execute_result"
    }
   ],
   "source": [
    "lst = range(1000)\n",
    "probs = np.random.random(1000)\n",
    "probs /= probs.sum()\n",
    "probs"
   ]
  },
  {
   "cell_type": "code",
   "execution_count": 144,
   "id": "8b21baf7",
   "metadata": {},
   "outputs": [
    {
     "name": "stdout",
     "output_type": "stream",
     "text": [
      "6.86 µs ± 201 ns per loop (mean ± std. dev. of 7 runs, 100000 loops each)\n"
     ]
    }
   ],
   "source": [
    "%timeit lst[np.searchsorted(probs.cumsum(),np.random.random())]\n"
   ]
  },
  {
   "cell_type": "code",
   "execution_count": 146,
   "id": "e818426f",
   "metadata": {
    "scrolled": true
   },
   "outputs": [
    {
     "name": "stdout",
     "output_type": "stream",
     "text": [
      "112 µs ± 2.64 µs per loop (mean ± std. dev. of 7 runs, 10000 loops each)\n"
     ]
    }
   ],
   "source": [
    "%timeit np.random.choice(lst,p=probs)"
   ]
  },
  {
   "cell_type": "code",
   "execution_count": 148,
   "id": "22a1eba1",
   "metadata": {},
   "outputs": [
    {
     "name": "stdout",
     "output_type": "stream",
     "text": [
      "[0 1 2 3 4 5 6 7 8 9]\n"
     ]
    }
   ],
   "source": [
    "x = np.arange(10)\n",
    "print(x)"
   ]
  },
  {
   "cell_type": "code",
   "execution_count": 151,
   "id": "5163cafa",
   "metadata": {},
   "outputs": [
    {
     "name": "stdout",
     "output_type": "stream",
     "text": [
      "(10, 1)\n",
      "[[0]\n",
      " [1]\n",
      " [2]\n",
      " [3]\n",
      " [4]\n",
      " [5]\n",
      " [6]\n",
      " [7]\n",
      " [8]\n",
      " [9]]\n",
      "[[0 1 2 3 4 5 6 7 8 9]]\n"
     ]
    }
   ],
   "source": [
    "x_col = x[:,np.newaxis]\n",
    "print(x_col.shape)\n",
    "print(x_col)\n",
    "x_row = x[np.newaxis,:]\n",
    "print(x_row)\n"
   ]
  },
  {
   "cell_type": "code",
   "execution_count": 155,
   "id": "adc0ace9",
   "metadata": {},
   "outputs": [
    {
     "name": "stdout",
     "output_type": "stream",
     "text": [
      "[0 3 6 9]\n"
     ]
    },
    {
     "data": {
      "text/plain": [
       "array([1, 1, 1, 2, 2, 2, 3, 3, 3, 4])"
      ]
     },
     "execution_count": 155,
     "metadata": {},
     "output_type": "execute_result"
    }
   ],
   "source": [
    "x = np.arange(10)\n",
    "bins = np.array([0,3,6,9])\n",
    "print(bins)\n",
    "np.digitize(x,bins)"
   ]
  },
  {
   "cell_type": "code",
   "execution_count": 157,
   "id": "78cc654b",
   "metadata": {},
   "outputs": [
    {
     "data": {
      "text/plain": [
       "array([3, 3, 3, 3, 4, 5, 6, 7, 8, 8])"
      ]
     },
     "execution_count": 157,
     "metadata": {},
     "output_type": "execute_result"
    }
   ],
   "source": [
    "np.clip(x,3,8)"
   ]
  },
  {
   "cell_type": "code",
   "execution_count": 159,
   "id": "936fd7ed",
   "metadata": {},
   "outputs": [
    {
     "data": {
      "text/plain": [
       "array([0, 2, 3, 0, 2, 1, 3])"
      ]
     },
     "execution_count": 159,
     "metadata": {},
     "output_type": "execute_result"
    }
   ],
   "source": [
    "x = np.array([1,1,2,2,2,4,4,5,6,6,6])\n",
    "np.bincount(x)\n"
   ]
  },
  {
   "cell_type": "code",
   "execution_count": 164,
   "id": "521fbc1c",
   "metadata": {},
   "outputs": [
    {
     "name": "stdout",
     "output_type": "stream",
     "text": [
      "[2 3 3 3]\n",
      "[0 2 4 6 8]\n"
     ]
    }
   ],
   "source": [
    "counts,bins = np.histogram(x,[0,2,4,6,8])\n",
    "print(counts)\n",
    "print(bins)"
   ]
  },
  {
   "cell_type": "code",
   "execution_count": 165,
   "id": "2e41ed0f",
   "metadata": {},
   "outputs": [],
   "source": [
    "import numpy as np\n"
   ]
  }
 ],
 "metadata": {
  "kernelspec": {
   "display_name": "Python 3",
   "language": "python",
   "name": "python3"
  },
  "language_info": {
   "codemirror_mode": {
    "name": "ipython",
    "version": 3
   },
   "file_extension": ".py",
   "mimetype": "text/x-python",
   "name": "python",
   "nbconvert_exporter": "python",
   "pygments_lexer": "ipython3",
   "version": "3.7.10"
  }
 },
 "nbformat": 4,
 "nbformat_minor": 5
}
