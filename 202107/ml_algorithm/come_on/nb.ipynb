{
 "cells": [
  {
   "cell_type": "code",
   "execution_count": 2,
   "id": "4afc79df",
   "metadata": {},
   "outputs": [
    {
     "name": "stdout",
     "output_type": "stream",
     "text": [
      "0.9736842105263158\n"
     ]
    }
   ],
   "source": [
    "from sklearn.naive_bayes import GaussianNB\n",
    "from sklearn.model_selection import train_test_split\n",
    "from sklearn.metrics import accuracy_score\n",
    "from sklearn import datasets\n",
    "iris = datasets.load_iris()\n",
    "train_x,test_x,train_y,test_y = train_test_split(iris.data,iris.target,random_state=12)\n",
    "gnb_clf = GaussianNB()\n",
    "gnb_clf.fit(train_x,train_y)\n",
    "predict_class = gnb_clf.predict(test_x)\n",
    "print(accuracy_score(test_y,predict_class))"
   ]
  },
  {
   "cell_type": "code",
   "execution_count": 5,
   "id": "b0250c67",
   "metadata": {},
   "outputs": [
    {
     "name": "stdout",
     "output_type": "stream",
     "text": [
      "[0.16666667 0.16666667 0.16666667 0.16666667 0.16666667 0.16666667]\n",
      "[1. 1. 1. 1. 1. 1.]\n",
      "[3]\n"
     ]
    }
   ],
   "source": [
    "from sklearn.naive_bayes import MultinomialNB\n",
    "import numpy as np\n",
    "X = np.random.randint(5,size=(6,100))\n",
    "y = np.array([1,2,3,4,5,6])\n",
    "mnb = MultinomialNB(alpha=1.0,fit_prior=True,class_prior=None)\n",
    "mnb.fit(X,y)\n",
    "print(np.exp(mnb.class_log_prior_))\n",
    "print(mnb.class_count_)\n",
    "print(mnb.predict(X[[2]]))"
   ]
  },
  {
   "cell_type": "code",
   "execution_count": 7,
   "id": "8029e264",
   "metadata": {},
   "outputs": [
    {
     "name": "stdout",
     "output_type": "stream",
     "text": [
      "[1]\n"
     ]
    }
   ],
   "source": [
    "import numpy as np\n",
    "from sklearn.naive_bayes import BernoulliNB\n",
    "x = np.array([[1,2,3,4],[1,3,4,4],[2,4,5,5]])\n",
    "y = np.array([1,1,2])\n",
    "bnb = BernoulliNB(alpha=2.0,binarize=3.0,fit_prior=True)\n",
    "bnb.fit(x,y)\n",
    "print(bnb.predict(np.array([[1,2,3,4]])))"
   ]
  },
  {
   "cell_type": "code",
   "execution_count": 10,
   "id": "98129d18",
   "metadata": {},
   "outputs": [
    {
     "name": "stdout",
     "output_type": "stream",
     "text": [
      "[-0.40546511 -1.09861229]\n",
      "[0.66666667 0.33333333]\n",
      "[[-1.09861229 -1.09861229 -0.69314718 -0.40546511]\n",
      " [-0.91629073 -0.51082562 -0.51082562 -0.51082562]]\n",
      "[[0.33333333 0.33333333 0.5        0.66666667]\n",
      " [0.4        0.6        0.6        0.6       ]]\n"
     ]
    }
   ],
   "source": [
    "print(bnb.class_log_prior_)\n",
    "print(np.exp(bnb.class_log_prior_))\n",
    "print(bnb.feature_log_prob_)\n",
    "print(np.exp(bnb.feature_log_prob_))"
   ]
  },
  {
   "cell_type": "code",
   "execution_count": 14,
   "id": "ea6e52f2",
   "metadata": {},
   "outputs": [
    {
     "name": "stdout",
     "output_type": "stream",
     "text": [
      "[[0.33333333 0.33333333 0.5        0.66666667]\n",
      " [0.4        0.6        0.6        0.6       ]]\n",
      "[2. 1.]\n",
      "[[0. 0. 1. 2.]\n",
      " [0. 1. 1. 1.]]\n"
     ]
    }
   ],
   "source": [
    "p_A_c1 = [(0+2)/(2+2*2)*1,\n",
    "          (0 + 2) / (2 + 2 * 2) * 1,\n",
    "          (1 + 2) / (2 + 2 * 2) * 1,\n",
    "          (2 + 2) / (2 + 2 * 2) * 1\n",
    "          ]\n",
    "p_A_c2 = [(0 + 2) / (1 + 2 * 2) * 1,\n",
    "          (1 + 2) / (1 + 2 * 2) * 1,\n",
    "          (1 + 2) / (1 + 2 * 2) * 1,\n",
    "          (1 + 2) / (1 + 2 * 2) * 1]\n",
    "\n",
    "feature_prob = [p_A_c1,p_A_c2]\n",
    "print(np.array(feature_prob))\n",
    "print(bnb.class_count_)\n",
    "print(bnb.feature_count_)"
   ]
  }
 ],
 "metadata": {
  "kernelspec": {
   "display_name": "Python 3",
   "language": "python",
   "name": "python3"
  },
  "language_info": {
   "codemirror_mode": {
    "name": "ipython",
    "version": 3
   },
   "file_extension": ".py",
   "mimetype": "text/x-python",
   "name": "python",
   "nbconvert_exporter": "python",
   "pygments_lexer": "ipython3",
   "version": "3.7.9"
  }
 },
 "nbformat": 4,
 "nbformat_minor": 5
}
