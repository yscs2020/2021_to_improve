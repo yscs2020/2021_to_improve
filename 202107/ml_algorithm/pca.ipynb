{
 "cells": [
  {
   "cell_type": "code",
   "execution_count": 1,
   "id": "b547623f",
   "metadata": {},
   "outputs": [],
   "source": [
    "import numpy as np\n",
    "import matplotlib.pyplot as plt\n",
    "import matplotlib\n",
    "matplotlib.rcParams['font.sans-serif']= [u'SimHei']\n",
    "matplotlib.rcParams['axes.unicode_minus']=False\n"
   ]
  },
  {
   "cell_type": "code",
   "execution_count": 5,
   "id": "6485733d",
   "metadata": {},
   "outputs": [],
   "source": [
    "def pca(data_mat,top_k_feat = 99999999):\n",
    "    mean_vals = np.mean(data_mat,axis=0)\n",
    "    mean_removed = (data_mat-mean_vals)\n",
    "#     stddev_vals = np.std(data_mat,axis=0)\n",
    "#     mean_removed = mean_removed/stddev_vals\n",
    "#     mean_removed = np.mat(pd.DataFrame(mean_removed).replace(np.nan,0))\n",
    "    cov_mat = np.cov(mean_removed,rowvar=0)\n",
    "    U,S,V = np.linalg.svd(cov_mat)\n",
    "    red_vects = U[:,:top_k_feat]\n",
    "    red_data_mat = mean_removed*red_vects\n",
    "    recon_mat = red_data_mat * red_vects.T+mean_vals\n",
    "#     recon_mat = np.mat((red_data_mat*red_vects.T).A*(stddev_vals.A))+mean_vals\n",
    "    return red_data_mat,recon_mat\n",
    "def get_top_k_feat(eig_values,variance_ratio=0.99):\n",
    "    sum_S = float(np.sum(eig_values))\n",
    "    curr_S = 0\n",
    "    for i in range(len(eig_values)):\n",
    "        cuur_S += float(eig_values[i])\n",
    "        if curr_S/sum_S >= variance_ratio:\n",
    "            return i+1\n"
   ]
  },
  {
   "cell_type": "code",
   "execution_count": 7,
   "id": "697024a2",
   "metadata": {},
   "outputs": [],
   "source": [
    "def plot_picture(dataMat,reconMat):\n",
    "    plt.scatter(dataMat[:,0].flatten().A[0],dataMat[:,1].flatten().A[0],c='b',marker='o',s = 50)\n",
    "    plt.scatter(reconMat[:,0].flatten().A[0],reconMat[:,1].flatten().A[0],c='r',marker='^',s = 30)\n",
    "    plt.title('原始数据和重构数据分布')\n",
    "    plt.show()\n",
    "    "
   ]
  },
  {
   "cell_type": "code",
   "execution_count": null,
   "id": "fd64075c",
   "metadata": {},
   "outputs": [],
   "source": [
    "if __name__=='__main__':\n",
    "    data_mat = random_data()\n",
    "    red_data_mat, recon_mat = pca(data_mat,1)\n",
    "    plot_picture(data_mat,recon_mat)"
   ]
  }
 ],
 "metadata": {
  "kernelspec": {
   "display_name": "Python 3",
   "language": "python",
   "name": "python3"
  },
  "language_info": {
   "codemirror_mode": {
    "name": "ipython",
    "version": 3
   },
   "file_extension": ".py",
   "mimetype": "text/x-python",
   "name": "python",
   "nbconvert_exporter": "python",
   "pygments_lexer": "ipython3",
   "version": "3.7.9"
  }
 },
 "nbformat": 4,
 "nbformat_minor": 5
}
