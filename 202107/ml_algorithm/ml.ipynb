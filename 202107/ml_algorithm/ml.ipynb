{
 "cells": [
  {
   "cell_type": "code",
   "execution_count": 2,
   "id": "95fa0810",
   "metadata": {},
   "outputs": [],
   "source": [
    "import numpy as np\n",
    "def kappa(confusion_matrix):\n",
    "    N = np.sum(confusion_matrix)\n",
    "    sum_po = 0\n",
    "    sum_pe = 0\n",
    "    for i in range(len(confusion_matrix)):\n",
    "        sum_po += confusion_matrix[i][i]\n",
    "        i_row = np.sum(confusion_matrix[i,:])\n",
    "        i_col = np.sum(confusion_matrix[:,i])\n",
    "        sum_pe += i_col * i_row\n",
    "    po = sum_po/N\n",
    "    pe = sum_pe/(N*N)\n",
    "    kia = (po-pe)/(1-pe)\n",
    "    return kia"
   ]
  }
 ],
 "metadata": {
  "kernelspec": {
   "display_name": "Python 3",
   "language": "python",
   "name": "python3"
  },
  "language_info": {
   "codemirror_mode": {
    "name": "ipython",
    "version": 3
   },
   "file_extension": ".py",
   "mimetype": "text/x-python",
   "name": "python",
   "nbconvert_exporter": "python",
   "pygments_lexer": "ipython3",
   "version": "3.7.9"
  }
 },
 "nbformat": 4,
 "nbformat_minor": 5
}
