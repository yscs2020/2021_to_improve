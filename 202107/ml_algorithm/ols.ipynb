{
 "cells": [
  {
   "cell_type": "code",
   "execution_count": null,
   "id": "96d7fcde",
   "metadata": {},
   "outputs": [],
   "source": [
    "import numpy as np\n",
    "import matplotlib.pyplot as plt\n",
    "def loadDataSet(fileName):\n",
    "    numFeat = len(open(fileName).readline().split('\\t'))-1\n",
    "    xArr = []\n",
    "    yArr = []\n",
    "    fr = open(fileName)\n",
    "    for line in fr.readlines():\n",
    "        lineArr = []\n",
    "        currLine = line.strip().split('\\t')\n",
    "        for i range(numFeat):\n",
    "            lineArr.append(float(currLine[i]))\n",
    "        xArr.append(lineArr)\n",
    "        yArr.append(float(currLine[-1]))\n",
    "    return xArr,yArr\n",
    "def standRegres(xArr,yArr):\n",
    "    xMat = mat(xArr)\n",
    "    yMat = mat(yArr)\n",
    "    xTx = xMat.T * xMat\n",
    "    if linalg.det(xTx)==0.0:\n",
    "        print('this matrix is singular, cannot do inverse')\n",
    "        return \n",
    "    ws = xTx.I * (xMat.T*yMat)\n",
    "    return ws\n",
    "def plotFigure(xArr,yArr,yHat):\n",
    "    xMat = mat(xArr)\n",
    "    yMat = mat(yArr)\n",
    "    fig = plt.figure()\n",
    "    ax = fig.add_subplot(111)\n",
    "    ax.scatter(xMat[:,1].flatten().A[0],yMat.T[:,0].flatten().A[0],s=2,c='red')\n",
    "    srtInd = xMat[:,1].argsort(0)\n",
    "    xSort = xMat[srtInd][:,0]"
   ]
  }
 ],
 "metadata": {
  "kernelspec": {
   "display_name": "Python 3",
   "language": "python",
   "name": "python3"
  },
  "language_info": {
   "codemirror_mode": {
    "name": "ipython",
    "version": 3
   },
   "file_extension": ".py",
   "mimetype": "text/x-python",
   "name": "python",
   "nbconvert_exporter": "python",
   "pygments_lexer": "ipython3",
   "version": "3.7.9"
  }
 },
 "nbformat": 4,
 "nbformat_minor": 5
}
