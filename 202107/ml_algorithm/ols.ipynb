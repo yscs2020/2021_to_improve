{
 "cells": [
  {
   "cell_type": "code",
   "execution_count": 3,
   "id": "18ab0d5b",
   "metadata": {},
   "outputs": [],
   "source": [
    "import numpy as np\n",
    "import matplotlib.pyplot as plt\n",
    "def loadDataSet(fileName):\n",
    "    numFeat = len(open(fileName).readline().split('\\t'))-1\n",
    "    xArr = []\n",
    "    yArr = []\n",
    "    fr = open(fileName)\n",
    "    for line in fr.readlines():\n",
    "        lineArr = []\n",
    "        currLine = line.strip().split('\\t')\n",
    "        for i in range(numFeat):\n",
    "            lineArr.append(float(currLine[i]))\n",
    "        xArr.append(lineArr)\n",
    "        yArr.append(float(currLine[-1]))\n",
    "    return xArr,yArr\n",
    "def standRegres(xArr,yArr):\n",
    "    xMat = mat(xArr)\n",
    "    yMat = mat(yArr)\n",
    "    xTx = xMat.T * xMat\n",
    "    if linalg.det(xTx)==0.0:\n",
    "        print('this matrix is singular, cannot do inverse')\n",
    "        return \n",
    "    ws = xTx.I * (xMat.T*yMat)\n",
    "    return ws\n",
    "def plotFigure(xArr,yArr,yHat):\n",
    "    xMat = mat(xArr)\n",
    "    yMat = mat(yArr)\n",
    "    fig = plt.figure()\n",
    "    ax = fig.add_subplot(111)\n",
    "    ax.scatter(xMat[:,1].flatten().A[0],yMat.T[:,0].flatten().A[0],s=2,c='red')\n",
    "    srtInd = xMat[:,1].argsort(0)\n",
    "    xSort = xMat[srtInd][:,0,:]\n",
    "    ax.plot(xSort[:,1],yHat[srtInd])\n",
    "    plt.show()"
   ]
  },
  {
   "cell_type": "code",
   "execution_count": 4,
   "id": "4a824568",
   "metadata": {},
   "outputs": [],
   "source": [
    "def lwlr(testPoints,xArr,yArr,k=1.0):\n",
    "    xMat = mat(xArr)\n",
    "    yMat = mat(yArr)\n",
    "    m = shape(xMat)[0]\n",
    "    weights = mat(eye((m)))\n",
    "    for j in range(m):\n",
    "        diffMat = testPoints-xMat[j,:]\n",
    "        weights[j,j]=exp(diffMat*diffMat.T(-2*k**2))\n",
    "    xTx = xMat.T*(weights*xMat)\n",
    "    if linalg.det(xTx)==0.0:\n",
    "        print('this matrix is sigular cannot do inverse')\n",
    "        return \n",
    "    ws = xTx.I*(xMat.T*(weights*yMat))\n",
    "    return testPoints * ws\n",
    "def lwlrTest(testArr,xArr,yArr,k=1.0):\n",
    "    m = shape(testArr)[0]\n",
    "    yhat = zeros(m)\n",
    "    for i in range(m):\n",
    "        yHat[i] = lwlr(testArr[i],xArr,yArr,k)\n",
    "    return yHat\n",
    "        "
   ]
  },
  {
   "cell_type": "code",
   "execution_count": 6,
   "id": "c24b1616",
   "metadata": {},
   "outputs": [],
   "source": [
    "def rssError(yArr,yHatArr):\n",
    "    return ((yArr-yHatArr)**2).sum()"
   ]
  },
  {
   "cell_type": "code",
   "execution_count": 9,
   "id": "5f90a73e",
   "metadata": {},
   "outputs": [],
   "source": [
    "def ridgeRegres(xMat,yMat,lam=0.2):\n",
    "    xTx = xMat.T*xMat\n",
    "    denom = xTx +eye(shape(xMat)[1])*lam\n",
    "    if linalg.det(denom)==0.0:\n",
    "        print('this matrix is singular,cannot do inverse')\n",
    "        return \n",
    "    ws = denom.I * (xMat.T*yMat)\n",
    "    return ws\n",
    "\n",
    "def regularize(xMat):\n",
    "    retMat = xMat.copy()\n",
    "    xMeans = mean(retMat,0)\n",
    "    xVar = var(retMat,0)\n",
    "    retMat = (retMat-xMeans)/xVar\n",
    "    return retMat"
   ]
  },
  {
   "cell_type": "code",
   "execution_count": 11,
   "id": "5e5fefdd",
   "metadata": {},
   "outputs": [],
   "source": [
    "def ridgeTest(xArr,yArr):\n",
    "    xMat = mat(xArr)\n",
    "    yMat = mat(yArr).T\n",
    "    yMaen = mean(yMat,0)\n",
    "    yMat = yMat - yMean\n",
    "    xMat = regularize(xMat)\n",
    "    numTestPts = 30\n",
    "    wMat = zeros((numTestPts,shape(xMat)[1]))\n",
    "    for i in range(numTestPts):\n",
    "        ws = ridgeRegres(xMat,yMat,exp(i-10))\n",
    "        wMat[i,:]=ws.T\n",
    "    return wMat"
   ]
  },
  {
   "cell_type": "code",
   "execution_count": 12,
   "id": "9ec3ccb0",
   "metadata": {},
   "outputs": [],
   "source": [
    "def stageWise(xArr,yArr,eps=0.01,numIt=100):\n",
    "    xMat = mat(xArr)\n",
    "    yMat = mat(yArr).T\n",
    "    yMean = mean(yMat,0)\n",
    "    yMat = yMat - yMean\n",
    "    xMat = regularize(xMat)\n",
    "    m,n = shape(xMat)\n",
    "    returnMat = zeros((numIt,n))\n",
    "    ws = zeros((n,1))\n",
    "    wsBest = ws.copy()\n",
    "    for i in range(numIt):\n",
    "        print(ws.T)\n",
    "        lowestError = inf\n",
    "        for j in range(n):\n",
    "            for sign in [-1,1]:\n",
    "                wsTest = ws.copy()\n",
    "                wsTest[j]+= eps*sign\n",
    "                yTest = xMat * wsTest\n",
    "                rssE = rssError(yMat.A,yTest.A)\n",
    "                if rssE<lowestError:\n",
    "                    lowestError = rssE\n",
    "                    wsBest = wsTest\n",
    "        ws = wsBest.copy()\n",
    "        returnMat[i,:]=ws.T\n",
    "    return returnMat"
   ]
  },
  {
   "cell_type": "code",
   "execution_count": null,
   "id": "6b13094f",
   "metadata": {},
   "outputs": [],
   "source": []
  }
 ],
 "metadata": {
  "kernelspec": {
   "display_name": "Python 3",
   "language": "python",
   "name": "python3"
  },
  "language_info": {
   "codemirror_mode": {
    "name": "ipython",
    "version": 3
   },
   "file_extension": ".py",
   "mimetype": "text/x-python",
   "name": "python",
   "nbconvert_exporter": "python",
   "pygments_lexer": "ipython3",
   "version": "3.7.9"
  }
 },
 "nbformat": 4,
 "nbformat_minor": 5
}
