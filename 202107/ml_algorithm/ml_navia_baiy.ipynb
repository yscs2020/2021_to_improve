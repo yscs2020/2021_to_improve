{
 "cells": [
  {
   "cell_type": "code",
   "execution_count": 2,
   "id": "81649ad2",
   "metadata": {},
   "outputs": [],
   "source": [
    "import numpy as np\n",
    "def kappa(confusion_matrix):\n",
    "    N = np.sum(confusion_matrix)\n",
    "    sum_po = 0\n",
    "    sum_pe = 0\n",
    "    for i in range(len(confusion_matrix)):\n",
    "        sum_po += confusion_matrix[i][i]\n",
    "        i_row = np.sum(confusion_matrix[i,:])\n",
    "        i_col = np.sum(confusion_matrix[:,i])\n",
    "        sum_pe += i_col * i_row\n",
    "    po = sum_po/N\n",
    "    pe = sum_pe/(N*N)\n",
    "    kia = (po-pe)/(1-pe)\n",
    "    return kia"
   ]
  },
  {
   "cell_type": "code",
   "execution_count": 15,
   "id": "c55b34b3",
   "metadata": {},
   "outputs": [],
   "source": [
    "import numpy as np\n",
    "def loadDataSet():\n",
    "    dataSet = [['my','dog','has','flea','problems','help','please'],\n",
    "                  ['maybe','not','take','him','to','dog','park','stupid'],\n",
    "                  ['my','dalmation','is','so','cute','I','love','him'],\n",
    "                  ['stop','posting','stupid','worthless','garbage'],\n",
    "                  ['mr','licks','ate','my','steak','how','to','stop','him'],\n",
    "                  ['quit','buying','worthless','dog','food','stupid']]\n",
    "    classVec = [0,1,0,1,0,1]\n",
    "    return dataSet,classVec\n",
    "def createVocabList(dataSet):\n",
    "    vacabSet = set([])\n",
    "    for document in dataSet:\n",
    "        vacabSet = vacabSet | set(document)\n",
    "    vacabList = list(vacabSet)\n",
    "    return vacabList\n",
    "\n",
    "def setOfWords2Vec(vocabList,inputSet):\n",
    "    returnVec = [0]*len(vocabList)\n",
    "    for word in inputSet:\n",
    "        if word in vocabList:\n",
    "            returnVec[vocabList.index(word)]=1\n",
    "    return returnVec"
   ]
  },
  {
   "cell_type": "code",
   "execution_count": 5,
   "id": "548c7a90",
   "metadata": {},
   "outputs": [],
   "source": [
    "def trainNB(trainMatrix,classVec):\n",
    "    num_docs = len(trainMatrix)\n",
    "    num_words = len(trainMatrix[0])\n",
    "    pAb = sum(classVec)/float(num_docs)\n",
    "    p0Num = np.zeros(num_words)\n",
    "    p0Denom = 0.0\n",
    "    p1Num = np.zeros(num_words)\n",
    "    p1Denom = 0.0\n",
    "    for i in range(num_docs):\n",
    "        if classVec[i]==1:\n",
    "            p1Num += trainMatrix[i]\n",
    "            p1Denom += sum(trainMatrix[i])\n",
    "        else:\n",
    "            p0Num += trainMatrix[i]\n",
    "            p0Denom += sum(trainMatrix[i])\n",
    "    p0V = p0Num/p0Denom\n",
    "    p1V = p1Num/p1Denom\n",
    "    return p0V,p1V,pAb\n"
   ]
  },
  {
   "cell_type": "code",
   "execution_count": 7,
   "id": "0d4b941b",
   "metadata": {},
   "outputs": [],
   "source": [
    "def classifyNB(vec2Classify,p0V,p1V,pAb):\n",
    "    from functools import reduce\n",
    "    p1 = reduce(lambda x,y:x*y,vec2Classify*p1V)*pAb\n",
    "    p2 = reduce(lambda x,y:x*y,vec2Classify*p0V)*(1-pAb)\n",
    "    if p1>p2:\n",
    "        return 1\n",
    "    else:\n",
    "        return 0"
   ]
  },
  {
   "cell_type": "code",
   "execution_count": 12,
   "id": "3f8e2df2",
   "metadata": {},
   "outputs": [],
   "source": [
    "def testingNB(testVec):\n",
    "    dataSet,classVec = loadDataSet()\n",
    "    vocabList = createVocabList(dataSet)\n",
    "    trainMat = []\n",
    "    for inputSet in dataSet:\n",
    "        trainMat.append(setOfWords2Vec(vocabList,inputSet))\n",
    "    p0V,p1V,pAb= trainNB(np.array(trainMat),np.array(classVec))\n",
    "    thisDoc = np.array(setOfWords2Vec(vocabList,testVec))\n",
    "    if classifyNB(thisDoc,p0V,p1V,pAb):\n",
    "        print('侮辱')\n",
    "    else:\n",
    "        print('非侮辱')"
   ]
  },
  {
   "cell_type": "code",
   "execution_count": 16,
   "id": "5d7176e5",
   "metadata": {},
   "outputs": [
    {
     "name": "stdout",
     "output_type": "stream",
     "text": [
      "非侮辱\n",
      "非侮辱\n"
     ]
    }
   ],
   "source": [
    "testEntry = ['love', 'my', 'dalmation']\n",
    "testingNB(testEntry)\n",
    "# 测试文本2\n",
    "testEntry = ['stupid', 'garbage']\n",
    "testingNB(testEntry)"
   ]
  },
  {
   "cell_type": "code",
   "execution_count": 17,
   "id": "01ffd240",
   "metadata": {},
   "outputs": [],
   "source": [
    "def trainNB(trainMatrix,classVec):\n",
    "    num_docs = len(trainMatrix)\n",
    "    num_words = len(trainMatrix[0])\n",
    "    pAb = sum(classVec)/float(num_docs)\n",
    "    p0Num = np.ones(num_words)\n",
    "    p0Denom = 2.0\n",
    "    p1Num = np.ones(num_words)\n",
    "    p1Denom = 2.0\n",
    "    for i in range(num_docs):\n",
    "        if classVec[i]==1:\n",
    "            p1Num += trainMatrix[i]\n",
    "            p1Denom += sum(trainMatrix[i])\n",
    "        else:\n",
    "            p0Num += trainMatrix[i]\n",
    "            p0Denom += sum(trainMatrix[i])\n",
    "    p0V = np.log(p0Num/p0Denom)\n",
    "    p1V = np.log(p1Num/p1Denom)\n",
    "    return p0V,p1V,pAb\n",
    "def classifyNB(vec2Classify,p0V,p1V,pAb):\n",
    "    p1 = sum(vec2Classify*p1V)+np.log(pAb)\n",
    "    p0 = sum(vec2Classify*p0v)+np.log(1-pAb)\n",
    "    if p1>p0:\n",
    "        return 1\n",
    "    else:\n",
    "        return 0"
   ]
  }
 ],
 "metadata": {
  "kernelspec": {
   "display_name": "Python 3",
   "language": "python",
   "name": "python3"
  },
  "language_info": {
   "codemirror_mode": {
    "name": "ipython",
    "version": 3
   },
   "file_extension": ".py",
   "mimetype": "text/x-python",
   "name": "python",
   "nbconvert_exporter": "python",
   "pygments_lexer": "ipython3",
   "version": "3.7.9"
  }
 },
 "nbformat": 4,
 "nbformat_minor": 5
}
