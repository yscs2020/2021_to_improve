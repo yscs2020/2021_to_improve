{
 "cells": [
  {
   "cell_type": "code",
   "execution_count": 2,
   "id": "4dc14c67",
   "metadata": {},
   "outputs": [
    {
     "data": {
      "text/plain": [
       "XGBClassifier(max_depth=8, num_class=5, objective='multi:softprob')"
      ]
     },
     "execution_count": 2,
     "metadata": {},
     "output_type": "execute_result"
    }
   ],
   "source": [
    "from xgboost.sklearn import XGBClassifier\n",
    "XGBClassifier(base_score=0.5,booster='gbtree',colsample_bylevel=1,colsample_bynode=1,colsample_bytree=1,gamma=0,\n",
    "              learning_rate=0.1,max_delta_step=0,max_depth=8,min_child_weight=1,missing=None,n_estimators=100,\n",
    "              n_jobs=1,nthread=None,num_class=5,objective='multi:softprob',random_state=0,reg_alpha=0,reg_lambda=1,\n",
    "             scale_pos_weight=1,seed=None,silent=None,subsample=1,verbosity=1)"
   ]
  },
  {
   "cell_type": "code",
   "execution_count": 3,
   "id": "63990559",
   "metadata": {},
   "outputs": [],
   "source": [
    "import pandas as pd\n",
    "from sklearn.model_selection import train_test_split\n",
    "from xgboost.sklearn import XGBClassifier\n",
    "from sklearn.metrics import classification_report\n",
    "import joblib\n",
    "from sklearn.metrics import f1_score,precision_score,recall_score\n"
   ]
  },
  {
   "cell_type": "code",
   "execution_count": 5,
   "id": "45dc9cc5",
   "metadata": {},
   "outputs": [],
   "source": [
    "def get_cust_age_stage(birth_year):\n",
    "    age_stage = []\n",
    "    for i in range(len(birth_year)):\n",
    "        if int(birth_year[i])==0:\n",
    "            age_stage.append('未知')\n",
    "        elif int(birth_year[i])<1960:\n",
    "            age_stage.append('60前')\n",
    "        elif int(birth_year[i])<1970:\n",
    "            age_stage.append('60后')\n",
    "        elif int(birth_year[i])<1980:\n",
    "            age_stage.append('70后')\n",
    "        elif int(birth_year[i])<1990:\n",
    "            age_stage.append('80后')\n",
    "        elif int(birth_year[i])<2000:\n",
    "            age_stage.append('90后 ')\n",
    "        elif int(birth_year[i])>=2000:\n",
    "            age_stage.append('00后')\n",
    "        else:\n",
    "            age_stage.append(\"未知\")\n",
    "    return age_stage\n",
    "def get_top5_onehot(data):\n",
    "    c_top5_counts = data['c'].value_counts()[:5]\n",
    "    c_top5_name = list(c_top5_counts.keys())\n",
    "    c_one_hot = pd.get_dummies(data['c'])\n",
    "    c_top5 = c_one_hot[c_top5_name]\n",
    "    data = data.join(c_top5)\n",
    "    return data\n",
    "            "
   ]
  },
  {
   "cell_type": "code",
   "execution_count": 8,
   "id": "79010152",
   "metadata": {},
   "outputs": [],
   "source": [
    "def get_quantile_20_values(input_data):\n",
    "    grade = pd.DataFrame(columns=['quantile','value'])\n",
    "    for i in range(0,21):\n",
    "        grade.loc[i,'quantile']=i/20.0\n",
    "        grade.loc[i,'value']=input_data.quantile(i/20.0)\n",
    "    cut_point = grade['value'].tolist()\n",
    "    s_unique = []\n",
    "    for i in range(len(cut_point)):\n",
    "        if cut_point[i] not in s_unique:\n",
    "            s_unique.append(cut_point[i])\n",
    "    return s_unique\n",
    "def get_quantile_interregional(s_unique):\n",
    "    interregional = []\n",
    "    for i in range(1,len(s_unique)):\n",
    "        interregional.append([i,s_unique[i-1],s_unique[i]])\n",
    "        if i == len(s_unique)-1 and len(interregional)<20:\n",
    "            interregional.append([i+1,s_unique[i],s_unique[i]])\n",
    "    return interregional"
   ]
  },
  {
   "cell_type": "code",
   "execution_count": 10,
   "id": "a7bc8dbc",
   "metadata": {},
   "outputs": [],
   "source": [
    "def get_current_level(item_data,interregional):\n",
    "    level = 0\n",
    "    for i in range(len(interregional)):\n",
    "        if item_data>=interregional[i][1] and item_data<interregional[i][2]:\n",
    "            level = interregional[i][0]\n",
    "        elif interregional[i][1]==interregional[i][2]:\n",
    "            level = interregional[i][0]\n",
    "            break\n",
    "    return level"
   ]
  },
  {
   "cell_type": "code",
   "execution_count": 11,
   "id": "e54810dc",
   "metadata": {},
   "outputs": [],
   "source": [
    "def get_division_level(input_data):\n",
    "    s_unique = get_quantile_20_values(input_data)\n",
    "    interregional = get_quantile_interregional(s_unique)\n",
    "    quantile_20_level = []\n",
    "    for item in input_data:\n",
    "        quantile_20_level.append(get_current_level(item,interregional))\n",
    "    return quantile_20_level"
   ]
  },
  {
   "cell_type": "code",
   "execution_count": 13,
   "id": "3d7c7c16",
   "metadata": {},
   "outputs": [],
   "source": [
    "def pre_processing(data):\n",
    "    data['年龄']= get_cust_age_stage(data['出生年月日'])\n",
    "    data['本月平均时长']= data['本月时长'].div(data['本月次数'],axis=0)\n",
    "    data['g']=data['a']-data['b']\n",
    "    col_name_0 = ['a','b','g','k']\n",
    "    values = {}\n",
    "    for i in col_name_0:\n",
    "        values[i]=0\n",
    "    data.fillna(values=values,inplace=True)\n",
    "    data.fillna({'m':'未知','z':'未知'},inplace=True)\n",
    "    data = get_top5_onehot(data)\n",
    "    col_name_level = ['d','e','f']\n",
    "    for i in range(len(col_name_level)):\n",
    "        new_col_name = col_name_level[i]+'_TILE20'\n",
    "        data[new_col_name]=get_division_level(data[col_name_level[i]])\n",
    "    return data\n",
    "    "
   ]
  },
  {
   "cell_type": "code",
   "execution_count": 15,
   "id": "5837669f",
   "metadata": {},
   "outputs": [],
   "source": [
    "def get_model_columns(input_data):\n",
    "    total_col_names = input_data.columns\n",
    "    del_col_names = ['a','b','c']\n",
    "    model_col_names = [i for i in total_col_names if i not in del_col_names]\n",
    "    return model_col_names"
   ]
  },
  {
   "cell_type": "code",
   "execution_count": 16,
   "id": "ef98e9ed",
   "metadata": {},
   "outputs": [],
   "source": [
    "def importance_features_top(model_str,model,x_train):\n",
    "    print('XGBOOST 重要指标')\n",
    "    feature_importances_ = model.feature_importances_\n",
    "    feature_names = x_train.columns\n",
    "    importance_col = pd.DataFrame([*zip(feature_names,feature_importances_)],columns=['a','b'])\n",
    "    importance_col_desc = importance_col.sort_values(by='b',ascending=False)\n",
    "    print(importance_col_desc[:10,:])"
   ]
  },
  {
   "cell_type": "code",
   "execution_count": 18,
   "id": "f2f7af2c",
   "metadata": {},
   "outputs": [],
   "source": [
    "def print_precision_recall_f1(y_true,y_pre):\n",
    "    print('精准率，召回率，F1')\n",
    "    print(classification_report(y_true,y_pre))\n",
    "    f1 = round(f1_score(y_true,y_pre,average='macro'),2)\n",
    "    pre = round(precision_score(y_true,y_pre,average='macro'),2)\n",
    "    rec = round(recall_score(y_true,y_pre,average='macro'),2)\n",
    "    print('Precision {},Recall {}, F1 : {}'.format(pre,rec,f1))"
   ]
  },
  {
   "cell_type": "code",
   "execution_count": 21,
   "id": "6fe4a4c0",
   "metadata": {},
   "outputs": [],
   "source": [
    "def xgboost_model(x_train,y_train):\n",
    "    xgboost_clf = XGBClassifier(min_child_weight=6,max_depth = 15,objective='multi:softmax',num_class=5)\n",
    "    print(xgboost_clf)\n",
    "    xgboost_clf.fit(x_train,y_train)\n",
    "    importance_features_top('xgboost',xgboost_clf,x_train)\n",
    "    joblib.dump(xgboost_clf,'xgb.model')\n",
    "    return xgboost_clf"
   ]
  },
  {
   "cell_type": "code",
   "execution_count": null,
   "id": "b0ca6f05",
   "metadata": {},
   "outputs": [],
   "source": [
    "eval_set = []"
   ]
  }
 ],
 "metadata": {
  "kernelspec": {
   "display_name": "Python 3",
   "language": "python",
   "name": "python3"
  },
  "language_info": {
   "codemirror_mode": {
    "name": "ipython",
    "version": 3
   },
   "file_extension": ".py",
   "mimetype": "text/x-python",
   "name": "python",
   "nbconvert_exporter": "python",
   "pygments_lexer": "ipython3",
   "version": "3.7.9"
  }
 },
 "nbformat": 4,
 "nbformat_minor": 5
}
