{
 "cells": [
  {
   "cell_type": "code",
   "execution_count": 2,
   "id": "ef78fbf1",
   "metadata": {},
   "outputs": [
    {
     "name": "stdout",
     "output_type": "stream",
     "text": [
      "特征值： [ 0.29198263  8.26378188 41.44423549]\n",
      "特征值的平方根: [0.54035417 2.87467944 6.43771974]\n"
     ]
    }
   ],
   "source": [
    "import numpy as np\n",
    "data = np.array([[1,0,4],[2,2,0],[0,0,5]])\n",
    "eig_value, eig_vector = np.linalg.eig(data.dot(data.T))\n",
    "eig_value = np.sort(eig_value)[::1]\n",
    "print('特征值：',eig_value)\n",
    "print('特征值的平方根:',np.sqrt(eig_value))"
   ]
  },
  {
   "cell_type": "code",
   "execution_count": 5,
   "id": "f24f08fe",
   "metadata": {},
   "outputs": [
    {
     "name": "stdout",
     "output_type": "stream",
     "text": [
      "奇异值 [6.43771974 2.87467944 0.54035417]\n",
      "[[1 0 4]\n",
      " [2 2 0]\n",
      " [0 0 5]]\n",
      "[[1 0 4]\n",
      " [2 2 0]\n",
      " [0 0 5]]\n"
     ]
    }
   ],
   "source": [
    "U,S,V = np.linalg.svd(data)\n",
    "recon_data = np.round(U[:,:2].dot(np.diag(S[:2])).dot(V[:2,:]),0).astype(int)\n",
    "print('奇异值',S)\n",
    "print(data)\n",
    "print(recon_data)"
   ]
  },
  {
   "cell_type": "code",
   "execution_count": 6,
   "id": "a60cc325",
   "metadata": {},
   "outputs": [
    {
     "name": "stdout",
     "output_type": "stream",
     "text": [
      "左奇异矩阵 [[ 0.63464303 -0.12919086  0.76193041]\n",
      " [ 0.03795231 -0.97952798 -0.19769816]\n",
      " [ 0.77187295  0.15438478 -0.61674751]]\n",
      "奇异值 [6.43771974 2.87467944 0.54035417]\n",
      "左奇异矩阵V: [[ 0.11037257  0.01179061  0.99382034]\n",
      " [-0.72642772 -0.68148675  0.08876135]\n",
      " [ 0.67832195 -0.73173546 -0.06665242]]\n",
      "data [[1 0 4]\n",
      " [2 2 0]\n",
      " [0 0 5]]\n",
      "U*S*V [[1 0 4]\n",
      " [2 2 0]\n",
      " [0 0 5]]\n"
     ]
    }
   ],
   "source": [
    "import numpy as np\n",
    "eig_val, u_vec = np.linalg.eig(data.dot(data.T))\n",
    "s_val = np.sqrt(eig_val)\n",
    "s_val_sort_idx = np.argsort(s_val)[::-1]\n",
    "u_vec = u_vec[:,s_val_sort_idx]\n",
    "s_val = np.sort(s_val)[::-1]\n",
    "s_val_inv = np.linalg.inv(np.diag(s_val))\n",
    "v_vec = s_val_inv.dot((u_vec.T).dot(data))\n",
    "reco_data = np.round(u_vec[:,:2].dot(np.diag(s_val[:2])).dot(v_vec[:2,:]),0).astype(int)\n",
    "print('左奇异矩阵',u_vec)\n",
    "print('奇异值',s_val)\n",
    "print('左奇异矩阵V:',v_vec)\n",
    "print('data',data)\n",
    "print('U*S*V',reco_data)"
   ]
  },
  {
   "cell_type": "code",
   "execution_count": 8,
   "id": "2c1c8783",
   "metadata": {},
   "outputs": [],
   "source": [
    "path = '1c_r.jpg'\n",
    "data = io.imread(path,as_gray=True)\n",
    "print(data.shape)\n",
    "U,sigma,VT = np.linalg.svd(data)\n",
    "count = 30\n",
    "dig = np.diag(sigma[:count])\n",
    "redata = U[:,:count]*dig*VT[:count,:]\n",
    "plt.imshow(data,cmap='gray')\n",
    "plt.title('原始图片')\n",
    "plt.show()\n",
    "plt.imshow(redata,cmap='gray')\n",
    "plt.title('基于SVD压缩重构后的图片')\n",
    "plt.show()"
   ]
  },
  {
   "cell_type": "code",
   "execution_count": 9,
   "id": "f0fc5050",
   "metadata": {},
   "outputs": [
    {
     "name": "stdout",
     "output_type": "stream",
     "text": [
      "输入是1维数组时的结果 [[1 0 0]\n",
      " [0 2 0]\n",
      " [0 0 3]]\n"
     ]
    }
   ],
   "source": [
    "import numpy as np\n",
    "data_1 = np.array([1,2,3])\n",
    "print('输入是1维数组时的结果',np.diag(data_1))\n"
   ]
  },
  {
   "cell_type": "code",
   "execution_count": 10,
   "id": "7f7c5c02",
   "metadata": {},
   "outputs": [
    {
     "name": "stdout",
     "output_type": "stream",
     "text": [
      "[1 2 5]\n"
     ]
    }
   ],
   "source": [
    "data_2 = np.array([[1,0,4],[2,2,0],[0,0,5]])\n",
    "print(np.diag(data_2))"
   ]
  }
 ],
 "metadata": {
  "kernelspec": {
   "display_name": "Python 3",
   "language": "python",
   "name": "python3"
  },
  "language_info": {
   "codemirror_mode": {
    "name": "ipython",
    "version": 3
   },
   "file_extension": ".py",
   "mimetype": "text/x-python",
   "name": "python",
   "nbconvert_exporter": "python",
   "pygments_lexer": "ipython3",
   "version": "3.7.9"
  }
 },
 "nbformat": 4,
 "nbformat_minor": 5
}
