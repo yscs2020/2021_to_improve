{
 "cells": [
  {
   "cell_type": "code",
   "execution_count": 1,
   "id": "74e97634",
   "metadata": {},
   "outputs": [
    {
     "name": "stdout",
     "output_type": "stream",
     "text": [
      "False\n",
      "True\n"
     ]
    }
   ],
   "source": [
    "import numpy as np\n",
    "print(np.nan==np.nan)\n",
    "print(np.nan!=np.nan)"
   ]
  },
  {
   "cell_type": "code",
   "execution_count": 2,
   "id": "5be5d900",
   "metadata": {},
   "outputs": [
    {
     "name": "stdout",
     "output_type": "stream",
     "text": [
      "[ 1.  1.  8. nan 10.]\n"
     ]
    }
   ],
   "source": [
    "import numpy as np\n",
    "X = np.array([1,1,8,np.nan,10])\n",
    "print(X)"
   ]
  },
  {
   "cell_type": "code",
   "execution_count": 5,
   "id": "733976fd",
   "metadata": {},
   "outputs": [
    {
     "name": "stdout",
     "output_type": "stream",
     "text": [
      "[False False False  True False]\n"
     ]
    }
   ],
   "source": [
    "y = np.isnan(X)\n",
    "print(y)"
   ]
  },
  {
   "cell_type": "code",
   "execution_count": 6,
   "id": "9bdb8ee0",
   "metadata": {},
   "outputs": [
    {
     "name": "stdout",
     "output_type": "stream",
     "text": [
      "1\n"
     ]
    }
   ],
   "source": [
    "z = np.count_nonzero(y)\n",
    "print(z)"
   ]
  },
  {
   "cell_type": "code",
   "execution_count": 7,
   "id": "eb948d49",
   "metadata": {},
   "outputs": [
    {
     "data": {
      "text/plain": [
       "3.141592653589793"
      ]
     },
     "execution_count": 7,
     "metadata": {},
     "output_type": "execute_result"
    }
   ],
   "source": [
    "np.pi"
   ]
  },
  {
   "cell_type": "code",
   "execution_count": 8,
   "id": "7fd8764d",
   "metadata": {},
   "outputs": [
    {
     "data": {
      "text/plain": [
       "2.718281828459045"
      ]
     },
     "execution_count": 8,
     "metadata": {},
     "output_type": "execute_result"
    }
   ],
   "source": [
    "np.e"
   ]
  },
  {
   "cell_type": "code",
   "execution_count": 12,
   "id": "df3b616b",
   "metadata": {},
   "outputs": [
    {
     "name": "stdout",
     "output_type": "stream",
     "text": [
      "<class 'numpy.bool_'>\n",
      "1\n",
      "<class 'numpy.int8'>\n",
      "1\n",
      "<class 'numpy.int16'>\n",
      "2\n",
      "<class 'numpy.int32'>\n",
      "4\n",
      "<class 'numpy.int64'>\n",
      "8\n",
      "<class 'numpy.uint8'>\n",
      "1\n",
      "<class 'numpy.uint16'>\n",
      "2\n",
      "<class 'numpy.uint32'>\n",
      "4\n",
      "<class 'numpy.uint64'>\n",
      "8\n"
     ]
    }
   ],
   "source": [
    "class dtype(object):\n",
    "    def __init__(self,obj,align=False,copy=False):\n",
    "        pass\n",
    "import numpy as np\n",
    "a = np.dtype('b1')\n",
    "print(a.type)\n",
    "print(a.itemsize)\n",
    "a = np.dtype('i1')\n",
    "print(a.type)\n",
    "print(a.itemsize)\n",
    "a = np.dtype('i2')\n",
    "print(a.type)\n",
    "print(a.itemsize)\n",
    "a = np.dtype('i4')\n",
    "print(a.type)\n",
    "print(a.itemsize)\n",
    "a = np.dtype('i8')\n",
    "print(a.type)\n",
    "print(a.itemsize)\n",
    "a = np.dtype('u1')\n",
    "print(a.type)\n",
    "print(a.itemsize)\n",
    "a = np.dtype('u2')\n",
    "print(a.type)\n",
    "print(a.itemsize)\n",
    "a = np.dtype('u4')\n",
    "print(a.type)\n",
    "print(a.itemsize)\n",
    "a = np.dtype('u8')\n",
    "print(a.type)\n",
    "print(a.itemsize)"
   ]
  },
  {
   "cell_type": "code",
   "execution_count": 13,
   "id": "45d2c0c4",
   "metadata": {},
   "outputs": [
    {
     "name": "stdout",
     "output_type": "stream",
     "text": [
      "<class 'numpy.float16'>\n",
      "2\n",
      "<class 'numpy.float32'>\n",
      "4\n",
      "<class 'numpy.float64'>\n",
      "8\n"
     ]
    }
   ],
   "source": [
    "a = np.dtype('f2')\n",
    "print(a.type)\n",
    "print(a.itemsize)\n",
    "a = np.dtype('f4')\n",
    "print(a.type)\n",
    "print(a.itemsize)\n",
    "a = np.dtype('f8')\n",
    "print(a.type)\n",
    "print(a.itemsize)"
   ]
  },
  {
   "cell_type": "code",
   "execution_count": 14,
   "id": "eb361b57",
   "metadata": {},
   "outputs": [
    {
     "name": "stdout",
     "output_type": "stream",
     "text": [
      "<class 'numpy.bytes_'>\n",
      "0\n",
      "<class 'numpy.bytes_'>\n",
      "3\n",
      "<class 'numpy.str_'>\n",
      "12\n"
     ]
    }
   ],
   "source": [
    "a = np.dtype('S')\n",
    "print(a.type)\n",
    "print(a.itemsize)\n",
    "a = np.dtype('S3')\n",
    "print(a.type)\n",
    "print(a.itemsize)\n",
    "a = np.dtype('U3')\n",
    "print(a.type)\n",
    "print(a.itemsize)"
   ]
  },
  {
   "cell_type": "code",
   "execution_count": null,
   "id": "2599dab3",
   "metadata": {},
   "outputs": [],
   "source": [
    "class iinfo(object):\n",
    "    def __init__(self,int_type):\n",
    "        pass\n",
    "    def min(self):\n",
    "        pass\n",
    "    def max(self):\n",
    "        pass"
   ]
  },
  {
   "cell_type": "code",
   "execution_count": 1,
   "id": "6f14c35f",
   "metadata": {},
   "outputs": [
    {
     "name": "stdout",
     "output_type": "stream",
     "text": [
      "-32768\n",
      "32767\n"
     ]
    }
   ],
   "source": [
    "import numpy as np\n",
    "ii16 = np.iinfo(np.int16)\n",
    "print(ii16.min)\n",
    "print(ii16.max)"
   ]
  },
  {
   "cell_type": "code",
   "execution_count": 3,
   "id": "86c99e0e",
   "metadata": {},
   "outputs": [
    {
     "name": "stdout",
     "output_type": "stream",
     "text": [
      "2147483647\n",
      "-2147483648\n"
     ]
    }
   ],
   "source": [
    "ii32 = np.iinfo(np.int32)\n",
    "print(ii32.max)\n",
    "print(ii32.min)"
   ]
  },
  {
   "cell_type": "code",
   "execution_count": 5,
   "id": "eddcb51c",
   "metadata": {},
   "outputs": [],
   "source": [
    "class finfo(object):\n",
    "    def _init(self,dtype):\n",
    "        pass\n"
   ]
  },
  {
   "cell_type": "code",
   "execution_count": 6,
   "id": "5bcfc7de",
   "metadata": {},
   "outputs": [
    {
     "name": "stdout",
     "output_type": "stream",
     "text": [
      "16\n",
      "-65500.0\n",
      "65500.0\n",
      "0.000977\n",
      "32\n",
      "-3.4028235e+38\n",
      "3.4028235e+38\n",
      "1.1920929e-07\n"
     ]
    }
   ],
   "source": [
    "import numpy as np\n",
    "\n",
    "ff16 = np.finfo(np.float16)\n",
    "print(ff16.bits)  # 16\n",
    "print(ff16.min)  # -65500.0\n",
    "print(ff16.max)  # 65500.0\n",
    "print(ff16.eps)  # 0.000977\n",
    "\n",
    "ff32 = np.finfo(np.float32)\n",
    "print(ff32.bits)  # 32\n",
    "print(ff32.min)  # -3.4028235e+38\n",
    "print(ff32.max)  # 3.4028235e+38\n",
    "print(ff32.eps)  # 1.1920929e-07"
   ]
  },
  {
   "cell_type": "code",
   "execution_count": 7,
   "id": "8add8960",
   "metadata": {},
   "outputs": [
    {
     "name": "stdout",
     "output_type": "stream",
     "text": [
      "2020-03-01 datetime64[D]\n"
     ]
    }
   ],
   "source": [
    "import numpy as np\n",
    "a = np.datetime64('2020-03-01')\n",
    "print(a,a.dtype)"
   ]
  },
  {
   "cell_type": "code",
   "execution_count": 8,
   "id": "6af3f343",
   "metadata": {},
   "outputs": [
    {
     "name": "stdout",
     "output_type": "stream",
     "text": [
      "2020-03 datetime64[M]\n"
     ]
    }
   ],
   "source": [
    "a = np.datetime64('2020-03')\n",
    "print(a,a.dtype)"
   ]
  },
  {
   "cell_type": "code",
   "execution_count": 9,
   "id": "8b9dd383",
   "metadata": {},
   "outputs": [
    {
     "name": "stdout",
     "output_type": "stream",
     "text": [
      "2020 datetime64[Y]\n"
     ]
    }
   ],
   "source": [
    "a= np.datetime64('2020')\n",
    "print(a,a.dtype)"
   ]
  },
  {
   "cell_type": "code",
   "execution_count": 10,
   "id": "56351361",
   "metadata": {},
   "outputs": [
    {
     "name": "stdout",
     "output_type": "stream",
     "text": [
      "2020-03-08T20:00:05 datetime64[s]\n"
     ]
    }
   ],
   "source": [
    "a = np.datetime64('2020-03-08 20:00:05')\n",
    "print(a,a.dtype)"
   ]
  },
  {
   "cell_type": "code",
   "execution_count": 11,
   "id": "12a6e253",
   "metadata": {},
   "outputs": [
    {
     "name": "stdout",
     "output_type": "stream",
     "text": [
      "2020-03-08T20:00 datetime64[m]\n"
     ]
    }
   ],
   "source": [
    "a = np.datetime64('2020-03-08 20:00')\n",
    "print(a,a.dtype)"
   ]
  },
  {
   "cell_type": "code",
   "execution_count": 12,
   "id": "64f160b3",
   "metadata": {},
   "outputs": [
    {
     "name": "stdout",
     "output_type": "stream",
     "text": [
      "2020-03-08T20 datetime64[h]\n"
     ]
    }
   ],
   "source": [
    "a = np.datetime64('2020-03-08 20')\n",
    "print(a,a.dtype)"
   ]
  },
  {
   "cell_type": "code",
   "execution_count": 13,
   "id": "e3675e76",
   "metadata": {},
   "outputs": [
    {
     "name": "stdout",
     "output_type": "stream",
     "text": [
      "2020-03-01 datetime64[D]\n"
     ]
    }
   ],
   "source": [
    "import numpy as np\n",
    "a = np.datetime64('2020-03','D')\n",
    "print(a,a.dtype)"
   ]
  },
  {
   "cell_type": "code",
   "execution_count": 15,
   "id": "41e0b3c0",
   "metadata": {},
   "outputs": [
    {
     "name": "stdout",
     "output_type": "stream",
     "text": [
      "2020 datetime64[Y]\n"
     ]
    }
   ],
   "source": [
    "a = np.datetime64('2020-03','Y')\n",
    "print(a,a.dtype)"
   ]
  },
  {
   "cell_type": "code",
   "execution_count": 16,
   "id": "952d8015",
   "metadata": {},
   "outputs": [
    {
     "name": "stdout",
     "output_type": "stream",
     "text": [
      "True\n",
      "False\n"
     ]
    }
   ],
   "source": [
    "print(np.datetime64('2020-03')==np.datetime64('2020-03-01'))\n",
    "print(np.datetime64('2020-03')==np.datetime64('2020-03-02'))"
   ]
  },
  {
   "cell_type": "code",
   "execution_count": 17,
   "id": "aab0ad65",
   "metadata": {},
   "outputs": [
    {
     "name": "stdout",
     "output_type": "stream",
     "text": [
      "['2020-03-01T00:00' '2020-03-08T00:00' '2020-03-08T20:00'] datetime64[m]\n"
     ]
    }
   ],
   "source": [
    "import numpy as np\n",
    "a = np.array(['2020-03','2020-03-08','2020-03-08 20:00'],dtype='datetime64')\n",
    "print(a,a.dtype)"
   ]
  },
  {
   "cell_type": "code",
   "execution_count": 18,
   "id": "1eeafd94",
   "metadata": {},
   "outputs": [
    {
     "name": "stdout",
     "output_type": "stream",
     "text": [
      "['2020-08-01' '2020-08-02' '2020-08-03' '2020-08-04' '2020-08-05'\n",
      " '2020-08-06' '2020-08-07' '2020-08-08' '2020-08-09']\n"
     ]
    }
   ],
   "source": [
    "import numpy as np\n",
    "a = np.arange('2020-08-01','2020-08-10',dtype=np.datetime64)\n",
    "print(a)"
   ]
  },
  {
   "cell_type": "code",
   "execution_count": 19,
   "id": "609670fd",
   "metadata": {},
   "outputs": [
    {
     "name": "stdout",
     "output_type": "stream",
     "text": [
      "['2020-08-01T20:00' '2020-08-01T20:01' '2020-08-01T20:02' ...\n",
      " '2020-08-09T23:57' '2020-08-09T23:58' '2020-08-09T23:59']\n"
     ]
    }
   ],
   "source": [
    "a = np.arange('2020-08-01 20:00','2020-08-10',dtype=np.datetime64)\n",
    "print(a)"
   ]
  },
  {
   "cell_type": "code",
   "execution_count": 21,
   "id": "c06cfbcf",
   "metadata": {},
   "outputs": [
    {
     "name": "stdout",
     "output_type": "stream",
     "text": [
      "datetime64[M]\n"
     ]
    }
   ],
   "source": [
    "print(np.arange('2020-05','2020-12',dtype=np.datetime64).dtype,)"
   ]
  },
  {
   "cell_type": "code",
   "execution_count": 23,
   "id": "521bf806",
   "metadata": {},
   "outputs": [
    {
     "name": "stdout",
     "output_type": "stream",
     "text": [
      "92 hours 4317 minutes 92 hours\n"
     ]
    }
   ],
   "source": [
    "import numpy as np\n",
    "a = np.datetime64('2020-03-07 20')-np.datetime64('2020-03-04')\n",
    "b = np.datetime64('2020-03-07 20')-np.datetime64('2020-03-04 20:03')\n",
    "c = np.datetime64('2020-03-07 20')-np.datetime64('2020-03-04 20:00','D')\n",
    "print(a,b,c)"
   ]
  },
  {
   "cell_type": "code",
   "execution_count": 24,
   "id": "f7ae6888",
   "metadata": {},
   "outputs": [
    {
     "name": "stdout",
     "output_type": "stream",
     "text": [
      "2020-02-17 datetime64[D]\n",
      "2020-03-01T12:00 datetime64[m]\n"
     ]
    }
   ],
   "source": [
    "import numpy as np\n",
    "a = np.datetime64('2020-03-08')-np.timedelta64(20,'D')\n",
    "b = np.datetime64('2020-03-01 00:00')+np.timedelta64(12,'h')\n",
    "print(a,a.dtype)\n",
    "print(b,b.dtype)"
   ]
  },
  {
   "cell_type": "code",
   "execution_count": 27,
   "id": "c94e8fc3",
   "metadata": {},
   "outputs": [
    {
     "name": "stdout",
     "output_type": "stream",
     "text": [
      "1 years 12 months timedelta64[Y] timedelta64[M]\n"
     ]
    }
   ],
   "source": [
    "a = np.timedelta64(1,'Y')\n",
    "b = np.timedelta64(a,'M')\n",
    "print(a,b,a.dtype,b.dtype)"
   ]
  },
  {
   "cell_type": "code",
   "execution_count": 28,
   "id": "5173ca61",
   "metadata": {},
   "outputs": [
    {
     "name": "stdout",
     "output_type": "stream",
     "text": [
      "1 hours 60 minutes timedelta64[h] timedelta64[m]\n"
     ]
    }
   ],
   "source": [
    "c = np.timedelta64(1,'h')\n",
    "d = np.timedelta64(c,'m')\n",
    "print(c,d,c.dtype,d.dtype)"
   ]
  },
  {
   "cell_type": "code",
   "execution_count": 29,
   "id": "5f19f7b8",
   "metadata": {},
   "outputs": [
    {
     "ename": "TypeError",
     "evalue": "Cannot cast NumPy timedelta64 scalar from metadata [Y] to [D] according to the rule 'same_kind'",
     "output_type": "error",
     "traceback": [
      "\u001b[0;31m---------------------------------------------------------------------------\u001b[0m",
      "\u001b[0;31mTypeError\u001b[0m                                 Traceback (most recent call last)",
      "\u001b[0;32m<ipython-input-29-d3c280939aa1>\u001b[0m in \u001b[0;36m<module>\u001b[0;34m\u001b[0m\n\u001b[0;32m----> 1\u001b[0;31m \u001b[0mprint\u001b[0m\u001b[0;34m(\u001b[0m\u001b[0mnp\u001b[0m\u001b[0;34m.\u001b[0m\u001b[0mtimedelta64\u001b[0m\u001b[0;34m(\u001b[0m\u001b[0ma\u001b[0m\u001b[0;34m,\u001b[0m\u001b[0;34m'D'\u001b[0m\u001b[0;34m)\u001b[0m\u001b[0;34m)\u001b[0m\u001b[0;34m\u001b[0m\u001b[0;34m\u001b[0m\u001b[0m\n\u001b[0m\u001b[1;32m      2\u001b[0m \u001b[0mprint\u001b[0m\u001b[0;34m(\u001b[0m\u001b[0mnp\u001b[0m\u001b[0;34m.\u001b[0m\u001b[0mtimedelta64\u001b[0m\u001b[0;34m(\u001b[0m\u001b[0mb\u001b[0m\u001b[0;34m,\u001b[0m\u001b[0;34m'D'\u001b[0m\u001b[0;34m)\u001b[0m\u001b[0;34m)\u001b[0m\u001b[0;34m\u001b[0m\u001b[0;34m\u001b[0m\u001b[0m\n",
      "\u001b[0;31mTypeError\u001b[0m: Cannot cast NumPy timedelta64 scalar from metadata [Y] to [D] according to the rule 'same_kind'"
     ]
    }
   ],
   "source": [
    "print(np.timedelta64(a,'D'))\n",
    "print(np.timedelta64(b,'D'))"
   ]
  },
  {
   "cell_type": "code",
   "execution_count": 30,
   "id": "17dd14d2",
   "metadata": {},
   "outputs": [],
   "source": [
    "a = np.timedelta64(1,'Y')\n",
    "b = np.timedelta64(6,'M')\n",
    "c = np.timedelta64(1,'W')\n",
    "d = np.timedelta64(1,'D')\n",
    "e = np.timedelta64(10,'D')"
   ]
  },
  {
   "cell_type": "code",
   "execution_count": 31,
   "id": "d6129361",
   "metadata": {},
   "outputs": [
    {
     "name": "stdout",
     "output_type": "stream",
     "text": [
      "1 years 6 months 18 months 6 months 2 years 2.0 7.0 7 days\n"
     ]
    }
   ],
   "source": [
    "print(a,b,a+b,a-b,a*2,a/b,c/d,c%e)"
   ]
  },
  {
   "cell_type": "code",
   "execution_count": 33,
   "id": "38cd1998",
   "metadata": {},
   "outputs": [],
   "source": [
    "import datetime\n",
    "\n",
    "dt = datetime.datetime(year=2020,month=6,day=1,hour=20,minute=5,second=30)\n",
    "dt64 = np.datetime64(dt,'s')"
   ]
  },
  {
   "cell_type": "code",
   "execution_count": 35,
   "id": "66eef502",
   "metadata": {},
   "outputs": [
    {
     "name": "stdout",
     "output_type": "stream",
     "text": [
      "2020-06-01 20:05:30 2020-06-01T20:05:30 datetime64[s] <class 'datetime.datetime'>\n"
     ]
    }
   ],
   "source": [
    "print(dt,dt64,dt64.dtype,type(dt))"
   ]
  },
  {
   "cell_type": "code",
   "execution_count": 36,
   "id": "219960f4",
   "metadata": {},
   "outputs": [],
   "source": [
    "dt2 = dt64.astype(datetime.datetime)"
   ]
  },
  {
   "cell_type": "code",
   "execution_count": 38,
   "id": "20fbd50d",
   "metadata": {},
   "outputs": [
    {
     "name": "stdout",
     "output_type": "stream",
     "text": [
      "2020-06-01 20:05:30 <class 'datetime.datetime'>\n"
     ]
    }
   ],
   "source": [
    "print(dt2,type(dt2))"
   ]
  },
  {
   "cell_type": "code",
   "execution_count": 39,
   "id": "d407ee63",
   "metadata": {},
   "outputs": [
    {
     "name": "stdout",
     "output_type": "stream",
     "text": [
      "2020-07-13\n"
     ]
    },
    {
     "ename": "ValueError",
     "evalue": "Non-business day date in busday_offset",
     "output_type": "error",
     "traceback": [
      "\u001b[0;31m---------------------------------------------------------------------------\u001b[0m",
      "\u001b[0;31mValueError\u001b[0m                                Traceback (most recent call last)",
      "\u001b[0;32m<ipython-input-39-3a354343a177>\u001b[0m in \u001b[0;36m<module>\u001b[0;34m\u001b[0m\n\u001b[1;32m      1\u001b[0m \u001b[0ma\u001b[0m \u001b[0;34m=\u001b[0m \u001b[0mnp\u001b[0m\u001b[0;34m.\u001b[0m\u001b[0mbusday_offset\u001b[0m\u001b[0;34m(\u001b[0m\u001b[0;34m'2020-07-10'\u001b[0m\u001b[0;34m,\u001b[0m\u001b[0moffsets\u001b[0m\u001b[0;34m=\u001b[0m\u001b[0;36m1\u001b[0m\u001b[0;34m)\u001b[0m\u001b[0;34m\u001b[0m\u001b[0;34m\u001b[0m\u001b[0m\n\u001b[1;32m      2\u001b[0m \u001b[0mprint\u001b[0m\u001b[0;34m(\u001b[0m\u001b[0ma\u001b[0m\u001b[0;34m)\u001b[0m\u001b[0;34m\u001b[0m\u001b[0;34m\u001b[0m\u001b[0m\n\u001b[0;32m----> 3\u001b[0;31m \u001b[0mb\u001b[0m \u001b[0;34m=\u001b[0m \u001b[0mnp\u001b[0m\u001b[0;34m.\u001b[0m\u001b[0mbusday_offset\u001b[0m\u001b[0;34m(\u001b[0m\u001b[0;34m'2020-07-11'\u001b[0m\u001b[0;34m,\u001b[0m\u001b[0moffsets\u001b[0m\u001b[0;34m=\u001b[0m\u001b[0;36m1\u001b[0m\u001b[0;34m)\u001b[0m\u001b[0;34m\u001b[0m\u001b[0;34m\u001b[0m\u001b[0m\n\u001b[0m\u001b[1;32m      4\u001b[0m \u001b[0mprint\u001b[0m\u001b[0;34m(\u001b[0m\u001b[0mb\u001b[0m\u001b[0;34m)\u001b[0m\u001b[0;34m\u001b[0m\u001b[0;34m\u001b[0m\u001b[0m\n",
      "\u001b[0;32m<__array_function__ internals>\u001b[0m in \u001b[0;36mbusday_offset\u001b[0;34m(*args, **kwargs)\u001b[0m\n",
      "\u001b[0;31mValueError\u001b[0m: Non-business day date in busday_offset"
     ]
    }
   ],
   "source": [
    "a = np.busday_offset('2020-07-10',offsets=1)\n",
    "print(a)\n",
    "b = np.busday_offset('2020-07-11',offsets=1)\n",
    "print(b)"
   ]
  },
  {
   "cell_type": "code",
   "execution_count": 40,
   "id": "82f65f5a",
   "metadata": {},
   "outputs": [
    {
     "name": "stdout",
     "output_type": "stream",
     "text": [
      "2020-07-13\n",
      "2020-07-10\n"
     ]
    }
   ],
   "source": [
    "a = np.busday_offset('2020-07-11',offsets=0,roll='forward')\n",
    "print(a)\n",
    "b = np.busday_offset('2020-07-11',offsets=0,roll='backward')\n",
    "print(b)"
   ]
  },
  {
   "cell_type": "code",
   "execution_count": 41,
   "id": "4881a403",
   "metadata": {},
   "outputs": [
    {
     "name": "stdout",
     "output_type": "stream",
     "text": [
      "2020-07-14\n",
      "2020-07-13\n"
     ]
    }
   ],
   "source": [
    "a = np.busday_offset('2020-07-11',offsets=1,roll='forward')\n",
    "print(a)\n",
    "b = np.busday_offset('2020-07-11',offsets=1,roll='backward')\n",
    "print(b)"
   ]
  },
  {
   "cell_type": "code",
   "execution_count": 42,
   "id": "77aa3346",
   "metadata": {},
   "outputs": [
    {
     "data": {
      "text/plain": [
       "(False, True)"
      ]
     },
     "execution_count": 42,
     "metadata": {},
     "output_type": "execute_result"
    }
   ],
   "source": [
    "np.is_busday('2020-07-11'),np.is_busday('2020-07-10')"
   ]
  },
  {
   "cell_type": "code",
   "execution_count": 48,
   "id": "9469b82f",
   "metadata": {},
   "outputs": [
    {
     "data": {
      "text/plain": [
       "3"
      ]
     },
     "execution_count": 48,
     "metadata": {},
     "output_type": "execute_result"
    }
   ],
   "source": [
    "np.count_nonzero(np.is_busday(np.arange('2020-01-01','2020-01-05',dtype='datetime64')))"
   ]
  },
  {
   "cell_type": "code",
   "execution_count": 51,
   "id": "b00aa7c8",
   "metadata": {},
   "outputs": [
    {
     "name": "stdout",
     "output_type": "stream",
     "text": [
      "True False\n"
     ]
    }
   ],
   "source": [
    "import numpy as np\n",
    "a = np.is_busday('2020-07-10',weekmask=[1,1,1,1,1,0,0])\n",
    "b = np.is_busday('2020-07-10',weekmask=[1,1,1,1,0,0,1])\n",
    "print(a,b)"
   ]
  },
  {
   "cell_type": "code",
   "execution_count": 58,
   "id": "30206a20",
   "metadata": {},
   "outputs": [],
   "source": [
    "from sklearn.datasets import load_breast_cancer\n",
    "from sklearn.ensemble import RandomForestClassifier\n",
    "from sklearn.model_selection import cross_val_score\n",
    "from sklearn.model_selection import GridSearchCV\n",
    "import numpy as np\n",
    "import pandas as pd\n",
    "import matplotlib.pyplot as plt\n"
   ]
  },
  {
   "cell_type": "code",
   "execution_count": 54,
   "id": "ae2bbec9",
   "metadata": {},
   "outputs": [],
   "source": [
    "data = load_breast_cancer()\n",
    "rfc = RandomForestClassifier(n_estimators=100,random_state=90)\n",
    "score_pre = cross_val_score(rfc,data.data,data.target,cv=10).mean()"
   ]
  },
  {
   "cell_type": "code",
   "execution_count": 55,
   "id": "dd14cb06",
   "metadata": {},
   "outputs": [
    {
     "data": {
      "text/plain": [
       "0.9648809523809524"
      ]
     },
     "execution_count": 55,
     "metadata": {},
     "output_type": "execute_result"
    }
   ],
   "source": [
    "score_pre"
   ]
  },
  {
   "cell_type": "code",
   "execution_count": 56,
   "id": "a504bf14",
   "metadata": {},
   "outputs": [
    {
     "name": "stdout",
     "output_type": "stream",
     "text": [
      "0.9631265664160402 71\n"
     ]
    }
   ],
   "source": [
    "score_lr = []\n",
    "for i in range(0,200,10):\n",
    "    rfc = RandomForestClassifier(n_estimators=i+1,random_state=90)\n",
    "    score = cross_val_score(rfc,data.data,data.target,cv=10).mean()\n",
    "    score_lr.append(score)\n",
    "score_max = max(score_lr)\n",
    "print(score_max,score_lr.index(score_max)*10+1)"
   ]
  },
  {
   "cell_type": "code",
   "execution_count": 59,
   "id": "be5f26e6",
   "metadata": {},
   "outputs": [
    {
     "data": {
      "image/png": "[encoded data removed]",
      "text/plain": [
       "<Figure size 432x288 with 1 Axes>"
      ]
     },
     "metadata": {
      "needs_background": "light"
     },
     "output_type": "display_data"
    }
   ],
   "source": [
    "x = np.arange(1,201,10)\n",
    "plt.subplot(111)\n",
    "plt.plot(x,score_lr,'r-')\n",
    "plt.show()"
   ]
  },
  {
   "cell_type": "code",
   "execution_count": 61,
   "id": "d60035c7",
   "metadata": {},
   "outputs": [
    {
     "name": "stdout",
     "output_type": "stream",
     "text": [
      "0.96312656641604 151\n"
     ]
    },
    {
     "data": {
      "image/png": "[encoded data removed]",
      "text/plain": [
       "<Figure size 432x288 with 1 Axes>"
      ]
     },
     "metadata": {
      "needs_background": "light"
     },
     "output_type": "display_data"
    }
   ],
   "source": [
    "score_lr = []\n",
    "for i in range(30,50):\n",
    "    rfc = RandomForestClassifier(n_estimators=i+1,random_state=90)\n",
    "    score = cross_val_score(rfc,data.data,data.target,cv=10).mean()\n",
    "    score_lr.append(score)\n",
    "score_max = max(score_lr)\n",
    "print(score_max,score_lr.index(score_max)*10+1)\n",
    "x = np.arange(30,50)\n",
    "plt.subplot(111)\n",
    "plt.plot(x,score_lr,'r-')\n",
    "plt.show()"
   ]
  },
  {
   "cell_type": "code",
   "execution_count": 62,
   "id": "59f20295",
   "metadata": {},
   "outputs": [
    {
     "name": "stdout",
     "output_type": "stream",
     "text": [
      "RandomForestClassifier(max_depth=8, n_estimators=45, random_state=90) 0.9648809523809524\n"
     ]
    }
   ],
   "source": [
    "rfc = RandomForestClassifier(n_estimators=45,random_state=90)\n",
    "param_grid = {'max_depth':np.arange(1,20)}\n",
    "GS = GridSearchCV(rfc,param_grid,cv=10)\n",
    "GS.fit(data.data,data.target)\n",
    "best_param = GS.best_estimator_\n",
    "best_score = GS.best_score_\n",
    "print(best_param,best_score)"
   ]
  },
  {
   "cell_type": "code",
   "execution_count": 63,
   "id": "3d1fea89",
   "metadata": {},
   "outputs": [
    {
     "name": "stdout",
     "output_type": "stream",
     "text": [
      "{'max_features': 6} 0.968421052631579\n"
     ]
    }
   ],
   "source": [
    "param_grid = {'max_features':np.arange(5,31)}\n",
    "rfc = RandomForestClassifier(n_estimators=45,random_state=90,max_depth=11)\n",
    "GS = GridSearchCV(rfc,param_grid,cv=10)\n",
    "GS.fit(data.data,data.target)\n",
    "best_param = GS.best_params_\n",
    "best_score = GS.best_score_\n",
    "print(best_param,best_score)"
   ]
  },
  {
   "cell_type": "code",
   "execution_count": 65,
   "id": "126d23a8",
   "metadata": {},
   "outputs": [],
   "source": [
    "from sklearn.tree import DecisionTreeClassifier\n",
    "DT = DecisionTreeClassifier(criterion='gini',splitter='best',min_samples_leaf=1,min_weight_fraction_leaf=0.0,max_features=None,\n",
    "                            random_state=None,max_leaf_nodes=None,min_impurity_decrease=0.0,min_impurity_split=None,class_weight=None)\n"
   ]
  }
 ],
 "metadata": {
  "kernelspec": {
   "display_name": "Python 3",
   "language": "python",
   "name": "python3"
  },
  "language_info": {
   "codemirror_mode": {
    "name": "ipython",
    "version": 3
   },
   "file_extension": ".py",
   "mimetype": "text/x-python",
   "name": "python",
   "nbconvert_exporter": "python",
   "pygments_lexer": "ipython3",
   "version": "3.7.10"
  }
 },
 "nbformat": 4,
 "nbformat_minor": 5
}
