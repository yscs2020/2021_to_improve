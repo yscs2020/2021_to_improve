{
 "cells": [
  {
   "cell_type": "code",
   "execution_count": 1,
   "id": "74e97634",
   "metadata": {},
   "outputs": [
    {
     "name": "stdout",
     "output_type": "stream",
     "text": [
      "False\n",
      "True\n"
     ]
    }
   ],
   "source": [
    "import numpy as np\n",
    "print(np.nan==np.nan)\n",
    "print(np.nan!=np.nan)"
   ]
  },
  {
   "cell_type": "code",
   "execution_count": 2,
   "id": "5be5d900",
   "metadata": {},
   "outputs": [
    {
     "name": "stdout",
     "output_type": "stream",
     "text": [
      "[ 1.  1.  8. nan 10.]\n"
     ]
    }
   ],
   "source": [
    "import numpy as np\n",
    "X = np.array([1,1,8,np.nan,10])\n",
    "print(X)"
   ]
  },
  {
   "cell_type": "code",
   "execution_count": 5,
   "id": "733976fd",
   "metadata": {},
   "outputs": [
    {
     "name": "stdout",
     "output_type": "stream",
     "text": [
      "[False False False  True False]\n"
     ]
    }
   ],
   "source": [
    "y = np.isnan(X)\n",
    "print(y)"
   ]
  },
  {
   "cell_type": "code",
   "execution_count": 6,
   "id": "9bdb8ee0",
   "metadata": {},
   "outputs": [
    {
     "name": "stdout",
     "output_type": "stream",
     "text": [
      "1\n"
     ]
    }
   ],
   "source": [
    "z = np.count_nonzero(y)\n",
    "print(z)"
   ]
  },
  {
   "cell_type": "code",
   "execution_count": 7,
   "id": "eb948d49",
   "metadata": {},
   "outputs": [
    {
     "data": {
      "text/plain": [
       "3.141592653589793"
      ]
     },
     "execution_count": 7,
     "metadata": {},
     "output_type": "execute_result"
    }
   ],
   "source": [
    "np.pi"
   ]
  },
  {
   "cell_type": "code",
   "execution_count": 8,
   "id": "7fd8764d",
   "metadata": {},
   "outputs": [
    {
     "data": {
      "text/plain": [
       "2.718281828459045"
      ]
     },
     "execution_count": 8,
     "metadata": {},
     "output_type": "execute_result"
    }
   ],
   "source": [
    "np.e"
   ]
  },
  {
   "cell_type": "code",
   "execution_count": 12,
   "id": "df3b616b",
   "metadata": {},
   "outputs": [
    {
     "name": "stdout",
     "output_type": "stream",
     "text": [
      "<class 'numpy.bool_'>\n",
      "1\n",
      "<class 'numpy.int8'>\n",
      "1\n",
      "<class 'numpy.int16'>\n",
      "2\n",
      "<class 'numpy.int32'>\n",
      "4\n",
      "<class 'numpy.int64'>\n",
      "8\n",
      "<class 'numpy.uint8'>\n",
      "1\n",
      "<class 'numpy.uint16'>\n",
      "2\n",
      "<class 'numpy.uint32'>\n",
      "4\n",
      "<class 'numpy.uint64'>\n",
      "8\n"
     ]
    }
   ],
   "source": [
    "class dtype(object):\n",
    "    def __init__(self,obj,align=False,copy=False):\n",
    "        pass\n",
    "import numpy as np\n",
    "a = np.dtype('b1')\n",
    "print(a.type)\n",
    "print(a.itemsize)\n",
    "a = np.dtype('i1')\n",
    "print(a.type)\n",
    "print(a.itemsize)\n",
    "a = np.dtype('i2')\n",
    "print(a.type)\n",
    "print(a.itemsize)\n",
    "a = np.dtype('i4')\n",
    "print(a.type)\n",
    "print(a.itemsize)\n",
    "a = np.dtype('i8')\n",
    "print(a.type)\n",
    "print(a.itemsize)\n",
    "a = np.dtype('u1')\n",
    "print(a.type)\n",
    "print(a.itemsize)\n",
    "a = np.dtype('u2')\n",
    "print(a.type)\n",
    "print(a.itemsize)\n",
    "a = np.dtype('u4')\n",
    "print(a.type)\n",
    "print(a.itemsize)\n",
    "a = np.dtype('u8')\n",
    "print(a.type)\n",
    "print(a.itemsize)"
   ]
  },
  {
   "cell_type": "code",
   "execution_count": 13,
   "id": "45d2c0c4",
   "metadata": {},
   "outputs": [
    {
     "name": "stdout",
     "output_type": "stream",
     "text": [
      "<class 'numpy.float16'>\n",
      "2\n",
      "<class 'numpy.float32'>\n",
      "4\n",
      "<class 'numpy.float64'>\n",
      "8\n"
     ]
    }
   ],
   "source": [
    "a = np.dtype('f2')\n",
    "print(a.type)\n",
    "print(a.itemsize)\n",
    "a = np.dtype('f4')\n",
    "print(a.type)\n",
    "print(a.itemsize)\n",
    "a = np.dtype('f8')\n",
    "print(a.type)\n",
    "print(a.itemsize)"
   ]
  },
  {
   "cell_type": "code",
   "execution_count": 14,
   "id": "eb361b57",
   "metadata": {},
   "outputs": [
    {
     "name": "stdout",
     "output_type": "stream",
     "text": [
      "<class 'numpy.bytes_'>\n",
      "0\n",
      "<class 'numpy.bytes_'>\n",
      "3\n",
      "<class 'numpy.str_'>\n",
      "12\n"
     ]
    }
   ],
   "source": [
    "a = np.dtype('S')\n",
    "print(a.type)\n",
    "print(a.itemsize)\n",
    "a = np.dtype('S3')\n",
    "print(a.type)\n",
    "print(a.itemsize)\n",
    "a = np.dtype('U3')\n",
    "print(a.type)\n",
    "print(a.itemsize)"
   ]
  },
  {
   "cell_type": "code",
   "execution_count": null,
   "id": "2599dab3",
   "metadata": {},
   "outputs": [],
   "source": [
    "class iinfo(object):\n",
    "    def __init__(self,int_type):\n",
    "        pass\n",
    "    def min(self):\n",
    "        pass\n",
    "    def max(self):\n",
    "        pass"
   ]
  },
  {
   "cell_type": "code",
   "execution_count": 1,
   "id": "6f14c35f",
   "metadata": {},
   "outputs": [
    {
     "name": "stdout",
     "output_type": "stream",
     "text": [
      "-32768\n",
      "32767\n"
     ]
    }
   ],
   "source": [
    "import numpy as np\n",
    "ii16 = np.iinfo(np.int16)\n",
    "print(ii16.min)\n",
    "print(ii16.max)"
   ]
  },
  {
   "cell_type": "code",
   "execution_count": 3,
   "id": "b064cf79",
   "metadata": {},
   "outputs": [
    {
     "name": "stdout",
     "output_type": "stream",
     "text": [
      "2147483647\n",
      "-2147483648\n"
     ]
    }
   ],
   "source": [
    "ii32 = np.iinfo(np.int32)\n",
    "print(ii32.max)\n",
    "print(ii32.min)"
   ]
  },
  {
   "cell_type": "code",
   "execution_count": 5,
   "id": "b9df4e2e",
   "metadata": {},
   "outputs": [],
   "source": [
    "class finfo(object):\n",
    "    def _init(self,dtype):\n",
    "        pass\n"
   ]
  },
  {
   "cell_type": "code",
   "execution_count": 6,
   "id": "8f422f6b",
   "metadata": {},
   "outputs": [
    {
     "name": "stdout",
     "output_type": "stream",
     "text": [
      "16\n",
      "-65500.0\n",
      "65500.0\n",
      "0.000977\n",
      "32\n",
      "-3.4028235e+38\n",
      "3.4028235e+38\n",
      "1.1920929e-07\n"
     ]
    }
   ],
   "source": [
    "import numpy as np\n",
    "\n",
    "ff16 = np.finfo(np.float16)\n",
    "print(ff16.bits)  # 16\n",
    "print(ff16.min)  # -65500.0\n",
    "print(ff16.max)  # 65500.0\n",
    "print(ff16.eps)  # 0.000977\n",
    "\n",
    "ff32 = np.finfo(np.float32)\n",
    "print(ff32.bits)  # 32\n",
    "print(ff32.min)  # -3.4028235e+38\n",
    "print(ff32.max)  # 3.4028235e+38\n",
    "print(ff32.eps)  # 1.1920929e-07"
   ]
  },
  {
   "cell_type": "code",
   "execution_count": 7,
   "id": "3bc1040e",
   "metadata": {},
   "outputs": [
    {
     "name": "stdout",
     "output_type": "stream",
     "text": [
      "2020-03-01 datetime64[D]\n"
     ]
    }
   ],
   "source": [
    "import numpy as np\n",
    "a = np.datetime64('2020-03-01')\n",
    "print(a,a.dtype)"
   ]
  },
  {
   "cell_type": "code",
   "execution_count": 8,
   "id": "1be4acc6",
   "metadata": {},
   "outputs": [
    {
     "name": "stdout",
     "output_type": "stream",
     "text": [
      "2020-03 datetime64[M]\n"
     ]
    }
   ],
   "source": [
    "a = np.datetime64('2020-03')\n",
    "print(a,a.dtype)"
   ]
  },
  {
   "cell_type": "code",
   "execution_count": 9,
   "id": "11773126",
   "metadata": {},
   "outputs": [
    {
     "name": "stdout",
     "output_type": "stream",
     "text": [
      "2020 datetime64[Y]\n"
     ]
    }
   ],
   "source": [
    "a= np.datetime64('2020')\n",
    "print(a,a.dtype)"
   ]
  },
  {
   "cell_type": "code",
   "execution_count": 10,
   "id": "2ebf2a69",
   "metadata": {},
   "outputs": [
    {
     "name": "stdout",
     "output_type": "stream",
     "text": [
      "2020-03-08T20:00:05 datetime64[s]\n"
     ]
    }
   ],
   "source": [
    "a = np.datetime64('2020-03-08 20:00:05')\n",
    "print(a,a.dtype)"
   ]
  },
  {
   "cell_type": "code",
   "execution_count": 11,
   "id": "9bc75830",
   "metadata": {},
   "outputs": [
    {
     "name": "stdout",
     "output_type": "stream",
     "text": [
      "2020-03-08T20:00 datetime64[m]\n"
     ]
    }
   ],
   "source": [
    "a = np.datetime64('2020-03-08 20:00')\n",
    "print(a,a.dtype)"
   ]
  },
  {
   "cell_type": "code",
   "execution_count": 12,
   "id": "64f160b3",
   "metadata": {},
   "outputs": [
    {
     "name": "stdout",
     "output_type": "stream",
     "text": [
      "2020-03-08T20 datetime64[h]\n"
     ]
    }
   ],
   "source": [
    "a = np.datetime64('2020-03-08 20')\n",
    "print(a,a.dtype)"
   ]
  },
  {
   "cell_type": "code",
   "execution_count": null,
   "id": "e3675e76",
   "metadata": {},
   "outputs": [],
   "source": []
  },
  {
   "cell_type": "code",
   "execution_count": null,
   "id": "30206a20",
   "metadata": {},
   "outputs": [],
   "source": []
  }
 ],
 "metadata": {
  "kernelspec": {
   "display_name": "Python 3",
   "language": "python",
   "name": "python3"
  },
  "language_info": {
   "codemirror_mode": {
    "name": "ipython",
    "version": 3
   },
   "file_extension": ".py",
   "mimetype": "text/x-python",
   "name": "python",
   "nbconvert_exporter": "python",
   "pygments_lexer": "ipython3",
   "version": "3.7.10"
  }
 },
 "nbformat": 4,
 "nbformat_minor": 5
}
