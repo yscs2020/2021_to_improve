{
 "cells": [
  {
   "cell_type": "code",
   "execution_count": 1,
   "id": "74e97634",
   "metadata": {},
   "outputs": [
    {
     "name": "stdout",
     "output_type": "stream",
     "text": [
      "False\n",
      "True\n"
     ]
    }
   ],
   "source": [
    "import numpy as np\n",
    "print(np.nan==np.nan)\n",
    "print(np.nan!=np.nan)"
   ]
  },
  {
   "cell_type": "code",
   "execution_count": 2,
   "id": "5be5d900",
   "metadata": {},
   "outputs": [
    {
     "name": "stdout",
     "output_type": "stream",
     "text": [
      "[ 1.  1.  8. nan 10.]\n"
     ]
    }
   ],
   "source": [
    "import numpy as np\n",
    "X = np.array([1,1,8,np.nan,10])\n",
    "print(X)"
   ]
  },
  {
   "cell_type": "code",
   "execution_count": 5,
   "id": "733976fd",
   "metadata": {},
   "outputs": [
    {
     "name": "stdout",
     "output_type": "stream",
     "text": [
      "[False False False  True False]\n"
     ]
    }
   ],
   "source": [
    "y = np.isnan(X)\n",
    "print(y)"
   ]
  },
  {
   "cell_type": "code",
   "execution_count": 6,
   "id": "9bdb8ee0",
   "metadata": {},
   "outputs": [
    {
     "name": "stdout",
     "output_type": "stream",
     "text": [
      "1\n"
     ]
    }
   ],
   "source": [
    "z = np.count_nonzero(y)\n",
    "print(z)"
   ]
  },
  {
   "cell_type": "code",
   "execution_count": 7,
   "id": "eb948d49",
   "metadata": {},
   "outputs": [
    {
     "data": {
      "text/plain": [
       "3.141592653589793"
      ]
     },
     "execution_count": 7,
     "metadata": {},
     "output_type": "execute_result"
    }
   ],
   "source": [
    "np.pi"
   ]
  },
  {
   "cell_type": "code",
   "execution_count": 8,
   "id": "7fd8764d",
   "metadata": {},
   "outputs": [
    {
     "data": {
      "text/plain": [
       "2.718281828459045"
      ]
     },
     "execution_count": 8,
     "metadata": {},
     "output_type": "execute_result"
    }
   ],
   "source": [
    "np.e"
   ]
  },
  {
   "cell_type": "code",
   "execution_count": 12,
   "id": "df3b616b",
   "metadata": {},
   "outputs": [
    {
     "name": "stdout",
     "output_type": "stream",
     "text": [
      "<class 'numpy.bool_'>\n",
      "1\n",
      "<class 'numpy.int8'>\n",
      "1\n",
      "<class 'numpy.int16'>\n",
      "2\n",
      "<class 'numpy.int32'>\n",
      "4\n",
      "<class 'numpy.int64'>\n",
      "8\n",
      "<class 'numpy.uint8'>\n",
      "1\n",
      "<class 'numpy.uint16'>\n",
      "2\n",
      "<class 'numpy.uint32'>\n",
      "4\n",
      "<class 'numpy.uint64'>\n",
      "8\n"
     ]
    }
   ],
   "source": [
    "class dtype(object):\n",
    "    def __init__(self,obj,align=False,copy=False):\n",
    "        pass\n",
    "import numpy as np\n",
    "a = np.dtype('b1')\n",
    "print(a.type)\n",
    "print(a.itemsize)\n",
    "a = np.dtype('i1')\n",
    "print(a.type)\n",
    "print(a.itemsize)\n",
    "a = np.dtype('i2')\n",
    "print(a.type)\n",
    "print(a.itemsize)\n",
    "a = np.dtype('i4')\n",
    "print(a.type)\n",
    "print(a.itemsize)\n",
    "a = np.dtype('i8')\n",
    "print(a.type)\n",
    "print(a.itemsize)\n",
    "a = np.dtype('u1')\n",
    "print(a.type)\n",
    "print(a.itemsize)\n",
    "a = np.dtype('u2')\n",
    "print(a.type)\n",
    "print(a.itemsize)\n",
    "a = np.dtype('u4')\n",
    "print(a.type)\n",
    "print(a.itemsize)\n",
    "a = np.dtype('u8')\n",
    "print(a.type)\n",
    "print(a.itemsize)"
   ]
  },
  {
   "cell_type": "code",
   "execution_count": 13,
   "id": "45d2c0c4",
   "metadata": {},
   "outputs": [
    {
     "name": "stdout",
     "output_type": "stream",
     "text": [
      "<class 'numpy.float16'>\n",
      "2\n",
      "<class 'numpy.float32'>\n",
      "4\n",
      "<class 'numpy.float64'>\n",
      "8\n"
     ]
    }
   ],
   "source": [
    "a = np.dtype('f2')\n",
    "print(a.type)\n",
    "print(a.itemsize)\n",
    "a = np.dtype('f4')\n",
    "print(a.type)\n",
    "print(a.itemsize)\n",
    "a = np.dtype('f8')\n",
    "print(a.type)\n",
    "print(a.itemsize)"
   ]
  },
  {
   "cell_type": "code",
   "execution_count": 14,
   "id": "eb361b57",
   "metadata": {},
   "outputs": [
    {
     "name": "stdout",
     "output_type": "stream",
     "text": [
      "<class 'numpy.bytes_'>\n",
      "0\n",
      "<class 'numpy.bytes_'>\n",
      "3\n",
      "<class 'numpy.str_'>\n",
      "12\n"
     ]
    }
   ],
   "source": [
    "a = np.dtype('S')\n",
    "print(a.type)\n",
    "print(a.itemsize)\n",
    "a = np.dtype('S3')\n",
    "print(a.type)\n",
    "print(a.itemsize)\n",
    "a = np.dtype('U3')\n",
    "print(a.type)\n",
    "print(a.itemsize)"
   ]
  },
  {
   "cell_type": "code",
   "execution_count": null,
   "id": "2599dab3",
   "metadata": {},
   "outputs": [],
   "source": [
    "class iinfo(object):\n",
    "    def __init__(self,int_type):\n",
    "        pass\n",
    "    def min(self):\n",
    "        pass\n",
    "    def max(self):\n",
    "        pass"
   ]
  },
  {
   "cell_type": "code",
   "execution_count": null,
   "id": "6f14c35f",
   "metadata": {},
   "outputs": [],
   "source": []
  },
  {
   "cell_type": "code",
   "execution_count": null,
   "id": "64f160b3",
   "metadata": {},
   "outputs": [],
   "source": []
  },
  {
   "cell_type": "code",
   "execution_count": null,
   "id": "e3675e76",
   "metadata": {},
   "outputs": [],
   "source": []
  },
  {
   "cell_type": "code",
   "execution_count": null,
   "id": "30206a20",
   "metadata": {},
   "outputs": [],
   "source": []
  }
 ],
 "metadata": {
  "kernelspec": {
   "display_name": "Python 3",
   "language": "python",
   "name": "python3"
  },
  "language_info": {
   "codemirror_mode": {
    "name": "ipython",
    "version": 3
   },
   "file_extension": ".py",
   "mimetype": "text/x-python",
   "name": "python",
   "nbconvert_exporter": "python",
   "pygments_lexer": "ipython3",
   "version": "3.7.9"
  }
 },
 "nbformat": 4,
 "nbformat_minor": 5
}
