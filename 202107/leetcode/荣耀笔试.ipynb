{
 "cells": [
  {
   "cell_type": "code",
   "execution_count": 22,
   "id": "77aa2f6c",
   "metadata": {},
   "outputs": [
    {
     "name": "stdout",
     "output_type": "stream",
     "text": [
      "1\n",
      "2\n",
      "1 2\n",
      "2 3\n",
      "2\n"
     ]
    }
   ],
   "source": [
    "meeting = {}\n",
    "nums = int(input())\n",
    "for i in range(nums):\n",
    "    n = int(input())\n",
    "    list_n  = []\n",
    "    for j in range(n):\n",
    "        info_time = input()\n",
    "        a,b = int(info_time.split(' ')[0]),int(info_time.split(' ')[1])\n",
    "        list_n.append([a,b])\n",
    "    meeting[i] = list_n\n",
    "\n",
    "for i in meeting.keys():\n",
    "    data = meeting[i]\n",
    "    data = sorted(data,key = lambda x: (x[0],x[1]))\n",
    "    start = data[0][0]\n",
    "    end = data[1][1]\n",
    "    result  = end - start\n",
    "    for j in data[1:]:\n",
    "        if j[0]>end:\n",
    "            start = j[0]\n",
    "            end = j[1]\n",
    "            result  += (end - start) \n",
    "    print(result)"
   ]
  },
  {
   "cell_type": "code",
   "execution_count": 23,
   "id": "197d0c71",
   "metadata": {},
   "outputs": [],
   "source": [
    "L = [(12,12),(13,13),(14,12),(12,34),(13,22),(13,64)]\n",
    "L.sort(key=lambda x:(x[0],-x[1]))"
   ]
  },
  {
   "cell_type": "code",
   "execution_count": 26,
   "id": "7d3f2892",
   "metadata": {},
   "outputs": [
    {
     "name": "stdout",
     "output_type": "stream",
     "text": [
      "[[0 1 1 0 1 1 1 0]\n",
      " [1 1 1 1 0 1 0 1]]\n"
     ]
    }
   ],
   "source": [
    "from sklearn.feature_extraction.text import CountVectorizer\n",
    "verctor = CountVectorizer()\n",
    "res = verctor.fit_transform(['lift is short i love python','lift is too long,I have python'])\n",
    "print(res.toarray())"
   ]
  },
  {
   "cell_type": "code",
   "execution_count": 28,
   "id": "2bdcee2c",
   "metadata": {},
   "outputs": [],
   "source": [
    "from sklearn.feature_extraction import DictVectorizer\n",
    "alist = [{'city':'Beijing','temp':33},\n",
    "         {'city':'GZ','temp':42},\n",
    "         {'city':'SH','temp':40}]\n",
    "d = DictVectorizer()\n",
    "feature = d.fit_transform(alist)"
   ]
  },
  {
   "cell_type": "code",
   "execution_count": 31,
   "id": "485fecc8",
   "metadata": {},
   "outputs": [
    {
     "name": "stdout",
     "output_type": "stream",
     "text": [
      "  (0, 0)\t1.0\n",
      "  (0, 3)\t33.0\n",
      "  (1, 1)\t1.0\n",
      "  (1, 3)\t42.0\n",
      "  (2, 2)\t1.0\n",
      "  (2, 3)\t40.0\n"
     ]
    }
   ],
   "source": [
    "print(feature)"
   ]
  },
  {
   "cell_type": "code",
   "execution_count": 34,
   "id": "594558d8",
   "metadata": {},
   "outputs": [
    {
     "name": "stdout",
     "output_type": "stream",
     "text": [
      "[[ 1.  0.  0. 33.]\n",
      " [ 0.  1.  0. 42.]\n",
      " [ 0.  0.  1. 40.]]\n",
      "['city=Beijing', 'city=GZ', 'city=SH', 'temp']\n"
     ]
    }
   ],
   "source": [
    "from sklearn.feature_extraction import DictVectorizer\n",
    "alist = [{'city':'Beijing','temp':33},\n",
    "         {'city':'GZ','temp':42},\n",
    "         {'city':'SH','temp':40}]\n",
    "d = DictVectorizer(sparse=False)\n",
    "feature = d.fit_transform(alist)\n",
    "print(feature)\n",
    "print(d.get_feature_names())"
   ]
  },
  {
   "cell_type": "code",
   "execution_count": 37,
   "id": "4f97c231",
   "metadata": {},
   "outputs": [],
   "source": [
    "import pandas as pd\n",
    "df = pd.DataFrame([\n",
    "    ['green','M',20,'class1'],\n",
    "    ['red','L',21,'class2'],\n",
    "    ['blue','XL',30,'class3'],\n",
    "])\n",
    "df.columns=['color','size','weight','class Label']"
   ]
  },
  {
   "cell_type": "code",
   "execution_count": 39,
   "id": "673c2bda",
   "metadata": {},
   "outputs": [
    {
     "data": {
      "text/html": [
       "<div>\n",
       "<style scoped>\n",
       "    .dataframe tbody tr th:only-of-type {\n",
       "        vertical-align: middle;\n",
       "    }\n",
       "\n",
       "    .dataframe tbody tr th {\n",
       "        vertical-align: top;\n",
       "    }\n",
       "\n",
       "    .dataframe thead th {\n",
       "        text-align: right;\n",
       "    }\n",
       "</style>\n",
       "<table border=\"1\" class=\"dataframe\">\n",
       "  <thead>\n",
       "    <tr style=\"text-align: right;\">\n",
       "      <th></th>\n",
       "      <th>color</th>\n",
       "      <th>size</th>\n",
       "      <th>weight</th>\n",
       "      <th>class Label</th>\n",
       "    </tr>\n",
       "  </thead>\n",
       "  <tbody>\n",
       "    <tr>\n",
       "      <th>0</th>\n",
       "      <td>green</td>\n",
       "      <td>M</td>\n",
       "      <td>20</td>\n",
       "      <td>class1</td>\n",
       "    </tr>\n",
       "    <tr>\n",
       "      <th>1</th>\n",
       "      <td>red</td>\n",
       "      <td>L</td>\n",
       "      <td>21</td>\n",
       "      <td>class2</td>\n",
       "    </tr>\n",
       "    <tr>\n",
       "      <th>2</th>\n",
       "      <td>blue</td>\n",
       "      <td>XL</td>\n",
       "      <td>30</td>\n",
       "      <td>class3</td>\n",
       "    </tr>\n",
       "  </tbody>\n",
       "</table>\n",
       "</div>"
      ],
      "text/plain": [
       "   color size  weight class Label\n",
       "0  green    M      20      class1\n",
       "1    red    L      21      class2\n",
       "2   blue   XL      30      class3"
      ]
     },
     "execution_count": 39,
     "metadata": {},
     "output_type": "execute_result"
    }
   ],
   "source": [
    "df\n"
   ]
  },
  {
   "cell_type": "code",
   "execution_count": 40,
   "id": "90042488",
   "metadata": {},
   "outputs": [
    {
     "data": {
      "text/html": [
       "<div>\n",
       "<style scoped>\n",
       "    .dataframe tbody tr th:only-of-type {\n",
       "        vertical-align: middle;\n",
       "    }\n",
       "\n",
       "    .dataframe tbody tr th {\n",
       "        vertical-align: top;\n",
       "    }\n",
       "\n",
       "    .dataframe thead th {\n",
       "        text-align: right;\n",
       "    }\n",
       "</style>\n",
       "<table border=\"1\" class=\"dataframe\">\n",
       "  <thead>\n",
       "    <tr style=\"text-align: right;\">\n",
       "      <th></th>\n",
       "      <th>blue</th>\n",
       "      <th>green</th>\n",
       "      <th>red</th>\n",
       "    </tr>\n",
       "  </thead>\n",
       "  <tbody>\n",
       "    <tr>\n",
       "      <th>0</th>\n",
       "      <td>0</td>\n",
       "      <td>1</td>\n",
       "      <td>0</td>\n",
       "    </tr>\n",
       "    <tr>\n",
       "      <th>1</th>\n",
       "      <td>0</td>\n",
       "      <td>0</td>\n",
       "      <td>1</td>\n",
       "    </tr>\n",
       "    <tr>\n",
       "      <th>2</th>\n",
       "      <td>1</td>\n",
       "      <td>0</td>\n",
       "      <td>0</td>\n",
       "    </tr>\n",
       "  </tbody>\n",
       "</table>\n",
       "</div>"
      ],
      "text/plain": [
       "   blue  green  red\n",
       "0     0      1    0\n",
       "1     0      0    1\n",
       "2     1      0    0"
      ]
     },
     "execution_count": 40,
     "metadata": {},
     "output_type": "execute_result"
    }
   ],
   "source": [
    "pd.get_dummies(df['color'])"
   ]
  },
  {
   "cell_type": "code",
   "execution_count": 42,
   "id": "25d1377d",
   "metadata": {},
   "outputs": [
    {
     "name": "stdout",
     "output_type": "stream",
     "text": [
      "[[ 1.  0.  0. 33.]\n",
      " [ 0.  1.  0. 42.]\n",
      " [ 0.  0.  1. 40.]]\n",
      "['city=Beijing', 'city=GZ', 'city=SH', 'temp']\n"
     ]
    }
   ],
   "source": [
    "from sklearn.feature_extraction import DictVectorizer\n",
    "alist = [{'city':'Beijing','temp':33},\n",
    "         {'city':'GZ','temp':42},\n",
    "         {'city':'SH','temp':40}]\n",
    "d = DictVectorizer(sparse=False)\n",
    "feature = d.fit_transform(alist)\n",
    "print(feature)\n",
    "print(d.get_feature_names())"
   ]
  },
  {
   "cell_type": "code",
   "execution_count": 43,
   "id": "263e3757",
   "metadata": {},
   "outputs": [
    {
     "name": "stdout",
     "output_type": "stream",
     "text": [
      "  (0, 3)\t1\n",
      "  (0, 1)\t1\n",
      "  (0, 7)\t1\n",
      "  (0, 5)\t1\n",
      "  (0, 6)\t1\n",
      "  (1, 1)\t1\n",
      "  (1, 6)\t1\n",
      "  (1, 2)\t1\n",
      "  (1, 8)\t1\n",
      "  (1, 4)\t1\n",
      "  (1, 0)\t1\n"
     ]
    }
   ],
   "source": [
    "from sklearn.feature_extraction.text import CountVectorizer\n",
    "vector = CountVectorizer()\n",
    "res = vector.fit_transform(['lift is short, I love python','left is too long,I have python'])\n",
    "print(res)"
   ]
  },
  {
   "cell_type": "code",
   "execution_count": 45,
   "id": "28750e72",
   "metadata": {},
   "outputs": [
    {
     "data": {
      "text/plain": [
       "array([[0, 1, 0, 1, 0, 1, 1, 1, 0],\n",
       "       [1, 1, 1, 0, 1, 0, 1, 0, 1]])"
      ]
     },
     "execution_count": 45,
     "metadata": {},
     "output_type": "execute_result"
    }
   ],
   "source": [
    "res.toarray()"
   ]
  },
  {
   "cell_type": "code",
   "execution_count": 47,
   "id": "ed809174",
   "metadata": {
    "scrolled": true
   },
   "outputs": [
    {
     "name": "stdout",
     "output_type": "stream",
     "text": [
      "['have', 'is', 'left', 'lift', 'long', 'love', 'python', 'short', 'too']\n"
     ]
    }
   ],
   "source": [
    "print(vector.get_feature_names())"
   ]
  },
  {
   "cell_type": "code",
   "execution_count": 49,
   "id": "4c65dfa4",
   "metadata": {},
   "outputs": [
    {
     "name": "stdout",
     "output_type": "stream",
     "text": [
      "  (0, 2)\t1\n",
      "  (0, 3)\t1\n",
      "  (1, 1)\t1\n",
      "  (1, 0)\t1\n"
     ]
    }
   ],
   "source": [
    "res_cn = vector.fit_transform(['人生苦短，我用Python','人生漫长，不用python'])\n",
    "print(res_cn)"
   ]
  },
  {
   "cell_type": "code",
   "execution_count": 53,
   "id": "aca84219",
   "metadata": {},
   "outputs": [
    {
     "name": "stdout",
     "output_type": "stream",
     "text": [
      "['不用python', '人生漫长', '人生苦短', '我用python']\n",
      "[[0 0 1 1]\n",
      " [1 1 0 0]]\n"
     ]
    }
   ],
   "source": [
    "print(vector.get_feature_names())\n",
    "print(res_cn.toarray())"
   ]
  },
  {
   "cell_type": "code",
   "execution_count": 55,
   "id": "559bcc5c",
   "metadata": {},
   "outputs": [
    {
     "name": "stdout",
     "output_type": "stream",
     "text": [
      "['我', '是', '一个', '好人']\n"
     ]
    }
   ],
   "source": [
    "import jieba\n",
    "jb = jieba.cut('我是一个好人')\n",
    "content = list(jb)\n",
    "print(content)"
   ]
  },
  {
   "cell_type": "code",
   "execution_count": 57,
   "id": "829030e9",
   "metadata": {},
   "outputs": [
    {
     "data": {
      "text/plain": [
       "'我 是 一个 好人'"
      ]
     },
     "execution_count": 57,
     "metadata": {},
     "output_type": "execute_result"
    }
   ],
   "source": [
    "ct = ' '.join(content)\n",
    "ct"
   ]
  },
  {
   "cell_type": "code",
   "execution_count": 62,
   "id": "a9859478",
   "metadata": {},
   "outputs": [],
   "source": [
    "jb1 = jieba.cut('人生苦短，我用Python，你觉得我说的对吗？')\n",
    "ct1 = ' '.join(list(jb1))\n",
    "jb2 = jieba.cut('人生苦短，我用Python，你觉得我说的对不对？')\n",
    "ct2 = ' '.join(list(jb2))"
   ]
  },
  {
   "cell_type": "code",
   "execution_count": 63,
   "id": "1a1decb1",
   "metadata": {},
   "outputs": [
    {
     "name": "stdout",
     "output_type": "stream",
     "text": [
      "人生 苦短 ， 我用 Python ， 你 觉得 我 说 的 对 吗 ？ 人生 苦短 ， 我用 Python ， 你 觉得 我 说 的 对 不 对 ？\n"
     ]
    }
   ],
   "source": [
    "print(ct1,ct2)"
   ]
  },
  {
   "cell_type": "code",
   "execution_count": 64,
   "id": "42820cd7",
   "metadata": {},
   "outputs": [
    {
     "name": "stdout",
     "output_type": "stream",
     "text": [
      "  (0, 1)\t1\n",
      "  (0, 3)\t1\n",
      "  (0, 2)\t1\n",
      "  (0, 0)\t1\n",
      "  (0, 4)\t1\n",
      "  (1, 1)\t1\n",
      "  (1, 3)\t1\n",
      "  (1, 2)\t1\n",
      "  (1, 0)\t1\n",
      "  (1, 4)\t1\n",
      "['python', '人生', '我用', '苦短', '觉得']\n",
      "[[1 1 1 1 1]\n",
      " [1 1 1 1 1]]\n"
     ]
    }
   ],
   "source": [
    "from sklearn.feature_extraction.text import CountVectorizer\n",
    "verctor = CountVectorizer()\n",
    "res = verctor.fit_transform([ct1,ct2])\n",
    "print(res)\n",
    "print(verctor.get_feature_names())\n",
    "print(res.toarray())"
   ]
  },
  {
   "cell_type": "code",
   "execution_count": null,
   "id": "081b703c",
   "metadata": {},
   "outputs": [],
   "source": []
  }
 ],
 "metadata": {
  "kernelspec": {
   "display_name": "Python 3",
   "language": "python",
   "name": "python3"
  },
  "language_info": {
   "codemirror_mode": {
    "name": "ipython",
    "version": 3
   },
   "file_extension": ".py",
   "mimetype": "text/x-python",
   "name": "python",
   "nbconvert_exporter": "python",
   "pygments_lexer": "ipython3",
   "version": "3.7.9"
  }
 },
 "nbformat": 4,
 "nbformat_minor": 5
}
