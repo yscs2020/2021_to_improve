{
 "cells": [
  {
   "cell_type": "markdown",
   "id": "67fba622",
   "metadata": {},
   "source": [
    "一、算法题：\n",
    "寻找256色图像中第一种没出现的颜色\n",
    "给定一张N*N的图像数据，使用256色表达，颜色按照1,2,3,4,5…,256编号\n",
    "图像用一维数组表示，比如一张100*100的图片，表达为长达1w的整数数组，每个元素取值【1,256】之间，有些颜色重复出现，有些颜色可能在全图中都不出现，寻找不出现的编号最小的颜色（返回编号）\n",
    "\n",
    "举例，2*2的图像\n",
    "【2,2,2,2】 返回1，1是其中没出现的编号最小的颜色\n",
    "【1,1,1,1】 返回2\n",
    "【1,2,3,4】 返回5\n",
    "\n",
    "时空复杂度要求：\n",
    "时间复杂度O（N），空间复杂度为0，也就是不允许使用额外空间\n",
    "\n"
   ]
  },
  {
   "cell_type": "code",
   "execution_count": 3,
   "id": "5c9ab9ba",
   "metadata": {},
   "outputs": [],
   "source": [
    "def get_nums(List):\n",
    "    for i in range(1,256+1):\n",
    "        if i not in List:\n",
    "            print(i)\n",
    "            break\n",
    "        "
   ]
  },
  {
   "cell_type": "code",
   "execution_count": 4,
   "id": "53520b6a",
   "metadata": {},
   "outputs": [
    {
     "name": "stdout",
     "output_type": "stream",
     "text": [
      "6\n"
     ]
    }
   ],
   "source": [
    "list_1 = [3,3,2,15,16,19,256,12,2,1,2,8,9,4,4,5]\n",
    "get_nums(list_1)"
   ]
  },
  {
   "cell_type": "code",
   "execution_count": 5,
   "id": "ab713ce2",
   "metadata": {},
   "outputs": [
    {
     "name": "stdout",
     "output_type": "stream",
     "text": [
      "1\n"
     ]
    }
   ],
   "source": [
    "list_1 = [2,3,5,5,6,9,7,11]\n",
    "get_nums(list_1)"
   ]
  },
  {
   "cell_type": "code",
   "execution_count": 32,
   "id": "5870090f",
   "metadata": {},
   "outputs": [
    {
     "name": "stdout",
     "output_type": "stream",
     "text": [
      "[6 3 8 1 0 9 4 5 2 7]\n",
      "10\n"
     ]
    }
   ],
   "source": [
    "import numpy as np\n",
    "list_1 = np.random.permutation(10)\n",
    "print(list_1)\n",
    "get_nums(list_1)"
   ]
  },
  {
   "cell_type": "markdown",
   "id": "b52f52b7",
   "metadata": {},
   "source": [
    "二、应用题：\n",
    "给定两个无序、有重复元素的链表（元素值为浮点数），合并成有序且没有重复元素的链表（特别注意，要考虑边界用例，比如空链表）\n",
    "\n",
    "自测试用例：\n",
    "1-2-2-4-3\n",
    "9-2-3-5-7-6\n",
    "\n",
    "返回：1-2-3-4-5-6-7-9\n",
    "\n",
    "链表数据结构如下（自行增加头指针）：\n",
    "* public class ListNode {\n",
    " *     float val;\n",
    " *     ListNode next;\n",
    " *     ListNode() {}\n",
    " *     ListNode(int val) { this.val = val; }\n",
    " *     ListNode(int val, ListNode next) { this.val = val; this.next = next; }\n",
    " * }\n",
    "\n",
    "\n",
    " * struct ListNode {\n",
    " *     float val;\n",
    " *     struct ListNode *next;\n",
    " * };\n",
    "\n",
    "# class ListNode:\n",
    "#     def __init__(self, val=0, next=None):\n",
    "#         self.val = val\n",
    "#         self.next = next"
   ]
  },
  {
   "cell_type": "code",
   "execution_count": 10,
   "id": "5ab049d8",
   "metadata": {},
   "outputs": [],
   "source": [
    "class ListNode:\n",
    "    def __init__(self, val=0, next=None):\n",
    "        self.val = val\n",
    "        self.next = next\n",
    "def get_sorted_data(list1,list2):\n",
    "    nums = []\n",
    "    while (list1 or list2):\n",
    "        if list1:\n",
    "            if list1.val not in nums:\n",
    "                nums.append(list1.val)\n",
    "            list1 = list1.next\n",
    "        if list2:\n",
    "            if list2.val not in nums:\n",
    "                nums.append(list2.val)\n",
    "            list2 = list2.next\n",
    "    nums = sorted(nums)\n",
    "    print(nums)\n",
    "    list_result = ListNode(0)\n",
    "    res = list_result\n",
    "    for i in nums:\n",
    "        res.next = ListNode(i)\n",
    "        res = res.next\n",
    "    return list_result.next                  \n",
    "        \n",
    "        "
   ]
  },
  {
   "cell_type": "code",
   "execution_count": 16,
   "id": "98725e70",
   "metadata": {},
   "outputs": [
    {
     "name": "stdout",
     "output_type": "stream",
     "text": [
      "[1, 4, 7, 10, 13, 16, 19, 22, 25, 28, 31, 34, 37, 40, 43, 46, 49, 52, 55, 58, 61, 64, 67, 70, 73, 76, 79, 82, 85, 88, 91, 94, 97, 100]\n",
      "1*4*7*10*13*16*19*22*25*28*31*34*37*40*43*46*49*52*55*58*61*64*67*70*73*76*79*82*85*88*91*94*97*100*"
     ]
    }
   ],
   "source": [
    "l1 = ListNode()\n",
    "l1_test = l1\n",
    "for i in range(1,20,3):\n",
    "    l1_test.next=ListNode(i)\n",
    "    l1_test = l1_test.next\n",
    "l1 = l1.next\n",
    "l2 = ListNode()\n",
    "l2_test = l2\n",
    "for i in range(100,1,-3):\n",
    "    l2_test.next=ListNode(i)\n",
    "    l2_test = l2_test.next\n",
    "l2 = l2.next\n",
    "list_re = get_sorted_data(l1,l2)\n",
    "while list_re:\n",
    "    print(list_re.val,end='*')\n",
    "    list_re = list_re.next\n"
   ]
  },
  {
   "cell_type": "code",
   "execution_count": 19,
   "id": "af43073d",
   "metadata": {},
   "outputs": [
    {
     "name": "stdout",
     "output_type": "stream",
     "text": [
      "[22, 25, 28, 31, 34, 37, 40, 43, 46, 49, 52, 55, 58, 61, 64, 67, 70, 73, 76, 79, 82, 85, 88, 91, 94, 97, 100]\n",
      "22*25*28*31*34*37*40*43*46*49*52*55*58*61*64*67*70*73*76*79*82*85*88*91*94*97*100*"
     ]
    }
   ],
   "source": [
    "l1 = ListNode(0)\n",
    "l1 = l1.next\n",
    "l2 = ListNode()\n",
    "l2_test = l2\n",
    "for i in range(100,20,-3):\n",
    "    l2_test.next=ListNode(i)\n",
    "    l2_test = l2_test.next\n",
    "l2 = l2.next\n",
    "list_re = get_sorted_data(l1,l2)\n",
    "while list_re:\n",
    "    print(list_re.val,end='*')\n",
    "    list_re = list_re.next"
   ]
  },
  {
   "cell_type": "code",
   "execution_count": 33,
   "id": "59fee823",
   "metadata": {},
   "outputs": [
    {
     "name": "stdout",
     "output_type": "stream",
     "text": [
      "[]\n"
     ]
    }
   ],
   "source": [
    "l1 = ListNode(0)\n",
    "l1 = l1.next\n",
    "l2 = ListNode()\n",
    "l2 = l2.next\n",
    "list_re = get_sorted_data(l1,l2)\n",
    "while list_re:\n",
    "    print(list_re.val,end='*')\n",
    "    list_re = list_re.next"
   ]
  }
 ],
 "metadata": {
  "kernelspec": {
   "display_name": "Python 3",
   "language": "python",
   "name": "python3"
  },
  "language_info": {
   "codemirror_mode": {
    "name": "ipython",
    "version": 3
   },
   "file_extension": ".py",
   "mimetype": "text/x-python",
   "name": "python",
   "nbconvert_exporter": "python",
   "pygments_lexer": "ipython3",
   "version": "3.7.9"
  }
 },
 "nbformat": 4,
 "nbformat_minor": 5
}
