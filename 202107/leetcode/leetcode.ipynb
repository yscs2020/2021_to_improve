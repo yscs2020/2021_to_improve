{
 "cells": [
  {
   "cell_type": "code",
   "execution_count": 1,
   "id": "0f9cd248",
   "metadata": {},
   "outputs": [
    {
     "name": "stdout",
     "output_type": "stream",
     "text": [
      "9\n"
     ]
    }
   ],
   "source": [
    "s = 'fsdfsggfebsawbsvfzxvfgbnsdzfbsggbdfbdbf'\n",
    "st = {}\n",
    "i, ans = 0, 0\n",
    "for j in range(len(s)):\n",
    "    if s[j] in st:\n",
    "        i = max(st[s[j]], i)\n",
    "    ans = max(ans, j-i+1)\n",
    "    st[s[j]] = j+1\n",
    "print(ans)"
   ]
  },
  {
   "cell_type": "code",
   "execution_count": 15,
   "id": "15a8a7fd",
   "metadata": {},
   "outputs": [
    {
     "data": {
      "text/plain": [
       "0.0"
      ]
     },
     "execution_count": 15,
     "metadata": {},
     "output_type": "execute_result"
    }
   ],
   "source": [
    "nums1 = [0,0,0,0,0]\n",
    "\n",
    "nums2 = [-1,0,0,0,0,0,1]\n",
    "list1 = []\n",
    "def get():\n",
    "    mid_flag = (len(nums1)+len(nums2)) % 2\n",
    "    if len(nums1) == 0:\n",
    "        if mid_flag == 1:\n",
    "            return nums2[len(nums2)//2]\n",
    "        else:\n",
    "            return nums2[len(nums2)//2-1] + nums2[len(nums2)//2]\n",
    "    elif len(nums2) == 0:\n",
    "        if mid_flag == 1:\n",
    "            return nums1[len(nums1)//2]\n",
    "        else:\n",
    "            return nums1[len(nums1)//2-1] + nums1[len(nums1)//2]\n",
    "    else:\n",
    "        i1 = 0\n",
    "        i2 = 0\n",
    "        for i in range((len(nums1)+len(nums2))//2+1):\n",
    "            if nums1[i1]>nums2[i2]:\n",
    "                list1.append(nums2[i2])\n",
    "                i2+=1\n",
    "                if i2 == len(nums2):\n",
    "                    list1.extend(nums1[i1:])\n",
    "                    break\n",
    "            else:\n",
    "                list1.append(nums1[i1])\n",
    "                i1 += 1\n",
    "                if i1 == len(nums1):  \n",
    "                    list1.extend(nums2[i2:])\n",
    "                    break\n",
    "        if mid_flag == 1:\n",
    "            return list1[(len(nums1)+len(nums2))//2]\n",
    "        if mid_flag == 0:\n",
    "            return (list1[(len(nums1)+len(nums2))//2-1]+list1[(len(nums1)+len(nums2))//2])/2\n",
    "get()"
   ]
  },
  {
   "cell_type": "code",
   "execution_count": 19,
   "id": "4b35d00b",
   "metadata": {},
   "outputs": [
    {
     "data": {
      "text/plain": [
       "[[False, False, False, False, False, False, False, False, False, False],\n",
       " [False, False, False, False, False, False, False, False, False, False],\n",
       " [False, False, False, False, False, False, False, False, False, False],\n",
       " [False, False, False, False, False, False, False, False, False, False],\n",
       " [False, False, False, False, False, False, False, False, False, False],\n",
       " [False, False, False, False, False, False, False, False, False, False],\n",
       " [False, False, False, False, False, False, False, False, False, False],\n",
       " [False, False, False, False, False, False, False, False, False, False],\n",
       " [False, False, False, False, False, False, False, False, False, False],\n",
       " [False, False, False, False, False, False, False, False, False, False]]"
      ]
     },
     "execution_count": 19,
     "metadata": {},
     "output_type": "execute_result"
    }
   ],
   "source": [
    "n = 10\n",
    "p = [[False]*n for _ in range(n)]\n",
    "p"
   ]
  },
  {
   "cell_type": "code",
   "execution_count": 23,
   "id": "545e5b7f",
   "metadata": {},
   "outputs": [
    {
     "data": {
      "text/plain": [
       "'dffd'"
      ]
     },
     "execution_count": 23,
     "metadata": {},
     "output_type": "execute_result"
    }
   ],
   "source": [
    "s = 'sdbasndffdbshbha'\n",
    "def string_compare():\n",
    "    n = len(s)\n",
    "    if n<2:\n",
    "        return s\n",
    "    max_len = 1\n",
    "    begin = 0\n",
    "    p = [[False]*n for _ in range(n)]\n",
    "    for i in range(n):\n",
    "        p[i][i]=True\n",
    "        \n",
    "    for j in range(2,n+1):\n",
    "        for i in range(n):\n",
    "            l = j+i-1\n",
    "            if l >=n:\n",
    "                break\n",
    "            if s[l]!=s[i]:\n",
    "                p[i][l]=False\n",
    "            else:\n",
    "                if l -i < 3:\n",
    "                    p[i][l]=True\n",
    "                else:\n",
    "                    p[i][l]=p[i+1][l-1]\n",
    "                    \n",
    "            if p[i][l] and l - i + 1>max_len:\n",
    "                max_len = l - i + 1\n",
    "                begin = i\n",
    "                \n",
    "    return s[begin:begin+max_len]\n",
    "string_compare()                   "
   ]
  },
  {
   "cell_type": "code",
   "execution_count": null,
   "id": "a68a2f05",
   "metadata": {},
   "outputs": [],
   "source": [
    "def convert(s,numRows):\n",
    "    if numRows <2:\n",
    "        return s\n",
    "    res = [\"\" for _ in range(numRows)]\n",
    "    i , flag = 0,-1\n",
    "    for c in s:\n",
    "        res[i]+=c\n",
    "        if i==0 or i == numRows-1:\n",
    "            flag = -flag\n",
    "        i+= flag\n",
    "    return \"\".join(res)"
   ]
  }
 ],
 "metadata": {
  "kernelspec": {
   "display_name": "Python 3",
   "language": "python",
   "name": "python3"
  },
  "language_info": {
   "codemirror_mode": {
    "name": "ipython",
    "version": 3
   },
   "file_extension": ".py",
   "mimetype": "text/x-python",
   "name": "python",
   "nbconvert_exporter": "python",
   "pygments_lexer": "ipython3",
   "version": "3.7.9"
  }
 },
 "nbformat": 4,
 "nbformat_minor": 5
}
