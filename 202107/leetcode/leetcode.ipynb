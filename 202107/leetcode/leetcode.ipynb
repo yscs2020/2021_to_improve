{
 "cells": [
  {
   "cell_type": "code",
   "execution_count": 1,
   "id": "fd7fcca6",
   "metadata": {},
   "outputs": [
    {
     "name": "stdout",
     "output_type": "stream",
     "text": [
      "9\n"
     ]
    }
   ],
   "source": [
    "s = 'fsdfsggfebsawbsvfzxvfgbnsdzfbsggbdfbdbf'\n",
    "st = {}\n",
    "i, ans = 0, 0\n",
    "for j in range(len(s)):\n",
    "    if s[j] in st:\n",
    "        i = max(st[s[j]], i)\n",
    "    ans = max(ans, j-i+1)\n",
    "    st[s[j]] = j+1\n",
    "print(ans)"
   ]
  },
  {
   "cell_type": "code",
   "execution_count": 15,
   "id": "17854871",
   "metadata": {},
   "outputs": [
    {
     "data": {
      "text/plain": [
       "0.0"
      ]
     },
     "execution_count": 15,
     "metadata": {},
     "output_type": "execute_result"
    }
   ],
   "source": [
    "nums1 = [0,0,0,0,0]\n",
    "\n",
    "nums2 = [-1,0,0,0,0,0,1]\n",
    "list1 = []\n",
    "def get():\n",
    "    mid_flag = (len(nums1)+len(nums2)) % 2\n",
    "    if len(nums1) == 0:\n",
    "        if mid_flag == 1:\n",
    "            return nums2[len(nums2)//2]\n",
    "        else:\n",
    "            return nums2[len(nums2)//2-1] + nums2[len(nums2)//2]\n",
    "    elif len(nums2) == 0:\n",
    "        if mid_flag == 1:\n",
    "            return nums1[len(nums1)//2]\n",
    "        else:\n",
    "            return nums1[len(nums1)//2-1] + nums1[len(nums1)//2]\n",
    "    else:\n",
    "        i1 = 0\n",
    "        i2 = 0\n",
    "        for i in range((len(nums1)+len(nums2))//2+1):\n",
    "            if nums1[i1]>nums2[i2]:\n",
    "                list1.append(nums2[i2])\n",
    "                i2+=1\n",
    "                if i2 == len(nums2):\n",
    "                    list1.extend(nums1[i1:])\n",
    "                    break\n",
    "            else:\n",
    "                list1.append(nums1[i1])\n",
    "                i1 += 1\n",
    "                if i1 == len(nums1):  \n",
    "                    list1.extend(nums2[i2:])\n",
    "                    break\n",
    "        if mid_flag == 1:\n",
    "            return list1[(len(nums1)+len(nums2))//2]\n",
    "        if mid_flag == 0:\n",
    "            return (list1[(len(nums1)+len(nums2))//2-1]+list1[(len(nums1)+len(nums2))//2])/2\n",
    "get()"
   ]
  },
  {
   "cell_type": "code",
   "execution_count": 16,
   "id": "1d35c2bd",
   "metadata": {},
   "outputs": [
    {
     "data": {
      "text/plain": [
       "[-1, 0, 0, 0, 0, 0, 0, 0, 0, 0, 0, 1]"
      ]
     },
     "execution_count": 16,
     "metadata": {},
     "output_type": "execute_result"
    }
   ],
   "source": [
    "list1"
   ]
  },
  {
   "cell_type": "code",
   "execution_count": null,
   "id": "94fb12c0",
   "metadata": {},
   "outputs": [],
   "source": []
  }
 ],
 "metadata": {
  "kernelspec": {
   "display_name": "Python 3",
   "language": "python",
   "name": "python3"
  },
  "language_info": {
   "codemirror_mode": {
    "name": "ipython",
    "version": 3
   },
   "file_extension": ".py",
   "mimetype": "text/x-python",
   "name": "python",
   "nbconvert_exporter": "python",
   "pygments_lexer": "ipython3",
   "version": "3.7.9"
  }
 },
 "nbformat": 4,
 "nbformat_minor": 5
}
