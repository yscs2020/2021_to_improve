{
 "cells": [
  {
   "cell_type": "code",
   "execution_count": 22,
   "id": "fefeba54",
   "metadata": {},
   "outputs": [
    {
     "name": "stdout",
     "output_type": "stream",
     "text": [
      "1\n",
      "2\n",
      "1 2\n",
      "2 3\n",
      "2\n"
     ]
    }
   ],
   "source": [
    "meeting = {}\n",
    "nums = int(input())\n",
    "for i in range(nums):\n",
    "    n = int(input())\n",
    "    list_n  = []\n",
    "    for j in range(n):\n",
    "        info_time = input()\n",
    "        a,b = int(info_time.split(' ')[0]),int(info_time.split(' ')[1])\n",
    "        list_n.append([a,b])\n",
    "    meeting[i] = list_n\n",
    "\n",
    "for i in meeting.keys():\n",
    "    data = meeting[i]\n",
    "    data = sorted(data,key = lambda x: (x[0],x[1]))\n",
    "    start = data[0][0]\n",
    "    end = data[1][1]\n",
    "    result  = end - start\n",
    "    for j in data[1:]:\n",
    "        if j[0]>end:\n",
    "            start = j[0]\n",
    "            end = j[1]\n",
    "            result  += (end - start) \n",
    "    print(result)"
   ]
  },
  {
   "cell_type": "code",
   "execution_count": 18,
   "id": "0cdae5a5",
   "metadata": {},
   "outputs": [
    {
     "data": {
      "text/plain": [
       "[[1, 1], [1, 2]]"
      ]
     },
     "execution_count": 18,
     "metadata": {},
     "output_type": "execute_result"
    }
   ],
   "source": [
    "data"
   ]
  },
  {
   "cell_type": "code",
   "execution_count": null,
   "id": "87a5b038",
   "metadata": {},
   "outputs": [],
   "source": []
  }
 ],
 "metadata": {
  "kernelspec": {
   "display_name": "Python 3",
   "language": "python",
   "name": "python3"
  },
  "language_info": {
   "codemirror_mode": {
    "name": "ipython",
    "version": 3
   },
   "file_extension": ".py",
   "mimetype": "text/x-python",
   "name": "python",
   "nbconvert_exporter": "python",
   "pygments_lexer": "ipython3",
   "version": "3.7.9"
  }
 },
 "nbformat": 4,
 "nbformat_minor": 5
}
